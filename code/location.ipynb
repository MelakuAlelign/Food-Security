{
 "cells": [
  {
   "cell_type": "code",
   "execution_count": 1,
   "metadata": {},
   "outputs": [],
   "source": [
    "import pandas as pd\n",
    "import numpy as np\n",
    "import seaborn as sns\n",
    "import matplotlib.pyplot as plt\n",
    "%matplotlib inline"
   ]
  },
  {
   "cell_type": "code",
   "execution_count": 2,
   "metadata": {},
   "outputs": [],
   "source": [
    "location_info=pd.read_csv(\"C:/Users/Melaku/Desktop/Thesis_02/csv_data/location_info.csv\",sep=\",\",index_col=\"hhid\")\n",
    "location_info.drop(['Unnamed: 0'],axis=1,inplace=True)"
   ]
  },
  {
   "cell_type": "code",
   "execution_count": 3,
   "metadata": {},
   "outputs": [
    {
     "data": {
      "text/html": [
       "<div>\n",
       "<style scoped>\n",
       "    .dataframe tbody tr th:only-of-type {\n",
       "        vertical-align: middle;\n",
       "    }\n",
       "\n",
       "    .dataframe tbody tr th {\n",
       "        vertical-align: top;\n",
       "    }\n",
       "\n",
       "    .dataframe thead th {\n",
       "        text-align: right;\n",
       "    }\n",
       "</style>\n",
       "<table border=\"1\" class=\"dataframe\">\n",
       "  <thead>\n",
       "    <tr style=\"text-align: right;\">\n",
       "      <th></th>\n",
       "      <th>longitude</th>\n",
       "      <th>latitude</th>\n",
       "      <th>altitude</th>\n",
       "      <th>kebele</th>\n",
       "    </tr>\n",
       "    <tr>\n",
       "      <th>hhid</th>\n",
       "      <th></th>\n",
       "      <th></th>\n",
       "      <th></th>\n",
       "      <th></th>\n",
       "    </tr>\n",
       "  </thead>\n",
       "  <tbody>\n",
       "    <tr>\n",
       "      <td>DT1301562</td>\n",
       "      <td>37.87093</td>\n",
       "      <td>12.97442</td>\n",
       "      <td>2505</td>\n",
       "      <td>DT13</td>\n",
       "    </tr>\n",
       "    <tr>\n",
       "      <td>DT1301557</td>\n",
       "      <td>37.88640</td>\n",
       "      <td>12.93405</td>\n",
       "      <td>2506</td>\n",
       "      <td>DT13</td>\n",
       "    </tr>\n",
       "    <tr>\n",
       "      <td>DT1301547</td>\n",
       "      <td>37.88641</td>\n",
       "      <td>12.98617</td>\n",
       "      <td>2624</td>\n",
       "      <td>DT13</td>\n",
       "    </tr>\n",
       "    <tr>\n",
       "      <td>DT1301544</td>\n",
       "      <td>37.99801</td>\n",
       "      <td>12.99192</td>\n",
       "      <td>2647</td>\n",
       "      <td>DT13</td>\n",
       "    </tr>\n",
       "    <tr>\n",
       "      <td>DT1301543</td>\n",
       "      <td>37.89623</td>\n",
       "      <td>12.99023</td>\n",
       "      <td>2629</td>\n",
       "      <td>DT13</td>\n",
       "    </tr>\n",
       "  </tbody>\n",
       "</table>\n",
       "</div>"
      ],
      "text/plain": [
       "           longitude  latitude  altitude kebele\n",
       "hhid                                           \n",
       "DT1301562   37.87093  12.97442      2505   DT13\n",
       "DT1301557   37.88640  12.93405      2506   DT13\n",
       "DT1301547   37.88641  12.98617      2624   DT13\n",
       "DT1301544   37.99801  12.99192      2647   DT13\n",
       "DT1301543   37.89623  12.99023      2629   DT13"
      ]
     },
     "execution_count": 3,
     "metadata": {},
     "output_type": "execute_result"
    }
   ],
   "source": [
    "location_info.head()"
   ]
  },
  {
   "cell_type": "code",
   "execution_count": 4,
   "metadata": {},
   "outputs": [
    {
     "data": {
      "text/plain": [
       "longitude    0\n",
       "latitude     0\n",
       "altitude     0\n",
       "kebele       0\n",
       "dtype: int64"
      ]
     },
     "execution_count": 4,
     "metadata": {},
     "output_type": "execute_result"
    }
   ],
   "source": [
    "location_info.isnull().sum()"
   ]
  },
  {
   "cell_type": "code",
   "execution_count": 5,
   "metadata": {},
   "outputs": [
    {
     "data": {
      "text/html": [
       "<div>\n",
       "<style scoped>\n",
       "    .dataframe tbody tr th:only-of-type {\n",
       "        vertical-align: middle;\n",
       "    }\n",
       "\n",
       "    .dataframe tbody tr th {\n",
       "        vertical-align: top;\n",
       "    }\n",
       "\n",
       "    .dataframe thead th {\n",
       "        text-align: right;\n",
       "    }\n",
       "</style>\n",
       "<table border=\"1\" class=\"dataframe\">\n",
       "  <thead>\n",
       "    <tr style=\"text-align: right;\">\n",
       "      <th></th>\n",
       "      <th>longitude</th>\n",
       "      <th>latitude</th>\n",
       "      <th>altitude</th>\n",
       "      <th>kebele</th>\n",
       "    </tr>\n",
       "    <tr>\n",
       "      <th>hhid</th>\n",
       "      <th></th>\n",
       "      <th></th>\n",
       "      <th></th>\n",
       "      <th></th>\n",
       "    </tr>\n",
       "  </thead>\n",
       "  <tbody>\n",
       "    <tr>\n",
       "      <td>DT1301562</td>\n",
       "      <td>37.87093</td>\n",
       "      <td>12.97442</td>\n",
       "      <td>2505</td>\n",
       "      <td>DT13</td>\n",
       "    </tr>\n",
       "    <tr>\n",
       "      <td>DT1301557</td>\n",
       "      <td>37.88640</td>\n",
       "      <td>12.93405</td>\n",
       "      <td>2506</td>\n",
       "      <td>DT13</td>\n",
       "    </tr>\n",
       "    <tr>\n",
       "      <td>DT1301547</td>\n",
       "      <td>37.88641</td>\n",
       "      <td>12.98617</td>\n",
       "      <td>2624</td>\n",
       "      <td>DT13</td>\n",
       "    </tr>\n",
       "    <tr>\n",
       "      <td>DT1301544</td>\n",
       "      <td>37.99801</td>\n",
       "      <td>12.99192</td>\n",
       "      <td>2647</td>\n",
       "      <td>DT13</td>\n",
       "    </tr>\n",
       "    <tr>\n",
       "      <td>DT1301543</td>\n",
       "      <td>37.89623</td>\n",
       "      <td>12.99023</td>\n",
       "      <td>2629</td>\n",
       "      <td>DT13</td>\n",
       "    </tr>\n",
       "  </tbody>\n",
       "</table>\n",
       "</div>"
      ],
      "text/plain": [
       "           longitude  latitude  altitude kebele\n",
       "hhid                                           \n",
       "DT1301562   37.87093  12.97442      2505   DT13\n",
       "DT1301557   37.88640  12.93405      2506   DT13\n",
       "DT1301547   37.88641  12.98617      2624   DT13\n",
       "DT1301544   37.99801  12.99192      2647   DT13\n",
       "DT1301543   37.89623  12.99023      2629   DT13"
      ]
     },
     "execution_count": 5,
     "metadata": {},
     "output_type": "execute_result"
    }
   ],
   "source": [
    "location_info.head()"
   ]
  },
  {
   "cell_type": "code",
   "execution_count": 6,
   "metadata": {},
   "outputs": [
    {
     "data": {
      "text/plain": [
       "1165"
      ]
     },
     "execution_count": 6,
     "metadata": {},
     "output_type": "execute_result"
    }
   ],
   "source": [
    "location_info['altitude'].min()\n"
   ]
  },
  {
   "cell_type": "code",
   "execution_count": 7,
   "metadata": {},
   "outputs": [
    {
     "data": {
      "text/plain": [
       "2996"
      ]
     },
     "execution_count": 7,
     "metadata": {},
     "output_type": "execute_result"
    }
   ],
   "source": [
    "location_info['altitude'].max()"
   ]
  },
  {
   "cell_type": "code",
   "execution_count": 8,
   "metadata": {},
   "outputs": [],
   "source": [
    "location_info['altitude']=pd.cut(location_info.altitude,bins=[1164,1775,2385,2996],labels=['0','1','2'])"
   ]
  },
  {
   "cell_type": "code",
   "execution_count": 9,
   "metadata": {},
   "outputs": [
    {
     "data": {
      "text/html": [
       "<div>\n",
       "<style scoped>\n",
       "    .dataframe tbody tr th:only-of-type {\n",
       "        vertical-align: middle;\n",
       "    }\n",
       "\n",
       "    .dataframe tbody tr th {\n",
       "        vertical-align: top;\n",
       "    }\n",
       "\n",
       "    .dataframe thead th {\n",
       "        text-align: right;\n",
       "    }\n",
       "</style>\n",
       "<table border=\"1\" class=\"dataframe\">\n",
       "  <thead>\n",
       "    <tr style=\"text-align: right;\">\n",
       "      <th></th>\n",
       "      <th>longitude</th>\n",
       "      <th>latitude</th>\n",
       "      <th>altitude</th>\n",
       "      <th>kebele</th>\n",
       "    </tr>\n",
       "    <tr>\n",
       "      <th>hhid</th>\n",
       "      <th></th>\n",
       "      <th></th>\n",
       "      <th></th>\n",
       "      <th></th>\n",
       "    </tr>\n",
       "  </thead>\n",
       "  <tbody>\n",
       "    <tr>\n",
       "      <td>DT1301562</td>\n",
       "      <td>37.87093</td>\n",
       "      <td>12.97442</td>\n",
       "      <td>2</td>\n",
       "      <td>DT13</td>\n",
       "    </tr>\n",
       "    <tr>\n",
       "      <td>DT1301557</td>\n",
       "      <td>37.88640</td>\n",
       "      <td>12.93405</td>\n",
       "      <td>2</td>\n",
       "      <td>DT13</td>\n",
       "    </tr>\n",
       "    <tr>\n",
       "      <td>DT1301547</td>\n",
       "      <td>37.88641</td>\n",
       "      <td>12.98617</td>\n",
       "      <td>2</td>\n",
       "      <td>DT13</td>\n",
       "    </tr>\n",
       "    <tr>\n",
       "      <td>DT1301544</td>\n",
       "      <td>37.99801</td>\n",
       "      <td>12.99192</td>\n",
       "      <td>2</td>\n",
       "      <td>DT13</td>\n",
       "    </tr>\n",
       "    <tr>\n",
       "      <td>DT1301543</td>\n",
       "      <td>37.89623</td>\n",
       "      <td>12.99023</td>\n",
       "      <td>2</td>\n",
       "      <td>DT13</td>\n",
       "    </tr>\n",
       "  </tbody>\n",
       "</table>\n",
       "</div>"
      ],
      "text/plain": [
       "           longitude  latitude altitude kebele\n",
       "hhid                                          \n",
       "DT1301562   37.87093  12.97442        2   DT13\n",
       "DT1301557   37.88640  12.93405        2   DT13\n",
       "DT1301547   37.88641  12.98617        2   DT13\n",
       "DT1301544   37.99801  12.99192        2   DT13\n",
       "DT1301543   37.89623  12.99023        2   DT13"
      ]
     },
     "execution_count": 9,
     "metadata": {},
     "output_type": "execute_result"
    }
   ],
   "source": [
    "location_info.head()"
   ]
  },
  {
   "cell_type": "code",
   "execution_count": 10,
   "metadata": {},
   "outputs": [
    {
     "data": {
      "text/plain": [
       "(21293, 4)"
      ]
     },
     "execution_count": 10,
     "metadata": {},
     "output_type": "execute_result"
    }
   ],
   "source": [
    "location_info.shape"
   ]
  },
  {
   "cell_type": "code",
   "execution_count": 11,
   "metadata": {},
   "outputs": [],
   "source": [
    "location_info.to_csv(\"C:/Users/Melaku/Desktop/Thesis_02/csv/location.csv\")"
   ]
  },
  {
   "cell_type": "code",
   "execution_count": null,
   "metadata": {},
   "outputs": [],
   "source": []
  }
 ],
 "metadata": {
  "kernelspec": {
   "display_name": "Python 3",
   "language": "python",
   "name": "python3"
  },
  "language_info": {
   "codemirror_mode": {
    "name": "ipython",
    "version": 3
   },
   "file_extension": ".py",
   "mimetype": "text/x-python",
   "name": "python",
   "nbconvert_exporter": "python",
   "pygments_lexer": "ipython3",
   "version": "3.7.4"
  }
 },
 "nbformat": 4,
 "nbformat_minor": 2
}
