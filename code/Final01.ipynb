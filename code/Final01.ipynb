{
 "cells": [
  {
   "cell_type": "code",
   "execution_count": 1,
   "metadata": {},
   "outputs": [],
   "source": [
    "#import warnings\n",
    "import pandas as pd\n",
    "import numpy as np\n",
    "import matplotlib.pyplot as plt\n",
    "import seaborn as sns"
   ]
  },
  {
   "cell_type": "code",
   "execution_count": 2,
   "metadata": {},
   "outputs": [],
   "source": [
    "from sklearn.feature_selection import RFECV\n",
    "from sklearn.ensemble import RandomForestClassifier\n",
    "from sklearn.metrics import roc_auc_score"
   ]
  },
  {
   "cell_type": "code",
   "execution_count": 3,
   "metadata": {},
   "outputs": [],
   "source": [
    "#from sklearn.decomposition import PCA\n",
    "from sklearn.feature_selection import RFE ,RFECV\n",
    "from sklearn.feature_selection import SelectKBest,SelectPercentile,chi2"
   ]
  },
  {
   "cell_type": "code",
   "execution_count": 4,
   "metadata": {},
   "outputs": [],
   "source": [
    "from sklearn import metrics\n",
    "from sklearn.metrics import accuracy_score,f1_score,recall_score,precision_score,precision_recall_curve\n",
    "from sklearn.metrics import f1_score,confusion_matrix,roc_auc_score\n",
    "from sklearn.model_selection import train_test_split,StratifiedKFold"
   ]
  },
  {
   "cell_type": "code",
   "execution_count": 5,
   "metadata": {},
   "outputs": [],
   "source": [
    "from six import StringIO"
   ]
  },
  {
   "cell_type": "code",
   "execution_count": 6,
   "metadata": {},
   "outputs": [],
   "source": [
    "import six\n",
    "import sys\n",
    "sys.modules['sklearn.externals.six'] = six"
   ]
  },
  {
   "cell_type": "code",
   "execution_count": 7,
   "metadata": {},
   "outputs": [],
   "source": [
    "from sklearn.tree import export_graphviz\n",
    "from sklearn.externals.six import StringIO  \n",
    "from IPython.display import Image  \n",
    "import pydotplus\n",
    "from graphviz import Digraph"
   ]
  },
  {
   "cell_type": "code",
   "execution_count": 8,
   "metadata": {},
   "outputs": [],
   "source": [
    "location=pd.read_csv(\"C:/Users/Melaku/Desktop/Thesis_02/csv/location.csv\",sep=',',index_col='hhid')\n",
    "part_5=pd.read_csv(\"C:/Users/Melaku/Desktop/Thesis_02/csv/lab_part_5.csv\",sep=',',index_col='hhid')\n",
    "familly_status=pd.read_csv(\"C:/Users/Melaku/Desktop/Thesis_02/csv/lab_familly.csv\",sep=',',index_col='hhid')\n",
    "part_3_4=pd.read_csv(\"C:/Users/Melaku/Desktop/Thesis_02/csv/labeled_part_3_4.csv\",sep=',',index_col='hhid')"
   ]
  },
  {
   "cell_type": "code",
   "execution_count": 9,
   "metadata": {},
   "outputs": [
    {
     "data": {
      "text/html": [
       "<div>\n",
       "<style scoped>\n",
       "    .dataframe tbody tr th:only-of-type {\n",
       "        vertical-align: middle;\n",
       "    }\n",
       "\n",
       "    .dataframe tbody tr th {\n",
       "        vertical-align: top;\n",
       "    }\n",
       "\n",
       "    .dataframe thead th {\n",
       "        text-align: right;\n",
       "    }\n",
       "</style>\n",
       "<table border=\"1\" class=\"dataframe\">\n",
       "  <thead>\n",
       "    <tr style=\"text-align: right;\">\n",
       "      <th></th>\n",
       "      <th>longitude</th>\n",
       "      <th>latitude</th>\n",
       "      <th>altitude</th>\n",
       "      <th>kebele</th>\n",
       "    </tr>\n",
       "    <tr>\n",
       "      <th>hhid</th>\n",
       "      <th></th>\n",
       "      <th></th>\n",
       "      <th></th>\n",
       "      <th></th>\n",
       "    </tr>\n",
       "  </thead>\n",
       "  <tbody>\n",
       "    <tr>\n",
       "      <td>DT1301562</td>\n",
       "      <td>37.87093</td>\n",
       "      <td>12.97442</td>\n",
       "      <td>2</td>\n",
       "      <td>DT13</td>\n",
       "    </tr>\n",
       "    <tr>\n",
       "      <td>DT1301557</td>\n",
       "      <td>37.88640</td>\n",
       "      <td>12.93405</td>\n",
       "      <td>2</td>\n",
       "      <td>DT13</td>\n",
       "    </tr>\n",
       "    <tr>\n",
       "      <td>DT1301547</td>\n",
       "      <td>37.88641</td>\n",
       "      <td>12.98617</td>\n",
       "      <td>2</td>\n",
       "      <td>DT13</td>\n",
       "    </tr>\n",
       "    <tr>\n",
       "      <td>DT1301544</td>\n",
       "      <td>37.99801</td>\n",
       "      <td>12.99192</td>\n",
       "      <td>2</td>\n",
       "      <td>DT13</td>\n",
       "    </tr>\n",
       "    <tr>\n",
       "      <td>DT1301543</td>\n",
       "      <td>37.89623</td>\n",
       "      <td>12.99023</td>\n",
       "      <td>2</td>\n",
       "      <td>DT13</td>\n",
       "    </tr>\n",
       "  </tbody>\n",
       "</table>\n",
       "</div>"
      ],
      "text/plain": [
       "           longitude  latitude  altitude kebele\n",
       "hhid                                           \n",
       "DT1301562   37.87093  12.97442         2   DT13\n",
       "DT1301557   37.88640  12.93405         2   DT13\n",
       "DT1301547   37.88641  12.98617         2   DT13\n",
       "DT1301544   37.99801  12.99192         2   DT13\n",
       "DT1301543   37.89623  12.99023         2   DT13"
      ]
     },
     "execution_count": 9,
     "metadata": {},
     "output_type": "execute_result"
    }
   ],
   "source": [
    "location.head()"
   ]
  },
  {
   "cell_type": "code",
   "execution_count": 10,
   "metadata": {},
   "outputs": [
    {
     "data": {
      "text/plain": [
       "(21293, 4)"
      ]
     },
     "execution_count": 10,
     "metadata": {},
     "output_type": "execute_result"
    }
   ],
   "source": [
    "location.shape"
   ]
  },
  {
   "cell_type": "code",
   "execution_count": 11,
   "metadata": {},
   "outputs": [
    {
     "data": {
      "text/html": [
       "<div>\n",
       "<style scoped>\n",
       "    .dataframe tbody tr th:only-of-type {\n",
       "        vertical-align: middle;\n",
       "    }\n",
       "\n",
       "    .dataframe tbody tr th {\n",
       "        vertical-align: top;\n",
       "    }\n",
       "\n",
       "    .dataframe thead th {\n",
       "        text-align: right;\n",
       "    }\n",
       "</style>\n",
       "<table border=\"1\" class=\"dataframe\">\n",
       "  <thead>\n",
       "    <tr style=\"text-align: right;\">\n",
       "      <th></th>\n",
       "      <th>hh_members</th>\n",
       "      <th>sex</th>\n",
       "      <th>relation</th>\n",
       "      <th>hh_education</th>\n",
       "      <th>main_occupation</th>\n",
       "      <th>marital_status</th>\n",
       "      <th>residence</th>\n",
       "      <th>age</th>\n",
       "    </tr>\n",
       "    <tr>\n",
       "      <th>hhid</th>\n",
       "      <th></th>\n",
       "      <th></th>\n",
       "      <th></th>\n",
       "      <th></th>\n",
       "      <th></th>\n",
       "      <th></th>\n",
       "      <th></th>\n",
       "      <th></th>\n",
       "    </tr>\n",
       "  </thead>\n",
       "  <tbody>\n",
       "    <tr>\n",
       "      <td>DT0100002</td>\n",
       "      <td>1</td>\n",
       "      <td>1</td>\n",
       "      <td>1</td>\n",
       "      <td>0.0</td>\n",
       "      <td>2.0</td>\n",
       "      <td>1.0</td>\n",
       "      <td>0</td>\n",
       "      <td>1.0</td>\n",
       "    </tr>\n",
       "    <tr>\n",
       "      <td>DT0100005</td>\n",
       "      <td>1</td>\n",
       "      <td>1</td>\n",
       "      <td>1</td>\n",
       "      <td>1.0</td>\n",
       "      <td>3.0</td>\n",
       "      <td>1.0</td>\n",
       "      <td>0</td>\n",
       "      <td>1.0</td>\n",
       "    </tr>\n",
       "    <tr>\n",
       "      <td>DT0100006</td>\n",
       "      <td>0</td>\n",
       "      <td>1</td>\n",
       "      <td>1</td>\n",
       "      <td>3.0</td>\n",
       "      <td>4.0</td>\n",
       "      <td>1.0</td>\n",
       "      <td>0</td>\n",
       "      <td>1.0</td>\n",
       "    </tr>\n",
       "    <tr>\n",
       "      <td>DT0100007</td>\n",
       "      <td>0</td>\n",
       "      <td>1</td>\n",
       "      <td>1</td>\n",
       "      <td>3.0</td>\n",
       "      <td>4.0</td>\n",
       "      <td>1.0</td>\n",
       "      <td>0</td>\n",
       "      <td>1.0</td>\n",
       "    </tr>\n",
       "    <tr>\n",
       "      <td>DT0100011</td>\n",
       "      <td>0</td>\n",
       "      <td>1</td>\n",
       "      <td>1</td>\n",
       "      <td>3.0</td>\n",
       "      <td>2.0</td>\n",
       "      <td>2.0</td>\n",
       "      <td>0</td>\n",
       "      <td>0.0</td>\n",
       "    </tr>\n",
       "  </tbody>\n",
       "</table>\n",
       "</div>"
      ],
      "text/plain": [
       "           hh_members  sex  relation  hh_education  main_occupation  \\\n",
       "hhid                                                                  \n",
       "DT0100002           1    1         1           0.0              2.0   \n",
       "DT0100005           1    1         1           1.0              3.0   \n",
       "DT0100006           0    1         1           3.0              4.0   \n",
       "DT0100007           0    1         1           3.0              4.0   \n",
       "DT0100011           0    1         1           3.0              2.0   \n",
       "\n",
       "           marital_status  residence  age  \n",
       "hhid                                       \n",
       "DT0100002             1.0          0  1.0  \n",
       "DT0100005             1.0          0  1.0  \n",
       "DT0100006             1.0          0  1.0  \n",
       "DT0100007             1.0          0  1.0  \n",
       "DT0100011             2.0          0  0.0  "
      ]
     },
     "execution_count": 11,
     "metadata": {},
     "output_type": "execute_result"
    }
   ],
   "source": [
    "familly_status.head()"
   ]
  },
  {
   "cell_type": "code",
   "execution_count": 12,
   "metadata": {},
   "outputs": [
    {
     "data": {
      "text/plain": [
       "(16082, 8)"
      ]
     },
     "execution_count": 12,
     "metadata": {},
     "output_type": "execute_result"
    }
   ],
   "source": [
    "familly_status.shape"
   ]
  },
  {
   "cell_type": "code",
   "execution_count": 13,
   "metadata": {},
   "outputs": [
    {
     "data": {
      "text/plain": [
       "0"
      ]
     },
     "execution_count": 13,
     "metadata": {},
     "output_type": "execute_result"
    }
   ],
   "source": [
    "part_3_4.isnull().sum().sum()"
   ]
  },
  {
   "cell_type": "code",
   "execution_count": 14,
   "metadata": {},
   "outputs": [
    {
     "data": {
      "text/plain": [
       "(15887, 21)"
      ]
     },
     "execution_count": 14,
     "metadata": {},
     "output_type": "execute_result"
    }
   ],
   "source": [
    "part_3_4.shape"
   ]
  },
  {
   "cell_type": "code",
   "execution_count": 15,
   "metadata": {},
   "outputs": [],
   "source": [
    "fam_loc=familly_status.merge(location,on=['hhid'], how='right')"
   ]
  },
  {
   "cell_type": "code",
   "execution_count": 16,
   "metadata": {},
   "outputs": [
    {
     "data": {
      "text/plain": [
       "(21376, 12)"
      ]
     },
     "execution_count": 16,
     "metadata": {},
     "output_type": "execute_result"
    }
   ],
   "source": [
    "fam_loc.shape"
   ]
  },
  {
   "cell_type": "code",
   "execution_count": 17,
   "metadata": {},
   "outputs": [],
   "source": [
    "fam_loc.dropna(how='any',axis=0,inplace=True)"
   ]
  },
  {
   "cell_type": "code",
   "execution_count": 18,
   "metadata": {},
   "outputs": [
    {
     "data": {
      "text/plain": [
       "(15887, 21)"
      ]
     },
     "execution_count": 18,
     "metadata": {},
     "output_type": "execute_result"
    }
   ],
   "source": [
    "part_3_4.shape"
   ]
  },
  {
   "cell_type": "code",
   "execution_count": 19,
   "metadata": {},
   "outputs": [],
   "source": [
    "fam_loc_part_3_4=fam_loc.merge(part_3_4,on=['hhid'], how='right')"
   ]
  },
  {
   "cell_type": "code",
   "execution_count": 20,
   "metadata": {},
   "outputs": [
    {
     "data": {
      "text/plain": [
       "(15961, 33)"
      ]
     },
     "execution_count": 20,
     "metadata": {},
     "output_type": "execute_result"
    }
   ],
   "source": [
    "fam_loc_part_3_4.shape"
   ]
  },
  {
   "cell_type": "code",
   "execution_count": 21,
   "metadata": {},
   "outputs": [
    {
     "data": {
      "text/plain": [
       "hh_members         1043\n",
       "sex                1043\n",
       "relation           1043\n",
       "hh_education       1043\n",
       "main_occupation    1043\n",
       "marital_status     1043\n",
       "residence          1043\n",
       "age                1043\n",
       "longitude          1043\n",
       "latitude           1043\n",
       "altitude           1043\n",
       "kebele             1043\n",
       "Q401                  0\n",
       "Q406                  0\n",
       "Q301                  0\n",
       "Q302                  0\n",
       "Q304                  0\n",
       "Q306                  0\n",
       "Q307                  0\n",
       "Q308m                 0\n",
       "Qsou_inform           0\n",
       "Q3098                 0\n",
       "Q3099                 0\n",
       "Q30910                0\n",
       "Q30911                0\n",
       "Q3098n                0\n",
       "Q3099n                0\n",
       "Q30910n               0\n",
       "Q30911n               0\n",
       "Q30912n               0\n",
       "Q30913n               0\n",
       "Q30914n               0\n",
       "Q30915n               0\n",
       "dtype: int64"
      ]
     },
     "execution_count": 21,
     "metadata": {},
     "output_type": "execute_result"
    }
   ],
   "source": [
    "fam_loc_part_3_4.isnull().sum()"
   ]
  },
  {
   "cell_type": "code",
   "execution_count": 22,
   "metadata": {},
   "outputs": [],
   "source": [
    "fam_loc_part_3_4.dropna(how='any',axis=0,inplace=True)"
   ]
  },
  {
   "cell_type": "code",
   "execution_count": 23,
   "metadata": {},
   "outputs": [
    {
     "data": {
      "text/plain": [
       "(14918, 33)"
      ]
     },
     "execution_count": 23,
     "metadata": {},
     "output_type": "execute_result"
    }
   ],
   "source": [
    "fam_loc_part_3_4.shape"
   ]
  },
  {
   "cell_type": "code",
   "execution_count": 24,
   "metadata": {},
   "outputs": [],
   "source": [
    "fam_loc_part_3_4_5=fam_loc_part_3_4.merge(part_5,on=['hhid'],how='right')"
   ]
  },
  {
   "cell_type": "code",
   "execution_count": 25,
   "metadata": {},
   "outputs": [
    {
     "data": {
      "text/html": [
       "<div>\n",
       "<style scoped>\n",
       "    .dataframe tbody tr th:only-of-type {\n",
       "        vertical-align: middle;\n",
       "    }\n",
       "\n",
       "    .dataframe tbody tr th {\n",
       "        vertical-align: top;\n",
       "    }\n",
       "\n",
       "    .dataframe thead th {\n",
       "        text-align: right;\n",
       "    }\n",
       "</style>\n",
       "<table border=\"1\" class=\"dataframe\">\n",
       "  <thead>\n",
       "    <tr style=\"text-align: right;\">\n",
       "      <th></th>\n",
       "      <th>hh_members</th>\n",
       "      <th>sex</th>\n",
       "      <th>relation</th>\n",
       "      <th>hh_education</th>\n",
       "      <th>main_occupation</th>\n",
       "      <th>marital_status</th>\n",
       "      <th>residence</th>\n",
       "      <th>age</th>\n",
       "      <th>longitude</th>\n",
       "      <th>latitude</th>\n",
       "      <th>...</th>\n",
       "      <th>Q5231</th>\n",
       "      <th>Q5232</th>\n",
       "      <th>Q5233</th>\n",
       "      <th>Q5234</th>\n",
       "      <th>Q524</th>\n",
       "      <th>Q525</th>\n",
       "      <th>Q5261</th>\n",
       "      <th>Q5262</th>\n",
       "      <th>Q5263</th>\n",
       "      <th>Q5264</th>\n",
       "    </tr>\n",
       "    <tr>\n",
       "      <th>hhid</th>\n",
       "      <th></th>\n",
       "      <th></th>\n",
       "      <th></th>\n",
       "      <th></th>\n",
       "      <th></th>\n",
       "      <th></th>\n",
       "      <th></th>\n",
       "      <th></th>\n",
       "      <th></th>\n",
       "      <th></th>\n",
       "      <th></th>\n",
       "      <th></th>\n",
       "      <th></th>\n",
       "      <th></th>\n",
       "      <th></th>\n",
       "      <th></th>\n",
       "      <th></th>\n",
       "      <th></th>\n",
       "      <th></th>\n",
       "      <th></th>\n",
       "      <th></th>\n",
       "    </tr>\n",
       "  </thead>\n",
       "  <tbody>\n",
       "    <tr>\n",
       "      <td>DT0100002</td>\n",
       "      <td>1.0</td>\n",
       "      <td>1.0</td>\n",
       "      <td>1.0</td>\n",
       "      <td>0.0</td>\n",
       "      <td>2.0</td>\n",
       "      <td>1.0</td>\n",
       "      <td>0.0</td>\n",
       "      <td>1.0</td>\n",
       "      <td>37.75431</td>\n",
       "      <td>12.97152</td>\n",
       "      <td>...</td>\n",
       "      <td>1.0</td>\n",
       "      <td>2.0</td>\n",
       "      <td>2.0</td>\n",
       "      <td>2.0</td>\n",
       "      <td>1.0</td>\n",
       "      <td>3.0</td>\n",
       "      <td>1</td>\n",
       "      <td>2</td>\n",
       "      <td>2</td>\n",
       "      <td>2</td>\n",
       "    </tr>\n",
       "    <tr>\n",
       "      <td>DT0100005</td>\n",
       "      <td>1.0</td>\n",
       "      <td>1.0</td>\n",
       "      <td>1.0</td>\n",
       "      <td>1.0</td>\n",
       "      <td>3.0</td>\n",
       "      <td>1.0</td>\n",
       "      <td>0.0</td>\n",
       "      <td>1.0</td>\n",
       "      <td>37.75393</td>\n",
       "      <td>12.97195</td>\n",
       "      <td>...</td>\n",
       "      <td>1.0</td>\n",
       "      <td>2.0</td>\n",
       "      <td>2.0</td>\n",
       "      <td>2.0</td>\n",
       "      <td>1.0</td>\n",
       "      <td>3.0</td>\n",
       "      <td>2</td>\n",
       "      <td>2</td>\n",
       "      <td>2</td>\n",
       "      <td>2</td>\n",
       "    </tr>\n",
       "    <tr>\n",
       "      <td>DT0100006</td>\n",
       "      <td>0.0</td>\n",
       "      <td>1.0</td>\n",
       "      <td>1.0</td>\n",
       "      <td>3.0</td>\n",
       "      <td>4.0</td>\n",
       "      <td>1.0</td>\n",
       "      <td>0.0</td>\n",
       "      <td>1.0</td>\n",
       "      <td>37.75296</td>\n",
       "      <td>12.97274</td>\n",
       "      <td>...</td>\n",
       "      <td>2.0</td>\n",
       "      <td>2.0</td>\n",
       "      <td>2.0</td>\n",
       "      <td>2.0</td>\n",
       "      <td>1.0</td>\n",
       "      <td>3.0</td>\n",
       "      <td>2</td>\n",
       "      <td>2</td>\n",
       "      <td>2</td>\n",
       "      <td>2</td>\n",
       "    </tr>\n",
       "    <tr>\n",
       "      <td>DT0100007</td>\n",
       "      <td>0.0</td>\n",
       "      <td>1.0</td>\n",
       "      <td>1.0</td>\n",
       "      <td>3.0</td>\n",
       "      <td>4.0</td>\n",
       "      <td>1.0</td>\n",
       "      <td>0.0</td>\n",
       "      <td>1.0</td>\n",
       "      <td>37.75296</td>\n",
       "      <td>12.97276</td>\n",
       "      <td>...</td>\n",
       "      <td>2.0</td>\n",
       "      <td>2.0</td>\n",
       "      <td>2.0</td>\n",
       "      <td>2.0</td>\n",
       "      <td>1.0</td>\n",
       "      <td>3.0</td>\n",
       "      <td>1</td>\n",
       "      <td>2</td>\n",
       "      <td>2</td>\n",
       "      <td>2</td>\n",
       "    </tr>\n",
       "    <tr>\n",
       "      <td>DT0100011</td>\n",
       "      <td>0.0</td>\n",
       "      <td>1.0</td>\n",
       "      <td>1.0</td>\n",
       "      <td>3.0</td>\n",
       "      <td>2.0</td>\n",
       "      <td>2.0</td>\n",
       "      <td>0.0</td>\n",
       "      <td>0.0</td>\n",
       "      <td>37.75465</td>\n",
       "      <td>12.97211</td>\n",
       "      <td>...</td>\n",
       "      <td>1.0</td>\n",
       "      <td>2.0</td>\n",
       "      <td>2.0</td>\n",
       "      <td>2.0</td>\n",
       "      <td>1.0</td>\n",
       "      <td>2.0</td>\n",
       "      <td>1</td>\n",
       "      <td>2</td>\n",
       "      <td>2</td>\n",
       "      <td>2</td>\n",
       "    </tr>\n",
       "  </tbody>\n",
       "</table>\n",
       "<p>5 rows × 65 columns</p>\n",
       "</div>"
      ],
      "text/plain": [
       "           hh_members  sex  relation  hh_education  main_occupation  \\\n",
       "hhid                                                                  \n",
       "DT0100002         1.0  1.0       1.0           0.0              2.0   \n",
       "DT0100005         1.0  1.0       1.0           1.0              3.0   \n",
       "DT0100006         0.0  1.0       1.0           3.0              4.0   \n",
       "DT0100007         0.0  1.0       1.0           3.0              4.0   \n",
       "DT0100011         0.0  1.0       1.0           3.0              2.0   \n",
       "\n",
       "           marital_status  residence  age  longitude  latitude  ...  Q5231  \\\n",
       "hhid                                                            ...          \n",
       "DT0100002             1.0        0.0  1.0   37.75431  12.97152  ...    1.0   \n",
       "DT0100005             1.0        0.0  1.0   37.75393  12.97195  ...    1.0   \n",
       "DT0100006             1.0        0.0  1.0   37.75296  12.97274  ...    2.0   \n",
       "DT0100007             1.0        0.0  1.0   37.75296  12.97276  ...    2.0   \n",
       "DT0100011             2.0        0.0  0.0   37.75465  12.97211  ...    1.0   \n",
       "\n",
       "          Q5232  Q5233  Q5234  Q524  Q525  Q5261  Q5262  Q5263  Q5264  \n",
       "hhid                                                                   \n",
       "DT0100002   2.0    2.0    2.0   1.0   3.0      1      2      2      2  \n",
       "DT0100005   2.0    2.0    2.0   1.0   3.0      2      2      2      2  \n",
       "DT0100006   2.0    2.0    2.0   1.0   3.0      2      2      2      2  \n",
       "DT0100007   2.0    2.0    2.0   1.0   3.0      1      2      2      2  \n",
       "DT0100011   2.0    2.0    2.0   1.0   2.0      1      2      2      2  \n",
       "\n",
       "[5 rows x 65 columns]"
      ]
     },
     "execution_count": 25,
     "metadata": {},
     "output_type": "execute_result"
    }
   ],
   "source": [
    "fam_loc_part_3_4_5.head()"
   ]
  },
  {
   "cell_type": "code",
   "execution_count": 26,
   "metadata": {},
   "outputs": [
    {
     "data": {
      "text/plain": [
       "(15473, 32)"
      ]
     },
     "execution_count": 26,
     "metadata": {},
     "output_type": "execute_result"
    }
   ],
   "source": [
    "part_5.shape"
   ]
  },
  {
   "cell_type": "code",
   "execution_count": 27,
   "metadata": {},
   "outputs": [
    {
     "data": {
      "text/plain": [
       "(15550, 65)"
      ]
     },
     "execution_count": 27,
     "metadata": {},
     "output_type": "execute_result"
    }
   ],
   "source": [
    "fam_loc_part_3_4_5.shape"
   ]
  },
  {
   "cell_type": "code",
   "execution_count": 28,
   "metadata": {},
   "outputs": [
    {
     "data": {
      "text/plain": [
       "33363"
      ]
     },
     "execution_count": 28,
     "metadata": {},
     "output_type": "execute_result"
    }
   ],
   "source": [
    "fam_loc_part_3_4_5.isnull().sum().sum()"
   ]
  },
  {
   "cell_type": "code",
   "execution_count": 29,
   "metadata": {},
   "outputs": [],
   "source": [
    "fam_loc_part_3_4_5.dropna(how='any',axis=0,inplace=True)"
   ]
  },
  {
   "cell_type": "code",
   "execution_count": 30,
   "metadata": {},
   "outputs": [
    {
     "data": {
      "text/plain": [
       "4"
      ]
     },
     "execution_count": 30,
     "metadata": {},
     "output_type": "execute_result"
    }
   ],
   "source": [
    "fam_loc_part_3_4_5.duplicated().T.sum()"
   ]
  },
  {
   "cell_type": "code",
   "execution_count": 31,
   "metadata": {},
   "outputs": [],
   "source": [
    "fam_loc_part_3_4_5.drop_duplicates(keep='first',inplace=True)"
   ]
  },
  {
   "cell_type": "code",
   "execution_count": 32,
   "metadata": {},
   "outputs": [
    {
     "data": {
      "text/plain": [
       "0"
      ]
     },
     "execution_count": 32,
     "metadata": {},
     "output_type": "execute_result"
    }
   ],
   "source": [
    "fam_loc_part_3_4_5.duplicated().sum()"
   ]
  },
  {
   "cell_type": "code",
   "execution_count": 33,
   "metadata": {},
   "outputs": [
    {
     "data": {
      "text/plain": [
       "0"
      ]
     },
     "execution_count": 33,
     "metadata": {},
     "output_type": "execute_result"
    }
   ],
   "source": [
    "fam_loc_part_3_4_5.isnull().sum().sum()"
   ]
  },
  {
   "cell_type": "code",
   "execution_count": 34,
   "metadata": {},
   "outputs": [],
   "source": [
    "fam_loc_part_3_4_5.to_csv(\"C:/Users/Melaku/Desktop/Thesis_02/csv/merged.csv\")"
   ]
  },
  {
   "cell_type": "code",
   "execution_count": 35,
   "metadata": {},
   "outputs": [
    {
     "data": {
      "text/plain": [
       "(14535, 65)"
      ]
     },
     "execution_count": 35,
     "metadata": {},
     "output_type": "execute_result"
    }
   ],
   "source": [
    "fam_loc_part_3_4_5.shape"
   ]
  },
  {
   "cell_type": "code",
   "execution_count": 36,
   "metadata": {},
   "outputs": [],
   "source": [
    "all_merged=pd.read_csv(\"C:/Users/Melaku/Desktop/Thesis_02/csv/merged.csv\",sep=',',index_col='hhid')"
   ]
  },
  {
   "cell_type": "code",
   "execution_count": 37,
   "metadata": {},
   "outputs": [
    {
     "data": {
      "text/html": [
       "<div>\n",
       "<style scoped>\n",
       "    .dataframe tbody tr th:only-of-type {\n",
       "        vertical-align: middle;\n",
       "    }\n",
       "\n",
       "    .dataframe tbody tr th {\n",
       "        vertical-align: top;\n",
       "    }\n",
       "\n",
       "    .dataframe thead th {\n",
       "        text-align: right;\n",
       "    }\n",
       "</style>\n",
       "<table border=\"1\" class=\"dataframe\">\n",
       "  <thead>\n",
       "    <tr style=\"text-align: right;\">\n",
       "      <th></th>\n",
       "      <th>hh_members</th>\n",
       "      <th>sex</th>\n",
       "      <th>relation</th>\n",
       "      <th>hh_education</th>\n",
       "      <th>main_occupation</th>\n",
       "      <th>marital_status</th>\n",
       "      <th>residence</th>\n",
       "      <th>age</th>\n",
       "      <th>longitude</th>\n",
       "      <th>latitude</th>\n",
       "      <th>...</th>\n",
       "      <th>Q5231</th>\n",
       "      <th>Q5232</th>\n",
       "      <th>Q5233</th>\n",
       "      <th>Q5234</th>\n",
       "      <th>Q524</th>\n",
       "      <th>Q525</th>\n",
       "      <th>Q5261</th>\n",
       "      <th>Q5262</th>\n",
       "      <th>Q5263</th>\n",
       "      <th>Q5264</th>\n",
       "    </tr>\n",
       "    <tr>\n",
       "      <th>hhid</th>\n",
       "      <th></th>\n",
       "      <th></th>\n",
       "      <th></th>\n",
       "      <th></th>\n",
       "      <th></th>\n",
       "      <th></th>\n",
       "      <th></th>\n",
       "      <th></th>\n",
       "      <th></th>\n",
       "      <th></th>\n",
       "      <th></th>\n",
       "      <th></th>\n",
       "      <th></th>\n",
       "      <th></th>\n",
       "      <th></th>\n",
       "      <th></th>\n",
       "      <th></th>\n",
       "      <th></th>\n",
       "      <th></th>\n",
       "      <th></th>\n",
       "      <th></th>\n",
       "    </tr>\n",
       "  </thead>\n",
       "  <tbody>\n",
       "    <tr>\n",
       "      <td>DT0100002</td>\n",
       "      <td>1.0</td>\n",
       "      <td>1.0</td>\n",
       "      <td>1.0</td>\n",
       "      <td>0.0</td>\n",
       "      <td>2.0</td>\n",
       "      <td>1.0</td>\n",
       "      <td>0.0</td>\n",
       "      <td>1.0</td>\n",
       "      <td>37.75431</td>\n",
       "      <td>12.97152</td>\n",
       "      <td>...</td>\n",
       "      <td>1.0</td>\n",
       "      <td>2.0</td>\n",
       "      <td>2.0</td>\n",
       "      <td>2.0</td>\n",
       "      <td>1.0</td>\n",
       "      <td>3.0</td>\n",
       "      <td>1</td>\n",
       "      <td>2</td>\n",
       "      <td>2</td>\n",
       "      <td>2</td>\n",
       "    </tr>\n",
       "    <tr>\n",
       "      <td>DT0100005</td>\n",
       "      <td>1.0</td>\n",
       "      <td>1.0</td>\n",
       "      <td>1.0</td>\n",
       "      <td>1.0</td>\n",
       "      <td>3.0</td>\n",
       "      <td>1.0</td>\n",
       "      <td>0.0</td>\n",
       "      <td>1.0</td>\n",
       "      <td>37.75393</td>\n",
       "      <td>12.97195</td>\n",
       "      <td>...</td>\n",
       "      <td>1.0</td>\n",
       "      <td>2.0</td>\n",
       "      <td>2.0</td>\n",
       "      <td>2.0</td>\n",
       "      <td>1.0</td>\n",
       "      <td>3.0</td>\n",
       "      <td>2</td>\n",
       "      <td>2</td>\n",
       "      <td>2</td>\n",
       "      <td>2</td>\n",
       "    </tr>\n",
       "    <tr>\n",
       "      <td>DT0100006</td>\n",
       "      <td>0.0</td>\n",
       "      <td>1.0</td>\n",
       "      <td>1.0</td>\n",
       "      <td>3.0</td>\n",
       "      <td>4.0</td>\n",
       "      <td>1.0</td>\n",
       "      <td>0.0</td>\n",
       "      <td>1.0</td>\n",
       "      <td>37.75296</td>\n",
       "      <td>12.97274</td>\n",
       "      <td>...</td>\n",
       "      <td>2.0</td>\n",
       "      <td>2.0</td>\n",
       "      <td>2.0</td>\n",
       "      <td>2.0</td>\n",
       "      <td>1.0</td>\n",
       "      <td>3.0</td>\n",
       "      <td>2</td>\n",
       "      <td>2</td>\n",
       "      <td>2</td>\n",
       "      <td>2</td>\n",
       "    </tr>\n",
       "    <tr>\n",
       "      <td>DT0100007</td>\n",
       "      <td>0.0</td>\n",
       "      <td>1.0</td>\n",
       "      <td>1.0</td>\n",
       "      <td>3.0</td>\n",
       "      <td>4.0</td>\n",
       "      <td>1.0</td>\n",
       "      <td>0.0</td>\n",
       "      <td>1.0</td>\n",
       "      <td>37.75296</td>\n",
       "      <td>12.97276</td>\n",
       "      <td>...</td>\n",
       "      <td>2.0</td>\n",
       "      <td>2.0</td>\n",
       "      <td>2.0</td>\n",
       "      <td>2.0</td>\n",
       "      <td>1.0</td>\n",
       "      <td>3.0</td>\n",
       "      <td>1</td>\n",
       "      <td>2</td>\n",
       "      <td>2</td>\n",
       "      <td>2</td>\n",
       "    </tr>\n",
       "    <tr>\n",
       "      <td>DT0100011</td>\n",
       "      <td>0.0</td>\n",
       "      <td>1.0</td>\n",
       "      <td>1.0</td>\n",
       "      <td>3.0</td>\n",
       "      <td>2.0</td>\n",
       "      <td>2.0</td>\n",
       "      <td>0.0</td>\n",
       "      <td>0.0</td>\n",
       "      <td>37.75465</td>\n",
       "      <td>12.97211</td>\n",
       "      <td>...</td>\n",
       "      <td>1.0</td>\n",
       "      <td>2.0</td>\n",
       "      <td>2.0</td>\n",
       "      <td>2.0</td>\n",
       "      <td>1.0</td>\n",
       "      <td>2.0</td>\n",
       "      <td>1</td>\n",
       "      <td>2</td>\n",
       "      <td>2</td>\n",
       "      <td>2</td>\n",
       "    </tr>\n",
       "    <tr>\n",
       "      <td>...</td>\n",
       "      <td>...</td>\n",
       "      <td>...</td>\n",
       "      <td>...</td>\n",
       "      <td>...</td>\n",
       "      <td>...</td>\n",
       "      <td>...</td>\n",
       "      <td>...</td>\n",
       "      <td>...</td>\n",
       "      <td>...</td>\n",
       "      <td>...</td>\n",
       "      <td>...</td>\n",
       "      <td>...</td>\n",
       "      <td>...</td>\n",
       "      <td>...</td>\n",
       "      <td>...</td>\n",
       "      <td>...</td>\n",
       "      <td>...</td>\n",
       "      <td>...</td>\n",
       "      <td>...</td>\n",
       "      <td>...</td>\n",
       "      <td>...</td>\n",
       "    </tr>\n",
       "    <tr>\n",
       "      <td>DT1301282</td>\n",
       "      <td>1.0</td>\n",
       "      <td>0.0</td>\n",
       "      <td>1.0</td>\n",
       "      <td>0.0</td>\n",
       "      <td>2.0</td>\n",
       "      <td>4.0</td>\n",
       "      <td>1.0</td>\n",
       "      <td>1.0</td>\n",
       "      <td>37.86644</td>\n",
       "      <td>13.00022</td>\n",
       "      <td>...</td>\n",
       "      <td>2.0</td>\n",
       "      <td>2.0</td>\n",
       "      <td>2.0</td>\n",
       "      <td>2.0</td>\n",
       "      <td>1.0</td>\n",
       "      <td>3.0</td>\n",
       "      <td>1</td>\n",
       "      <td>2</td>\n",
       "      <td>2</td>\n",
       "      <td>2</td>\n",
       "    </tr>\n",
       "    <tr>\n",
       "      <td>DT1301283</td>\n",
       "      <td>1.0</td>\n",
       "      <td>1.0</td>\n",
       "      <td>1.0</td>\n",
       "      <td>1.0</td>\n",
       "      <td>2.0</td>\n",
       "      <td>1.0</td>\n",
       "      <td>1.0</td>\n",
       "      <td>1.0</td>\n",
       "      <td>37.88636</td>\n",
       "      <td>12.99999</td>\n",
       "      <td>...</td>\n",
       "      <td>2.0</td>\n",
       "      <td>2.0</td>\n",
       "      <td>2.0</td>\n",
       "      <td>2.0</td>\n",
       "      <td>1.0</td>\n",
       "      <td>3.0</td>\n",
       "      <td>1</td>\n",
       "      <td>2</td>\n",
       "      <td>2</td>\n",
       "      <td>2</td>\n",
       "    </tr>\n",
       "    <tr>\n",
       "      <td>DT1301284</td>\n",
       "      <td>1.0</td>\n",
       "      <td>1.0</td>\n",
       "      <td>1.0</td>\n",
       "      <td>3.0</td>\n",
       "      <td>2.0</td>\n",
       "      <td>1.0</td>\n",
       "      <td>1.0</td>\n",
       "      <td>1.0</td>\n",
       "      <td>37.86644</td>\n",
       "      <td>13.00022</td>\n",
       "      <td>...</td>\n",
       "      <td>1.0</td>\n",
       "      <td>2.0</td>\n",
       "      <td>2.0</td>\n",
       "      <td>2.0</td>\n",
       "      <td>1.0</td>\n",
       "      <td>3.0</td>\n",
       "      <td>1</td>\n",
       "      <td>2</td>\n",
       "      <td>2</td>\n",
       "      <td>2</td>\n",
       "    </tr>\n",
       "    <tr>\n",
       "      <td>DT1301285</td>\n",
       "      <td>1.0</td>\n",
       "      <td>1.0</td>\n",
       "      <td>1.0</td>\n",
       "      <td>1.0</td>\n",
       "      <td>2.0</td>\n",
       "      <td>1.0</td>\n",
       "      <td>1.0</td>\n",
       "      <td>1.0</td>\n",
       "      <td>37.88937</td>\n",
       "      <td>13.00378</td>\n",
       "      <td>...</td>\n",
       "      <td>2.0</td>\n",
       "      <td>2.0</td>\n",
       "      <td>2.0</td>\n",
       "      <td>2.0</td>\n",
       "      <td>2.0</td>\n",
       "      <td>0.0</td>\n",
       "      <td>1</td>\n",
       "      <td>2</td>\n",
       "      <td>2</td>\n",
       "      <td>2</td>\n",
       "    </tr>\n",
       "    <tr>\n",
       "      <td>DT1301286</td>\n",
       "      <td>1.0</td>\n",
       "      <td>1.0</td>\n",
       "      <td>1.0</td>\n",
       "      <td>0.0</td>\n",
       "      <td>2.0</td>\n",
       "      <td>1.0</td>\n",
       "      <td>1.0</td>\n",
       "      <td>1.0</td>\n",
       "      <td>37.88411</td>\n",
       "      <td>12.98921</td>\n",
       "      <td>...</td>\n",
       "      <td>2.0</td>\n",
       "      <td>1.0</td>\n",
       "      <td>2.0</td>\n",
       "      <td>2.0</td>\n",
       "      <td>1.0</td>\n",
       "      <td>3.0</td>\n",
       "      <td>1</td>\n",
       "      <td>2</td>\n",
       "      <td>2</td>\n",
       "      <td>2</td>\n",
       "    </tr>\n",
       "  </tbody>\n",
       "</table>\n",
       "<p>14535 rows × 65 columns</p>\n",
       "</div>"
      ],
      "text/plain": [
       "           hh_members  sex  relation  hh_education  main_occupation  \\\n",
       "hhid                                                                  \n",
       "DT0100002         1.0  1.0       1.0           0.0              2.0   \n",
       "DT0100005         1.0  1.0       1.0           1.0              3.0   \n",
       "DT0100006         0.0  1.0       1.0           3.0              4.0   \n",
       "DT0100007         0.0  1.0       1.0           3.0              4.0   \n",
       "DT0100011         0.0  1.0       1.0           3.0              2.0   \n",
       "...               ...  ...       ...           ...              ...   \n",
       "DT1301282         1.0  0.0       1.0           0.0              2.0   \n",
       "DT1301283         1.0  1.0       1.0           1.0              2.0   \n",
       "DT1301284         1.0  1.0       1.0           3.0              2.0   \n",
       "DT1301285         1.0  1.0       1.0           1.0              2.0   \n",
       "DT1301286         1.0  1.0       1.0           0.0              2.0   \n",
       "\n",
       "           marital_status  residence  age  longitude  latitude  ...  Q5231  \\\n",
       "hhid                                                            ...          \n",
       "DT0100002             1.0        0.0  1.0   37.75431  12.97152  ...    1.0   \n",
       "DT0100005             1.0        0.0  1.0   37.75393  12.97195  ...    1.0   \n",
       "DT0100006             1.0        0.0  1.0   37.75296  12.97274  ...    2.0   \n",
       "DT0100007             1.0        0.0  1.0   37.75296  12.97276  ...    2.0   \n",
       "DT0100011             2.0        0.0  0.0   37.75465  12.97211  ...    1.0   \n",
       "...                   ...        ...  ...        ...       ...  ...    ...   \n",
       "DT1301282             4.0        1.0  1.0   37.86644  13.00022  ...    2.0   \n",
       "DT1301283             1.0        1.0  1.0   37.88636  12.99999  ...    2.0   \n",
       "DT1301284             1.0        1.0  1.0   37.86644  13.00022  ...    1.0   \n",
       "DT1301285             1.0        1.0  1.0   37.88937  13.00378  ...    2.0   \n",
       "DT1301286             1.0        1.0  1.0   37.88411  12.98921  ...    2.0   \n",
       "\n",
       "          Q5232  Q5233  Q5234  Q524  Q525  Q5261  Q5262  Q5263  Q5264  \n",
       "hhid                                                                   \n",
       "DT0100002   2.0    2.0    2.0   1.0   3.0      1      2      2      2  \n",
       "DT0100005   2.0    2.0    2.0   1.0   3.0      2      2      2      2  \n",
       "DT0100006   2.0    2.0    2.0   1.0   3.0      2      2      2      2  \n",
       "DT0100007   2.0    2.0    2.0   1.0   3.0      1      2      2      2  \n",
       "DT0100011   2.0    2.0    2.0   1.0   2.0      1      2      2      2  \n",
       "...         ...    ...    ...   ...   ...    ...    ...    ...    ...  \n",
       "DT1301282   2.0    2.0    2.0   1.0   3.0      1      2      2      2  \n",
       "DT1301283   2.0    2.0    2.0   1.0   3.0      1      2      2      2  \n",
       "DT1301284   2.0    2.0    2.0   1.0   3.0      1      2      2      2  \n",
       "DT1301285   2.0    2.0    2.0   2.0   0.0      1      2      2      2  \n",
       "DT1301286   1.0    2.0    2.0   1.0   3.0      1      2      2      2  \n",
       "\n",
       "[14535 rows x 65 columns]"
      ]
     },
     "execution_count": 37,
     "metadata": {},
     "output_type": "execute_result"
    }
   ],
   "source": [
    "all_merged.sort_index()"
   ]
  },
  {
   "cell_type": "code",
   "execution_count": 38,
   "metadata": {},
   "outputs": [
    {
     "data": {
      "text/plain": [
       "0"
      ]
     },
     "execution_count": 38,
     "metadata": {},
     "output_type": "execute_result"
    }
   ],
   "source": [
    "all_merged.isnull().sum().sum()"
   ]
  },
  {
   "cell_type": "code",
   "execution_count": 39,
   "metadata": {},
   "outputs": [],
   "source": [
    "def deterimine_types_feature(all_merged):\n",
    "    feature_types=[]\n",
    "    n_unique_values_threshold=10\n",
    "    \n",
    "    for column in all_merged.columns:\n",
    "        unique_values=all_merged[column].unique()\n",
    "        example_value=unique_values[0]\n",
    "        \n",
    "        if(isinstance(example_value,str)) or (len(unique_values)<=n_unique_values_threshold):\n",
    "            feature_types.append(\"category\")\n",
    "        else:\n",
    "            feature_types.append(\"continous\")\n",
    "    return feature_types"
   ]
  },
  {
   "cell_type": "code",
   "execution_count": 40,
   "metadata": {},
   "outputs": [
    {
     "name": "stdout",
     "output_type": "stream",
     "text": [
      "hh_members - category\n",
      "sex - category\n",
      "relation - category\n",
      "hh_education - category\n",
      "main_occupation - category\n",
      "marital_status - category\n",
      "residence - category\n",
      "age - category\n",
      "longitude - continous\n",
      "latitude - continous\n",
      "altitude - category\n",
      "kebele - category\n",
      "Q401 - category\n",
      "Q406 - category\n",
      "Q301 - category\n",
      "Q302 - category\n",
      "Q304 - category\n",
      "Q306 - category\n",
      "Q307 - category\n",
      "Q308m - category\n",
      "Qsou_inform - category\n",
      "Q3098 - category\n",
      "Q3099 - category\n",
      "Q30910 - category\n",
      "Q30911 - category\n",
      "Q3098n - category\n",
      "Q3099n - category\n",
      "Q30910n - category\n",
      "Q30911n - category\n",
      "Q30912n - category\n",
      "Q30913n - category\n",
      "Q30914n - category\n",
      "Q30915n - category\n",
      "Q501 - category\n",
      "Q503 - category\n",
      "Q504 - category\n",
      "Q505 - category\n",
      "Q506 - category\n",
      "Q507 - category\n",
      "Q508 - category\n",
      "Q509 - category\n",
      "Q510 - category\n",
      "Q511 - category\n",
      "Q512 - category\n",
      "Q513 - category\n",
      "Q514 - category\n",
      "Q515 - category\n",
      "Q516 - category\n",
      "Q517 - category\n",
      "Q518 - category\n",
      "Q519 - category\n",
      "Q520 - category\n",
      "Q521 - category\n",
      "Q522 - category\n",
      "Q523 - category\n",
      "Q5231 - category\n",
      "Q5232 - category\n",
      "Q5233 - category\n",
      "Q5234 - category\n",
      "Q524 - category\n",
      "Q525 - category\n",
      "Q5261 - category\n",
      "Q5262 - category\n",
      "Q5263 - category\n",
      "Q5264 - category\n"
     ]
    }
   ],
   "source": [
    "feature_types=deterimine_types_feature(all_merged)\n",
    "i=0\n",
    "for column in all_merged.columns:\n",
    "    print(column,\"-\",feature_types[i])\n",
    "    i+=1"
   ]
  },
  {
   "cell_type": "code",
   "execution_count": 41,
   "metadata": {},
   "outputs": [
    {
     "name": "stdout",
     "output_type": "stream",
     "text": [
      "<class 'pandas.core.frame.DataFrame'>\n",
      "Index: 14535 entries, DT0100002 to DT1301286\n",
      "Data columns (total 65 columns):\n",
      "hh_members         14535 non-null float64\n",
      "sex                14535 non-null float64\n",
      "relation           14535 non-null float64\n",
      "hh_education       14535 non-null float64\n",
      "main_occupation    14535 non-null float64\n",
      "marital_status     14535 non-null float64\n",
      "residence          14535 non-null float64\n",
      "age                14535 non-null float64\n",
      "longitude          14535 non-null float64\n",
      "latitude           14535 non-null float64\n",
      "altitude           14535 non-null float64\n",
      "kebele             14535 non-null object\n",
      "Q401               14535 non-null float64\n",
      "Q406               14535 non-null float64\n",
      "Q301               14535 non-null float64\n",
      "Q302               14535 non-null float64\n",
      "Q304               14535 non-null float64\n",
      "Q306               14535 non-null float64\n",
      "Q307               14535 non-null float64\n",
      "Q308m              14535 non-null float64\n",
      "Qsou_inform        14535 non-null float64\n",
      "Q3098              14535 non-null float64\n",
      "Q3099              14535 non-null float64\n",
      "Q30910             14535 non-null float64\n",
      "Q30911             14535 non-null float64\n",
      "Q3098n             14535 non-null float64\n",
      "Q3099n             14535 non-null float64\n",
      "Q30910n            14535 non-null float64\n",
      "Q30911n            14535 non-null float64\n",
      "Q30912n            14535 non-null float64\n",
      "Q30913n            14535 non-null float64\n",
      "Q30914n            14535 non-null float64\n",
      "Q30915n            14535 non-null float64\n",
      "Q501               14535 non-null int64\n",
      "Q503               14535 non-null float64\n",
      "Q504               14535 non-null int64\n",
      "Q505               14535 non-null int64\n",
      "Q506               14535 non-null float64\n",
      "Q507               14535 non-null int64\n",
      "Q508               14535 non-null float64\n",
      "Q509               14535 non-null int64\n",
      "Q510               14535 non-null float64\n",
      "Q511               14535 non-null int64\n",
      "Q512               14535 non-null float64\n",
      "Q513               14535 non-null int64\n",
      "Q514               14535 non-null float64\n",
      "Q515               14535 non-null int64\n",
      "Q516               14535 non-null float64\n",
      "Q517               14535 non-null int64\n",
      "Q518               14535 non-null float64\n",
      "Q519               14535 non-null int64\n",
      "Q520               14535 non-null float64\n",
      "Q521               14535 non-null int64\n",
      "Q522               14535 non-null float64\n",
      "Q523               14535 non-null float64\n",
      "Q5231              14535 non-null float64\n",
      "Q5232              14535 non-null float64\n",
      "Q5233              14535 non-null float64\n",
      "Q5234              14535 non-null float64\n",
      "Q524               14535 non-null float64\n",
      "Q525               14535 non-null float64\n",
      "Q5261              14535 non-null int64\n",
      "Q5262              14535 non-null int64\n",
      "Q5263              14535 non-null int64\n",
      "Q5264              14535 non-null int64\n",
      "dtypes: float64(49), int64(15), object(1)\n",
      "memory usage: 7.3+ MB\n"
     ]
    }
   ],
   "source": [
    "all_merged.info()"
   ]
  },
  {
   "cell_type": "code",
   "execution_count": 42,
   "metadata": {},
   "outputs": [
    {
     "name": "stdout",
     "output_type": "stream",
     "text": [
      "int32\n",
      "int32\n",
      "int32\n",
      "int32\n",
      "int32\n",
      "int32\n",
      "int32\n",
      "int32\n",
      "int32\n",
      "int32\n",
      "int32\n",
      "int32\n",
      "int32\n",
      "int32\n",
      "int32\n",
      "int32\n",
      "int32\n",
      "int32\n",
      "int32\n",
      "int32\n",
      "int32\n",
      "int32\n",
      "int32\n",
      "int32\n",
      "int32\n",
      "int32\n",
      "int32\n",
      "int32\n",
      "int32\n",
      "int32\n",
      "int32\n",
      "int32\n",
      "int32\n",
      "int32\n",
      "int32\n",
      "int32\n",
      "int32\n",
      "int32\n",
      "int32\n",
      "int32\n",
      "int32\n",
      "int32\n",
      "int32\n",
      "int32\n",
      "int32\n",
      "int32\n",
      "int32\n",
      "int32\n",
      "int32\n"
     ]
    }
   ],
   "source": [
    "all_merged.dtypes\n",
    "for x in all_merged:\n",
    "    if all_merged[x].dtypes == \"float\":\n",
    "        all_merged[x] = all_merged[x].astype(int)\n",
    "        print (all_merged[x].dtypes)"
   ]
  },
  {
   "cell_type": "code",
   "execution_count": 43,
   "metadata": {},
   "outputs": [
    {
     "data": {
      "text/plain": [
       "(14535, 65)"
      ]
     },
     "execution_count": 43,
     "metadata": {},
     "output_type": "execute_result"
    }
   ],
   "source": [
    "all_merged.shape"
   ]
  },
  {
   "cell_type": "code",
   "execution_count": 44,
   "metadata": {},
   "outputs": [],
   "source": [
    "Hfias=[]\n",
    "all_merged.insert(65,'Hfias','NaN')"
   ]
  },
  {
   "cell_type": "code",
   "execution_count": 45,
   "metadata": {},
   "outputs": [
    {
     "data": {
      "text/plain": [
       "0     6547\n",
       "12     805\n",
       "6      744\n",
       "2      668\n",
       "10     559\n",
       "11     530\n",
       "8      517\n",
       "9      508\n",
       "1      492\n",
       "4      474\n",
       "3      470\n",
       "7      429\n",
       "13     377\n",
       "5      357\n",
       "14     239\n",
       "15     222\n",
       "16     136\n",
       "18     123\n",
       "17     118\n",
       "19      44\n",
       "21      41\n",
       "20      40\n",
       "24      26\n",
       "23      22\n",
       "27      19\n",
       "25      12\n",
       "22      11\n",
       "26       5\n",
       "Name: Hfias, dtype: int64"
      ]
     },
     "execution_count": 45,
     "metadata": {},
     "output_type": "execute_result"
    }
   ],
   "source": [
    "all_merged['Hfias']=all_merged['Q506'] + all_merged['Q508']+all_merged['Q510']+all_merged['Q512']+all_merged['Q514']+all_merged['Q516']+all_merged['Q518']+all_merged['Q520']+all_merged['Q522']\n",
    "all_merged['Hfias'].value_counts()"
   ]
  },
  {
   "cell_type": "code",
   "execution_count": 46,
   "metadata": {},
   "outputs": [],
   "source": [
    "hfias=pd.DataFrame(all_merged[['Q506','Q508','Q510','Q512','Q514','Q516','Q518','Q520','Q522','Q525','Q523','kebele']])\n",
    "all_merged.drop(hfias,axis=1,inplace=True)"
   ]
  },
  {
   "cell_type": "code",
   "execution_count": 47,
   "metadata": {},
   "outputs": [
    {
     "data": {
      "text/plain": [
       "0     6547\n",
       "12     805\n",
       "6      744\n",
       "2      668\n",
       "10     559\n",
       "11     530\n",
       "8      517\n",
       "9      508\n",
       "1      492\n",
       "4      474\n",
       "3      470\n",
       "7      429\n",
       "13     377\n",
       "5      357\n",
       "14     239\n",
       "15     222\n",
       "16     136\n",
       "18     123\n",
       "17     118\n",
       "19      44\n",
       "21      41\n",
       "20      40\n",
       "24      26\n",
       "23      22\n",
       "27      19\n",
       "25      12\n",
       "22      11\n",
       "26       5\n",
       "Name: Hfias, dtype: int64"
      ]
     },
     "execution_count": 47,
     "metadata": {},
     "output_type": "execute_result"
    }
   ],
   "source": [
    "all_merged['Hfias'].value_counts()"
   ]
  },
  {
   "cell_type": "code",
   "execution_count": 48,
   "metadata": {},
   "outputs": [
    {
     "data": {
      "text/plain": [
       "(14535, 54)"
      ]
     },
     "execution_count": 48,
     "metadata": {},
     "output_type": "execute_result"
    }
   ],
   "source": [
    "all_merged.shape"
   ]
  },
  {
   "cell_type": "code",
   "execution_count": 49,
   "metadata": {},
   "outputs": [],
   "source": [
    "food_secured=[]\n",
    "all_merged.insert(54,'food_secured',\"NaN\")"
   ]
  },
  {
   "cell_type": "code",
   "execution_count": 50,
   "metadata": {},
   "outputs": [],
   "source": [
    "all_merged.loc[all_merged.Hfias ==0 ,'food_secured'] = 1;\n",
    "all_merged.loc[all_merged.Hfias >0 ,'food_secured'] = 0;"
   ]
  },
  {
   "cell_type": "code",
   "execution_count": 51,
   "metadata": {},
   "outputs": [
    {
     "data": {
      "text/plain": [
       "0    7988\n",
       "1    6547\n",
       "Name: food_secured, dtype: int64"
      ]
     },
     "execution_count": 51,
     "metadata": {},
     "output_type": "execute_result"
    }
   ],
   "source": [
    "all_merged['food_secured'].value_counts()"
   ]
  },
  {
   "cell_type": "code",
   "execution_count": 52,
   "metadata": {},
   "outputs": [],
   "source": [
    "xx=pd.DataFrame(all_merged[['Hfias']])\n",
    "all_merged.drop(xx,axis=1,inplace=True)"
   ]
  },
  {
   "cell_type": "code",
   "execution_count": 53,
   "metadata": {},
   "outputs": [
    {
     "data": {
      "text/plain": [
       "0    7988\n",
       "1    6547\n",
       "Name: food_secured, dtype: int64"
      ]
     },
     "execution_count": 53,
     "metadata": {},
     "output_type": "execute_result"
    }
   ],
   "source": [
    "all_merged['food_secured'].value_counts()"
   ]
  },
  {
   "cell_type": "code",
   "execution_count": 54,
   "metadata": {},
   "outputs": [
    {
     "data": {
      "text/plain": [
       "food_secured       1.000000\n",
       "Q505               0.903087\n",
       "Q507               0.796292\n",
       "Q509               0.769774\n",
       "Q513               0.676093\n",
       "Q515               0.641248\n",
       "Q511               0.532205\n",
       "Q5231              0.461109\n",
       "Q5232              0.390988\n",
       "Qsou_inform        0.286152\n",
       "Q517               0.262598\n",
       "hh_education       0.257189\n",
       "Q30913n            0.238669\n",
       "Q519               0.238596\n",
       "Q307               0.208089\n",
       "Q5233              0.191709\n",
       "Q308m              0.180168\n",
       "Q5234              0.177105\n",
       "Q521               0.170167\n",
       "main_occupation    0.166126\n",
       "Q5263              0.154903\n",
       "Q301               0.131770\n",
       "Q30912n            0.119571\n",
       "Q302               0.090476\n",
       "Q304               0.089749\n",
       "Q30914n            0.085931\n",
       "sex                0.059455\n",
       "altitude           0.039651\n",
       "Q30915n            0.038559\n",
       "Q5264              0.035719\n",
       "Q5262              0.025728\n",
       "Q524               0.022118\n",
       "latitude           0.019489\n",
       "Q30910             0.017893\n",
       "Q30910n            0.017893\n",
       "Q3099n             0.014646\n",
       "Q3099              0.013080\n",
       "Q504              -0.004275\n",
       "Q3098             -0.065111\n",
       "Q3098n            -0.065111\n",
       "marital_status    -0.073360\n",
       "Q5261             -0.078229\n",
       "hh_members        -0.083713\n",
       "Q501              -0.085512\n",
       "Q30911            -0.100451\n",
       "Q30911n           -0.100451\n",
       "age               -0.129169\n",
       "Q503              -0.129388\n",
       "residence         -0.151212\n",
       "Q406              -0.157713\n",
       "Q401              -0.162250\n",
       "Q306              -0.218078\n",
       "relation                NaN\n",
       "longitude               NaN\n",
       "Name: food_secured, dtype: float64"
      ]
     },
     "execution_count": 54,
     "metadata": {},
     "output_type": "execute_result"
    }
   ],
   "source": [
    "all_merged.corr(method=\"spearman\")['food_secured'].sort_values(ascending=False)# dispay correlation ascending orders"
   ]
  },
  {
   "cell_type": "code",
   "execution_count": 55,
   "metadata": {},
   "outputs": [],
   "source": [
    "# remove Negative corelated and non correlated features \n",
    "irrelevant=pd.DataFrame(all_merged[['Q505','Q507','Q509','Q511','Q513','Q515','Q517','Q519','Q521',\n",
    "                                    'relation','longitude','latitude']])\n",
    "all_merged.drop(irrelevant,axis=1,inplace=True)"
   ]
  },
  {
   "cell_type": "code",
   "execution_count": 56,
   "metadata": {},
   "outputs": [
    {
     "data": {
      "text/plain": [
       "food_secured       1.000000\n",
       "Q5231              0.461109\n",
       "Q5232              0.390988\n",
       "Qsou_inform        0.286152\n",
       "hh_education       0.257189\n",
       "Q30913n            0.238669\n",
       "Q307               0.208089\n",
       "Q5233              0.191709\n",
       "Q308m              0.180168\n",
       "Q5234              0.177105\n",
       "main_occupation    0.166126\n",
       "Q5263              0.154903\n",
       "Q301               0.131770\n",
       "Q30912n            0.119571\n",
       "Q302               0.090476\n",
       "Q304               0.089749\n",
       "Q30914n            0.085931\n",
       "sex                0.059455\n",
       "altitude           0.039651\n",
       "Q30915n            0.038559\n",
       "Q5264              0.035719\n",
       "Q5262              0.025728\n",
       "Q524               0.022118\n",
       "Q30910n            0.017893\n",
       "Q30910             0.017893\n",
       "Q3099n             0.014646\n",
       "Q3099              0.013080\n",
       "Q504              -0.004275\n",
       "Q3098n            -0.065111\n",
       "Q3098             -0.065111\n",
       "marital_status    -0.073360\n",
       "Q5261             -0.078229\n",
       "hh_members        -0.083713\n",
       "Q501              -0.085512\n",
       "Q30911n           -0.100451\n",
       "Q30911            -0.100451\n",
       "age               -0.129169\n",
       "Q503              -0.129388\n",
       "residence         -0.151212\n",
       "Q406              -0.157713\n",
       "Q401              -0.162250\n",
       "Q306              -0.218078\n",
       "Name: food_secured, dtype: float64"
      ]
     },
     "execution_count": 56,
     "metadata": {},
     "output_type": "execute_result"
    }
   ],
   "source": [
    "all_merged.corr(method=\"spearman\")['food_secured'].sort_values(ascending=False)# dispay correlation ascending orders"
   ]
  },
  {
   "cell_type": "code",
   "execution_count": 57,
   "metadata": {},
   "outputs": [],
   "source": [
    "no_assets=pd.DataFrame(all_merged[['Q3098', 'Q3099','Q30910','Q30911','Q30912n','Q30913n','Q30914n','Q30915n','Q5262','Q5264']])"
   ]
  },
  {
   "cell_type": "code",
   "execution_count": 58,
   "metadata": {},
   "outputs": [],
   "source": [
    "#Here numbers of assets are represented in amount,so these may not necessary individually for model development \n",
    "all_merged.drop(no_assets,axis=1,inplace=True)"
   ]
  },
  {
   "cell_type": "code",
   "execution_count": 59,
   "metadata": {},
   "outputs": [
    {
     "data": {
      "text/html": [
       "<div>\n",
       "<style scoped>\n",
       "    .dataframe tbody tr th:only-of-type {\n",
       "        vertical-align: middle;\n",
       "    }\n",
       "\n",
       "    .dataframe tbody tr th {\n",
       "        vertical-align: top;\n",
       "    }\n",
       "\n",
       "    .dataframe thead th {\n",
       "        text-align: right;\n",
       "    }\n",
       "</style>\n",
       "<table border=\"1\" class=\"dataframe\">\n",
       "  <thead>\n",
       "    <tr style=\"text-align: right;\">\n",
       "      <th></th>\n",
       "      <th>hh_members</th>\n",
       "      <th>sex</th>\n",
       "      <th>hh_education</th>\n",
       "      <th>main_occupation</th>\n",
       "      <th>marital_status</th>\n",
       "      <th>residence</th>\n",
       "      <th>age</th>\n",
       "      <th>altitude</th>\n",
       "      <th>Q401</th>\n",
       "      <th>Q406</th>\n",
       "      <th>...</th>\n",
       "      <th>Q503</th>\n",
       "      <th>Q504</th>\n",
       "      <th>Q5231</th>\n",
       "      <th>Q5232</th>\n",
       "      <th>Q5233</th>\n",
       "      <th>Q5234</th>\n",
       "      <th>Q524</th>\n",
       "      <th>Q5261</th>\n",
       "      <th>Q5263</th>\n",
       "      <th>food_secured</th>\n",
       "    </tr>\n",
       "    <tr>\n",
       "      <th>hhid</th>\n",
       "      <th></th>\n",
       "      <th></th>\n",
       "      <th></th>\n",
       "      <th></th>\n",
       "      <th></th>\n",
       "      <th></th>\n",
       "      <th></th>\n",
       "      <th></th>\n",
       "      <th></th>\n",
       "      <th></th>\n",
       "      <th></th>\n",
       "      <th></th>\n",
       "      <th></th>\n",
       "      <th></th>\n",
       "      <th></th>\n",
       "      <th></th>\n",
       "      <th></th>\n",
       "      <th></th>\n",
       "      <th></th>\n",
       "      <th></th>\n",
       "      <th></th>\n",
       "    </tr>\n",
       "  </thead>\n",
       "  <tbody>\n",
       "    <tr>\n",
       "      <td>DT0100002</td>\n",
       "      <td>1</td>\n",
       "      <td>1</td>\n",
       "      <td>0</td>\n",
       "      <td>2</td>\n",
       "      <td>1</td>\n",
       "      <td>0</td>\n",
       "      <td>1</td>\n",
       "      <td>2</td>\n",
       "      <td>1</td>\n",
       "      <td>2</td>\n",
       "      <td>...</td>\n",
       "      <td>2</td>\n",
       "      <td>4</td>\n",
       "      <td>1</td>\n",
       "      <td>2</td>\n",
       "      <td>2</td>\n",
       "      <td>2</td>\n",
       "      <td>1</td>\n",
       "      <td>1</td>\n",
       "      <td>2</td>\n",
       "      <td>0</td>\n",
       "    </tr>\n",
       "    <tr>\n",
       "      <td>DT0100005</td>\n",
       "      <td>1</td>\n",
       "      <td>1</td>\n",
       "      <td>1</td>\n",
       "      <td>3</td>\n",
       "      <td>1</td>\n",
       "      <td>0</td>\n",
       "      <td>1</td>\n",
       "      <td>2</td>\n",
       "      <td>1</td>\n",
       "      <td>2</td>\n",
       "      <td>...</td>\n",
       "      <td>2</td>\n",
       "      <td>2</td>\n",
       "      <td>1</td>\n",
       "      <td>2</td>\n",
       "      <td>2</td>\n",
       "      <td>2</td>\n",
       "      <td>1</td>\n",
       "      <td>2</td>\n",
       "      <td>2</td>\n",
       "      <td>0</td>\n",
       "    </tr>\n",
       "    <tr>\n",
       "      <td>DT0100006</td>\n",
       "      <td>0</td>\n",
       "      <td>1</td>\n",
       "      <td>3</td>\n",
       "      <td>4</td>\n",
       "      <td>1</td>\n",
       "      <td>0</td>\n",
       "      <td>1</td>\n",
       "      <td>2</td>\n",
       "      <td>1</td>\n",
       "      <td>2</td>\n",
       "      <td>...</td>\n",
       "      <td>0</td>\n",
       "      <td>2</td>\n",
       "      <td>2</td>\n",
       "      <td>2</td>\n",
       "      <td>2</td>\n",
       "      <td>2</td>\n",
       "      <td>1</td>\n",
       "      <td>2</td>\n",
       "      <td>2</td>\n",
       "      <td>1</td>\n",
       "    </tr>\n",
       "    <tr>\n",
       "      <td>DT0100007</td>\n",
       "      <td>0</td>\n",
       "      <td>1</td>\n",
       "      <td>3</td>\n",
       "      <td>4</td>\n",
       "      <td>1</td>\n",
       "      <td>0</td>\n",
       "      <td>1</td>\n",
       "      <td>2</td>\n",
       "      <td>1</td>\n",
       "      <td>2</td>\n",
       "      <td>...</td>\n",
       "      <td>0</td>\n",
       "      <td>2</td>\n",
       "      <td>2</td>\n",
       "      <td>2</td>\n",
       "      <td>2</td>\n",
       "      <td>2</td>\n",
       "      <td>1</td>\n",
       "      <td>1</td>\n",
       "      <td>2</td>\n",
       "      <td>0</td>\n",
       "    </tr>\n",
       "    <tr>\n",
       "      <td>DT0100011</td>\n",
       "      <td>0</td>\n",
       "      <td>1</td>\n",
       "      <td>3</td>\n",
       "      <td>2</td>\n",
       "      <td>2</td>\n",
       "      <td>0</td>\n",
       "      <td>0</td>\n",
       "      <td>2</td>\n",
       "      <td>1</td>\n",
       "      <td>2</td>\n",
       "      <td>...</td>\n",
       "      <td>2</td>\n",
       "      <td>2</td>\n",
       "      <td>1</td>\n",
       "      <td>2</td>\n",
       "      <td>2</td>\n",
       "      <td>2</td>\n",
       "      <td>1</td>\n",
       "      <td>1</td>\n",
       "      <td>2</td>\n",
       "      <td>0</td>\n",
       "    </tr>\n",
       "  </tbody>\n",
       "</table>\n",
       "<p>5 rows × 32 columns</p>\n",
       "</div>"
      ],
      "text/plain": [
       "           hh_members  sex  hh_education  main_occupation  marital_status  \\\n",
       "hhid                                                                        \n",
       "DT0100002           1    1             0                2               1   \n",
       "DT0100005           1    1             1                3               1   \n",
       "DT0100006           0    1             3                4               1   \n",
       "DT0100007           0    1             3                4               1   \n",
       "DT0100011           0    1             3                2               2   \n",
       "\n",
       "           residence  age  altitude  Q401  Q406  ...  Q503  Q504  Q5231  \\\n",
       "hhid                                             ...                      \n",
       "DT0100002          0    1         2     1     2  ...     2     4      1   \n",
       "DT0100005          0    1         2     1     2  ...     2     2      1   \n",
       "DT0100006          0    1         2     1     2  ...     0     2      2   \n",
       "DT0100007          0    1         2     1     2  ...     0     2      2   \n",
       "DT0100011          0    0         2     1     2  ...     2     2      1   \n",
       "\n",
       "           Q5232  Q5233  Q5234  Q524  Q5261  Q5263  food_secured  \n",
       "hhid                                                              \n",
       "DT0100002      2      2      2     1      1      2             0  \n",
       "DT0100005      2      2      2     1      2      2             0  \n",
       "DT0100006      2      2      2     1      2      2             1  \n",
       "DT0100007      2      2      2     1      1      2             0  \n",
       "DT0100011      2      2      2     1      1      2             0  \n",
       "\n",
       "[5 rows x 32 columns]"
      ]
     },
     "execution_count": 59,
     "metadata": {},
     "output_type": "execute_result"
    }
   ],
   "source": [
    "all_merged.head()"
   ]
  },
  {
   "cell_type": "code",
   "execution_count": 60,
   "metadata": {},
   "outputs": [
    {
     "data": {
      "text/plain": [
       "(14535, 32)"
      ]
     },
     "execution_count": 60,
     "metadata": {},
     "output_type": "execute_result"
    }
   ],
   "source": [
    "all_merged.shape"
   ]
  },
  {
   "cell_type": "code",
   "execution_count": 61,
   "metadata": {},
   "outputs": [
    {
     "data": {
      "text/plain": [
       "Index(['hh_members', 'sex', 'hh_education', 'main_occupation',\n",
       "       'marital_status', 'residence', 'age', 'altitude', 'Q401', 'Q406',\n",
       "       'Q301', 'Q302', 'Q304', 'Q306', 'Q307', 'Q308m', 'Qsou_inform',\n",
       "       'Q3098n', 'Q3099n', 'Q30910n', 'Q30911n', 'Q501', 'Q503', 'Q504',\n",
       "       'Q5231', 'Q5232', 'Q5233', 'Q5234', 'Q524', 'Q5261', 'Q5263',\n",
       "       'food_secured'],\n",
       "      dtype='object')"
      ]
     },
     "execution_count": 61,
     "metadata": {},
     "output_type": "execute_result"
    }
   ],
   "source": [
    "all_merged.columns"
   ]
  },
  {
   "cell_type": "code",
   "execution_count": 62,
   "metadata": {},
   "outputs": [],
   "source": [
    "all_merged.dropna(how='any',inplace=True,axis=0)"
   ]
  },
  {
   "cell_type": "code",
   "execution_count": 63,
   "metadata": {},
   "outputs": [
    {
     "data": {
      "text/plain": [
       "hh_members         0\n",
       "sex                0\n",
       "hh_education       0\n",
       "main_occupation    0\n",
       "marital_status     0\n",
       "residence          0\n",
       "age                0\n",
       "altitude           0\n",
       "Q401               0\n",
       "Q406               0\n",
       "Q301               0\n",
       "Q302               0\n",
       "Q304               0\n",
       "Q306               0\n",
       "Q307               0\n",
       "Q308m              0\n",
       "Qsou_inform        0\n",
       "Q3098n             0\n",
       "Q3099n             0\n",
       "Q30910n            0\n",
       "Q30911n            0\n",
       "Q501               0\n",
       "Q503               0\n",
       "Q504               0\n",
       "Q5231              0\n",
       "Q5232              0\n",
       "Q5233              0\n",
       "Q5234              0\n",
       "Q524               0\n",
       "Q5261              0\n",
       "Q5263              0\n",
       "food_secured       0\n",
       "dtype: int64"
      ]
     },
     "execution_count": 63,
     "metadata": {},
     "output_type": "execute_result"
    }
   ],
   "source": [
    "all_merged.isnull().sum()"
   ]
  },
  {
   "cell_type": "code",
   "execution_count": 64,
   "metadata": {},
   "outputs": [
    {
     "data": {
      "text/plain": [
       "909"
      ]
     },
     "execution_count": 64,
     "metadata": {},
     "output_type": "execute_result"
    }
   ],
   "source": [
    "all_merged.duplicated().sum()"
   ]
  },
  {
   "cell_type": "code",
   "execution_count": 65,
   "metadata": {},
   "outputs": [],
   "source": [
    "all_merged.drop_duplicates(inplace=True)"
   ]
  },
  {
   "cell_type": "code",
   "execution_count": 66,
   "metadata": {},
   "outputs": [
    {
     "data": {
      "text/plain": [
       "(13626, 32)"
      ]
     },
     "execution_count": 66,
     "metadata": {},
     "output_type": "execute_result"
    }
   ],
   "source": [
    "all_merged.shape"
   ]
  },
  {
   "cell_type": "code",
   "execution_count": 67,
   "metadata": {},
   "outputs": [
    {
     "data": {
      "text/html": [
       "<div>\n",
       "<style scoped>\n",
       "    .dataframe tbody tr th:only-of-type {\n",
       "        vertical-align: middle;\n",
       "    }\n",
       "\n",
       "    .dataframe tbody tr th {\n",
       "        vertical-align: top;\n",
       "    }\n",
       "\n",
       "    .dataframe thead th {\n",
       "        text-align: right;\n",
       "    }\n",
       "</style>\n",
       "<table border=\"1\" class=\"dataframe\">\n",
       "  <thead>\n",
       "    <tr style=\"text-align: right;\">\n",
       "      <th></th>\n",
       "      <th>hh_members</th>\n",
       "      <th>sex</th>\n",
       "      <th>hh_education</th>\n",
       "      <th>main_occupation</th>\n",
       "      <th>marital_status</th>\n",
       "      <th>residence</th>\n",
       "      <th>age</th>\n",
       "      <th>altitude</th>\n",
       "      <th>Q401</th>\n",
       "      <th>Q406</th>\n",
       "      <th>...</th>\n",
       "      <th>Q503</th>\n",
       "      <th>Q504</th>\n",
       "      <th>Q5231</th>\n",
       "      <th>Q5232</th>\n",
       "      <th>Q5233</th>\n",
       "      <th>Q5234</th>\n",
       "      <th>Q524</th>\n",
       "      <th>Q5261</th>\n",
       "      <th>Q5263</th>\n",
       "      <th>food_secured</th>\n",
       "    </tr>\n",
       "    <tr>\n",
       "      <th>hhid</th>\n",
       "      <th></th>\n",
       "      <th></th>\n",
       "      <th></th>\n",
       "      <th></th>\n",
       "      <th></th>\n",
       "      <th></th>\n",
       "      <th></th>\n",
       "      <th></th>\n",
       "      <th></th>\n",
       "      <th></th>\n",
       "      <th></th>\n",
       "      <th></th>\n",
       "      <th></th>\n",
       "      <th></th>\n",
       "      <th></th>\n",
       "      <th></th>\n",
       "      <th></th>\n",
       "      <th></th>\n",
       "      <th></th>\n",
       "      <th></th>\n",
       "      <th></th>\n",
       "    </tr>\n",
       "  </thead>\n",
       "  <tbody>\n",
       "    <tr>\n",
       "      <td>DT0100002</td>\n",
       "      <td>1</td>\n",
       "      <td>1</td>\n",
       "      <td>0</td>\n",
       "      <td>2</td>\n",
       "      <td>1</td>\n",
       "      <td>0</td>\n",
       "      <td>1</td>\n",
       "      <td>2</td>\n",
       "      <td>1</td>\n",
       "      <td>2</td>\n",
       "      <td>...</td>\n",
       "      <td>2</td>\n",
       "      <td>4</td>\n",
       "      <td>1</td>\n",
       "      <td>2</td>\n",
       "      <td>2</td>\n",
       "      <td>2</td>\n",
       "      <td>1</td>\n",
       "      <td>1</td>\n",
       "      <td>2</td>\n",
       "      <td>0</td>\n",
       "    </tr>\n",
       "    <tr>\n",
       "      <td>DT0100005</td>\n",
       "      <td>1</td>\n",
       "      <td>1</td>\n",
       "      <td>1</td>\n",
       "      <td>3</td>\n",
       "      <td>1</td>\n",
       "      <td>0</td>\n",
       "      <td>1</td>\n",
       "      <td>2</td>\n",
       "      <td>1</td>\n",
       "      <td>2</td>\n",
       "      <td>...</td>\n",
       "      <td>2</td>\n",
       "      <td>2</td>\n",
       "      <td>1</td>\n",
       "      <td>2</td>\n",
       "      <td>2</td>\n",
       "      <td>2</td>\n",
       "      <td>1</td>\n",
       "      <td>2</td>\n",
       "      <td>2</td>\n",
       "      <td>0</td>\n",
       "    </tr>\n",
       "    <tr>\n",
       "      <td>DT0100006</td>\n",
       "      <td>0</td>\n",
       "      <td>1</td>\n",
       "      <td>3</td>\n",
       "      <td>4</td>\n",
       "      <td>1</td>\n",
       "      <td>0</td>\n",
       "      <td>1</td>\n",
       "      <td>2</td>\n",
       "      <td>1</td>\n",
       "      <td>2</td>\n",
       "      <td>...</td>\n",
       "      <td>0</td>\n",
       "      <td>2</td>\n",
       "      <td>2</td>\n",
       "      <td>2</td>\n",
       "      <td>2</td>\n",
       "      <td>2</td>\n",
       "      <td>1</td>\n",
       "      <td>2</td>\n",
       "      <td>2</td>\n",
       "      <td>1</td>\n",
       "    </tr>\n",
       "    <tr>\n",
       "      <td>DT0100007</td>\n",
       "      <td>0</td>\n",
       "      <td>1</td>\n",
       "      <td>3</td>\n",
       "      <td>4</td>\n",
       "      <td>1</td>\n",
       "      <td>0</td>\n",
       "      <td>1</td>\n",
       "      <td>2</td>\n",
       "      <td>1</td>\n",
       "      <td>2</td>\n",
       "      <td>...</td>\n",
       "      <td>0</td>\n",
       "      <td>2</td>\n",
       "      <td>2</td>\n",
       "      <td>2</td>\n",
       "      <td>2</td>\n",
       "      <td>2</td>\n",
       "      <td>1</td>\n",
       "      <td>1</td>\n",
       "      <td>2</td>\n",
       "      <td>0</td>\n",
       "    </tr>\n",
       "    <tr>\n",
       "      <td>DT0100011</td>\n",
       "      <td>0</td>\n",
       "      <td>1</td>\n",
       "      <td>3</td>\n",
       "      <td>2</td>\n",
       "      <td>2</td>\n",
       "      <td>0</td>\n",
       "      <td>0</td>\n",
       "      <td>2</td>\n",
       "      <td>1</td>\n",
       "      <td>2</td>\n",
       "      <td>...</td>\n",
       "      <td>2</td>\n",
       "      <td>2</td>\n",
       "      <td>1</td>\n",
       "      <td>2</td>\n",
       "      <td>2</td>\n",
       "      <td>2</td>\n",
       "      <td>1</td>\n",
       "      <td>1</td>\n",
       "      <td>2</td>\n",
       "      <td>0</td>\n",
       "    </tr>\n",
       "    <tr>\n",
       "      <td>...</td>\n",
       "      <td>...</td>\n",
       "      <td>...</td>\n",
       "      <td>...</td>\n",
       "      <td>...</td>\n",
       "      <td>...</td>\n",
       "      <td>...</td>\n",
       "      <td>...</td>\n",
       "      <td>...</td>\n",
       "      <td>...</td>\n",
       "      <td>...</td>\n",
       "      <td>...</td>\n",
       "      <td>...</td>\n",
       "      <td>...</td>\n",
       "      <td>...</td>\n",
       "      <td>...</td>\n",
       "      <td>...</td>\n",
       "      <td>...</td>\n",
       "      <td>...</td>\n",
       "      <td>...</td>\n",
       "      <td>...</td>\n",
       "      <td>...</td>\n",
       "    </tr>\n",
       "    <tr>\n",
       "      <td>DT1301282</td>\n",
       "      <td>1</td>\n",
       "      <td>0</td>\n",
       "      <td>0</td>\n",
       "      <td>2</td>\n",
       "      <td>4</td>\n",
       "      <td>1</td>\n",
       "      <td>1</td>\n",
       "      <td>2</td>\n",
       "      <td>2</td>\n",
       "      <td>2</td>\n",
       "      <td>...</td>\n",
       "      <td>2</td>\n",
       "      <td>1</td>\n",
       "      <td>2</td>\n",
       "      <td>2</td>\n",
       "      <td>2</td>\n",
       "      <td>2</td>\n",
       "      <td>1</td>\n",
       "      <td>1</td>\n",
       "      <td>2</td>\n",
       "      <td>1</td>\n",
       "    </tr>\n",
       "    <tr>\n",
       "      <td>DT1301283</td>\n",
       "      <td>1</td>\n",
       "      <td>1</td>\n",
       "      <td>1</td>\n",
       "      <td>2</td>\n",
       "      <td>1</td>\n",
       "      <td>1</td>\n",
       "      <td>1</td>\n",
       "      <td>2</td>\n",
       "      <td>2</td>\n",
       "      <td>2</td>\n",
       "      <td>...</td>\n",
       "      <td>1</td>\n",
       "      <td>2</td>\n",
       "      <td>2</td>\n",
       "      <td>2</td>\n",
       "      <td>2</td>\n",
       "      <td>2</td>\n",
       "      <td>1</td>\n",
       "      <td>1</td>\n",
       "      <td>2</td>\n",
       "      <td>0</td>\n",
       "    </tr>\n",
       "    <tr>\n",
       "      <td>DT1301284</td>\n",
       "      <td>1</td>\n",
       "      <td>1</td>\n",
       "      <td>3</td>\n",
       "      <td>2</td>\n",
       "      <td>1</td>\n",
       "      <td>1</td>\n",
       "      <td>1</td>\n",
       "      <td>2</td>\n",
       "      <td>2</td>\n",
       "      <td>2</td>\n",
       "      <td>...</td>\n",
       "      <td>1</td>\n",
       "      <td>1</td>\n",
       "      <td>1</td>\n",
       "      <td>2</td>\n",
       "      <td>2</td>\n",
       "      <td>2</td>\n",
       "      <td>1</td>\n",
       "      <td>1</td>\n",
       "      <td>2</td>\n",
       "      <td>0</td>\n",
       "    </tr>\n",
       "    <tr>\n",
       "      <td>DT1301285</td>\n",
       "      <td>1</td>\n",
       "      <td>1</td>\n",
       "      <td>1</td>\n",
       "      <td>2</td>\n",
       "      <td>1</td>\n",
       "      <td>1</td>\n",
       "      <td>1</td>\n",
       "      <td>2</td>\n",
       "      <td>2</td>\n",
       "      <td>2</td>\n",
       "      <td>...</td>\n",
       "      <td>1</td>\n",
       "      <td>1</td>\n",
       "      <td>2</td>\n",
       "      <td>2</td>\n",
       "      <td>2</td>\n",
       "      <td>2</td>\n",
       "      <td>2</td>\n",
       "      <td>1</td>\n",
       "      <td>2</td>\n",
       "      <td>1</td>\n",
       "    </tr>\n",
       "    <tr>\n",
       "      <td>DT1301286</td>\n",
       "      <td>1</td>\n",
       "      <td>1</td>\n",
       "      <td>0</td>\n",
       "      <td>2</td>\n",
       "      <td>1</td>\n",
       "      <td>1</td>\n",
       "      <td>1</td>\n",
       "      <td>2</td>\n",
       "      <td>2</td>\n",
       "      <td>2</td>\n",
       "      <td>...</td>\n",
       "      <td>1</td>\n",
       "      <td>2</td>\n",
       "      <td>2</td>\n",
       "      <td>1</td>\n",
       "      <td>2</td>\n",
       "      <td>2</td>\n",
       "      <td>1</td>\n",
       "      <td>1</td>\n",
       "      <td>2</td>\n",
       "      <td>0</td>\n",
       "    </tr>\n",
       "  </tbody>\n",
       "</table>\n",
       "<p>13626 rows × 32 columns</p>\n",
       "</div>"
      ],
      "text/plain": [
       "           hh_members  sex  hh_education  main_occupation  marital_status  \\\n",
       "hhid                                                                        \n",
       "DT0100002           1    1             0                2               1   \n",
       "DT0100005           1    1             1                3               1   \n",
       "DT0100006           0    1             3                4               1   \n",
       "DT0100007           0    1             3                4               1   \n",
       "DT0100011           0    1             3                2               2   \n",
       "...               ...  ...           ...              ...             ...   \n",
       "DT1301282           1    0             0                2               4   \n",
       "DT1301283           1    1             1                2               1   \n",
       "DT1301284           1    1             3                2               1   \n",
       "DT1301285           1    1             1                2               1   \n",
       "DT1301286           1    1             0                2               1   \n",
       "\n",
       "           residence  age  altitude  Q401  Q406  ...  Q503  Q504  Q5231  \\\n",
       "hhid                                             ...                      \n",
       "DT0100002          0    1         2     1     2  ...     2     4      1   \n",
       "DT0100005          0    1         2     1     2  ...     2     2      1   \n",
       "DT0100006          0    1         2     1     2  ...     0     2      2   \n",
       "DT0100007          0    1         2     1     2  ...     0     2      2   \n",
       "DT0100011          0    0         2     1     2  ...     2     2      1   \n",
       "...              ...  ...       ...   ...   ...  ...   ...   ...    ...   \n",
       "DT1301282          1    1         2     2     2  ...     2     1      2   \n",
       "DT1301283          1    1         2     2     2  ...     1     2      2   \n",
       "DT1301284          1    1         2     2     2  ...     1     1      1   \n",
       "DT1301285          1    1         2     2     2  ...     1     1      2   \n",
       "DT1301286          1    1         2     2     2  ...     1     2      2   \n",
       "\n",
       "           Q5232  Q5233  Q5234  Q524  Q5261  Q5263  food_secured  \n",
       "hhid                                                              \n",
       "DT0100002      2      2      2     1      1      2             0  \n",
       "DT0100005      2      2      2     1      2      2             0  \n",
       "DT0100006      2      2      2     1      2      2             1  \n",
       "DT0100007      2      2      2     1      1      2             0  \n",
       "DT0100011      2      2      2     1      1      2             0  \n",
       "...          ...    ...    ...   ...    ...    ...           ...  \n",
       "DT1301282      2      2      2     1      1      2             1  \n",
       "DT1301283      2      2      2     1      1      2             0  \n",
       "DT1301284      2      2      2     1      1      2             0  \n",
       "DT1301285      2      2      2     2      1      2             1  \n",
       "DT1301286      1      2      2     1      1      2             0  \n",
       "\n",
       "[13626 rows x 32 columns]"
      ]
     },
     "execution_count": 67,
     "metadata": {},
     "output_type": "execute_result"
    }
   ],
   "source": [
    "all_merged.astype(int)"
   ]
  },
  {
   "cell_type": "code",
   "execution_count": 68,
   "metadata": {},
   "outputs": [
    {
     "name": "stdout",
     "output_type": "stream",
     "text": [
      "<class 'pandas.core.frame.DataFrame'>\n",
      "Index: 13626 entries, DT0100002 to DT1301286\n",
      "Data columns (total 32 columns):\n",
      "hh_members         13626 non-null int32\n",
      "sex                13626 non-null int32\n",
      "hh_education       13626 non-null int32\n",
      "main_occupation    13626 non-null int32\n",
      "marital_status     13626 non-null int32\n",
      "residence          13626 non-null int32\n",
      "age                13626 non-null int32\n",
      "altitude           13626 non-null int32\n",
      "Q401               13626 non-null int32\n",
      "Q406               13626 non-null int32\n",
      "Q301               13626 non-null int32\n",
      "Q302               13626 non-null int32\n",
      "Q304               13626 non-null int32\n",
      "Q306               13626 non-null int32\n",
      "Q307               13626 non-null int32\n",
      "Q308m              13626 non-null int32\n",
      "Qsou_inform        13626 non-null int32\n",
      "Q3098n             13626 non-null int32\n",
      "Q3099n             13626 non-null int32\n",
      "Q30910n            13626 non-null int32\n",
      "Q30911n            13626 non-null int32\n",
      "Q501               13626 non-null int64\n",
      "Q503               13626 non-null int32\n",
      "Q504               13626 non-null int64\n",
      "Q5231              13626 non-null int32\n",
      "Q5232              13626 non-null int32\n",
      "Q5233              13626 non-null int32\n",
      "Q5234              13626 non-null int32\n",
      "Q524               13626 non-null int32\n",
      "Q5261              13626 non-null int64\n",
      "Q5263              13626 non-null int64\n",
      "food_secured       13626 non-null int64\n",
      "dtypes: int32(27), int64(5)\n",
      "memory usage: 2.0+ MB\n"
     ]
    }
   ],
   "source": [
    "all_merged.info()"
   ]
  },
  {
   "cell_type": "code",
   "execution_count": 69,
   "metadata": {},
   "outputs": [
    {
     "data": {
      "text/plain": [
       "Index(['hh_members', 'sex', 'hh_education', 'main_occupation',\n",
       "       'marital_status', 'residence', 'age', 'altitude', 'Q401', 'Q406',\n",
       "       'Q301', 'Q302', 'Q304', 'Q306', 'Q307', 'Q308m', 'Qsou_inform',\n",
       "       'Q3098n', 'Q3099n', 'Q30910n', 'Q30911n', 'Q501', 'Q503', 'Q504',\n",
       "       'Q5231', 'Q5232', 'Q5233', 'Q5234', 'Q524', 'Q5261', 'Q5263',\n",
       "       'food_secured'],\n",
       "      dtype='object')"
      ]
     },
     "execution_count": 69,
     "metadata": {},
     "output_type": "execute_result"
    }
   ],
   "source": [
    "all_merged.columns"
   ]
  },
  {
   "cell_type": "code",
   "execution_count": 70,
   "metadata": {},
   "outputs": [
    {
     "data": {
      "text/plain": [
       "(13626, 32)"
      ]
     },
     "execution_count": 70,
     "metadata": {},
     "output_type": "execute_result"
    }
   ],
   "source": [
    "all_merged.shape"
   ]
  },
  {
   "cell_type": "code",
   "execution_count": 71,
   "metadata": {},
   "outputs": [
    {
     "data": {
      "text/plain": [
       "0    7774\n",
       "1    5852\n",
       "Name: food_secured, dtype: int64"
      ]
     },
     "execution_count": 71,
     "metadata": {},
     "output_type": "execute_result"
    }
   ],
   "source": [
    "all_merged['food_secured'].value_counts()"
   ]
  },
  {
   "cell_type": "code",
   "execution_count": 72,
   "metadata": {},
   "outputs": [
    {
     "data": {
      "text/plain": [
       "Index(['hh_members', 'sex', 'hh_education', 'main_occupation',\n",
       "       'marital_status', 'residence', 'age', 'altitude', 'Q401', 'Q406',\n",
       "       'Q301', 'Q302', 'Q304', 'Q306', 'Q307', 'Q308m', 'Qsou_inform',\n",
       "       'Q3098n', 'Q3099n', 'Q30910n', 'Q30911n', 'Q501', 'Q503', 'Q504',\n",
       "       'Q5231', 'Q5232', 'Q5233', 'Q5234', 'Q524', 'Q5261', 'Q5263',\n",
       "       'food_secured'],\n",
       "      dtype='object')"
      ]
     },
     "execution_count": 72,
     "metadata": {},
     "output_type": "execute_result"
    }
   ],
   "source": [
    "all_merged.columns"
   ]
  },
  {
   "cell_type": "code",
   "execution_count": 73,
   "metadata": {},
   "outputs": [
    {
     "data": {
      "text/plain": [
       "<matplotlib.axes._subplots.AxesSubplot at 0x1941bae9808>"
      ]
     },
     "execution_count": 73,
     "metadata": {},
     "output_type": "execute_result"
    },
    {
     "data": {
      "image/png": "[encoded data removed]",
      "text/plain": [
       "<Figure size 432x288 with 1 Axes>"
      ]
     },
     "metadata": {
      "needs_background": "light"
     },
     "output_type": "display_data"
    }
   ],
   "source": [
    "sns.countplot(all_merged['hh_education'])"
   ]
  },
  {
   "cell_type": "code",
   "execution_count": 74,
   "metadata": {},
   "outputs": [
    {
     "data": {
      "text/plain": [
       "0    7505\n",
       "1    5744\n",
       "2     377\n",
       "Name: hh_members, dtype: int64"
      ]
     },
     "execution_count": 74,
     "metadata": {},
     "output_type": "execute_result"
    },
    {
     "data": {
      "image/png": "[encoded data removed]",
      "text/plain": [
       "<Figure size 720x216 with 1 Axes>"
      ]
     },
     "metadata": {},
     "output_type": "display_data"
    }
   ],
   "source": [
    "import seaborn as sns\n",
    "sns.set(style=\"whitegrid\")\n",
    "sns.set_palette(\"hls\",3)\n",
    "fig,ax=plt.subplots(figsize=(10,3))\n",
    "ax=sns.countplot(x=\"hh_members\",hue=\"food_secured\",data=all_merged)\n",
    "for p in ax.patches:\n",
    "    height=p.get_height()\n",
    "    ax.text(p.get_x() +p.get_width()/2.,\n",
    "            height +3,\n",
    "            '{:1.2f}'.format(height/all_merged.shape[0]),\n",
    "            ha='center',)\n",
    "all_merged['hh_members'].value_counts()"
   ]
  },
  {
   "cell_type": "code",
   "execution_count": 75,
   "metadata": {},
   "outputs": [
    {
     "data": {
      "text/plain": [
       "1    9908\n",
       "0    3718\n",
       "Name: sex, dtype: int64"
      ]
     },
     "execution_count": 75,
     "metadata": {},
     "output_type": "execute_result"
    },
    {
     "data": {
      "image/png": "[encoded data removed]",
      "text/plain": [
       "<Figure size 720x216 with 1 Axes>"
      ]
     },
     "metadata": {},
     "output_type": "display_data"
    }
   ],
   "source": [
    "import seaborn as sns\n",
    "sns.set(style=\"whitegrid\")\n",
    "sns.set_palette(\"hls\",3)\n",
    "fig,ax=plt.subplots(figsize=(10,3))\n",
    "ax=sns.countplot(x=\"sex\",hue=\"food_secured\",data=all_merged)\n",
    "for p in ax.patches:\n",
    "    height=p.get_height()\n",
    "    ax.text(p.get_x() +p.get_width()/2.,\n",
    "            height +3,\n",
    "            '{:1.2f}'.format(height/all_merged.shape[0]),\n",
    "            ha='center')\n",
    "all_merged['sex'].value_counts()"
   ]
  },
  {
   "cell_type": "code",
   "execution_count": 76,
   "metadata": {},
   "outputs": [
    {
     "data": {
      "text/plain": [
       "0    7017\n",
       "1    3218\n",
       "2    1541\n",
       "3    1252\n",
       "4     598\n",
       "Name: hh_education, dtype: int64"
      ]
     },
     "execution_count": 76,
     "metadata": {},
     "output_type": "execute_result"
    },
    {
     "data": {
      "image/png": "[encoded data removed]",
      "text/plain": [
       "<Figure size 720x216 with 1 Axes>"
      ]
     },
     "metadata": {},
     "output_type": "display_data"
    }
   ],
   "source": [
    "import seaborn as sns\n",
    "sns.set(style=\"whitegrid\")\n",
    "sns.set_palette(\"hls\",3)\n",
    "fig,ax=plt.subplots(figsize=(10,3))\n",
    "ax=sns.countplot(x=\"hh_education\",hue=\"food_secured\",data=all_merged)\n",
    "for p in ax.patches:\n",
    "    height=p.get_height()\n",
    "    ax.text(p.get_x() +p.get_width()/2.,\n",
    "            height +3,\n",
    "            '{:1.2f}'.format(height/all_merged.shape[0]),\n",
    "            ha='center')\n",
    "all_merged['hh_education'].value_counts()"
   ]
  },
  {
   "cell_type": "code",
   "execution_count": 77,
   "metadata": {},
   "outputs": [
    {
     "data": {
      "text/plain": [
       "2    10689\n",
       "4     1225\n",
       "3     1143\n",
       "1      395\n",
       "0      174\n",
       "Name: main_occupation, dtype: int64"
      ]
     },
     "execution_count": 77,
     "metadata": {},
     "output_type": "execute_result"
    },
    {
     "data": {
      "image/png": "[encoded data removed]",
      "text/plain": [
       "<Figure size 720x216 with 1 Axes>"
      ]
     },
     "metadata": {},
     "output_type": "display_data"
    }
   ],
   "source": [
    "import seaborn as sns\n",
    "sns.set(style=\"whitegrid\")\n",
    "sns.set_palette(\"hls\",3)\n",
    "fig,ax=plt.subplots(figsize=(10,3))\n",
    "ax=sns.countplot(x=\"main_occupation\",hue=\"food_secured\",data=all_merged)\n",
    "for p in ax.patches:\n",
    "    height=p.get_height()\n",
    "    ax.text(p.get_x() +p.get_width()/2.,\n",
    "            height +3,\n",
    "            '{:1.2f}'.format(height/all_merged.shape[0]),\n",
    "            ha='center')\n",
    "all_merged['main_occupation'].value_counts()"
   ]
  },
  {
   "cell_type": "code",
   "execution_count": 78,
   "metadata": {},
   "outputs": [
    {
     "data": {
      "text/plain": [
       "1    9338\n",
       "4    1799\n",
       "3    1315\n",
       "2     689\n",
       "0     485\n",
       "Name: marital_status, dtype: int64"
      ]
     },
     "execution_count": 78,
     "metadata": {},
     "output_type": "execute_result"
    },
    {
     "data": {
      "image/png": "[encoded data removed]",
      "text/plain": [
       "<Figure size 720x216 with 1 Axes>"
      ]
     },
     "metadata": {},
     "output_type": "display_data"
    }
   ],
   "source": [
    "import seaborn as sns\n",
    "sns.set(style=\"whitegrid\")\n",
    "sns.set_palette(\"hls\",3)\n",
    "fig,ax=plt.subplots(figsize=(10,3))\n",
    "ax=sns.countplot(x=\"marital_status\",hue=\"food_secured\",data=all_merged)\n",
    "for p in ax.patches:\n",
    "    height=p.get_height()\n",
    "    ax.text(p.get_x() +p.get_width()/2.,\n",
    "            height +3,\n",
    "            '{:1.2f}'.format(height/all_merged.shape[0]),\n",
    "            ha='center')\n",
    "all_merged['marital_status'].value_counts()"
   ]
  },
  {
   "cell_type": "code",
   "execution_count": 79,
   "metadata": {},
   "outputs": [
    {
     "data": {
      "text/plain": [
       "1    6268\n",
       "0    5076\n",
       "2    2282\n",
       "Name: age, dtype: int64"
      ]
     },
     "execution_count": 79,
     "metadata": {},
     "output_type": "execute_result"
    },
    {
     "data": {
      "image/png": "[encoded data removed]",
      "text/plain": [
       "<Figure size 720x216 with 1 Axes>"
      ]
     },
     "metadata": {},
     "output_type": "display_data"
    }
   ],
   "source": [
    "import seaborn as sns\n",
    "sns.set(style=\"whitegrid\")\n",
    "sns.set_palette(\"hls\",3)\n",
    "fig,ax=plt.subplots(figsize=(10,3))\n",
    "ax=sns.countplot(x=\"age\",hue=\"food_secured\",data=all_merged)\n",
    "for p in ax.patches:\n",
    "    height=p.get_height()\n",
    "    ax.text(p.get_x() +p.get_width()/2.,\n",
    "            height +3,\n",
    "            '{:1.2f}'.format(height/all_merged.shape[0]),\n",
    "            ha='center')\n",
    "all_merged['age'].value_counts()"
   ]
  },
  {
   "cell_type": "code",
   "execution_count": 80,
   "metadata": {},
   "outputs": [
    {
     "data": {
      "text/plain": [
       "2    10114\n",
       "1     2082\n",
       "0     1430\n",
       "Name: altitude, dtype: int64"
      ]
     },
     "execution_count": 80,
     "metadata": {},
     "output_type": "execute_result"
    },
    {
     "data": {
      "image/png": "[encoded data removed]",
      "text/plain": [
       "<Figure size 720x216 with 1 Axes>"
      ]
     },
     "metadata": {},
     "output_type": "display_data"
    }
   ],
   "source": [
    "import seaborn as sns\n",
    "sns.set(style=\"whitegrid\")\n",
    "sns.set_palette(\"hls\",3)\n",
    "fig,ax=plt.subplots(figsize=(10,3))\n",
    "ax=sns.countplot(x=\"altitude\",hue=\"food_secured\",data=all_merged)\n",
    "for p in ax.patches:\n",
    "    height=p.get_height()\n",
    "    ax.text(p.get_x() +p.get_width()/2.,\n",
    "            height +3,\n",
    "            '{:1.2f}'.format(height/all_merged.shape[0]),\n",
    "            ha='center')\n",
    "all_merged['altitude'].value_counts()"
   ]
  },
  {
   "cell_type": "code",
   "execution_count": 81,
   "metadata": {},
   "outputs": [
    {
     "data": {
      "text/plain": [
       "2    6995\n",
       "1    6631\n",
       "Name: Q401, dtype: int64"
      ]
     },
     "execution_count": 81,
     "metadata": {},
     "output_type": "execute_result"
    },
    {
     "data": {
      "image/png": "[encoded data removed]",
      "text/plain": [
       "<Figure size 720x216 with 1 Axes>"
      ]
     },
     "metadata": {},
     "output_type": "display_data"
    }
   ],
   "source": [
    "import seaborn as sns\n",
    "sns.set(style=\"whitegrid\")\n",
    "sns.set_palette(\"hls\",3)\n",
    "fig,ax=plt.subplots(figsize=(10,3))\n",
    "ax=sns.countplot(x=\"Q401\",hue=\"food_secured\",data=all_merged)\n",
    "for p in ax.patches:\n",
    "    height=p.get_height()\n",
    "    ax.text(p.get_x() +p.get_width()/2.,\n",
    "            height +3,\n",
    "            '{:1.2f}'.format(height/all_merged.shape[0]),\n",
    "            ha='center')\n",
    "all_merged['Q401'].value_counts()"
   ]
  },
  {
   "cell_type": "code",
   "execution_count": 82,
   "metadata": {},
   "outputs": [
    {
     "data": {
      "text/plain": [
       "2    13070\n",
       "1      556\n",
       "Name: Q406, dtype: int64"
      ]
     },
     "execution_count": 82,
     "metadata": {},
     "output_type": "execute_result"
    },
    {
     "data": {
      "image/png": "[encoded data removed]",
      "text/plain": [
       "<Figure size 720x216 with 1 Axes>"
      ]
     },
     "metadata": {},
     "output_type": "display_data"
    }
   ],
   "source": [
    "import seaborn as sns\n",
    "sns.set(style=\"whitegrid\")\n",
    "sns.set_palette(\"hls\",3)\n",
    "fig,ax=plt.subplots(figsize=(10,3))\n",
    "ax=sns.countplot(x=\"Q406\",hue=\"food_secured\",data=all_merged)\n",
    "for p in ax.patches:\n",
    "    height=p.get_height()\n",
    "    ax.text(p.get_x() +p.get_width()/2.,\n",
    "            height +3,\n",
    "            '{:1.2f}'.format(height/all_merged.shape[0]),\n",
    "            ha='center')\n",
    "all_merged['Q406'].value_counts()"
   ]
  },
  {
   "cell_type": "code",
   "execution_count": 83,
   "metadata": {},
   "outputs": [
    {
     "data": {
      "text/plain": [
       "1    9096\n",
       "0    4530\n",
       "Name: residence, dtype: int64"
      ]
     },
     "execution_count": 83,
     "metadata": {},
     "output_type": "execute_result"
    },
    {
     "data": {
      "image/png": "[encoded data removed]",
      "text/plain": [
       "<Figure size 720x216 with 1 Axes>"
      ]
     },
     "metadata": {},
     "output_type": "display_data"
    }
   ],
   "source": [
    "import seaborn as sns\n",
    "sns.set(style=\"whitegrid\")\n",
    "sns.set_palette(\"hls\",3)\n",
    "fig,ax=plt.subplots(figsize=(10,3))\n",
    "ax=sns.countplot(x=\"residence\",hue=\"food_secured\",data=all_merged)\n",
    "for p in ax.patches:\n",
    "    height=p.get_height()\n",
    "    ax.text(p.get_x() +p.get_width()/2.,\n",
    "            height +3,\n",
    "            '{:1.2f}'.format(height/all_merged.shape[0]),\n",
    "            ha='center')\n",
    "all_merged['residence'].value_counts()"
   ]
  },
  {
   "cell_type": "code",
   "execution_count": 84,
   "metadata": {},
   "outputs": [
    {
     "data": {
      "text/plain": [
       "2    13070\n",
       "1      556\n",
       "Name: Q406, dtype: int64"
      ]
     },
     "execution_count": 84,
     "metadata": {},
     "output_type": "execute_result"
    },
    {
     "data": {
      "image/png": "[encoded data removed]",
      "text/plain": [
       "<Figure size 720x216 with 1 Axes>"
      ]
     },
     "metadata": {},
     "output_type": "display_data"
    }
   ],
   "source": [
    "import seaborn as sns\n",
    "sns.set(style=\"whitegrid\")\n",
    "sns.set_palette(\"hls\",3)\n",
    "fig,ax=plt.subplots(figsize=(10,3))\n",
    "ax=sns.countplot(x=\"Q406\",hue=\"residence\",data=all_merged)\n",
    "for p in ax.patches:\n",
    "    height=p.get_height()\n",
    "    ax.text(p.get_x() +p.get_width()/2.,\n",
    "            height +3,\n",
    "            '{:1.2f}'.format(height/all_merged.shape[0]),\n",
    "            ha='center')\n",
    "all_merged['Q406'].value_counts()"
   ]
  },
  {
   "cell_type": "code",
   "execution_count": 85,
   "metadata": {},
   "outputs": [
    {
     "data": {
      "text/plain": [
       "2    10390\n",
       "1     3236\n",
       "Name: Q301, dtype: int64"
      ]
     },
     "execution_count": 85,
     "metadata": {},
     "output_type": "execute_result"
    },
    {
     "data": {
      "image/png": "[encoded data removed]",
      "text/plain": [
       "<Figure size 720x216 with 1 Axes>"
      ]
     },
     "metadata": {},
     "output_type": "display_data"
    }
   ],
   "source": [
    "import seaborn as sns\n",
    "sns.set(style=\"whitegrid\")\n",
    "sns.set_palette(\"hls\",3)\n",
    "fig,ax=plt.subplots(figsize=(10,3))\n",
    "ax=sns.countplot(x=\"Q301\",hue=\"food_secured\",data=all_merged)\n",
    "for p in ax.patches:\n",
    "    height=p.get_height()\n",
    "    ax.text(p.get_x() +p.get_width()/2.,\n",
    "            height +3,\n",
    "            '{:1.2f}'.format(height/all_merged.shape[0]),\n",
    "            ha='center')\n",
    "all_merged['Q301'].value_counts()"
   ]
  },
  {
   "cell_type": "code",
   "execution_count": 86,
   "metadata": {},
   "outputs": [
    {
     "data": {
      "text/plain": [
       "1    13403\n",
       "2      223\n",
       "Name: Q302, dtype: int64"
      ]
     },
     "execution_count": 86,
     "metadata": {},
     "output_type": "execute_result"
    },
    {
     "data": {
      "image/png": "[encoded data removed]",
      "text/plain": [
       "<Figure size 720x216 with 1 Axes>"
      ]
     },
     "metadata": {},
     "output_type": "display_data"
    }
   ],
   "source": [
    "import seaborn as sns\n",
    "sns.set(style=\"whitegrid\")\n",
    "sns.set_palette(\"hls\",3)\n",
    "fig,ax=plt.subplots(figsize=(10,3))\n",
    "ax=sns.countplot(x=\"Q302\",hue=\"food_secured\",data=all_merged)\n",
    "for p in ax.patches:\n",
    "    height=p.get_height()\n",
    "    ax.text(p.get_x() +p.get_width()/2.,\n",
    "            height +3,\n",
    "            '{:1.2f}'.format(height/all_merged.shape[0]),\n",
    "            ha='center')\n",
    "all_merged['Q302'].value_counts()"
   ]
  },
  {
   "cell_type": "code",
   "execution_count": 87,
   "metadata": {},
   "outputs": [
    {
     "data": {
      "text/plain": [
       "1    11225\n",
       "2     1849\n",
       "3      552\n",
       "Name: Q304, dtype: int64"
      ]
     },
     "execution_count": 87,
     "metadata": {},
     "output_type": "execute_result"
    },
    {
     "data": {
      "image/png": "[encoded data removed]",
      "text/plain": [
       "<Figure size 720x216 with 1 Axes>"
      ]
     },
     "metadata": {},
     "output_type": "display_data"
    }
   ],
   "source": [
    "import seaborn as sns\n",
    "sns.set(style=\"whitegrid\")\n",
    "sns.set_palette(\"hls\",3)\n",
    "fig,ax=plt.subplots(figsize=(10,3))\n",
    "ax=sns.countplot(x=\"Q304\",hue=\"food_secured\",data=all_merged)\n",
    "for p in ax.patches:\n",
    "    height=p.get_height()\n",
    "    ax.text(p.get_x() +p.get_width()/2.,\n",
    "            height +3,\n",
    "            '{:1.2f}'.format(height/all_merged.shape[0]),\n",
    "            ha='center')\n",
    "all_merged['Q304'].value_counts()"
   ]
  },
  {
   "cell_type": "code",
   "execution_count": 88,
   "metadata": {},
   "outputs": [
    {
     "data": {
      "text/plain": [
       "3    7894\n",
       "1    4283\n",
       "4    1364\n",
       "2      85\n",
       "Name: Q306, dtype: int64"
      ]
     },
     "execution_count": 88,
     "metadata": {},
     "output_type": "execute_result"
    },
    {
     "data": {
      "image/png": "[encoded data removed]",
      "text/plain": [
       "<Figure size 720x360 with 1 Axes>"
      ]
     },
     "metadata": {},
     "output_type": "display_data"
    }
   ],
   "source": [
    "import seaborn as sns\n",
    "sns.set(style=\"whitegrid\")\n",
    "sns.set_palette(\"hls\",3)\n",
    "fig,ax=plt.subplots(figsize=(10,5))\n",
    "ax=sns.countplot(x=\"Q306\",hue=\"food_secured\",data=all_merged)\n",
    "for p in ax.patches:\n",
    "    height=p.get_height()\n",
    "    ax.text(p.get_x() +p.get_width()/2.,\n",
    "            height +3,\n",
    "            '{:1.2f}'.format(height/all_merged.shape[0]),\n",
    "            ha='center')\n",
    "all_merged['Q306'].value_counts()"
   ]
  },
  {
   "cell_type": "code",
   "execution_count": 89,
   "metadata": {},
   "outputs": [
    {
     "data": {
      "text/plain": [
       "2    9146\n",
       "3    3298\n",
       "1    1021\n",
       "4     161\n",
       "Name: Q307, dtype: int64"
      ]
     },
     "execution_count": 89,
     "metadata": {},
     "output_type": "execute_result"
    },
    {
     "data": {
      "image/png": "[encoded data removed]",
      "text/plain": [
       "<Figure size 720x216 with 1 Axes>"
      ]
     },
     "metadata": {},
     "output_type": "display_data"
    }
   ],
   "source": [
    "import seaborn as sns\n",
    "sns.set(style=\"whitegrid\")\n",
    "sns.set_palette(\"hls\",3)\n",
    "fig,ax=plt.subplots(figsize=(10,3))\n",
    "ax=sns.countplot(x=\"Q307\",hue=\"food_secured\",data=all_merged)\n",
    "for p in ax.patches:\n",
    "    height=p.get_height()\n",
    "    ax.text(p.get_x() +p.get_width()/2.,\n",
    "            height +3,\n",
    "            '{:1.2f}'.format(height/all_merged.shape[0]),\n",
    "            ha='center')\n",
    "all_merged['Q307'].value_counts()"
   ]
  },
  {
   "cell_type": "code",
   "execution_count": 90,
   "metadata": {},
   "outputs": [
    {
     "data": {
      "text/plain": [
       "0    10432\n",
       "1     3194\n",
       "Name: Q308m, dtype: int64"
      ]
     },
     "execution_count": 90,
     "metadata": {},
     "output_type": "execute_result"
    },
    {
     "data": {
      "image/png": "[encoded data removed]",
      "text/plain": [
       "<Figure size 720x216 with 1 Axes>"
      ]
     },
     "metadata": {},
     "output_type": "display_data"
    }
   ],
   "source": [
    "import seaborn as sns\n",
    "sns.set(style=\"whitegrid\")\n",
    "sns.set_palette(\"hls\",3)\n",
    "fig,ax=plt.subplots(figsize=(10,3))\n",
    "ax=sns.countplot(x=\"Q308m\",hue=\"food_secured\",data=all_merged)\n",
    "for p in ax.patches:\n",
    "    height=p.get_height()\n",
    "    ax.text(p.get_x() +p.get_width()/2.,\n",
    "            height +3,\n",
    "            '{:1.2f}'.format(height/all_merged.shape[0]),\n",
    "            ha='center')\n",
    "all_merged['Q308m'].value_counts()"
   ]
  },
  {
   "cell_type": "code",
   "execution_count": 91,
   "metadata": {},
   "outputs": [
    {
     "data": {
      "text/plain": [
       "0    8872\n",
       "1    2991\n",
       "2    1405\n",
       "3     358\n",
       "Name: Qsou_inform, dtype: int64"
      ]
     },
     "execution_count": 91,
     "metadata": {},
     "output_type": "execute_result"
    },
    {
     "data": {
      "image/png": "[encoded data removed]",
      "text/plain": [
       "<Figure size 720x216 with 1 Axes>"
      ]
     },
     "metadata": {},
     "output_type": "display_data"
    }
   ],
   "source": [
    "import seaborn as sns\n",
    "sns.set(style=\"whitegrid\")\n",
    "sns.set_palette(\"hls\",3)\n",
    "fig,ax=plt.subplots(figsize=(10,3))\n",
    "ax=sns.countplot(x=\"Qsou_inform\",hue=\"food_secured\",data=all_merged)\n",
    "for p in ax.patches:\n",
    "    height=p.get_height()\n",
    "    ax.text(p.get_x() +p.get_width()/2.,\n",
    "            height +3,\n",
    "            '{:1.2f}'.format(height/all_merged.shape[0]),\n",
    "            ha='center')\n",
    "all_merged['Qsou_inform'].value_counts()"
   ]
  },
  {
   "cell_type": "code",
   "execution_count": 92,
   "metadata": {},
   "outputs": [
    {
     "data": {
      "text/plain": [
       "2    4686\n",
       "3    3377\n",
       "0    3080\n",
       "1    1735\n",
       "4     748\n",
       "Name: Q501, dtype: int64"
      ]
     },
     "execution_count": 92,
     "metadata": {},
     "output_type": "execute_result"
    },
    {
     "data": {
      "image/png": "[encoded data removed]",
      "text/plain": [
       "<Figure size 720x216 with 1 Axes>"
      ]
     },
     "metadata": {},
     "output_type": "display_data"
    }
   ],
   "source": [
    "import seaborn as sns\n",
    "sns.set(style=\"whitegrid\")\n",
    "sns.set_palette(\"hls\",3)\n",
    "fig,ax=plt.subplots(figsize=(10,3))\n",
    "ax=sns.countplot(x=\"Q501\",hue=\"food_secured\",data=all_merged)\n",
    "for p in ax.patches:\n",
    "    height=p.get_height()\n",
    "    ax.text(p.get_x() +p.get_width()/2.,\n",
    "            height +3,\n",
    "            '{:1.2f}'.format(height/all_merged.shape[0]),\n",
    "            ha='center')\n",
    "all_merged['Q501'].value_counts()"
   ]
  },
  {
   "cell_type": "code",
   "execution_count": 93,
   "metadata": {},
   "outputs": [
    {
     "data": {
      "text/plain": [
       "1    7535\n",
       "0    3083\n",
       "2    3008\n",
       "Name: Q503, dtype: int64"
      ]
     },
     "execution_count": 93,
     "metadata": {},
     "output_type": "execute_result"
    },
    {
     "data": {
      "image/png": "[encoded data removed]",
      "text/plain": [
       "<Figure size 720x216 with 1 Axes>"
      ]
     },
     "metadata": {},
     "output_type": "display_data"
    }
   ],
   "source": [
    "import seaborn as sns\n",
    "sns.set(style=\"whitegrid\")\n",
    "sns.set_palette(\"hls\",3)\n",
    "fig,ax=plt.subplots(figsize=(10,3))\n",
    "ax=sns.countplot(x=\"Q503\",hue=\"food_secured\",data=all_merged)\n",
    "for p in ax.patches:\n",
    "    height=p.get_height()\n",
    "    ax.text(p.get_x() +p.get_width()/2.,\n",
    "            height +3,\n",
    "            '{:1.2f}'.format(height/all_merged.shape[0]),\n",
    "            ha='center')\n",
    "all_merged['Q503'].value_counts()"
   ]
  },
  {
   "cell_type": "code",
   "execution_count": 94,
   "metadata": {},
   "outputs": [
    {
     "data": {
      "text/plain": [
       "2    6415\n",
       "1    5292\n",
       "4     856\n",
       "5     743\n",
       "3     320\n",
       "Name: Q504, dtype: int64"
      ]
     },
     "execution_count": 94,
     "metadata": {},
     "output_type": "execute_result"
    },
    {
     "data": {
      "image/png": "[encoded data removed]",
      "text/plain": [
       "<Figure size 720x216 with 1 Axes>"
      ]
     },
     "metadata": {},
     "output_type": "display_data"
    }
   ],
   "source": [
    "import seaborn as sns\n",
    "sns.set(style=\"whitegrid\")\n",
    "sns.set_palette(\"hls\",3)\n",
    "fig,ax=plt.subplots(figsize=(10,3))\n",
    "ax=sns.countplot(x=\"Q504\",hue=\"food_secured\",data=all_merged)\n",
    "for p in ax.patches:\n",
    "    height=p.get_height()\n",
    "    ax.text(p.get_x() +p.get_width()/2.,\n",
    "            height +3,\n",
    "            '{:1.2f}'.format(height/all_merged.shape[0]),\n",
    "            ha='center')\n",
    "all_merged['Q504'].value_counts()"
   ]
  },
  {
   "cell_type": "code",
   "execution_count": 95,
   "metadata": {},
   "outputs": [],
   "source": [
    "x=all_merged.drop(['food_secured'],axis=1)\n",
    "y=all_merged['food_secured']"
   ]
  },
  {
   "cell_type": "code",
   "execution_count": 96,
   "metadata": {},
   "outputs": [
    {
     "data": {
      "text/plain": [
       "1    9222\n",
       "2    4404\n",
       "Name: Q5261, dtype: int64"
      ]
     },
     "execution_count": 96,
     "metadata": {},
     "output_type": "execute_result"
    },
    {
     "data": {
      "image/png": "[encoded data removed]",
      "text/plain": [
       "<Figure size 720x216 with 1 Axes>"
      ]
     },
     "metadata": {},
     "output_type": "display_data"
    }
   ],
   "source": [
    "import seaborn as sns\n",
    "sns.set(style=\"whitegrid\")\n",
    "sns.set_palette(\"hls\",3)\n",
    "fig,ax=plt.subplots(figsize=(10,3))\n",
    "ax=sns.countplot(x=\"Q5261\",hue=\"food_secured\",data=all_merged)\n",
    "for p in ax.patches:\n",
    "    height=p.get_height()\n",
    "    ax.text(p.get_x() +p.get_width()/2.,\n",
    "            height +3,\n",
    "            '{:1.2f}'.format(height/all_merged.shape[0]),\n",
    "            ha='center')\n",
    "all_merged['Q5261'].value_counts()"
   ]
  },
  {
   "cell_type": "code",
   "execution_count": 97,
   "metadata": {},
   "outputs": [
    {
     "data": {
      "text/plain": [
       "2    12088\n",
       "1     1538\n",
       "Name: Q5263, dtype: int64"
      ]
     },
     "execution_count": 97,
     "metadata": {},
     "output_type": "execute_result"
    },
    {
     "data": {
      "image/png": "[encoded data removed]",
      "text/plain": [
       "<Figure size 720x216 with 1 Axes>"
      ]
     },
     "metadata": {},
     "output_type": "display_data"
    }
   ],
   "source": [
    "import seaborn as sns\n",
    "sns.set(style=\"whitegrid\")\n",
    "sns.set_palette(\"hls\",3)\n",
    "fig,ax=plt.subplots(figsize=(10,3))\n",
    "ax=sns.countplot(x=\"Q5263\",hue=\"food_secured\",data=all_merged)\n",
    "for p in ax.patches:\n",
    "    height=p.get_height()\n",
    "    ax.text(p.get_x() +p.get_width()/2.,\n",
    "            height +3,\n",
    "            '{:1.2f}'.format(height/all_merged.shape[0]),\n",
    "            ha='center')\n",
    "all_merged['Q5263'].value_counts()"
   ]
  },
  {
   "cell_type": "code",
   "execution_count": 98,
   "metadata": {},
   "outputs": [
    {
     "data": {
      "text/plain": [
       "<matplotlib.axes._subplots.AxesSubplot at 0x1941beb9f08>"
      ]
     },
     "execution_count": 98,
     "metadata": {},
     "output_type": "execute_result"
    },
    {
     "data": {
      "image/png": "[encoded data removed]",
      "text/plain": [
       "<Figure size 432x288 with 2 Axes>"
      ]
     },
     "metadata": {},
     "output_type": "display_data"
    }
   ],
   "source": [
    "sns.heatmap(all_merged.isnull(),yticklabels=False,cmap='viridis')"
   ]
  },
  {
   "cell_type": "code",
   "execution_count": 99,
   "metadata": {},
   "outputs": [],
   "source": [
    "#Here again we identify both independet and depedent variables in to x and y\n",
    "x=all_merged.drop(['food_secured'],axis=1)\n",
    "y=all_merged['food_secured']"
   ]
  },
  {
   "cell_type": "code",
   "execution_count": 102,
   "metadata": {},
   "outputs": [],
   "source": [
    "#Split the dataset into train and test set \n",
    "x_train,x_test,y_train,y_test =train_test_split(x,y, test_size=0.2,random_state=0,stratify=y)"
   ]
  },
  {
   "cell_type": "code",
   "execution_count": 103,
   "metadata": {},
   "outputs": [],
   "source": [
    "#from sklearn.model_selection import StratifiedKFold\n",
    "#x_train,x_test,y_train,y_test =train_test_split(x,y, test_size=0.2,random_state=0,shuffle=True)\n",
    "#skf=StratifiedKFold(n_splits=10)\n",
    "#skf.get_n_splits(x,y)\n",
    "#print(skf)"
   ]
  },
  {
   "cell_type": "code",
   "execution_count": 104,
   "metadata": {},
   "outputs": [],
   "source": [
    "#for train_index,test_index in skf.split(x,y):\n",
    "#    print(\"train:\",train_index,\"test:\",test_index)"
   ]
  },
  {
   "cell_type": "code",
   "execution_count": 105,
   "metadata": {},
   "outputs": [
    {
     "name": "stdout",
     "output_type": "stream",
     "text": [
      "(10900, 31) (2726, 31)\n"
     ]
    }
   ],
   "source": [
    "print(x_train.shape,x_test.shape)#show shape of X_train and Y_train "
   ]
  },
  {
   "cell_type": "code",
   "execution_count": 106,
   "metadata": {},
   "outputs": [
    {
     "name": "stdout",
     "output_type": "stream",
     "text": [
      "(10900,) (2726,)\n"
     ]
    }
   ],
   "source": [
    "print(y_train.shape,y_test.shape)"
   ]
  },
  {
   "cell_type": "code",
   "execution_count": 108,
   "metadata": {},
   "outputs": [
    {
     "data": {
      "text/plain": [
       "Index(['hh_members', 'sex', 'hh_education', 'main_occupation',\n",
       "       'marital_status', 'residence', 'age', 'altitude', 'Q401', 'Q406',\n",
       "       'Q301', 'Q302', 'Q304', 'Q306', 'Q307', 'Q308m', 'Qsou_inform',\n",
       "       'Q3098n', 'Q3099n', 'Q30910n', 'Q30911n', 'Q501', 'Q503', 'Q504',\n",
       "       'Q5231', 'Q5232', 'Q5233', 'Q5234', 'Q524', 'Q5261', 'Q5263',\n",
       "       'food_secured'],\n",
       "      dtype='object')"
      ]
     },
     "execution_count": 108,
     "metadata": {},
     "output_type": "execute_result"
    }
   ],
   "source": [
    "all_merged.columns"
   ]
  },
  {
   "cell_type": "code",
   "execution_count": 109,
   "metadata": {},
   "outputs": [
    {
     "data": {
      "text/plain": [
       "(13626, 32)"
      ]
     },
     "execution_count": 109,
     "metadata": {},
     "output_type": "execute_result"
    }
   ],
   "source": [
    "all_merged.shape"
   ]
  },
  {
   "cell_type": "code",
   "execution_count": 110,
   "metadata": {},
   "outputs": [
    {
     "data": {
      "text/plain": [
       "0"
      ]
     },
     "execution_count": 110,
     "metadata": {},
     "output_type": "execute_result"
    }
   ],
   "source": [
    "all_merged.duplicated().sum()"
   ]
  },
  {
   "cell_type": "code",
   "execution_count": 111,
   "metadata": {},
   "outputs": [],
   "source": [
    "all_merged.drop_duplicates(inplace=True)"
   ]
  },
  {
   "cell_type": "code",
   "execution_count": 112,
   "metadata": {},
   "outputs": [
    {
     "name": "stdout",
     "output_type": "stream",
     "text": [
      " Rows : 13626\n",
      " columns : 32\n",
      " \n",
      " features : \n",
      " ['hh_members', 'sex', 'hh_education', 'main_occupation', 'marital_status', 'residence', 'age', 'altitude', 'Q401', 'Q406', 'Q301', 'Q302', 'Q304', 'Q306', 'Q307', 'Q308m', 'Qsou_inform', 'Q3098n', 'Q3099n', 'Q30910n', 'Q30911n', 'Q501', 'Q503', 'Q504', 'Q5231', 'Q5232', 'Q5233', 'Q5234', 'Q524', 'Q5261', 'Q5263', 'food_secured']\n",
      "\n",
      " unique values  : \n",
      " hh_members         3\n",
      "sex                2\n",
      "hh_education       5\n",
      "main_occupation    5\n",
      "marital_status     5\n",
      "residence          2\n",
      "age                3\n",
      "altitude           3\n",
      "Q401               2\n",
      "Q406               2\n",
      "Q301               2\n",
      "Q302               2\n",
      "Q304               3\n",
      "Q306               4\n",
      "Q307               4\n",
      "Q308m              2\n",
      "Qsou_inform        4\n",
      "Q3098n             2\n",
      "Q3099n             3\n",
      "Q30910n            2\n",
      "Q30911n            2\n",
      "Q501               5\n",
      "Q503               3\n",
      "Q504               5\n",
      "Q5231              2\n",
      "Q5232              2\n",
      "Q5233              2\n",
      "Q5234              2\n",
      "Q524               2\n",
      "Q5261              2\n",
      "Q5263              2\n",
      "food_secured       2\n",
      "dtype: int64\n"
     ]
    }
   ],
   "source": [
    "print(\" Rows :\",all_merged.shape[0])\n",
    "print(\" columns :\",all_merged.shape[1])\n",
    "print(\" \\n features : \\n\" ,all_merged.columns.tolist())\n",
    "print(\"\\n unique values  : \\n\" ,all_merged.nunique())"
   ]
  },
  {
   "cell_type": "code",
   "execution_count": 113,
   "metadata": {},
   "outputs": [
    {
     "data": {
      "text/plain": [
       "True"
      ]
     },
     "execution_count": 113,
     "metadata": {},
     "output_type": "execute_result"
    }
   ],
   "source": [
    "from sklearn.tree import DecisionTreeClassifier\n",
    "import sklearn.datasets as datasets\n",
    "from sklearn.externals.six import StringIO\n",
    "from sklearn.tree import export_graphviz\n",
    "\n",
    "import pandas as pd\n",
    "import pydotplus\n",
    "\n",
    "from IPython.display import Image\n",
    "\n",
    "dtree = DecisionTreeClassifier(criterion='entropy',max_depth=2,max_leaf_nodes=20)\n",
    "dtree.fit(x_train,y_train)\n",
    "\n",
    "dot_data = StringIO()\n",
    "export_graphviz(\n",
    "    dtree, \n",
    "    out_file = dot_data,\n",
    "    filled = True, \n",
    "    rounded = True,\n",
    "    feature_names=x_train.columns,\n",
    "    class_names=['0','1'],\n",
    "    special_characters = True\n",
    ")\n",
    "graph_1 = pydotplus.graph_from_dot_data(dot_data.getvalue())\n",
    "Image(graph_1.create_png())\n",
    "graph_1.write_png('dt_best_5.png')\n"
   ]
  },
  {
   "cell_type": "code",
   "execution_count": 114,
   "metadata": {},
   "outputs": [
    {
     "data": {
      "text/plain": [
       "Index(['hh_members', 'sex', 'hh_education', 'main_occupation',\n",
       "       'marital_status', 'residence', 'age', 'altitude', 'Q401', 'Q406',\n",
       "       'Q301', 'Q302', 'Q304', 'Q306', 'Q307', 'Q308m', 'Qsou_inform',\n",
       "       'Q3098n', 'Q3099n', 'Q30910n', 'Q30911n', 'Q501', 'Q503', 'Q504',\n",
       "       'Q5231', 'Q5232', 'Q5233', 'Q5234', 'Q524', 'Q5261', 'Q5263',\n",
       "       'food_secured'],\n",
       "      dtype='object')"
      ]
     },
     "execution_count": 114,
     "metadata": {},
     "output_type": "execute_result"
    }
   ],
   "source": [
    "all_merged.columns"
   ]
  },
  {
   "cell_type": "code",
   "execution_count": 115,
   "metadata": {},
   "outputs": [
    {
     "data": {
      "text/plain": [
       "(13626, 32)"
      ]
     },
     "execution_count": 115,
     "metadata": {},
     "output_type": "execute_result"
    }
   ],
   "source": [
    "all_merged.shape"
   ]
  },
  {
   "cell_type": "code",
   "execution_count": 116,
   "metadata": {},
   "outputs": [
    {
     "name": "stdout",
     "output_type": "stream",
     "text": [
      "Selcted feature : 1\n",
      "0.6522377109317682\n",
      "\n",
      "Selcted feature : 2\n",
      "0.7556859867938371\n",
      "\n",
      "Selcted feature : 3\n",
      "0.7556859867938371\n",
      "\n",
      "Selcted feature : 4\n",
      "0.7743947175348496\n",
      "\n",
      "Selcted feature : 5\n",
      "0.7909024211298606\n",
      "\n",
      "Selcted feature : 6\n",
      "0.7909024211298606\n",
      "\n",
      "Selcted feature : 7\n",
      "0.7909024211298606\n",
      "\n",
      "Selcted feature : 8\n",
      "0.7909024211298606\n",
      "\n",
      "Selcted feature : 9\n",
      "0.7912692589875275\n",
      "\n",
      "Selcted feature : 10\n",
      "0.7912692589875275\n",
      "\n",
      "Selcted feature : 11\n",
      "0.7956713132795304\n",
      "\n",
      "Selcted feature : 12\n",
      "0.7993396918561996\n",
      "\n",
      "Selcted feature : 13\n",
      "0.7953044754218636\n",
      "\n",
      "Selcted feature : 14\n",
      "0.7978723404255319\n",
      "\n",
      "Selcted feature : 15\n",
      "0.7982391782831988\n",
      "\n",
      "Selcted feature : 16\n",
      "0.7967718268525312\n",
      "\n",
      "Selcted feature : 17\n",
      "0.7993396918561996\n",
      "\n",
      "Selcted feature : 18\n",
      "0.801540719002201\n",
      "\n",
      "Selcted feature : 19\n",
      "0.7953044754218636\n",
      "\n",
      "Selcted feature : 20\n",
      "0.7971386647101981\n",
      "\n",
      "Selcted feature : 21\n",
      "0.7956713132795304\n",
      "\n",
      "Selcted feature : 22\n",
      "0.7978723404255319\n",
      "\n",
      "Selcted feature : 23\n",
      "0.7945707997065297\n",
      "\n",
      "Selcted feature : 24\n",
      "0.7982391782831988\n",
      "\n",
      "Selcted feature : 25\n",
      "0.7949376375641967\n",
      "\n",
      "Selcted feature : 26\n",
      "0.7971386647101981\n",
      "\n",
      "Selcted feature : 27\n",
      "0.7923697725605282\n",
      "\n",
      "Selcted feature : 28\n",
      "0.7993396918561996\n",
      "\n",
      "Selcted feature : 29\n",
      "0.7945707997065297\n",
      "\n",
      "Selcted feature : 30\n",
      "0.7942039618488628\n",
      "\n",
      "Selcted feature : 31\n",
      "0.7978723404255319\n",
      "\n",
      "Selcted feature : 32\n",
      "0.7978723404255319\n",
      "\n"
     ]
    }
   ],
   "source": [
    "from sklearn import metrics\n",
    "k_range=range(1,33)\n",
    "scores=[]\n",
    "for index in k_range:\n",
    "    rfe_rf=RFE(RandomForestClassifier(n_estimators=100,criterion=\"entropy\",random_state=123,max_depth=10,max_leaf_nodes=30),n_features_to_select=index)\n",
    "    rfe_rf.fit(x_train,y_train.values.ravel())\n",
    "    y_rfe_rf=rfe_rf.predict(x_test)\n",
    "    print(\"Selcted feature :\",index)\n",
    "   # scores.append(metrics.accuracy_score(y_test,y_pred))\n",
    "    print (metrics.accuracy_score(y_test,y_rfe_rf))\n",
    "    print()"
   ]
  },
  {
   "cell_type": "markdown",
   "metadata": {},
   "source": [
    "Mutual Information"
   ]
  },
  {
   "cell_type": "code",
   "execution_count": 117,
   "metadata": {},
   "outputs": [],
   "source": [
    "# import mutual_info_classif,SelectKBest,chi2 and select feature using SelectKBest and mutual_info_classif\n",
    "from sklearn.feature_selection import mutual_info_classif\n",
    "from sklearn.feature_selection import SelectKBest,chi2\n",
    "best_mi=SelectKBest(score_func=mutual_info_classif,k=18)\n",
    "fit_skb_mi=best_mi.fit(x_train,y_train.values.ravel())"
   ]
  },
  {
   "cell_type": "code",
   "execution_count": 118,
   "metadata": {},
   "outputs": [],
   "source": [
    "# display both best features and their mi scores\n",
    "mi_scores=pd.DataFrame(fit_skb_mi.scores_)\n",
    "mi_columns=pd.DataFrame(x_train.columns)"
   ]
  },
  {
   "cell_type": "code",
   "execution_count": 119,
   "metadata": {},
   "outputs": [],
   "source": [
    "#concat both features and their mi_scores incase of columns\n",
    "feat_mi_score=pd.concat([mi_columns,mi_scores],axis=1)"
   ]
  },
  {
   "cell_type": "code",
   "execution_count": 120,
   "metadata": {},
   "outputs": [
    {
     "data": {
      "text/html": [
       "<div>\n",
       "<style scoped>\n",
       "    .dataframe tbody tr th:only-of-type {\n",
       "        vertical-align: middle;\n",
       "    }\n",
       "\n",
       "    .dataframe tbody tr th {\n",
       "        vertical-align: top;\n",
       "    }\n",
       "\n",
       "    .dataframe thead th {\n",
       "        text-align: right;\n",
       "    }\n",
       "</style>\n",
       "<table border=\"1\" class=\"dataframe\">\n",
       "  <thead>\n",
       "    <tr style=\"text-align: right;\">\n",
       "      <th></th>\n",
       "      <th>mutual_info</th>\n",
       "      <th>scores</th>\n",
       "    </tr>\n",
       "  </thead>\n",
       "  <tbody>\n",
       "    <tr>\n",
       "      <td>0</td>\n",
       "      <td>hh_members</td>\n",
       "      <td>0.002159</td>\n",
       "    </tr>\n",
       "    <tr>\n",
       "      <td>1</td>\n",
       "      <td>sex</td>\n",
       "      <td>0.011637</td>\n",
       "    </tr>\n",
       "    <tr>\n",
       "      <td>2</td>\n",
       "      <td>hh_education</td>\n",
       "      <td>0.027239</td>\n",
       "    </tr>\n",
       "    <tr>\n",
       "      <td>3</td>\n",
       "      <td>main_occupation</td>\n",
       "      <td>0.016688</td>\n",
       "    </tr>\n",
       "    <tr>\n",
       "      <td>4</td>\n",
       "      <td>marital_status</td>\n",
       "      <td>0.005202</td>\n",
       "    </tr>\n",
       "    <tr>\n",
       "      <td>5</td>\n",
       "      <td>residence</td>\n",
       "      <td>0.012541</td>\n",
       "    </tr>\n",
       "    <tr>\n",
       "      <td>6</td>\n",
       "      <td>age</td>\n",
       "      <td>0.000075</td>\n",
       "    </tr>\n",
       "    <tr>\n",
       "      <td>7</td>\n",
       "      <td>altitude</td>\n",
       "      <td>0.004483</td>\n",
       "    </tr>\n",
       "    <tr>\n",
       "      <td>8</td>\n",
       "      <td>Q401</td>\n",
       "      <td>0.009061</td>\n",
       "    </tr>\n",
       "    <tr>\n",
       "      <td>9</td>\n",
       "      <td>Q406</td>\n",
       "      <td>0.012013</td>\n",
       "    </tr>\n",
       "    <tr>\n",
       "      <td>10</td>\n",
       "      <td>Q301</td>\n",
       "      <td>0.003481</td>\n",
       "    </tr>\n",
       "    <tr>\n",
       "      <td>11</td>\n",
       "      <td>Q302</td>\n",
       "      <td>0.005654</td>\n",
       "    </tr>\n",
       "    <tr>\n",
       "      <td>12</td>\n",
       "      <td>Q304</td>\n",
       "      <td>0.004746</td>\n",
       "    </tr>\n",
       "    <tr>\n",
       "      <td>13</td>\n",
       "      <td>Q306</td>\n",
       "      <td>0.017000</td>\n",
       "    </tr>\n",
       "    <tr>\n",
       "      <td>14</td>\n",
       "      <td>Q307</td>\n",
       "      <td>0.024964</td>\n",
       "    </tr>\n",
       "    <tr>\n",
       "      <td>15</td>\n",
       "      <td>Q308m</td>\n",
       "      <td>0.008689</td>\n",
       "    </tr>\n",
       "    <tr>\n",
       "      <td>16</td>\n",
       "      <td>Qsou_inform</td>\n",
       "      <td>0.035698</td>\n",
       "    </tr>\n",
       "    <tr>\n",
       "      <td>17</td>\n",
       "      <td>Q3098n</td>\n",
       "      <td>0.002368</td>\n",
       "    </tr>\n",
       "    <tr>\n",
       "      <td>18</td>\n",
       "      <td>Q3099n</td>\n",
       "      <td>0.001224</td>\n",
       "    </tr>\n",
       "    <tr>\n",
       "      <td>19</td>\n",
       "      <td>Q30910n</td>\n",
       "      <td>0.000000</td>\n",
       "    </tr>\n",
       "    <tr>\n",
       "      <td>20</td>\n",
       "      <td>Q30911n</td>\n",
       "      <td>0.002430</td>\n",
       "    </tr>\n",
       "    <tr>\n",
       "      <td>21</td>\n",
       "      <td>Q501</td>\n",
       "      <td>0.028168</td>\n",
       "    </tr>\n",
       "    <tr>\n",
       "      <td>22</td>\n",
       "      <td>Q503</td>\n",
       "      <td>0.005256</td>\n",
       "    </tr>\n",
       "    <tr>\n",
       "      <td>23</td>\n",
       "      <td>Q504</td>\n",
       "      <td>0.004448</td>\n",
       "    </tr>\n",
       "    <tr>\n",
       "      <td>24</td>\n",
       "      <td>Q5231</td>\n",
       "      <td>0.136947</td>\n",
       "    </tr>\n",
       "    <tr>\n",
       "      <td>25</td>\n",
       "      <td>Q5232</td>\n",
       "      <td>0.104270</td>\n",
       "    </tr>\n",
       "    <tr>\n",
       "      <td>26</td>\n",
       "      <td>Q5233</td>\n",
       "      <td>0.017513</td>\n",
       "    </tr>\n",
       "    <tr>\n",
       "      <td>27</td>\n",
       "      <td>Q5234</td>\n",
       "      <td>0.011473</td>\n",
       "    </tr>\n",
       "    <tr>\n",
       "      <td>28</td>\n",
       "      <td>Q524</td>\n",
       "      <td>0.004986</td>\n",
       "    </tr>\n",
       "    <tr>\n",
       "      <td>29</td>\n",
       "      <td>Q5261</td>\n",
       "      <td>0.000007</td>\n",
       "    </tr>\n",
       "    <tr>\n",
       "      <td>30</td>\n",
       "      <td>Q5263</td>\n",
       "      <td>0.004132</td>\n",
       "    </tr>\n",
       "  </tbody>\n",
       "</table>\n",
       "</div>"
      ],
      "text/plain": [
       "        mutual_info    scores\n",
       "0        hh_members  0.002159\n",
       "1               sex  0.011637\n",
       "2      hh_education  0.027239\n",
       "3   main_occupation  0.016688\n",
       "4    marital_status  0.005202\n",
       "5         residence  0.012541\n",
       "6               age  0.000075\n",
       "7          altitude  0.004483\n",
       "8              Q401  0.009061\n",
       "9              Q406  0.012013\n",
       "10             Q301  0.003481\n",
       "11             Q302  0.005654\n",
       "12             Q304  0.004746\n",
       "13             Q306  0.017000\n",
       "14             Q307  0.024964\n",
       "15            Q308m  0.008689\n",
       "16      Qsou_inform  0.035698\n",
       "17           Q3098n  0.002368\n",
       "18           Q3099n  0.001224\n",
       "19          Q30910n  0.000000\n",
       "20          Q30911n  0.002430\n",
       "21             Q501  0.028168\n",
       "22             Q503  0.005256\n",
       "23             Q504  0.004448\n",
       "24            Q5231  0.136947\n",
       "25            Q5232  0.104270\n",
       "26            Q5233  0.017513\n",
       "27            Q5234  0.011473\n",
       "28             Q524  0.004986\n",
       "29            Q5261  0.000007\n",
       "30            Q5263  0.004132"
      ]
     },
     "execution_count": 120,
     "metadata": {},
     "output_type": "execute_result"
    }
   ],
   "source": [
    "#display columns and mi scores\n",
    "feat_mi_score.columns=[\"mutual_info\",\"scores\"]\n",
    "feat_mi_score"
   ]
  },
  {
   "cell_type": "code",
   "execution_count": 121,
   "metadata": {},
   "outputs": [
    {
     "data": {
      "text/html": [
       "<div>\n",
       "<style scoped>\n",
       "    .dataframe tbody tr th:only-of-type {\n",
       "        vertical-align: middle;\n",
       "    }\n",
       "\n",
       "    .dataframe tbody tr th {\n",
       "        vertical-align: top;\n",
       "    }\n",
       "\n",
       "    .dataframe thead th {\n",
       "        text-align: right;\n",
       "    }\n",
       "</style>\n",
       "<table border=\"1\" class=\"dataframe\">\n",
       "  <thead>\n",
       "    <tr style=\"text-align: right;\">\n",
       "      <th></th>\n",
       "      <th>mutual_info</th>\n",
       "      <th>scores</th>\n",
       "    </tr>\n",
       "  </thead>\n",
       "  <tbody>\n",
       "    <tr>\n",
       "      <td>24</td>\n",
       "      <td>Q5231</td>\n",
       "      <td>0.136947</td>\n",
       "    </tr>\n",
       "    <tr>\n",
       "      <td>25</td>\n",
       "      <td>Q5232</td>\n",
       "      <td>0.104270</td>\n",
       "    </tr>\n",
       "    <tr>\n",
       "      <td>16</td>\n",
       "      <td>Qsou_inform</td>\n",
       "      <td>0.035698</td>\n",
       "    </tr>\n",
       "    <tr>\n",
       "      <td>21</td>\n",
       "      <td>Q501</td>\n",
       "      <td>0.028168</td>\n",
       "    </tr>\n",
       "    <tr>\n",
       "      <td>2</td>\n",
       "      <td>hh_education</td>\n",
       "      <td>0.027239</td>\n",
       "    </tr>\n",
       "    <tr>\n",
       "      <td>14</td>\n",
       "      <td>Q307</td>\n",
       "      <td>0.024964</td>\n",
       "    </tr>\n",
       "    <tr>\n",
       "      <td>26</td>\n",
       "      <td>Q5233</td>\n",
       "      <td>0.017513</td>\n",
       "    </tr>\n",
       "    <tr>\n",
       "      <td>13</td>\n",
       "      <td>Q306</td>\n",
       "      <td>0.017000</td>\n",
       "    </tr>\n",
       "    <tr>\n",
       "      <td>3</td>\n",
       "      <td>main_occupation</td>\n",
       "      <td>0.016688</td>\n",
       "    </tr>\n",
       "    <tr>\n",
       "      <td>5</td>\n",
       "      <td>residence</td>\n",
       "      <td>0.012541</td>\n",
       "    </tr>\n",
       "    <tr>\n",
       "      <td>9</td>\n",
       "      <td>Q406</td>\n",
       "      <td>0.012013</td>\n",
       "    </tr>\n",
       "    <tr>\n",
       "      <td>1</td>\n",
       "      <td>sex</td>\n",
       "      <td>0.011637</td>\n",
       "    </tr>\n",
       "    <tr>\n",
       "      <td>27</td>\n",
       "      <td>Q5234</td>\n",
       "      <td>0.011473</td>\n",
       "    </tr>\n",
       "    <tr>\n",
       "      <td>8</td>\n",
       "      <td>Q401</td>\n",
       "      <td>0.009061</td>\n",
       "    </tr>\n",
       "    <tr>\n",
       "      <td>15</td>\n",
       "      <td>Q308m</td>\n",
       "      <td>0.008689</td>\n",
       "    </tr>\n",
       "    <tr>\n",
       "      <td>11</td>\n",
       "      <td>Q302</td>\n",
       "      <td>0.005654</td>\n",
       "    </tr>\n",
       "    <tr>\n",
       "      <td>22</td>\n",
       "      <td>Q503</td>\n",
       "      <td>0.005256</td>\n",
       "    </tr>\n",
       "    <tr>\n",
       "      <td>4</td>\n",
       "      <td>marital_status</td>\n",
       "      <td>0.005202</td>\n",
       "    </tr>\n",
       "  </tbody>\n",
       "</table>\n",
       "</div>"
      ],
      "text/plain": [
       "        mutual_info    scores\n",
       "24            Q5231  0.136947\n",
       "25            Q5232  0.104270\n",
       "16      Qsou_inform  0.035698\n",
       "21             Q501  0.028168\n",
       "2      hh_education  0.027239\n",
       "14             Q307  0.024964\n",
       "26            Q5233  0.017513\n",
       "13             Q306  0.017000\n",
       "3   main_occupation  0.016688\n",
       "5         residence  0.012541\n",
       "9              Q406  0.012013\n",
       "1               sex  0.011637\n",
       "27            Q5234  0.011473\n",
       "8              Q401  0.009061\n",
       "15            Q308m  0.008689\n",
       "11             Q302  0.005654\n",
       "22             Q503  0.005256\n",
       "4    marital_status  0.005202"
      ]
     },
     "execution_count": 121,
     "metadata": {},
     "output_type": "execute_result"
    }
   ],
   "source": [
    "# select maximum of the largest 18 features depending upon their mi_scores\n",
    "f_mi_score=feat_mi_score.nlargest(18,'scores')\n",
    "f_mi_score"
   ]
  },
  {
   "cell_type": "code",
   "execution_count": 122,
   "metadata": {},
   "outputs": [
    {
     "data": {
      "text/plain": [
       "Index(['sex', 'hh_education', 'main_occupation', 'marital_status', 'residence',\n",
       "       'Q401', 'Q406', 'Q302', 'Q306', 'Q307', 'Q308m', 'Qsou_inform', 'Q501',\n",
       "       'Q503', 'Q5231', 'Q5232', 'Q5233', 'Q5234'],\n",
       "      dtype='object')"
      ]
     },
     "execution_count": 122,
     "metadata": {},
     "output_type": "execute_result"
    }
   ],
   "source": [
    "#dsiplay best selected features in mi scores\n",
    "mi_best=x_train.columns[best_mi.get_support()]\n",
    "mi_best"
   ]
  },
  {
   "cell_type": "code",
   "execution_count": 123,
   "metadata": {},
   "outputs": [],
   "source": [
    "#using the mi_best features,aply the train and test set\n",
    "x_train_mi_fc=x_train[mi_best]\n",
    "x_test_mi_fc=x_test[mi_best]"
   ]
  },
  {
   "cell_type": "code",
   "execution_count": 124,
   "metadata": {},
   "outputs": [
    {
     "data": {
      "text/html": [
       "<div>\n",
       "<style scoped>\n",
       "    .dataframe tbody tr th:only-of-type {\n",
       "        vertical-align: middle;\n",
       "    }\n",
       "\n",
       "    .dataframe tbody tr th {\n",
       "        vertical-align: top;\n",
       "    }\n",
       "\n",
       "    .dataframe thead th {\n",
       "        text-align: right;\n",
       "    }\n",
       "</style>\n",
       "<table border=\"1\" class=\"dataframe\">\n",
       "  <thead>\n",
       "    <tr style=\"text-align: right;\">\n",
       "      <th></th>\n",
       "      <th>sex</th>\n",
       "      <th>hh_education</th>\n",
       "      <th>main_occupation</th>\n",
       "      <th>marital_status</th>\n",
       "      <th>residence</th>\n",
       "      <th>Q401</th>\n",
       "      <th>Q406</th>\n",
       "      <th>Q302</th>\n",
       "      <th>Q306</th>\n",
       "      <th>Q307</th>\n",
       "      <th>Q308m</th>\n",
       "      <th>Qsou_inform</th>\n",
       "      <th>Q501</th>\n",
       "      <th>Q503</th>\n",
       "      <th>Q5231</th>\n",
       "      <th>Q5232</th>\n",
       "      <th>Q5233</th>\n",
       "      <th>Q5234</th>\n",
       "    </tr>\n",
       "    <tr>\n",
       "      <th>hhid</th>\n",
       "      <th></th>\n",
       "      <th></th>\n",
       "      <th></th>\n",
       "      <th></th>\n",
       "      <th></th>\n",
       "      <th></th>\n",
       "      <th></th>\n",
       "      <th></th>\n",
       "      <th></th>\n",
       "      <th></th>\n",
       "      <th></th>\n",
       "      <th></th>\n",
       "      <th></th>\n",
       "      <th></th>\n",
       "      <th></th>\n",
       "      <th></th>\n",
       "      <th></th>\n",
       "      <th></th>\n",
       "    </tr>\n",
       "  </thead>\n",
       "  <tbody>\n",
       "    <tr>\n",
       "      <td>DT0800876</td>\n",
       "      <td>1</td>\n",
       "      <td>1</td>\n",
       "      <td>2</td>\n",
       "      <td>1</td>\n",
       "      <td>1</td>\n",
       "      <td>2</td>\n",
       "      <td>2</td>\n",
       "      <td>1</td>\n",
       "      <td>3</td>\n",
       "      <td>1</td>\n",
       "      <td>0</td>\n",
       "      <td>0</td>\n",
       "      <td>3</td>\n",
       "      <td>1</td>\n",
       "      <td>2</td>\n",
       "      <td>2</td>\n",
       "      <td>2</td>\n",
       "      <td>2</td>\n",
       "    </tr>\n",
       "    <tr>\n",
       "      <td>DT0900342</td>\n",
       "      <td>0</td>\n",
       "      <td>0</td>\n",
       "      <td>2</td>\n",
       "      <td>4</td>\n",
       "      <td>1</td>\n",
       "      <td>1</td>\n",
       "      <td>2</td>\n",
       "      <td>1</td>\n",
       "      <td>1</td>\n",
       "      <td>3</td>\n",
       "      <td>1</td>\n",
       "      <td>0</td>\n",
       "      <td>2</td>\n",
       "      <td>2</td>\n",
       "      <td>2</td>\n",
       "      <td>1</td>\n",
       "      <td>2</td>\n",
       "      <td>2</td>\n",
       "    </tr>\n",
       "    <tr>\n",
       "      <td>DT0601029</td>\n",
       "      <td>1</td>\n",
       "      <td>0</td>\n",
       "      <td>2</td>\n",
       "      <td>1</td>\n",
       "      <td>0</td>\n",
       "      <td>1</td>\n",
       "      <td>2</td>\n",
       "      <td>1</td>\n",
       "      <td>3</td>\n",
       "      <td>2</td>\n",
       "      <td>0</td>\n",
       "      <td>0</td>\n",
       "      <td>4</td>\n",
       "      <td>2</td>\n",
       "      <td>2</td>\n",
       "      <td>2</td>\n",
       "      <td>2</td>\n",
       "      <td>2</td>\n",
       "    </tr>\n",
       "    <tr>\n",
       "      <td>DT1200091</td>\n",
       "      <td>1</td>\n",
       "      <td>0</td>\n",
       "      <td>2</td>\n",
       "      <td>1</td>\n",
       "      <td>1</td>\n",
       "      <td>2</td>\n",
       "      <td>2</td>\n",
       "      <td>1</td>\n",
       "      <td>3</td>\n",
       "      <td>2</td>\n",
       "      <td>0</td>\n",
       "      <td>0</td>\n",
       "      <td>3</td>\n",
       "      <td>2</td>\n",
       "      <td>2</td>\n",
       "      <td>2</td>\n",
       "      <td>2</td>\n",
       "      <td>2</td>\n",
       "    </tr>\n",
       "    <tr>\n",
       "      <td>DT0701099</td>\n",
       "      <td>1</td>\n",
       "      <td>0</td>\n",
       "      <td>2</td>\n",
       "      <td>1</td>\n",
       "      <td>1</td>\n",
       "      <td>2</td>\n",
       "      <td>2</td>\n",
       "      <td>1</td>\n",
       "      <td>3</td>\n",
       "      <td>2</td>\n",
       "      <td>0</td>\n",
       "      <td>0</td>\n",
       "      <td>2</td>\n",
       "      <td>1</td>\n",
       "      <td>2</td>\n",
       "      <td>2</td>\n",
       "      <td>2</td>\n",
       "      <td>2</td>\n",
       "    </tr>\n",
       "    <tr>\n",
       "      <td>...</td>\n",
       "      <td>...</td>\n",
       "      <td>...</td>\n",
       "      <td>...</td>\n",
       "      <td>...</td>\n",
       "      <td>...</td>\n",
       "      <td>...</td>\n",
       "      <td>...</td>\n",
       "      <td>...</td>\n",
       "      <td>...</td>\n",
       "      <td>...</td>\n",
       "      <td>...</td>\n",
       "      <td>...</td>\n",
       "      <td>...</td>\n",
       "      <td>...</td>\n",
       "      <td>...</td>\n",
       "      <td>...</td>\n",
       "      <td>...</td>\n",
       "      <td>...</td>\n",
       "    </tr>\n",
       "    <tr>\n",
       "      <td>DT0501045</td>\n",
       "      <td>1</td>\n",
       "      <td>1</td>\n",
       "      <td>2</td>\n",
       "      <td>1</td>\n",
       "      <td>1</td>\n",
       "      <td>1</td>\n",
       "      <td>2</td>\n",
       "      <td>1</td>\n",
       "      <td>4</td>\n",
       "      <td>2</td>\n",
       "      <td>0</td>\n",
       "      <td>0</td>\n",
       "      <td>3</td>\n",
       "      <td>2</td>\n",
       "      <td>2</td>\n",
       "      <td>2</td>\n",
       "      <td>2</td>\n",
       "      <td>2</td>\n",
       "    </tr>\n",
       "    <tr>\n",
       "      <td>DT1101228</td>\n",
       "      <td>1</td>\n",
       "      <td>3</td>\n",
       "      <td>3</td>\n",
       "      <td>1</td>\n",
       "      <td>0</td>\n",
       "      <td>1</td>\n",
       "      <td>2</td>\n",
       "      <td>1</td>\n",
       "      <td>1</td>\n",
       "      <td>2</td>\n",
       "      <td>1</td>\n",
       "      <td>1</td>\n",
       "      <td>0</td>\n",
       "      <td>0</td>\n",
       "      <td>2</td>\n",
       "      <td>2</td>\n",
       "      <td>2</td>\n",
       "      <td>2</td>\n",
       "    </tr>\n",
       "    <tr>\n",
       "      <td>DT0800150</td>\n",
       "      <td>1</td>\n",
       "      <td>0</td>\n",
       "      <td>2</td>\n",
       "      <td>1</td>\n",
       "      <td>1</td>\n",
       "      <td>2</td>\n",
       "      <td>2</td>\n",
       "      <td>1</td>\n",
       "      <td>3</td>\n",
       "      <td>2</td>\n",
       "      <td>0</td>\n",
       "      <td>1</td>\n",
       "      <td>3</td>\n",
       "      <td>1</td>\n",
       "      <td>2</td>\n",
       "      <td>2</td>\n",
       "      <td>2</td>\n",
       "      <td>2</td>\n",
       "    </tr>\n",
       "    <tr>\n",
       "      <td>DT1301067</td>\n",
       "      <td>1</td>\n",
       "      <td>0</td>\n",
       "      <td>2</td>\n",
       "      <td>1</td>\n",
       "      <td>1</td>\n",
       "      <td>2</td>\n",
       "      <td>2</td>\n",
       "      <td>1</td>\n",
       "      <td>3</td>\n",
       "      <td>1</td>\n",
       "      <td>0</td>\n",
       "      <td>0</td>\n",
       "      <td>2</td>\n",
       "      <td>1</td>\n",
       "      <td>1</td>\n",
       "      <td>2</td>\n",
       "      <td>1</td>\n",
       "      <td>2</td>\n",
       "    </tr>\n",
       "    <tr>\n",
       "      <td>DT0300728</td>\n",
       "      <td>1</td>\n",
       "      <td>1</td>\n",
       "      <td>2</td>\n",
       "      <td>1</td>\n",
       "      <td>1</td>\n",
       "      <td>2</td>\n",
       "      <td>2</td>\n",
       "      <td>1</td>\n",
       "      <td>3</td>\n",
       "      <td>2</td>\n",
       "      <td>0</td>\n",
       "      <td>0</td>\n",
       "      <td>3</td>\n",
       "      <td>2</td>\n",
       "      <td>2</td>\n",
       "      <td>2</td>\n",
       "      <td>2</td>\n",
       "      <td>2</td>\n",
       "    </tr>\n",
       "  </tbody>\n",
       "</table>\n",
       "<p>10900 rows × 18 columns</p>\n",
       "</div>"
      ],
      "text/plain": [
       "           sex  hh_education  main_occupation  marital_status  residence  \\\n",
       "hhid                                                                       \n",
       "DT0800876    1             1                2               1          1   \n",
       "DT0900342    0             0                2               4          1   \n",
       "DT0601029    1             0                2               1          0   \n",
       "DT1200091    1             0                2               1          1   \n",
       "DT0701099    1             0                2               1          1   \n",
       "...        ...           ...              ...             ...        ...   \n",
       "DT0501045    1             1                2               1          1   \n",
       "DT1101228    1             3                3               1          0   \n",
       "DT0800150    1             0                2               1          1   \n",
       "DT1301067    1             0                2               1          1   \n",
       "DT0300728    1             1                2               1          1   \n",
       "\n",
       "           Q401  Q406  Q302  Q306  Q307  Q308m  Qsou_inform  Q501  Q503  \\\n",
       "hhid                                                                      \n",
       "DT0800876     2     2     1     3     1      0            0     3     1   \n",
       "DT0900342     1     2     1     1     3      1            0     2     2   \n",
       "DT0601029     1     2     1     3     2      0            0     4     2   \n",
       "DT1200091     2     2     1     3     2      0            0     3     2   \n",
       "DT0701099     2     2     1     3     2      0            0     2     1   \n",
       "...         ...   ...   ...   ...   ...    ...          ...   ...   ...   \n",
       "DT0501045     1     2     1     4     2      0            0     3     2   \n",
       "DT1101228     1     2     1     1     2      1            1     0     0   \n",
       "DT0800150     2     2     1     3     2      0            1     3     1   \n",
       "DT1301067     2     2     1     3     1      0            0     2     1   \n",
       "DT0300728     2     2     1     3     2      0            0     3     2   \n",
       "\n",
       "           Q5231  Q5232  Q5233  Q5234  \n",
       "hhid                                   \n",
       "DT0800876      2      2      2      2  \n",
       "DT0900342      2      1      2      2  \n",
       "DT0601029      2      2      2      2  \n",
       "DT1200091      2      2      2      2  \n",
       "DT0701099      2      2      2      2  \n",
       "...          ...    ...    ...    ...  \n",
       "DT0501045      2      2      2      2  \n",
       "DT1101228      2      2      2      2  \n",
       "DT0800150      2      2      2      2  \n",
       "DT1301067      1      2      1      2  \n",
       "DT0300728      2      2      2      2  \n",
       "\n",
       "[10900 rows x 18 columns]"
      ]
     },
     "execution_count": 124,
     "metadata": {},
     "output_type": "execute_result"
    }
   ],
   "source": [
    "x_train_mi_fc"
   ]
  },
  {
   "cell_type": "code",
   "execution_count": 125,
   "metadata": {},
   "outputs": [],
   "source": [
    "#import model selctiom metrics\n",
    "from sklearn.model_selection import cross_val_score,KFold,cross_val_predict,cross_validate,GridSearchCV"
   ]
  },
  {
   "cell_type": "code",
   "execution_count": 126,
   "metadata": {},
   "outputs": [],
   "source": [
    "#import random forest classifier from sklearn_ensemble\n",
    "from sklearn.ensemble import RandomForestClassifier"
   ]
  },
  {
   "cell_type": "code",
   "execution_count": 127,
   "metadata": {},
   "outputs": [
    {
     "data": {
      "text/plain": [
       "RandomForestClassifier()"
      ]
     },
     "execution_count": 127,
     "metadata": {},
     "output_type": "execute_result"
    }
   ],
   "source": [
    "RandomForestClassifier()"
   ]
  },
  {
   "cell_type": "code",
   "execution_count": 128,
   "metadata": {},
   "outputs": [],
   "source": [
    "from sklearn.ensemble import RandomForestClassifier\n",
    "from sklearn.model_selection import GridSearchCV,StratifiedKFold\n",
    "rf_mi=RandomForestClassifier()"
   ]
  },
  {
   "cell_type": "code",
   "execution_count": 129,
   "metadata": {},
   "outputs": [
    {
     "data": {
      "text/plain": [
       "\"grid_search={\\n        'n_estimators':[100,200,300,400],\\n         'criterion':['gini','entropy'],\\n         'bootstrap': [True,False]}\\n         #'max_depth':list(range(2,16)),\\n        # 'max_leaf_nodes':[50,70,100]\\n        #}\""
      ]
     },
     "execution_count": 129,
     "metadata": {},
     "output_type": "execute_result"
    }
   ],
   "source": [
    "'''grid_search={\n",
    "        'n_estimators':[100,200,300,400],\n",
    "         'criterion':['gini','entropy'],\n",
    "         'bootstrap': [True,False]}\n",
    "         #'max_depth':list(range(2,16)),\n",
    "        # 'max_leaf_nodes':[50,70,100]\n",
    "        #}'''"
   ]
  },
  {
   "cell_type": "code",
   "execution_count": 130,
   "metadata": {},
   "outputs": [
    {
     "data": {
      "text/plain": [
       "\"# Create a based model\\nrf = RandomForestClassifier()\\n# Instantiate the grid search model\\nrf_mi_fc = GridSearchCV(estimator = rf, param_grid = grid_search, \\n                                scoring='accuracy',\\n                                cv = 10,n_jobs=-1)\""
      ]
     },
     "execution_count": 130,
     "metadata": {},
     "output_type": "execute_result"
    }
   ],
   "source": [
    "'''# Create a based model\n",
    "rf = RandomForestClassifier()\n",
    "# Instantiate the grid search model\n",
    "rf_mi_fc = GridSearchCV(estimator = rf, param_grid = grid_search, \n",
    "                                scoring='accuracy',\n",
    "                                cv = 10,n_jobs=-1)'''"
   ]
  },
  {
   "cell_type": "code",
   "execution_count": 131,
   "metadata": {},
   "outputs": [],
   "source": [
    "#rf_mi_fc.fit(x_train_mi_fc,y_train.values.ravel())"
   ]
  },
  {
   "cell_type": "code",
   "execution_count": 132,
   "metadata": {},
   "outputs": [
    {
     "data": {
      "text/plain": [
       "'best_parameters=rf_mi_fc.best_params_\\nbest_parameters'"
      ]
     },
     "execution_count": 132,
     "metadata": {},
     "output_type": "execute_result"
    }
   ],
   "source": [
    "'''best_parameters=rf_mi_fc.best_params_\n",
    "best_parameters'''"
   ]
  },
  {
   "cell_type": "code",
   "execution_count": 133,
   "metadata": {},
   "outputs": [
    {
     "data": {
      "text/plain": [
       "'best_result=rf_mi_fc.best_score_\\nbest_result'"
      ]
     },
     "execution_count": 133,
     "metadata": {},
     "output_type": "execute_result"
    }
   ],
   "source": [
    "'''best_result=rf_mi_fc.best_score_\n",
    "best_result'''"
   ]
  },
  {
   "cell_type": "code",
   "execution_count": 134,
   "metadata": {},
   "outputs": [],
   "source": [
    "from sklearn.metrics import classification_report,confusion_matrix,accuracy_score,roc_auc_score,roc_curve"
   ]
  },
  {
   "cell_type": "code",
   "execution_count": 135,
   "metadata": {},
   "outputs": [
    {
     "name": "stdout",
     "output_type": "stream",
     "text": [
      "0.7923697725605282\n"
     ]
    }
   ],
   "source": [
    "#def run_randomForest(x_train_mi_fc,x_test_mi_fc,y_train,y_test):\n",
    "#import random forest classifier from sklearn_ensemble\n",
    "from sklearn.ensemble import RandomForestClassifier\n",
    "#deterimne the paramets in randomforest classifiers\n",
    "rf_mi_fc=RandomForestClassifier(bootstrap=True,n_estimators=100,criterion=\"entropy\",max_depth=10,max_leaf_nodes=20,random_state=42)\n",
    "#fit the train in case of mutual info classifiers\n",
    "rf_mi_fc.fit(x_train_mi_fc,y_train.values.ravel())\n",
    "#predict the model\n",
    "rf_mi=rf_mi_fc.predict(x_test_mi_fc)\n",
    "#display the accuracy of the model in case of RF\n",
    "print(metrics.accuracy_score(y_test,rf_mi))"
   ]
  },
  {
   "cell_type": "code",
   "execution_count": 136,
   "metadata": {
    "scrolled": true
   },
   "outputs": [
    {
     "data": {
      "text/plain": [
       "78.44036697247705"
      ]
     },
     "execution_count": 136,
     "metadata": {},
     "output_type": "execute_result"
    }
   ],
   "source": [
    "#using Kfold cross validation n_splits and take the mean accuracy RF in mi classifiers\n",
    "cv=StratifiedKFold(n_splits=10,shuffle=False)\n",
    "kfold=cross_val_score(rf_mi_fc,x_train_mi_fc,y_train.values.ravel(),cv=cv)\n",
    "kf_rf_mi=((kfold.mean()*100))\n",
    "kf_rf_mi\n"
   ]
  },
  {
   "cell_type": "code",
   "execution_count": 137,
   "metadata": {},
   "outputs": [
    {
     "name": "stdout",
     "output_type": "stream",
     "text": [
      "0.814\n"
     ]
    }
   ],
   "source": [
    "print((metrics.roc_auc_score(y_test,rf_mi)).round(4))"
   ]
  },
  {
   "cell_type": "code",
   "execution_count": 138,
   "metadata": {},
   "outputs": [
    {
     "name": "stdout",
     "output_type": "stream",
     "text": [
      "0.6821192052980133\n"
     ]
    }
   ],
   "source": [
    "print(metrics.precision_score(y_test,rf_mi))"
   ]
  },
  {
   "cell_type": "code",
   "execution_count": 139,
   "metadata": {},
   "outputs": [
    {
     "name": "stdout",
     "output_type": "stream",
     "text": [
      "0.9675491033304867\n"
     ]
    }
   ],
   "source": [
    "print(metrics.recall_score(y_test,rf_mi))"
   ]
  },
  {
   "cell_type": "code",
   "execution_count": 140,
   "metadata": {},
   "outputs": [
    {
     "name": "stdout",
     "output_type": "stream",
     "text": [
      "[[1027  528]\n",
      " [  38 1133]]\n",
      "              precision    recall  f1-score   support\n",
      "\n",
      "           0       0.96      0.66      0.78      1555\n",
      "           1       0.68      0.97      0.80      1171\n",
      "\n",
      "    accuracy                           0.79      2726\n",
      "   macro avg       0.82      0.81      0.79      2726\n",
      "weighted avg       0.84      0.79      0.79      2726\n",
      "\n"
     ]
    }
   ],
   "source": [
    "print(metrics.confusion_matrix(y_test,rf_mi))\n",
    "print(metrics.classification_report(y_test,rf_mi))"
   ]
  },
  {
   "cell_type": "code",
   "execution_count": 141,
   "metadata": {},
   "outputs": [
    {
     "data": {
      "text/html": [
       "<div>\n",
       "<style scoped>\n",
       "    .dataframe tbody tr th:only-of-type {\n",
       "        vertical-align: middle;\n",
       "    }\n",
       "\n",
       "    .dataframe tbody tr th {\n",
       "        vertical-align: top;\n",
       "    }\n",
       "\n",
       "    .dataframe thead th {\n",
       "        text-align: right;\n",
       "    }\n",
       "</style>\n",
       "<table border=\"1\" class=\"dataframe\">\n",
       "  <thead>\n",
       "    <tr style=\"text-align: right;\">\n",
       "      <th></th>\n",
       "      <th>Accuracy</th>\n",
       "    </tr>\n",
       "  </thead>\n",
       "  <tbody>\n",
       "    <tr>\n",
       "      <td>rf_mi</td>\n",
       "      <td>79.236977</td>\n",
       "    </tr>\n",
       "  </tbody>\n",
       "</table>\n",
       "</div>"
      ],
      "text/plain": [
       "        Accuracy\n",
       "rf_mi  79.236977"
      ]
     },
     "execution_count": 141,
     "metadata": {},
     "output_type": "execute_result"
    }
   ],
   "source": [
    "# display accuracy in the form of table for better analysis RF\n",
    "mix = pd.DataFrame({metrics.accuracy_score(y_test,rf_mi)*100,},\n",
    "                       index=['rf_mi'],columns=[\"Accuracy\"])\n",
    "mix"
   ]
  },
  {
   "cell_type": "code",
   "execution_count": 142,
   "metadata": {},
   "outputs": [
    {
     "data": {
      "text/html": [
       "<div>\n",
       "<style scoped>\n",
       "    .dataframe tbody tr th:only-of-type {\n",
       "        vertical-align: middle;\n",
       "    }\n",
       "\n",
       "    .dataframe tbody tr th {\n",
       "        vertical-align: top;\n",
       "    }\n",
       "\n",
       "    .dataframe thead th {\n",
       "        text-align: right;\n",
       "    }\n",
       "</style>\n",
       "<table border=\"1\" class=\"dataframe\">\n",
       "  <thead>\n",
       "    <tr style=\"text-align: right;\">\n",
       "      <th></th>\n",
       "      <th>ROC</th>\n",
       "    </tr>\n",
       "  </thead>\n",
       "  <tbody>\n",
       "    <tr>\n",
       "      <td>rf_mi</td>\n",
       "      <td>81.399963</td>\n",
       "    </tr>\n",
       "  </tbody>\n",
       "</table>\n",
       "</div>"
      ],
      "text/plain": [
       "             ROC\n",
       "rf_mi  81.399963"
      ]
     },
     "execution_count": 142,
     "metadata": {},
     "output_type": "execute_result"
    }
   ],
   "source": [
    "# display accuracy in the form of table for better analysis RF\n",
    "miroc_rf = pd.DataFrame({metrics.roc_auc_score(y_test,rf_mi)*100,},\n",
    "                       index=['rf_mi'],columns=[\"ROC\"])\n",
    "miroc_rf"
   ]
  },
  {
   "cell_type": "code",
   "execution_count": 143,
   "metadata": {},
   "outputs": [
    {
     "data": {
      "text/html": [
       "<div>\n",
       "<style scoped>\n",
       "    .dataframe tbody tr th:only-of-type {\n",
       "        vertical-align: middle;\n",
       "    }\n",
       "\n",
       "    .dataframe tbody tr th {\n",
       "        vertical-align: top;\n",
       "    }\n",
       "\n",
       "    .dataframe thead th {\n",
       "        text-align: right;\n",
       "    }\n",
       "</style>\n",
       "<table border=\"1\" class=\"dataframe\">\n",
       "  <thead>\n",
       "    <tr style=\"text-align: right;\">\n",
       "      <th></th>\n",
       "      <th>Precision</th>\n",
       "    </tr>\n",
       "  </thead>\n",
       "  <tbody>\n",
       "    <tr>\n",
       "      <td>rf_mi</td>\n",
       "      <td>68.211921</td>\n",
       "    </tr>\n",
       "  </tbody>\n",
       "</table>\n",
       "</div>"
      ],
      "text/plain": [
       "       Precision\n",
       "rf_mi  68.211921"
      ]
     },
     "execution_count": 143,
     "metadata": {},
     "output_type": "execute_result"
    }
   ],
   "source": [
    "# display accuracy in the form of table for better analysis RF\n",
    "mip_rf = pd.DataFrame({metrics.precision_score(y_test,rf_mi)*100,},\n",
    "                       index=['rf_mi'],columns=[\"Precision\"])\n",
    "mip_rf"
   ]
  },
  {
   "cell_type": "code",
   "execution_count": 144,
   "metadata": {},
   "outputs": [
    {
     "data": {
      "text/html": [
       "<div>\n",
       "<style scoped>\n",
       "    .dataframe tbody tr th:only-of-type {\n",
       "        vertical-align: middle;\n",
       "    }\n",
       "\n",
       "    .dataframe tbody tr th {\n",
       "        vertical-align: top;\n",
       "    }\n",
       "\n",
       "    .dataframe thead th {\n",
       "        text-align: right;\n",
       "    }\n",
       "</style>\n",
       "<table border=\"1\" class=\"dataframe\">\n",
       "  <thead>\n",
       "    <tr style=\"text-align: right;\">\n",
       "      <th></th>\n",
       "      <th>Recall</th>\n",
       "    </tr>\n",
       "  </thead>\n",
       "  <tbody>\n",
       "    <tr>\n",
       "      <td>rf_mi</td>\n",
       "      <td>96.75491</td>\n",
       "    </tr>\n",
       "  </tbody>\n",
       "</table>\n",
       "</div>"
      ],
      "text/plain": [
       "         Recall\n",
       "rf_mi  96.75491"
      ]
     },
     "execution_count": 144,
     "metadata": {},
     "output_type": "execute_result"
    }
   ],
   "source": [
    "# display accuracy in the form of table for better analysis RF\n",
    "mir_rf = pd.DataFrame({metrics.recall_score(y_test,rf_mi)*100,},\n",
    "                       index=['rf_mi'],columns=[\"Recall\"])\n",
    "mir_rf"
   ]
  },
  {
   "cell_type": "code",
   "execution_count": 145,
   "metadata": {},
   "outputs": [
    {
     "data": {
      "text/html": [
       "<div>\n",
       "<style scoped>\n",
       "    .dataframe tbody tr th:only-of-type {\n",
       "        vertical-align: middle;\n",
       "    }\n",
       "\n",
       "    .dataframe tbody tr th {\n",
       "        vertical-align: top;\n",
       "    }\n",
       "\n",
       "    .dataframe thead th {\n",
       "        text-align: right;\n",
       "    }\n",
       "</style>\n",
       "<table border=\"1\" class=\"dataframe\">\n",
       "  <thead>\n",
       "    <tr style=\"text-align: right;\">\n",
       "      <th></th>\n",
       "      <th>CV</th>\n",
       "    </tr>\n",
       "  </thead>\n",
       "  <tbody>\n",
       "    <tr>\n",
       "      <td>rf_mi</td>\n",
       "      <td>78.440367</td>\n",
       "    </tr>\n",
       "  </tbody>\n",
       "</table>\n",
       "</div>"
      ],
      "text/plain": [
       "              CV\n",
       "rf_mi  78.440367"
      ]
     },
     "execution_count": 145,
     "metadata": {},
     "output_type": "execute_result"
    }
   ],
   "source": [
    "kf_mi = pd.DataFrame({kf_rf_mi,},\n",
    "       index=['rf_mi'],columns=[\"CV\"])\n",
    "kf_mi"
   ]
  },
  {
   "cell_type": "code",
   "execution_count": 146,
   "metadata": {},
   "outputs": [
    {
     "data": {
      "text/html": [
       "<div>\n",
       "<style scoped>\n",
       "    .dataframe tbody tr th:only-of-type {\n",
       "        vertical-align: middle;\n",
       "    }\n",
       "\n",
       "    .dataframe tbody tr th {\n",
       "        vertical-align: top;\n",
       "    }\n",
       "\n",
       "    .dataframe thead th {\n",
       "        text-align: right;\n",
       "    }\n",
       "</style>\n",
       "<table border=\"1\" class=\"dataframe\">\n",
       "  <thead>\n",
       "    <tr style=\"text-align: right;\">\n",
       "      <th></th>\n",
       "      <th>Accuracy</th>\n",
       "      <th>CV</th>\n",
       "      <th>ROC</th>\n",
       "      <th>Precision</th>\n",
       "      <th>Recall</th>\n",
       "    </tr>\n",
       "  </thead>\n",
       "  <tbody>\n",
       "    <tr>\n",
       "      <td>rf_mi</td>\n",
       "      <td>79.236977</td>\n",
       "      <td>78.440367</td>\n",
       "      <td>81.399963</td>\n",
       "      <td>68.211921</td>\n",
       "      <td>96.75491</td>\n",
       "    </tr>\n",
       "  </tbody>\n",
       "</table>\n",
       "</div>"
      ],
      "text/plain": [
       "        Accuracy         CV        ROC  Precision    Recall\n",
       "rf_mi  79.236977  78.440367  81.399963  68.211921  96.75491"
      ]
     },
     "execution_count": 146,
     "metadata": {},
     "output_type": "execute_result"
    }
   ],
   "source": [
    "mi_rf=pd.concat([mix,kf_mi,miroc_rf,mip_rf,mir_rf],axis=1)\n",
    "mi_rf"
   ]
  },
  {
   "cell_type": "code",
   "execution_count": 147,
   "metadata": {},
   "outputs": [
    {
     "data": {
      "image/png": "[encoded data removed]",
      "text/plain": [
       "<Figure size 720x720 with 1 Axes>"
      ]
     },
     "metadata": {},
     "output_type": "display_data"
    }
   ],
   "source": [
    "# plot roc\n",
    "#random_state = np.random.RandomState(0)\n",
    "#clf = DecisionTreeClassifier(random_state=random_state)\n",
    "cv = StratifiedKFold(n_splits=10,shuffle=False)\n",
    "from sklearn.model_selection import StratifiedKFold\n",
    "import matplotlib.patches as patches\n",
    "from sklearn.metrics import roc_curve,auc\n",
    "import matplotlib.pylab as plt\n",
    "from scipy import interp\n",
    "fig1 = plt.figure(figsize=[10,10])\n",
    "ax1 = fig1.add_subplot(111,aspect = 'equal')\n",
    "ax1.add_patch(\n",
    "    patches.Arrow(0.45,0.5,-0.25,0.25,width=0.3,color='green',alpha = 0.5)\n",
    "    )\n",
    "ax1.add_patch(\n",
    "    patches.Arrow(0.5,0.45,0.25,-0.25,width=0.3,color='red',alpha = 0.5)\n",
    "    )\n",
    "\n",
    "tprs = []\n",
    "aucs = []\n",
    "mean_fpr = np.linspace(0,1,100)\n",
    "i = 1\n",
    "for train,test in cv.split(x,y):\n",
    "    prediction =rf_mi_fc.fit(x.iloc[train],y.iloc[train]).predict_proba(x.iloc[test])\n",
    "    fpr, tpr, t = roc_curve(y[test], prediction[:, 1])\n",
    "    tprs.append(interp(mean_fpr, fpr, tpr))\n",
    "    roc_auc = auc(fpr, tpr)\n",
    "    aucs.append(roc_auc)\n",
    "    plt.plot(fpr, tpr, lw=2, alpha=0.3, label='ROC fold %d (AUC = %0.2f)' % (i, roc_auc))\n",
    "    i= i+1\n",
    "\n",
    "plt.plot([0,1],[0,1],linestyle = '--',lw = 2,color = 'black')\n",
    "mean_tpr = np.mean(tprs, axis=0)\n",
    "mean_auc = auc(mean_fpr, mean_tpr)\n",
    "plt.plot(mean_fpr, mean_tpr, color='blue',\n",
    "         label=r'Mean ROC (AUC = %0.2f )' % (mean_auc),lw=2, alpha=1)\n",
    "\n",
    "plt.xlabel('False Positive Rate')\n",
    "plt.ylabel('True Positive Rate')\n",
    "plt.title('ROC')\n",
    "plt.legend(loc=\"lower right\")\n",
    "plt.text(0.32,0.7,'More accurate area',fontsize = 12)\n",
    "plt.text(0.63,0.4,'Less accurate area',fontsize = 12)\n",
    "plt.show()"
   ]
  },
  {
   "cell_type": "code",
   "execution_count": 148,
   "metadata": {},
   "outputs": [
    {
     "data": {
      "text/plain": [
       "\"#create a dictionary of all values we want to test\\nparam_grid = { 'criterion':['gini','entropy'],'max_depth': np.arange(3,12),'max_leaf_nodes': np.arange(10, 50)}\\n    # decision tree model\\ndtree_model=DecisionTreeClassifier()\\n    #use gridsearch to test all values\\ndtree_gscv = GridSearchCV(dtree_model, param_grid, cv=10)\\n    #fit model to data\\ndtree_gscv.fit(x_train, y_train)\\ndtree_gscv.best_params_\""
      ]
     },
     "execution_count": 148,
     "metadata": {},
     "output_type": "execute_result"
    }
   ],
   "source": [
    "'''#create a dictionary of all values we want to test\n",
    "param_grid = { 'criterion':['gini','entropy'],'max_depth': np.arange(3,12),'max_leaf_nodes': np.arange(10, 50)}\n",
    "    # decision tree model\n",
    "dtree_model=DecisionTreeClassifier()\n",
    "    #use gridsearch to test all values\n",
    "dtree_gscv = GridSearchCV(dtree_model, param_grid, cv=10)\n",
    "    #fit model to data\n",
    "dtree_gscv.fit(x_train, y_train)\n",
    "dtree_gscv.best_params_'''"
   ]
  },
  {
   "cell_type": "code",
   "execution_count": 149,
   "metadata": {},
   "outputs": [],
   "source": [
    "#dtree_gscv.best_score_"
   ]
  },
  {
   "cell_type": "code",
   "execution_count": 150,
   "metadata": {},
   "outputs": [
    {
     "name": "stdout",
     "output_type": "stream",
     "text": [
      "0.7883345561261922\n"
     ]
    }
   ],
   "source": [
    "#display the accuracy of the model in case of DT\n",
    "from sklearn.tree import DecisionTreeClassifier\n",
    "dt_mi=DecisionTreeClassifier(criterion=\"entropy\",max_depth=10,max_leaf_nodes=28,random_state=123)\n",
    "dt_mui=dt_mi.fit(x_train_mi_fc,y_train.values.ravel())\n",
    "dt_mi=dt_mui.predict(x_test_mi_fc)\n",
    "print((metrics.accuracy_score(y_test,dt_mi)))"
   ]
  },
  {
   "cell_type": "code",
   "execution_count": 151,
   "metadata": {},
   "outputs": [
    {
     "name": "stdout",
     "output_type": "stream",
     "text": [
      "0.810251770410867\n"
     ]
    }
   ],
   "source": [
    "print((metrics.roc_auc_score(y_test,dt_mi)))"
   ]
  },
  {
   "cell_type": "code",
   "execution_count": 152,
   "metadata": {},
   "outputs": [
    {
     "name": "stdout",
     "output_type": "stream",
     "text": [
      "0.6780575539568345\n"
     ]
    }
   ],
   "source": [
    "print((metrics.precision_score(y_test,dt_mi)))"
   ]
  },
  {
   "cell_type": "code",
   "execution_count": 153,
   "metadata": {},
   "outputs": [
    {
     "name": "stdout",
     "output_type": "stream",
     "text": [
      "0.9658411614005123\n"
     ]
    }
   ],
   "source": [
    "print((metrics.recall_score(y_test,dt_mi)))"
   ]
  },
  {
   "cell_type": "code",
   "execution_count": 154,
   "metadata": {},
   "outputs": [
    {
     "data": {
      "text/plain": [
       "78.24770642201835"
      ]
     },
     "execution_count": 154,
     "metadata": {},
     "output_type": "execute_result"
    }
   ],
   "source": [
    "#using Kfold cross validation n_splits and take the mean accuracy DT in mi classifiers\n",
    "cv=StratifiedKFold(n_splits=10,shuffle=False)\n",
    "kfold=cross_val_score(dt_mui,x_train_mi_fc,y_train.values.ravel(),cv=cv)\n",
    "kf_dt_mi=(kfold.mean()*100)\n",
    "kf_dt_mi"
   ]
  },
  {
   "cell_type": "code",
   "execution_count": 155,
   "metadata": {},
   "outputs": [
    {
     "data": {
      "text/plain": [
       "Index(['hh_members', 'sex', 'hh_education', 'main_occupation',\n",
       "       'marital_status', 'residence', 'age', 'altitude', 'Q401', 'Q406',\n",
       "       'Q301', 'Q302', 'Q304', 'Q306', 'Q307', 'Q308m', 'Qsou_inform',\n",
       "       'Q3098n', 'Q3099n', 'Q30910n', 'Q30911n', 'Q501', 'Q503', 'Q504',\n",
       "       'Q5231', 'Q5232', 'Q5233', 'Q5234', 'Q524', 'Q5261', 'Q5263',\n",
       "       'food_secured'],\n",
       "      dtype='object')"
      ]
     },
     "execution_count": 155,
     "metadata": {},
     "output_type": "execute_result"
    }
   ],
   "source": [
    "all_merged.columns"
   ]
  },
  {
   "cell_type": "code",
   "execution_count": 156,
   "metadata": {},
   "outputs": [
    {
     "data": {
      "text/html": [
       "<div>\n",
       "<style scoped>\n",
       "    .dataframe tbody tr th:only-of-type {\n",
       "        vertical-align: middle;\n",
       "    }\n",
       "\n",
       "    .dataframe tbody tr th {\n",
       "        vertical-align: top;\n",
       "    }\n",
       "\n",
       "    .dataframe thead th {\n",
       "        text-align: right;\n",
       "    }\n",
       "</style>\n",
       "<table border=\"1\" class=\"dataframe\">\n",
       "  <thead>\n",
       "    <tr style=\"text-align: right;\">\n",
       "      <th></th>\n",
       "      <th>Accuracy</th>\n",
       "    </tr>\n",
       "  </thead>\n",
       "  <tbody>\n",
       "    <tr>\n",
       "      <td>dt_mi</td>\n",
       "      <td>78.833456</td>\n",
       "    </tr>\n",
       "  </tbody>\n",
       "</table>\n",
       "</div>"
      ],
      "text/plain": [
       "        Accuracy\n",
       "dt_mi  78.833456"
      ]
     },
     "execution_count": 156,
     "metadata": {},
     "output_type": "execute_result"
    }
   ],
   "source": [
    "# display accuracy in the form of table for better analysis DT\n",
    "midt_acc= pd.DataFrame({\n",
    "                    metrics.accuracy_score(y_test,dt_mi)*100,},\n",
    "       index=['dt_mi'],columns=[\"Accuracy\"])\n",
    "midt_acc"
   ]
  },
  {
   "cell_type": "code",
   "execution_count": 157,
   "metadata": {},
   "outputs": [
    {
     "data": {
      "text/html": [
       "<div>\n",
       "<style scoped>\n",
       "    .dataframe tbody tr th:only-of-type {\n",
       "        vertical-align: middle;\n",
       "    }\n",
       "\n",
       "    .dataframe tbody tr th {\n",
       "        vertical-align: top;\n",
       "    }\n",
       "\n",
       "    .dataframe thead th {\n",
       "        text-align: right;\n",
       "    }\n",
       "</style>\n",
       "<table border=\"1\" class=\"dataframe\">\n",
       "  <thead>\n",
       "    <tr style=\"text-align: right;\">\n",
       "      <th></th>\n",
       "      <th>CV</th>\n",
       "    </tr>\n",
       "  </thead>\n",
       "  <tbody>\n",
       "    <tr>\n",
       "      <td>dt_mi</td>\n",
       "      <td>78.247706</td>\n",
       "    </tr>\n",
       "  </tbody>\n",
       "</table>\n",
       "</div>"
      ],
      "text/plain": [
       "              CV\n",
       "dt_mi  78.247706"
      ]
     },
     "execution_count": 157,
     "metadata": {},
     "output_type": "execute_result"
    }
   ],
   "source": [
    "# display accuracy in the form of table for better analysis DT\n",
    "midt_cv= pd.DataFrame({kf_dt_mi},\n",
    "       index=['dt_mi'],columns=[\"CV\"])\n",
    "midt_cv"
   ]
  },
  {
   "cell_type": "code",
   "execution_count": 158,
   "metadata": {},
   "outputs": [
    {
     "data": {
      "text/html": [
       "<div>\n",
       "<style scoped>\n",
       "    .dataframe tbody tr th:only-of-type {\n",
       "        vertical-align: middle;\n",
       "    }\n",
       "\n",
       "    .dataframe tbody tr th {\n",
       "        vertical-align: top;\n",
       "    }\n",
       "\n",
       "    .dataframe thead th {\n",
       "        text-align: right;\n",
       "    }\n",
       "</style>\n",
       "<table border=\"1\" class=\"dataframe\">\n",
       "  <thead>\n",
       "    <tr style=\"text-align: right;\">\n",
       "      <th></th>\n",
       "      <th>Precision</th>\n",
       "    </tr>\n",
       "  </thead>\n",
       "  <tbody>\n",
       "    <tr>\n",
       "      <td>dt_mi</td>\n",
       "      <td>67.805755</td>\n",
       "    </tr>\n",
       "  </tbody>\n",
       "</table>\n",
       "</div>"
      ],
      "text/plain": [
       "       Precision\n",
       "dt_mi  67.805755"
      ]
     },
     "execution_count": 158,
     "metadata": {},
     "output_type": "execute_result"
    }
   ],
   "source": [
    "midt_p= pd.DataFrame({\n",
    "                    metrics.precision_score(y_test,dt_mi)*100,},\n",
    "       index=['dt_mi'],columns=[\"Precision\"])\n",
    "midt_p"
   ]
  },
  {
   "cell_type": "code",
   "execution_count": 159,
   "metadata": {},
   "outputs": [
    {
     "data": {
      "text/html": [
       "<div>\n",
       "<style scoped>\n",
       "    .dataframe tbody tr th:only-of-type {\n",
       "        vertical-align: middle;\n",
       "    }\n",
       "\n",
       "    .dataframe tbody tr th {\n",
       "        vertical-align: top;\n",
       "    }\n",
       "\n",
       "    .dataframe thead th {\n",
       "        text-align: right;\n",
       "    }\n",
       "</style>\n",
       "<table border=\"1\" class=\"dataframe\">\n",
       "  <thead>\n",
       "    <tr style=\"text-align: right;\">\n",
       "      <th></th>\n",
       "      <th>Recall</th>\n",
       "    </tr>\n",
       "  </thead>\n",
       "  <tbody>\n",
       "    <tr>\n",
       "      <td>dt_mi</td>\n",
       "      <td>96.584116</td>\n",
       "    </tr>\n",
       "  </tbody>\n",
       "</table>\n",
       "</div>"
      ],
      "text/plain": [
       "          Recall\n",
       "dt_mi  96.584116"
      ]
     },
     "execution_count": 159,
     "metadata": {},
     "output_type": "execute_result"
    }
   ],
   "source": [
    "midt_r= pd.DataFrame({\n",
    "                    metrics.recall_score(y_test,dt_mi)*100,},\n",
    "       index=['dt_mi'],columns=[\"Recall\"])\n",
    "midt_r"
   ]
  },
  {
   "cell_type": "code",
   "execution_count": 160,
   "metadata": {},
   "outputs": [
    {
     "data": {
      "text/html": [
       "<div>\n",
       "<style scoped>\n",
       "    .dataframe tbody tr th:only-of-type {\n",
       "        vertical-align: middle;\n",
       "    }\n",
       "\n",
       "    .dataframe tbody tr th {\n",
       "        vertical-align: top;\n",
       "    }\n",
       "\n",
       "    .dataframe thead th {\n",
       "        text-align: right;\n",
       "    }\n",
       "</style>\n",
       "<table border=\"1\" class=\"dataframe\">\n",
       "  <thead>\n",
       "    <tr style=\"text-align: right;\">\n",
       "      <th></th>\n",
       "      <th>ROC</th>\n",
       "    </tr>\n",
       "  </thead>\n",
       "  <tbody>\n",
       "    <tr>\n",
       "      <td>dt_mi</td>\n",
       "      <td>81.025177</td>\n",
       "    </tr>\n",
       "  </tbody>\n",
       "</table>\n",
       "</div>"
      ],
      "text/plain": [
       "             ROC\n",
       "dt_mi  81.025177"
      ]
     },
     "execution_count": 160,
     "metadata": {},
     "output_type": "execute_result"
    }
   ],
   "source": [
    "midt_roc= pd.DataFrame({\n",
    "                    metrics.roc_auc_score(y_test,dt_mi)*100,},\n",
    "       index=['dt_mi'],columns=[\"ROC\"])\n",
    "midt_roc"
   ]
  },
  {
   "cell_type": "code",
   "execution_count": 161,
   "metadata": {},
   "outputs": [
    {
     "data": {
      "text/html": [
       "<div>\n",
       "<style scoped>\n",
       "    .dataframe tbody tr th:only-of-type {\n",
       "        vertical-align: middle;\n",
       "    }\n",
       "\n",
       "    .dataframe tbody tr th {\n",
       "        vertical-align: top;\n",
       "    }\n",
       "\n",
       "    .dataframe thead th {\n",
       "        text-align: right;\n",
       "    }\n",
       "</style>\n",
       "<table border=\"1\" class=\"dataframe\">\n",
       "  <thead>\n",
       "    <tr style=\"text-align: right;\">\n",
       "      <th></th>\n",
       "      <th>Accuracy</th>\n",
       "      <th>CV</th>\n",
       "      <th>ROC</th>\n",
       "      <th>Precision</th>\n",
       "      <th>Recall</th>\n",
       "    </tr>\n",
       "  </thead>\n",
       "  <tbody>\n",
       "    <tr>\n",
       "      <td>dt_mi</td>\n",
       "      <td>78.833456</td>\n",
       "      <td>78.247706</td>\n",
       "      <td>81.025177</td>\n",
       "      <td>67.805755</td>\n",
       "      <td>96.584116</td>\n",
       "    </tr>\n",
       "  </tbody>\n",
       "</table>\n",
       "</div>"
      ],
      "text/plain": [
       "        Accuracy         CV        ROC  Precision     Recall\n",
       "dt_mi  78.833456  78.247706  81.025177  67.805755  96.584116"
      ]
     },
     "execution_count": 161,
     "metadata": {},
     "output_type": "execute_result"
    }
   ],
   "source": [
    "mi_dt=pd.concat([midt_acc,midt_cv,midt_roc,midt_p,midt_r],axis=1)\n",
    "mi_dt"
   ]
  },
  {
   "cell_type": "code",
   "execution_count": 162,
   "metadata": {},
   "outputs": [],
   "source": [
    "#Using support vetor machine\n",
    "import warnings\n",
    "warnings.filterwarnings(\"ignore\", category=FutureWarning)\n",
    "from sklearn import svm"
   ]
  },
  {
   "cell_type": "code",
   "execution_count": 163,
   "metadata": {},
   "outputs": [],
   "source": [
    "svm_mi_fc=svm.SVC()"
   ]
  },
  {
   "cell_type": "code",
   "execution_count": 164,
   "metadata": {},
   "outputs": [],
   "source": [
    "from sklearn.model_selection import GridSearchCV\n",
    "param_grid = {'C': [0.1,1, 10, 100], 'gamma': [1,0.1,0.01,0.001],'kernel': ['rbf', 'poly', 'sigmoid']}"
   ]
  },
  {
   "cell_type": "code",
   "execution_count": 165,
   "metadata": {},
   "outputs": [],
   "source": [
    "#grid = GridSearchCV(svm_mi_fc,param_grid,refit=True,verbose=2)\n",
    "#grid.fit(x_train_mi_fc,y_train)"
   ]
  },
  {
   "cell_type": "code",
   "execution_count": 166,
   "metadata": {},
   "outputs": [],
   "source": [
    "#best_grid=grid.best_estimator_\n",
    "#best_grid"
   ]
  },
  {
   "cell_type": "code",
   "execution_count": 167,
   "metadata": {},
   "outputs": [],
   "source": [
    "#C=100.0, cache_size=200, class_weight=None, coef0=0.0, degree=3,\n",
    "#  gamma=0.10000000000000001, kernel='rbf', probability=False, scale_C=True,\n",
    "#  shrinking=True, tol=0.001"
   ]
  },
  {
   "cell_type": "code",
   "execution_count": 168,
   "metadata": {},
   "outputs": [],
   "source": [
    "#Using support vetor machine\n",
    "import warnings\n",
    "warnings.filterwarnings(\"ignore\", category=FutureWarning)\n",
    "from sklearn import svm\n",
    "svm_mi_fc=svm.SVC()\n",
    "#svm_mi_fc=svm.SVC(C=100.0,gamma=0.1,kernel='rbf')\n",
    "svm_mi_fc.fit(x_train_mi_fc,y_train.values.ravel())\n",
    "svm_mi=svm_mi_fc.predict(x_test_mi_fc)"
   ]
  },
  {
   "cell_type": "code",
   "execution_count": 169,
   "metadata": {},
   "outputs": [
    {
     "name": "stdout",
     "output_type": "stream",
     "text": [
      "79.67718268525313\n"
     ]
    }
   ],
   "source": [
    "print((metrics.accuracy_score(y_test,svm_mi))*100)"
   ]
  },
  {
   "cell_type": "code",
   "execution_count": 170,
   "metadata": {
    "scrolled": true
   },
   "outputs": [
    {
     "data": {
      "text/plain": [
       "78.78899082568807"
      ]
     },
     "execution_count": 170,
     "metadata": {},
     "output_type": "execute_result"
    }
   ],
   "source": [
    "#using Kfold cross validation n_splits and take the mean accuracy RF in mi classifiers\n",
    "cv=StratifiedKFold(n_splits=10,shuffle=False)\n",
    "kfold=cross_val_score(svm_mi_fc,x_train_mi_fc,y_train.values.ravel(),cv=cv)\n",
    "kf_svm_mi=((kfold.mean()*100))\n",
    "kf_svm_mi"
   ]
  },
  {
   "cell_type": "code",
   "execution_count": 171,
   "metadata": {},
   "outputs": [
    {
     "name": "stdout",
     "output_type": "stream",
     "text": [
      "81.9018015766885\n"
     ]
    }
   ],
   "source": [
    "print((metrics.roc_auc_score(y_test,svm_mi))*100)"
   ]
  },
  {
   "cell_type": "code",
   "execution_count": 172,
   "metadata": {},
   "outputs": [
    {
     "name": "stdout",
     "output_type": "stream",
     "text": [
      "68.46199880311191\n"
     ]
    }
   ],
   "source": [
    "print((metrics.precision_score(y_test,svm_mi))*100)"
   ]
  },
  {
   "cell_type": "code",
   "execution_count": 173,
   "metadata": {},
   "outputs": [
    {
     "name": "stdout",
     "output_type": "stream",
     "text": [
      "97.69427839453458\n"
     ]
    }
   ],
   "source": [
    "print((metrics.recall_score(y_test,svm_mi))*100)"
   ]
  },
  {
   "cell_type": "code",
   "execution_count": 174,
   "metadata": {},
   "outputs": [
    {
     "data": {
      "text/html": [
       "<div>\n",
       "<style scoped>\n",
       "    .dataframe tbody tr th:only-of-type {\n",
       "        vertical-align: middle;\n",
       "    }\n",
       "\n",
       "    .dataframe tbody tr th {\n",
       "        vertical-align: top;\n",
       "    }\n",
       "\n",
       "    .dataframe thead th {\n",
       "        text-align: right;\n",
       "    }\n",
       "</style>\n",
       "<table border=\"1\" class=\"dataframe\">\n",
       "  <thead>\n",
       "    <tr style=\"text-align: right;\">\n",
       "      <th></th>\n",
       "      <th>Accuracy</th>\n",
       "    </tr>\n",
       "  </thead>\n",
       "  <tbody>\n",
       "    <tr>\n",
       "      <td>svm_mi</td>\n",
       "      <td>79.677183</td>\n",
       "    </tr>\n",
       "  </tbody>\n",
       "</table>\n",
       "</div>"
      ],
      "text/plain": [
       "         Accuracy\n",
       "svm_mi  79.677183"
      ]
     },
     "execution_count": 174,
     "metadata": {},
     "output_type": "execute_result"
    }
   ],
   "source": [
    "mi_svm_acc= pd.DataFrame({\n",
    "                    metrics.accuracy_score(y_test,svm_mi)*100,},\n",
    "       index=['svm_mi'],columns=[\"Accuracy\"])\n",
    "mi_svm_acc"
   ]
  },
  {
   "cell_type": "code",
   "execution_count": 175,
   "metadata": {},
   "outputs": [
    {
     "data": {
      "text/html": [
       "<div>\n",
       "<style scoped>\n",
       "    .dataframe tbody tr th:only-of-type {\n",
       "        vertical-align: middle;\n",
       "    }\n",
       "\n",
       "    .dataframe tbody tr th {\n",
       "        vertical-align: top;\n",
       "    }\n",
       "\n",
       "    .dataframe thead th {\n",
       "        text-align: right;\n",
       "    }\n",
       "</style>\n",
       "<table border=\"1\" class=\"dataframe\">\n",
       "  <thead>\n",
       "    <tr style=\"text-align: right;\">\n",
       "      <th></th>\n",
       "      <th>CV</th>\n",
       "    </tr>\n",
       "  </thead>\n",
       "  <tbody>\n",
       "    <tr>\n",
       "      <td>svm_mi</td>\n",
       "      <td>78.788991</td>\n",
       "    </tr>\n",
       "  </tbody>\n",
       "</table>\n",
       "</div>"
      ],
      "text/plain": [
       "               CV\n",
       "svm_mi  78.788991"
      ]
     },
     "execution_count": 175,
     "metadata": {},
     "output_type": "execute_result"
    }
   ],
   "source": [
    "mi_svm_cv= pd.DataFrame({kf_svm_mi},\n",
    "       index=['svm_mi'],columns=[\"CV\"])\n",
    "mi_svm_cv"
   ]
  },
  {
   "cell_type": "code",
   "execution_count": 176,
   "metadata": {},
   "outputs": [
    {
     "data": {
      "text/html": [
       "<div>\n",
       "<style scoped>\n",
       "    .dataframe tbody tr th:only-of-type {\n",
       "        vertical-align: middle;\n",
       "    }\n",
       "\n",
       "    .dataframe tbody tr th {\n",
       "        vertical-align: top;\n",
       "    }\n",
       "\n",
       "    .dataframe thead th {\n",
       "        text-align: right;\n",
       "    }\n",
       "</style>\n",
       "<table border=\"1\" class=\"dataframe\">\n",
       "  <thead>\n",
       "    <tr style=\"text-align: right;\">\n",
       "      <th></th>\n",
       "      <th>ROC</th>\n",
       "    </tr>\n",
       "  </thead>\n",
       "  <tbody>\n",
       "    <tr>\n",
       "      <td>svm_mi</td>\n",
       "      <td>81.901802</td>\n",
       "    </tr>\n",
       "  </tbody>\n",
       "</table>\n",
       "</div>"
      ],
      "text/plain": [
       "              ROC\n",
       "svm_mi  81.901802"
      ]
     },
     "execution_count": 176,
     "metadata": {},
     "output_type": "execute_result"
    }
   ],
   "source": [
    "mi_svm_roc= pd.DataFrame({metrics.roc_auc_score(y_test,svm_mi)*100,},\n",
    "       index=['svm_mi'],columns=[\"ROC\"])\n",
    "mi_svm_roc"
   ]
  },
  {
   "cell_type": "code",
   "execution_count": 177,
   "metadata": {},
   "outputs": [
    {
     "data": {
      "text/html": [
       "<div>\n",
       "<style scoped>\n",
       "    .dataframe tbody tr th:only-of-type {\n",
       "        vertical-align: middle;\n",
       "    }\n",
       "\n",
       "    .dataframe tbody tr th {\n",
       "        vertical-align: top;\n",
       "    }\n",
       "\n",
       "    .dataframe thead th {\n",
       "        text-align: right;\n",
       "    }\n",
       "</style>\n",
       "<table border=\"1\" class=\"dataframe\">\n",
       "  <thead>\n",
       "    <tr style=\"text-align: right;\">\n",
       "      <th></th>\n",
       "      <th>Precision</th>\n",
       "    </tr>\n",
       "  </thead>\n",
       "  <tbody>\n",
       "    <tr>\n",
       "      <td>svm_mi</td>\n",
       "      <td>68.461999</td>\n",
       "    </tr>\n",
       "  </tbody>\n",
       "</table>\n",
       "</div>"
      ],
      "text/plain": [
       "        Precision\n",
       "svm_mi  68.461999"
      ]
     },
     "execution_count": 177,
     "metadata": {},
     "output_type": "execute_result"
    }
   ],
   "source": [
    "mi_svm_pr= pd.DataFrame({metrics.precision_score(y_test,svm_mi)*100,},\n",
    "       index=['svm_mi'],columns=[\"Precision\"])\n",
    "mi_svm_pr"
   ]
  },
  {
   "cell_type": "code",
   "execution_count": 178,
   "metadata": {},
   "outputs": [
    {
     "data": {
      "text/html": [
       "<div>\n",
       "<style scoped>\n",
       "    .dataframe tbody tr th:only-of-type {\n",
       "        vertical-align: middle;\n",
       "    }\n",
       "\n",
       "    .dataframe tbody tr th {\n",
       "        vertical-align: top;\n",
       "    }\n",
       "\n",
       "    .dataframe thead th {\n",
       "        text-align: right;\n",
       "    }\n",
       "</style>\n",
       "<table border=\"1\" class=\"dataframe\">\n",
       "  <thead>\n",
       "    <tr style=\"text-align: right;\">\n",
       "      <th></th>\n",
       "      <th>Recall</th>\n",
       "    </tr>\n",
       "  </thead>\n",
       "  <tbody>\n",
       "    <tr>\n",
       "      <td>svm_mi</td>\n",
       "      <td>97.694278</td>\n",
       "    </tr>\n",
       "  </tbody>\n",
       "</table>\n",
       "</div>"
      ],
      "text/plain": [
       "           Recall\n",
       "svm_mi  97.694278"
      ]
     },
     "execution_count": 178,
     "metadata": {},
     "output_type": "execute_result"
    }
   ],
   "source": [
    "mi_svm_r= pd.DataFrame({metrics.recall_score(y_test,svm_mi)*100,},\n",
    "       index=['svm_mi'],columns=[\"Recall\"])\n",
    "mi_svm_r"
   ]
  },
  {
   "cell_type": "code",
   "execution_count": 179,
   "metadata": {},
   "outputs": [
    {
     "data": {
      "text/html": [
       "<div>\n",
       "<style scoped>\n",
       "    .dataframe tbody tr th:only-of-type {\n",
       "        vertical-align: middle;\n",
       "    }\n",
       "\n",
       "    .dataframe tbody tr th {\n",
       "        vertical-align: top;\n",
       "    }\n",
       "\n",
       "    .dataframe thead th {\n",
       "        text-align: right;\n",
       "    }\n",
       "</style>\n",
       "<table border=\"1\" class=\"dataframe\">\n",
       "  <thead>\n",
       "    <tr style=\"text-align: right;\">\n",
       "      <th></th>\n",
       "      <th>Accuracy</th>\n",
       "      <th>CV</th>\n",
       "      <th>ROC</th>\n",
       "      <th>Precision</th>\n",
       "      <th>Recall</th>\n",
       "    </tr>\n",
       "  </thead>\n",
       "  <tbody>\n",
       "    <tr>\n",
       "      <td>svm_mi</td>\n",
       "      <td>79.677183</td>\n",
       "      <td>78.788991</td>\n",
       "      <td>81.901802</td>\n",
       "      <td>68.461999</td>\n",
       "      <td>97.694278</td>\n",
       "    </tr>\n",
       "  </tbody>\n",
       "</table>\n",
       "</div>"
      ],
      "text/plain": [
       "         Accuracy         CV        ROC  Precision     Recall\n",
       "svm_mi  79.677183  78.788991  81.901802  68.461999  97.694278"
      ]
     },
     "execution_count": 179,
     "metadata": {},
     "output_type": "execute_result"
    }
   ],
   "source": [
    "mi_svm=pd.concat([mi_svm_acc,mi_svm_cv,mi_svm_roc,mi_svm_pr,mi_svm_r],axis=1)\n",
    "mi_svm"
   ]
  },
  {
   "cell_type": "code",
   "execution_count": 180,
   "metadata": {
    "scrolled": true
   },
   "outputs": [
    {
     "data": {
      "text/html": [
       "<div>\n",
       "<style scoped>\n",
       "    .dataframe tbody tr th:only-of-type {\n",
       "        vertical-align: middle;\n",
       "    }\n",
       "\n",
       "    .dataframe tbody tr th {\n",
       "        vertical-align: top;\n",
       "    }\n",
       "\n",
       "    .dataframe thead th {\n",
       "        text-align: right;\n",
       "    }\n",
       "</style>\n",
       "<table border=\"1\" class=\"dataframe\">\n",
       "  <thead>\n",
       "    <tr style=\"text-align: right;\">\n",
       "      <th></th>\n",
       "      <th>Accuracy</th>\n",
       "      <th>CV</th>\n",
       "      <th>ROC</th>\n",
       "      <th>Precision</th>\n",
       "      <th>Recall</th>\n",
       "    </tr>\n",
       "  </thead>\n",
       "  <tbody>\n",
       "    <tr>\n",
       "      <td>svm_mi</td>\n",
       "      <td>79.68</td>\n",
       "      <td>78.79</td>\n",
       "      <td>81.90</td>\n",
       "      <td>68.46</td>\n",
       "      <td>97.69</td>\n",
       "    </tr>\n",
       "    <tr>\n",
       "      <td>rf_mi</td>\n",
       "      <td>79.24</td>\n",
       "      <td>78.44</td>\n",
       "      <td>81.40</td>\n",
       "      <td>68.21</td>\n",
       "      <td>96.75</td>\n",
       "    </tr>\n",
       "    <tr>\n",
       "      <td>dt_mi</td>\n",
       "      <td>78.83</td>\n",
       "      <td>78.25</td>\n",
       "      <td>81.03</td>\n",
       "      <td>67.81</td>\n",
       "      <td>96.58</td>\n",
       "    </tr>\n",
       "  </tbody>\n",
       "</table>\n",
       "</div>"
      ],
      "text/plain": [
       "        Accuracy     CV    ROC  Precision  Recall\n",
       "svm_mi     79.68  78.79  81.90      68.46   97.69\n",
       "rf_mi      79.24  78.44  81.40      68.21   96.75\n",
       "dt_mi      78.83  78.25  81.03      67.81   96.58"
      ]
     },
     "execution_count": 180,
     "metadata": {},
     "output_type": "execute_result"
    }
   ],
   "source": [
    "mi_dt_rf_svm=pd.concat([mi_dt,mi_rf,mi_svm])\n",
    "mi_dt_rf_svm=mi_dt_rf_svm.sort_values(ascending=False,by=[\"Accuracy\"])\n",
    "mi_dt_rf_svm=mi_dt_rf_svm.round(2)\n",
    "mi_dt_rf_svm"
   ]
  },
  {
   "cell_type": "code",
   "execution_count": 181,
   "metadata": {},
   "outputs": [
    {
     "name": "stdout",
     "output_type": "stream",
     "text": [
      "Rf:\n",
      "[[1027  528]\n",
      " [  38 1133]]\n",
      "\n",
      "Dt:\n",
      "[[1018  537]\n",
      " [  40 1131]]\n",
      "\n",
      "Svm:\n",
      "[[1028  527]\n",
      " [  27 1144]]\n"
     ]
    }
   ],
   "source": [
    "print(\"Rf:\")\n",
    "print(metrics.confusion_matrix(y_test,rf_mi))\n",
    "print()\n",
    "print(\"Dt:\")\n",
    "print(metrics.confusion_matrix(y_test,dt_mi))\n",
    "print()\n",
    "print(\"Svm:\")\n",
    "print(metrics.confusion_matrix(y_test,svm_mi))"
   ]
  },
  {
   "cell_type": "markdown",
   "metadata": {},
   "source": [
    " Feature Selection using Chi square"
   ]
  },
  {
   "cell_type": "code",
   "execution_count": 182,
   "metadata": {},
   "outputs": [],
   "source": [
    "from sklearn.feature_selection import SelectKBest,SelectFromModel,chi2\n",
    "sb_ch=SelectKBest(score_func=chi2,k=18)\n",
    "sb_fit=sb_ch.fit(x_train,y_train)\n",
    "ch_scores=pd.DataFrame(sb_fit.scores_)\n",
    "ch_columns=pd.DataFrame(x_train.columns)"
   ]
  },
  {
   "cell_type": "code",
   "execution_count": 183,
   "metadata": {},
   "outputs": [],
   "source": [
    "chi_score=pd.concat([ch_columns,ch_scores],axis=1)"
   ]
  },
  {
   "cell_type": "code",
   "execution_count": 184,
   "metadata": {},
   "outputs": [
    {
     "data": {
      "text/html": [
       "<div>\n",
       "<style scoped>\n",
       "    .dataframe tbody tr th:only-of-type {\n",
       "        vertical-align: middle;\n",
       "    }\n",
       "\n",
       "    .dataframe tbody tr th {\n",
       "        vertical-align: top;\n",
       "    }\n",
       "\n",
       "    .dataframe thead th {\n",
       "        text-align: right;\n",
       "    }\n",
       "</style>\n",
       "<table border=\"1\" class=\"dataframe\">\n",
       "  <thead>\n",
       "    <tr style=\"text-align: right;\">\n",
       "      <th></th>\n",
       "      <th>ch_attributes</th>\n",
       "      <th>scores</th>\n",
       "    </tr>\n",
       "  </thead>\n",
       "  <tbody>\n",
       "    <tr>\n",
       "      <td>0</td>\n",
       "      <td>hh_members</td>\n",
       "      <td>29.107370</td>\n",
       "    </tr>\n",
       "    <tr>\n",
       "      <td>1</td>\n",
       "      <td>sex</td>\n",
       "      <td>14.254629</td>\n",
       "    </tr>\n",
       "    <tr>\n",
       "      <td>2</td>\n",
       "      <td>hh_education</td>\n",
       "      <td>941.908847</td>\n",
       "    </tr>\n",
       "    <tr>\n",
       "      <td>3</td>\n",
       "      <td>main_occupation</td>\n",
       "      <td>54.167060</td>\n",
       "    </tr>\n",
       "    <tr>\n",
       "      <td>4</td>\n",
       "      <td>marital_status</td>\n",
       "      <td>60.609762</td>\n",
       "    </tr>\n",
       "    <tr>\n",
       "      <td>5</td>\n",
       "      <td>residence</td>\n",
       "      <td>54.345892</td>\n",
       "    </tr>\n",
       "    <tr>\n",
       "      <td>6</td>\n",
       "      <td>age</td>\n",
       "      <td>65.099738</td>\n",
       "    </tr>\n",
       "    <tr>\n",
       "      <td>7</td>\n",
       "      <td>altitude</td>\n",
       "      <td>0.024416</td>\n",
       "    </tr>\n",
       "    <tr>\n",
       "      <td>8</td>\n",
       "      <td>Q401</td>\n",
       "      <td>35.042271</td>\n",
       "    </tr>\n",
       "    <tr>\n",
       "      <td>9</td>\n",
       "      <td>Q406</td>\n",
       "      <td>3.996005</td>\n",
       "    </tr>\n",
       "    <tr>\n",
       "      <td>10</td>\n",
       "      <td>Q301</td>\n",
       "      <td>16.214526</td>\n",
       "    </tr>\n",
       "    <tr>\n",
       "      <td>11</td>\n",
       "      <td>Q302</td>\n",
       "      <td>1.753523</td>\n",
       "    </tr>\n",
       "    <tr>\n",
       "      <td>12</td>\n",
       "      <td>Q304</td>\n",
       "      <td>3.523645</td>\n",
       "    </tr>\n",
       "    <tr>\n",
       "      <td>13</td>\n",
       "      <td>Q306</td>\n",
       "      <td>157.824839</td>\n",
       "    </tr>\n",
       "    <tr>\n",
       "      <td>14</td>\n",
       "      <td>Q307</td>\n",
       "      <td>45.178757</td>\n",
       "    </tr>\n",
       "    <tr>\n",
       "      <td>15</td>\n",
       "      <td>Q308m</td>\n",
       "      <td>175.881567</td>\n",
       "    </tr>\n",
       "    <tr>\n",
       "      <td>16</td>\n",
       "      <td>Qsou_inform</td>\n",
       "      <td>954.585416</td>\n",
       "    </tr>\n",
       "    <tr>\n",
       "      <td>17</td>\n",
       "      <td>Q3098n</td>\n",
       "      <td>3.886566</td>\n",
       "    </tr>\n",
       "    <tr>\n",
       "      <td>18</td>\n",
       "      <td>Q3099n</td>\n",
       "      <td>14.808106</td>\n",
       "    </tr>\n",
       "    <tr>\n",
       "      <td>19</td>\n",
       "      <td>Q30910n</td>\n",
       "      <td>13.137455</td>\n",
       "    </tr>\n",
       "    <tr>\n",
       "      <td>20</td>\n",
       "      <td>Q30911n</td>\n",
       "      <td>28.133933</td>\n",
       "    </tr>\n",
       "    <tr>\n",
       "      <td>21</td>\n",
       "      <td>Q501</td>\n",
       "      <td>29.137572</td>\n",
       "    </tr>\n",
       "    <tr>\n",
       "      <td>22</td>\n",
       "      <td>Q503</td>\n",
       "      <td>39.562601</td>\n",
       "    </tr>\n",
       "    <tr>\n",
       "      <td>23</td>\n",
       "      <td>Q504</td>\n",
       "      <td>1.616272</td>\n",
       "    </tr>\n",
       "    <tr>\n",
       "      <td>24</td>\n",
       "      <td>Q5231</td>\n",
       "      <td>215.368357</td>\n",
       "    </tr>\n",
       "    <tr>\n",
       "      <td>25</td>\n",
       "      <td>Q5232</td>\n",
       "      <td>128.921671</td>\n",
       "    </tr>\n",
       "    <tr>\n",
       "      <td>26</td>\n",
       "      <td>Q5233</td>\n",
       "      <td>9.456338</td>\n",
       "    </tr>\n",
       "    <tr>\n",
       "      <td>27</td>\n",
       "      <td>Q5234</td>\n",
       "      <td>7.755357</td>\n",
       "    </tr>\n",
       "    <tr>\n",
       "      <td>28</td>\n",
       "      <td>Q524</td>\n",
       "      <td>0.020318</td>\n",
       "    </tr>\n",
       "    <tr>\n",
       "      <td>29</td>\n",
       "      <td>Q5261</td>\n",
       "      <td>7.081063</td>\n",
       "    </tr>\n",
       "    <tr>\n",
       "      <td>30</td>\n",
       "      <td>Q5263</td>\n",
       "      <td>11.793190</td>\n",
       "    </tr>\n",
       "  </tbody>\n",
       "</table>\n",
       "</div>"
      ],
      "text/plain": [
       "      ch_attributes      scores\n",
       "0        hh_members   29.107370\n",
       "1               sex   14.254629\n",
       "2      hh_education  941.908847\n",
       "3   main_occupation   54.167060\n",
       "4    marital_status   60.609762\n",
       "5         residence   54.345892\n",
       "6               age   65.099738\n",
       "7          altitude    0.024416\n",
       "8              Q401   35.042271\n",
       "9              Q406    3.996005\n",
       "10             Q301   16.214526\n",
       "11             Q302    1.753523\n",
       "12             Q304    3.523645\n",
       "13             Q306  157.824839\n",
       "14             Q307   45.178757\n",
       "15            Q308m  175.881567\n",
       "16      Qsou_inform  954.585416\n",
       "17           Q3098n    3.886566\n",
       "18           Q3099n   14.808106\n",
       "19          Q30910n   13.137455\n",
       "20          Q30911n   28.133933\n",
       "21             Q501   29.137572\n",
       "22             Q503   39.562601\n",
       "23             Q504    1.616272\n",
       "24            Q5231  215.368357\n",
       "25            Q5232  128.921671\n",
       "26            Q5233    9.456338\n",
       "27            Q5234    7.755357\n",
       "28             Q524    0.020318\n",
       "29            Q5261    7.081063\n",
       "30            Q5263   11.793190"
      ]
     },
     "execution_count": 184,
     "metadata": {},
     "output_type": "execute_result"
    }
   ],
   "source": [
    "chi_score.columns=[\"ch_attributes\",\"scores\"]\n",
    "chi_score"
   ]
  },
  {
   "cell_type": "code",
   "execution_count": 185,
   "metadata": {},
   "outputs": [],
   "source": [
    "ch_sco=chi_score.nlargest(18,'scores')"
   ]
  },
  {
   "cell_type": "code",
   "execution_count": 186,
   "metadata": {},
   "outputs": [
    {
     "data": {
      "text/html": [
       "<div>\n",
       "<style scoped>\n",
       "    .dataframe tbody tr th:only-of-type {\n",
       "        vertical-align: middle;\n",
       "    }\n",
       "\n",
       "    .dataframe tbody tr th {\n",
       "        vertical-align: top;\n",
       "    }\n",
       "\n",
       "    .dataframe thead th {\n",
       "        text-align: right;\n",
       "    }\n",
       "</style>\n",
       "<table border=\"1\" class=\"dataframe\">\n",
       "  <thead>\n",
       "    <tr style=\"text-align: right;\">\n",
       "      <th></th>\n",
       "      <th>ch_attributes</th>\n",
       "      <th>scores</th>\n",
       "    </tr>\n",
       "  </thead>\n",
       "  <tbody>\n",
       "    <tr>\n",
       "      <td>16</td>\n",
       "      <td>Qsou_inform</td>\n",
       "      <td>954.585416</td>\n",
       "    </tr>\n",
       "    <tr>\n",
       "      <td>2</td>\n",
       "      <td>hh_education</td>\n",
       "      <td>941.908847</td>\n",
       "    </tr>\n",
       "    <tr>\n",
       "      <td>24</td>\n",
       "      <td>Q5231</td>\n",
       "      <td>215.368357</td>\n",
       "    </tr>\n",
       "    <tr>\n",
       "      <td>15</td>\n",
       "      <td>Q308m</td>\n",
       "      <td>175.881567</td>\n",
       "    </tr>\n",
       "    <tr>\n",
       "      <td>13</td>\n",
       "      <td>Q306</td>\n",
       "      <td>157.824839</td>\n",
       "    </tr>\n",
       "    <tr>\n",
       "      <td>25</td>\n",
       "      <td>Q5232</td>\n",
       "      <td>128.921671</td>\n",
       "    </tr>\n",
       "    <tr>\n",
       "      <td>6</td>\n",
       "      <td>age</td>\n",
       "      <td>65.099738</td>\n",
       "    </tr>\n",
       "    <tr>\n",
       "      <td>4</td>\n",
       "      <td>marital_status</td>\n",
       "      <td>60.609762</td>\n",
       "    </tr>\n",
       "    <tr>\n",
       "      <td>5</td>\n",
       "      <td>residence</td>\n",
       "      <td>54.345892</td>\n",
       "    </tr>\n",
       "    <tr>\n",
       "      <td>3</td>\n",
       "      <td>main_occupation</td>\n",
       "      <td>54.167060</td>\n",
       "    </tr>\n",
       "    <tr>\n",
       "      <td>14</td>\n",
       "      <td>Q307</td>\n",
       "      <td>45.178757</td>\n",
       "    </tr>\n",
       "    <tr>\n",
       "      <td>22</td>\n",
       "      <td>Q503</td>\n",
       "      <td>39.562601</td>\n",
       "    </tr>\n",
       "    <tr>\n",
       "      <td>8</td>\n",
       "      <td>Q401</td>\n",
       "      <td>35.042271</td>\n",
       "    </tr>\n",
       "    <tr>\n",
       "      <td>21</td>\n",
       "      <td>Q501</td>\n",
       "      <td>29.137572</td>\n",
       "    </tr>\n",
       "    <tr>\n",
       "      <td>0</td>\n",
       "      <td>hh_members</td>\n",
       "      <td>29.107370</td>\n",
       "    </tr>\n",
       "    <tr>\n",
       "      <td>20</td>\n",
       "      <td>Q30911n</td>\n",
       "      <td>28.133933</td>\n",
       "    </tr>\n",
       "    <tr>\n",
       "      <td>10</td>\n",
       "      <td>Q301</td>\n",
       "      <td>16.214526</td>\n",
       "    </tr>\n",
       "    <tr>\n",
       "      <td>18</td>\n",
       "      <td>Q3099n</td>\n",
       "      <td>14.808106</td>\n",
       "    </tr>\n",
       "  </tbody>\n",
       "</table>\n",
       "</div>"
      ],
      "text/plain": [
       "      ch_attributes      scores\n",
       "16      Qsou_inform  954.585416\n",
       "2      hh_education  941.908847\n",
       "24            Q5231  215.368357\n",
       "15            Q308m  175.881567\n",
       "13             Q306  157.824839\n",
       "25            Q5232  128.921671\n",
       "6               age   65.099738\n",
       "4    marital_status   60.609762\n",
       "5         residence   54.345892\n",
       "3   main_occupation   54.167060\n",
       "14             Q307   45.178757\n",
       "22             Q503   39.562601\n",
       "8              Q401   35.042271\n",
       "21             Q501   29.137572\n",
       "0        hh_members   29.107370\n",
       "20          Q30911n   28.133933\n",
       "10             Q301   16.214526\n",
       "18           Q3099n   14.808106"
      ]
     },
     "execution_count": 186,
     "metadata": {},
     "output_type": "execute_result"
    }
   ],
   "source": [
    "ch_sco"
   ]
  },
  {
   "cell_type": "code",
   "execution_count": 187,
   "metadata": {},
   "outputs": [
    {
     "data": {
      "text/plain": [
       "Index(['hh_members', 'hh_education', 'main_occupation', 'marital_status',\n",
       "       'residence', 'age', 'Q401', 'Q301', 'Q306', 'Q307', 'Q308m',\n",
       "       'Qsou_inform', 'Q3099n', 'Q30911n', 'Q501', 'Q503', 'Q5231', 'Q5232'],\n",
       "      dtype='object')"
      ]
     },
     "execution_count": 187,
     "metadata": {},
     "output_type": "execute_result"
    }
   ],
   "source": [
    "chi_best=x_train.columns[sb_fit.get_support()]\n",
    "chi_best"
   ]
  },
  {
   "cell_type": "code",
   "execution_count": 188,
   "metadata": {},
   "outputs": [],
   "source": [
    "x_train_chi=x_train[chi_best]"
   ]
  },
  {
   "cell_type": "code",
   "execution_count": 189,
   "metadata": {},
   "outputs": [],
   "source": [
    "x_test_chi=x_test[chi_best]"
   ]
  },
  {
   "cell_type": "code",
   "execution_count": 190,
   "metadata": {},
   "outputs": [
    {
     "data": {
      "text/plain": [
       "((10900, 18), (2726, 18))"
      ]
     },
     "execution_count": 190,
     "metadata": {},
     "output_type": "execute_result"
    }
   ],
   "source": [
    "x_train_chi.shape,x_test_chi.shape"
   ]
  },
  {
   "cell_type": "code",
   "execution_count": 191,
   "metadata": {},
   "outputs": [
    {
     "name": "stdout",
     "output_type": "stream",
     "text": [
      "0.7582538517975055\n"
     ]
    }
   ],
   "source": [
    "#def run_randomForest(x_train_chi,x_test_chi,y_train,y_test):\n",
    "from sklearn.tree import DecisionTreeClassifier\n",
    "dt_chi2=DecisionTreeClassifier(criterion=\"entropy\",max_depth=10,max_leaf_nodes=50,random_state=42)\n",
    "dt_chi2.fit(x_train_chi,y_train)\n",
    "dt_chi=dt_chi2.predict(x_test_chi)\n",
    "print(metrics.accuracy_score(y_test,dt_chi))"
   ]
  },
  {
   "cell_type": "code",
   "execution_count": 192,
   "metadata": {},
   "outputs": [
    {
     "data": {
      "text/plain": [
       "75.43119266055047"
      ]
     },
     "execution_count": 192,
     "metadata": {},
     "output_type": "execute_result"
    }
   ],
   "source": [
    "cv=StratifiedKFold(n_splits=10,shuffle=False)\n",
    "kfold=cross_val_score(dt_chi2,x_train_chi,y_train.values.ravel(),cv=cv)\n",
    "kf_dt_chi=((kfold.mean()*100))\n",
    "kf_dt_chi"
   ]
  },
  {
   "cell_type": "code",
   "execution_count": 193,
   "metadata": {},
   "outputs": [
    {
     "name": "stdout",
     "output_type": "stream",
     "text": [
      "0.7712321620293205\n"
     ]
    }
   ],
   "source": [
    "print(metrics.roc_auc_score(y_test,dt_chi))"
   ]
  },
  {
   "cell_type": "code",
   "execution_count": 194,
   "metadata": {},
   "outputs": [
    {
     "name": "stdout",
     "output_type": "stream",
     "text": [
      "0.6695364238410596\n"
     ]
    }
   ],
   "source": [
    "print(metrics.precision_score(y_test,dt_chi))"
   ]
  },
  {
   "cell_type": "code",
   "execution_count": 195,
   "metadata": {},
   "outputs": [
    {
     "name": "stdout",
     "output_type": "stream",
     "text": [
      "0.8633646456020495\n"
     ]
    }
   ],
   "source": [
    "print(metrics.recall_score(y_test,dt_chi))"
   ]
  },
  {
   "cell_type": "code",
   "execution_count": 196,
   "metadata": {},
   "outputs": [
    {
     "data": {
      "text/html": [
       "<div>\n",
       "<style scoped>\n",
       "    .dataframe tbody tr th:only-of-type {\n",
       "        vertical-align: middle;\n",
       "    }\n",
       "\n",
       "    .dataframe tbody tr th {\n",
       "        vertical-align: top;\n",
       "    }\n",
       "\n",
       "    .dataframe thead th {\n",
       "        text-align: right;\n",
       "    }\n",
       "</style>\n",
       "<table border=\"1\" class=\"dataframe\">\n",
       "  <thead>\n",
       "    <tr style=\"text-align: right;\">\n",
       "      <th></th>\n",
       "      <th>Accuracy</th>\n",
       "    </tr>\n",
       "  </thead>\n",
       "  <tbody>\n",
       "    <tr>\n",
       "      <td>dt_chi</td>\n",
       "      <td>75.825385</td>\n",
       "    </tr>\n",
       "  </tbody>\n",
       "</table>\n",
       "</div>"
      ],
      "text/plain": [
       "         Accuracy\n",
       "dt_chi  75.825385"
      ]
     },
     "execution_count": 196,
     "metadata": {},
     "output_type": "execute_result"
    }
   ],
   "source": [
    "# dispaly Accuracy in both RF,DT using chi square \n",
    "chidt_acc = pd.DataFrame({metrics.accuracy_score(y_test,dt_chi)*100,},   \n",
    "       index=['dt_chi'],columns=[\"Accuracy\"])\n",
    "chidt_acc"
   ]
  },
  {
   "cell_type": "code",
   "execution_count": 197,
   "metadata": {},
   "outputs": [
    {
     "data": {
      "text/html": [
       "<div>\n",
       "<style scoped>\n",
       "    .dataframe tbody tr th:only-of-type {\n",
       "        vertical-align: middle;\n",
       "    }\n",
       "\n",
       "    .dataframe tbody tr th {\n",
       "        vertical-align: top;\n",
       "    }\n",
       "\n",
       "    .dataframe thead th {\n",
       "        text-align: right;\n",
       "    }\n",
       "</style>\n",
       "<table border=\"1\" class=\"dataframe\">\n",
       "  <thead>\n",
       "    <tr style=\"text-align: right;\">\n",
       "      <th></th>\n",
       "      <th>CV</th>\n",
       "    </tr>\n",
       "  </thead>\n",
       "  <tbody>\n",
       "    <tr>\n",
       "      <td>dt_chi</td>\n",
       "      <td>75.431193</td>\n",
       "    </tr>\n",
       "  </tbody>\n",
       "</table>\n",
       "</div>"
      ],
      "text/plain": [
       "               CV\n",
       "dt_chi  75.431193"
      ]
     },
     "execution_count": 197,
     "metadata": {},
     "output_type": "execute_result"
    }
   ],
   "source": [
    "# dispaly Accuracy in both RF,DT using chi square \n",
    "chidt_cv = pd.DataFrame({kf_dt_chi},\n",
    "                   \n",
    "       index=['dt_chi'],columns=[\"CV\"])\n",
    "chidt_cv"
   ]
  },
  {
   "cell_type": "code",
   "execution_count": 198,
   "metadata": {},
   "outputs": [
    {
     "data": {
      "text/html": [
       "<div>\n",
       "<style scoped>\n",
       "    .dataframe tbody tr th:only-of-type {\n",
       "        vertical-align: middle;\n",
       "    }\n",
       "\n",
       "    .dataframe tbody tr th {\n",
       "        vertical-align: top;\n",
       "    }\n",
       "\n",
       "    .dataframe thead th {\n",
       "        text-align: right;\n",
       "    }\n",
       "</style>\n",
       "<table border=\"1\" class=\"dataframe\">\n",
       "  <thead>\n",
       "    <tr style=\"text-align: right;\">\n",
       "      <th></th>\n",
       "      <th>ROC</th>\n",
       "    </tr>\n",
       "  </thead>\n",
       "  <tbody>\n",
       "    <tr>\n",
       "      <td>dt_chi</td>\n",
       "      <td>77.123216</td>\n",
       "    </tr>\n",
       "  </tbody>\n",
       "</table>\n",
       "</div>"
      ],
      "text/plain": [
       "              ROC\n",
       "dt_chi  77.123216"
      ]
     },
     "execution_count": 198,
     "metadata": {},
     "output_type": "execute_result"
    }
   ],
   "source": [
    "# dispaly Accuracy in both RF,DT using chi square \n",
    "chidt_roc = pd.DataFrame({metrics.roc_auc_score(y_test,dt_chi)*100,},\n",
    "                   \n",
    "       index=['dt_chi'],columns=[\"ROC\"])\n",
    "chidt_roc"
   ]
  },
  {
   "cell_type": "code",
   "execution_count": 199,
   "metadata": {},
   "outputs": [
    {
     "data": {
      "text/html": [
       "<div>\n",
       "<style scoped>\n",
       "    .dataframe tbody tr th:only-of-type {\n",
       "        vertical-align: middle;\n",
       "    }\n",
       "\n",
       "    .dataframe tbody tr th {\n",
       "        vertical-align: top;\n",
       "    }\n",
       "\n",
       "    .dataframe thead th {\n",
       "        text-align: right;\n",
       "    }\n",
       "</style>\n",
       "<table border=\"1\" class=\"dataframe\">\n",
       "  <thead>\n",
       "    <tr style=\"text-align: right;\">\n",
       "      <th></th>\n",
       "      <th>Precision</th>\n",
       "    </tr>\n",
       "  </thead>\n",
       "  <tbody>\n",
       "    <tr>\n",
       "      <td>dt_chi</td>\n",
       "      <td>66.953642</td>\n",
       "    </tr>\n",
       "  </tbody>\n",
       "</table>\n",
       "</div>"
      ],
      "text/plain": [
       "        Precision\n",
       "dt_chi  66.953642"
      ]
     },
     "execution_count": 199,
     "metadata": {},
     "output_type": "execute_result"
    }
   ],
   "source": [
    "chidt_pr = pd.DataFrame({metrics.precision_score(y_test,dt_chi)*100,},\n",
    "                   \n",
    "       index=['dt_chi'],columns=[\"Precision\"])\n",
    "chidt_pr"
   ]
  },
  {
   "cell_type": "code",
   "execution_count": 200,
   "metadata": {},
   "outputs": [
    {
     "data": {
      "text/html": [
       "<div>\n",
       "<style scoped>\n",
       "    .dataframe tbody tr th:only-of-type {\n",
       "        vertical-align: middle;\n",
       "    }\n",
       "\n",
       "    .dataframe tbody tr th {\n",
       "        vertical-align: top;\n",
       "    }\n",
       "\n",
       "    .dataframe thead th {\n",
       "        text-align: right;\n",
       "    }\n",
       "</style>\n",
       "<table border=\"1\" class=\"dataframe\">\n",
       "  <thead>\n",
       "    <tr style=\"text-align: right;\">\n",
       "      <th></th>\n",
       "      <th>Recall</th>\n",
       "    </tr>\n",
       "  </thead>\n",
       "  <tbody>\n",
       "    <tr>\n",
       "      <td>dt_chi</td>\n",
       "      <td>86.336465</td>\n",
       "    </tr>\n",
       "  </tbody>\n",
       "</table>\n",
       "</div>"
      ],
      "text/plain": [
       "           Recall\n",
       "dt_chi  86.336465"
      ]
     },
     "execution_count": 200,
     "metadata": {},
     "output_type": "execute_result"
    }
   ],
   "source": [
    "chidt_r = pd.DataFrame({metrics.recall_score(y_test,dt_chi)*100,},\n",
    "                   \n",
    "       index=['dt_chi'],columns=[\"Recall\"])\n",
    "chidt_r"
   ]
  },
  {
   "cell_type": "code",
   "execution_count": 201,
   "metadata": {},
   "outputs": [
    {
     "data": {
      "text/html": [
       "<div>\n",
       "<style scoped>\n",
       "    .dataframe tbody tr th:only-of-type {\n",
       "        vertical-align: middle;\n",
       "    }\n",
       "\n",
       "    .dataframe tbody tr th {\n",
       "        vertical-align: top;\n",
       "    }\n",
       "\n",
       "    .dataframe thead th {\n",
       "        text-align: right;\n",
       "    }\n",
       "</style>\n",
       "<table border=\"1\" class=\"dataframe\">\n",
       "  <thead>\n",
       "    <tr style=\"text-align: right;\">\n",
       "      <th></th>\n",
       "      <th>Accuracy</th>\n",
       "      <th>CV</th>\n",
       "      <th>ROC</th>\n",
       "      <th>Precision</th>\n",
       "      <th>Recall</th>\n",
       "    </tr>\n",
       "  </thead>\n",
       "  <tbody>\n",
       "    <tr>\n",
       "      <td>dt_chi</td>\n",
       "      <td>75.825385</td>\n",
       "      <td>75.431193</td>\n",
       "      <td>77.123216</td>\n",
       "      <td>66.953642</td>\n",
       "      <td>86.336465</td>\n",
       "    </tr>\n",
       "  </tbody>\n",
       "</table>\n",
       "</div>"
      ],
      "text/plain": [
       "         Accuracy         CV        ROC  Precision     Recall\n",
       "dt_chi  75.825385  75.431193  77.123216  66.953642  86.336465"
      ]
     },
     "execution_count": 201,
     "metadata": {},
     "output_type": "execute_result"
    }
   ],
   "source": [
    "dt_chi=pd.concat([chidt_acc,chidt_cv,chidt_roc,chidt_pr,chidt_r],axis=1)\n",
    "dt_chi"
   ]
  },
  {
   "cell_type": "code",
   "execution_count": 202,
   "metadata": {},
   "outputs": [
    {
     "name": "stdout",
     "output_type": "stream",
     "text": [
      "0.7754952311078503\n"
     ]
    }
   ],
   "source": [
    "#def run_randomForest(x_train_chi,x_test_chi,y_train,y_test):\n",
    "from sklearn.ensemble import RandomForestClassifier\n",
    "rf_chi2=RandomForestClassifier(n_estimators=300,criterion=\"entropy\",max_depth=10,max_leaf_nodes=50,n_jobs=-1,random_state=0)\n",
    "rf_chi2.fit(x_train_chi,y_train.values.ravel())\n",
    "rf_chi=rf_chi2.predict(x_test_chi)\n",
    "print(metrics.accuracy_score(y_test,rf_chi))"
   ]
  },
  {
   "cell_type": "code",
   "execution_count": 203,
   "metadata": {},
   "outputs": [
    {
     "data": {
      "text/plain": [
       "76.76146788990825"
      ]
     },
     "execution_count": 203,
     "metadata": {},
     "output_type": "execute_result"
    }
   ],
   "source": [
    "cv=StratifiedKFold(n_splits=10,shuffle=False)\n",
    "kfold=cross_val_score(rf_chi2,x_train_chi,y_train.values.ravel(),cv=cv)\n",
    "kf_rf_chi=((kfold.mean()*100))\n",
    "kf_rf_chi"
   ]
  },
  {
   "cell_type": "code",
   "execution_count": 204,
   "metadata": {},
   "outputs": [
    {
     "name": "stdout",
     "output_type": "stream",
     "text": [
      "0.7894025223721172\n"
     ]
    }
   ],
   "source": [
    "print(metrics.roc_auc_score(y_test,rf_chi))"
   ]
  },
  {
   "cell_type": "code",
   "execution_count": 205,
   "metadata": {},
   "outputs": [
    {
     "name": "stdout",
     "output_type": "stream",
     "text": [
      "0.6837606837606838\n"
     ]
    }
   ],
   "source": [
    "print(metrics.precision_score(y_test,rf_chi))"
   ]
  },
  {
   "cell_type": "code",
   "execution_count": 206,
   "metadata": {},
   "outputs": [
    {
     "name": "stdout",
     "output_type": "stream",
     "text": [
      "0.888129803586678\n"
     ]
    }
   ],
   "source": [
    "print(metrics.recall_score(y_test,rf_chi))"
   ]
  },
  {
   "cell_type": "code",
   "execution_count": 207,
   "metadata": {},
   "outputs": [
    {
     "data": {
      "text/html": [
       "<div>\n",
       "<style scoped>\n",
       "    .dataframe tbody tr th:only-of-type {\n",
       "        vertical-align: middle;\n",
       "    }\n",
       "\n",
       "    .dataframe tbody tr th {\n",
       "        vertical-align: top;\n",
       "    }\n",
       "\n",
       "    .dataframe thead th {\n",
       "        text-align: right;\n",
       "    }\n",
       "</style>\n",
       "<table border=\"1\" class=\"dataframe\">\n",
       "  <thead>\n",
       "    <tr style=\"text-align: right;\">\n",
       "      <th></th>\n",
       "      <th>Accuracy</th>\n",
       "    </tr>\n",
       "  </thead>\n",
       "  <tbody>\n",
       "    <tr>\n",
       "      <td>rf_chi</td>\n",
       "      <td>77.549523</td>\n",
       "    </tr>\n",
       "  </tbody>\n",
       "</table>\n",
       "</div>"
      ],
      "text/plain": [
       "         Accuracy\n",
       "rf_chi  77.549523"
      ]
     },
     "execution_count": 207,
     "metadata": {},
     "output_type": "execute_result"
    }
   ],
   "source": [
    "# dispaly Accuracy in both RF,DT using chi square \n",
    "chir_acc = pd.DataFrame({ metrics.accuracy_score(y_test,rf_chi)*100,},\n",
    "                  \n",
    "       index=['rf_chi'],columns=[\"Accuracy\"])\n",
    "chir_acc"
   ]
  },
  {
   "cell_type": "code",
   "execution_count": 208,
   "metadata": {},
   "outputs": [
    {
     "data": {
      "text/html": [
       "<div>\n",
       "<style scoped>\n",
       "    .dataframe tbody tr th:only-of-type {\n",
       "        vertical-align: middle;\n",
       "    }\n",
       "\n",
       "    .dataframe tbody tr th {\n",
       "        vertical-align: top;\n",
       "    }\n",
       "\n",
       "    .dataframe thead th {\n",
       "        text-align: right;\n",
       "    }\n",
       "</style>\n",
       "<table border=\"1\" class=\"dataframe\">\n",
       "  <thead>\n",
       "    <tr style=\"text-align: right;\">\n",
       "      <th></th>\n",
       "      <th>ROC</th>\n",
       "    </tr>\n",
       "  </thead>\n",
       "  <tbody>\n",
       "    <tr>\n",
       "      <td>rf_chi</td>\n",
       "      <td>78.940252</td>\n",
       "    </tr>\n",
       "  </tbody>\n",
       "</table>\n",
       "</div>"
      ],
      "text/plain": [
       "              ROC\n",
       "rf_chi  78.940252"
      ]
     },
     "execution_count": 208,
     "metadata": {},
     "output_type": "execute_result"
    }
   ],
   "source": [
    "chir_roc = pd.DataFrame({ metrics.roc_auc_score(y_test,rf_chi)*100,},\n",
    "                  \n",
    "       index=['rf_chi'],columns=[\"ROC\"])\n",
    "chir_roc"
   ]
  },
  {
   "cell_type": "code",
   "execution_count": 209,
   "metadata": {},
   "outputs": [
    {
     "data": {
      "text/html": [
       "<div>\n",
       "<style scoped>\n",
       "    .dataframe tbody tr th:only-of-type {\n",
       "        vertical-align: middle;\n",
       "    }\n",
       "\n",
       "    .dataframe tbody tr th {\n",
       "        vertical-align: top;\n",
       "    }\n",
       "\n",
       "    .dataframe thead th {\n",
       "        text-align: right;\n",
       "    }\n",
       "</style>\n",
       "<table border=\"1\" class=\"dataframe\">\n",
       "  <thead>\n",
       "    <tr style=\"text-align: right;\">\n",
       "      <th></th>\n",
       "      <th>CV</th>\n",
       "    </tr>\n",
       "  </thead>\n",
       "  <tbody>\n",
       "    <tr>\n",
       "      <td>rf_chi</td>\n",
       "      <td>76.761468</td>\n",
       "    </tr>\n",
       "  </tbody>\n",
       "</table>\n",
       "</div>"
      ],
      "text/plain": [
       "               CV\n",
       "rf_chi  76.761468"
      ]
     },
     "execution_count": 209,
     "metadata": {},
     "output_type": "execute_result"
    }
   ],
   "source": [
    "chir_cv = pd.DataFrame({kf_rf_chi},\n",
    "                  \n",
    "       index=['rf_chi'],columns=[\"CV\"])\n",
    "chir_cv"
   ]
  },
  {
   "cell_type": "code",
   "execution_count": 210,
   "metadata": {},
   "outputs": [
    {
     "data": {
      "text/html": [
       "<div>\n",
       "<style scoped>\n",
       "    .dataframe tbody tr th:only-of-type {\n",
       "        vertical-align: middle;\n",
       "    }\n",
       "\n",
       "    .dataframe tbody tr th {\n",
       "        vertical-align: top;\n",
       "    }\n",
       "\n",
       "    .dataframe thead th {\n",
       "        text-align: right;\n",
       "    }\n",
       "</style>\n",
       "<table border=\"1\" class=\"dataframe\">\n",
       "  <thead>\n",
       "    <tr style=\"text-align: right;\">\n",
       "      <th></th>\n",
       "      <th>Recall</th>\n",
       "    </tr>\n",
       "  </thead>\n",
       "  <tbody>\n",
       "    <tr>\n",
       "      <td>rf_chi</td>\n",
       "      <td>88.81298</td>\n",
       "    </tr>\n",
       "  </tbody>\n",
       "</table>\n",
       "</div>"
      ],
      "text/plain": [
       "          Recall\n",
       "rf_chi  88.81298"
      ]
     },
     "execution_count": 210,
     "metadata": {},
     "output_type": "execute_result"
    }
   ],
   "source": [
    "chir_r = pd.DataFrame({ metrics.recall_score(y_test,rf_chi)*100,},\n",
    "                  \n",
    "       index=['rf_chi'],columns=[\"Recall\"])\n",
    "chir_r"
   ]
  },
  {
   "cell_type": "code",
   "execution_count": 211,
   "metadata": {},
   "outputs": [
    {
     "data": {
      "text/html": [
       "<div>\n",
       "<style scoped>\n",
       "    .dataframe tbody tr th:only-of-type {\n",
       "        vertical-align: middle;\n",
       "    }\n",
       "\n",
       "    .dataframe tbody tr th {\n",
       "        vertical-align: top;\n",
       "    }\n",
       "\n",
       "    .dataframe thead th {\n",
       "        text-align: right;\n",
       "    }\n",
       "</style>\n",
       "<table border=\"1\" class=\"dataframe\">\n",
       "  <thead>\n",
       "    <tr style=\"text-align: right;\">\n",
       "      <th></th>\n",
       "      <th>Precision</th>\n",
       "    </tr>\n",
       "  </thead>\n",
       "  <tbody>\n",
       "    <tr>\n",
       "      <td>rf_chi</td>\n",
       "      <td>68.376068</td>\n",
       "    </tr>\n",
       "  </tbody>\n",
       "</table>\n",
       "</div>"
      ],
      "text/plain": [
       "        Precision\n",
       "rf_chi  68.376068"
      ]
     },
     "execution_count": 211,
     "metadata": {},
     "output_type": "execute_result"
    }
   ],
   "source": [
    "chir_pr = pd.DataFrame({ metrics.precision_score(y_test,rf_chi)*100,},\n",
    "                  \n",
    "       index=['rf_chi'],columns=[\"Precision\"])\n",
    "chir_pr"
   ]
  },
  {
   "cell_type": "code",
   "execution_count": 212,
   "metadata": {},
   "outputs": [
    {
     "data": {
      "text/html": [
       "<div>\n",
       "<style scoped>\n",
       "    .dataframe tbody tr th:only-of-type {\n",
       "        vertical-align: middle;\n",
       "    }\n",
       "\n",
       "    .dataframe tbody tr th {\n",
       "        vertical-align: top;\n",
       "    }\n",
       "\n",
       "    .dataframe thead th {\n",
       "        text-align: right;\n",
       "    }\n",
       "</style>\n",
       "<table border=\"1\" class=\"dataframe\">\n",
       "  <thead>\n",
       "    <tr style=\"text-align: right;\">\n",
       "      <th></th>\n",
       "      <th>Accuracy</th>\n",
       "      <th>CV</th>\n",
       "      <th>ROC</th>\n",
       "      <th>Precision</th>\n",
       "      <th>Recall</th>\n",
       "    </tr>\n",
       "  </thead>\n",
       "  <tbody>\n",
       "    <tr>\n",
       "      <td>rf_chi</td>\n",
       "      <td>77.549523</td>\n",
       "      <td>76.761468</td>\n",
       "      <td>78.940252</td>\n",
       "      <td>68.376068</td>\n",
       "      <td>88.81298</td>\n",
       "    </tr>\n",
       "  </tbody>\n",
       "</table>\n",
       "</div>"
      ],
      "text/plain": [
       "         Accuracy         CV        ROC  Precision    Recall\n",
       "rf_chi  77.549523  76.761468  78.940252  68.376068  88.81298"
      ]
     },
     "execution_count": 212,
     "metadata": {},
     "output_type": "execute_result"
    }
   ],
   "source": [
    "chi_rf=pd.concat([chir_acc,chir_cv,chir_roc,chir_pr,chir_r],axis=1,sort=True)\n",
    "chi_rf"
   ]
  },
  {
   "cell_type": "code",
   "execution_count": 213,
   "metadata": {},
   "outputs": [
    {
     "data": {
      "text/html": [
       "<div>\n",
       "<style scoped>\n",
       "    .dataframe tbody tr th:only-of-type {\n",
       "        vertical-align: middle;\n",
       "    }\n",
       "\n",
       "    .dataframe tbody tr th {\n",
       "        vertical-align: top;\n",
       "    }\n",
       "\n",
       "    .dataframe thead th {\n",
       "        text-align: right;\n",
       "    }\n",
       "</style>\n",
       "<table border=\"1\" class=\"dataframe\">\n",
       "  <thead>\n",
       "    <tr style=\"text-align: right;\">\n",
       "      <th></th>\n",
       "      <th>Accuracy</th>\n",
       "      <th>CV</th>\n",
       "      <th>ROC</th>\n",
       "      <th>Precision</th>\n",
       "      <th>Recall</th>\n",
       "    </tr>\n",
       "  </thead>\n",
       "  <tbody>\n",
       "    <tr>\n",
       "      <td>dt_chi</td>\n",
       "      <td>75.83</td>\n",
       "      <td>75.43</td>\n",
       "      <td>77.12</td>\n",
       "      <td>66.95</td>\n",
       "      <td>86.34</td>\n",
       "    </tr>\n",
       "    <tr>\n",
       "      <td>rf_chi</td>\n",
       "      <td>77.55</td>\n",
       "      <td>76.76</td>\n",
       "      <td>78.94</td>\n",
       "      <td>68.38</td>\n",
       "      <td>88.81</td>\n",
       "    </tr>\n",
       "  </tbody>\n",
       "</table>\n",
       "</div>"
      ],
      "text/plain": [
       "        Accuracy     CV    ROC  Precision  Recall\n",
       "dt_chi     75.83  75.43  77.12      66.95   86.34\n",
       "rf_chi     77.55  76.76  78.94      68.38   88.81"
      ]
     },
     "execution_count": 213,
     "metadata": {},
     "output_type": "execute_result"
    }
   ],
   "source": [
    "ch_rf_dt=pd.concat([dt_chi,chi_rf],axis=0).round(2)\n",
    "ch_rf_dt"
   ]
  },
  {
   "cell_type": "code",
   "execution_count": 214,
   "metadata": {},
   "outputs": [
    {
     "data": {
      "text/plain": [
       "Index(['hh_members', 'hh_education', 'main_occupation', 'marital_status',\n",
       "       'residence', 'age', 'Q401', 'Q301', 'Q306', 'Q307', 'Q308m',\n",
       "       'Qsou_inform', 'Q3099n', 'Q30911n', 'Q501', 'Q503', 'Q5231', 'Q5232'],\n",
       "      dtype='object')"
      ]
     },
     "execution_count": 214,
     "metadata": {},
     "output_type": "execute_result"
    }
   ],
   "source": [
    "x_train_chi.columns"
   ]
  },
  {
   "cell_type": "code",
   "execution_count": 215,
   "metadata": {},
   "outputs": [
    {
     "name": "stdout",
     "output_type": "stream",
     "text": [
      "0.7406456346294937\n"
     ]
    }
   ],
   "source": [
    "#Using support vetor machine\n",
    "import warnings\n",
    "warnings.filterwarnings(\"ignore\", category=FutureWarning)\n",
    "from sklearn import svm\n",
    "Svm_chi=svm.SVC(C=100.0,gamma=0.1,kernel='rbf')\n",
    "Svm_chi.fit(x_train_chi,y_train.values.ravel())\n",
    "svm_chi=Svm_chi.predict(x_test_chi)\n",
    "print(metrics.accuracy_score(y_test,svm_chi))"
   ]
  },
  {
   "cell_type": "code",
   "execution_count": 216,
   "metadata": {},
   "outputs": [
    {
     "data": {
      "text/plain": [
       "73.01834862385321"
      ]
     },
     "execution_count": 216,
     "metadata": {},
     "output_type": "execute_result"
    }
   ],
   "source": [
    "cv=StratifiedKFold(n_splits=10,shuffle=False)\n",
    "kfold=cross_val_score(Svm_chi,x_train_chi,y_train.values.ravel(),cv=cv)\n",
    "kf_svm_chi=((kfold.mean()*100))\n",
    "kf_svm_chi"
   ]
  },
  {
   "cell_type": "code",
   "execution_count": 217,
   "metadata": {},
   "outputs": [
    {
     "name": "stdout",
     "output_type": "stream",
     "text": [
      "0.7453593130888212\n"
     ]
    }
   ],
   "source": [
    "print(metrics.roc_auc_score(y_test,svm_chi))"
   ]
  },
  {
   "cell_type": "code",
   "execution_count": 218,
   "metadata": {},
   "outputs": [
    {
     "name": "stdout",
     "output_type": "stream",
     "text": [
      "0.6705882352941176\n"
     ]
    }
   ],
   "source": [
    "print(metrics.precision_score(y_test,svm_chi))"
   ]
  },
  {
   "cell_type": "code",
   "execution_count": 219,
   "metadata": {},
   "outputs": [
    {
     "name": "stdout",
     "output_type": "stream",
     "text": [
      "0.7788215200683177\n"
     ]
    }
   ],
   "source": [
    "print(metrics.recall_score(y_test,svm_chi))"
   ]
  },
  {
   "cell_type": "code",
   "execution_count": 220,
   "metadata": {},
   "outputs": [
    {
     "data": {
      "text/html": [
       "<div>\n",
       "<style scoped>\n",
       "    .dataframe tbody tr th:only-of-type {\n",
       "        vertical-align: middle;\n",
       "    }\n",
       "\n",
       "    .dataframe tbody tr th {\n",
       "        vertical-align: top;\n",
       "    }\n",
       "\n",
       "    .dataframe thead th {\n",
       "        text-align: right;\n",
       "    }\n",
       "</style>\n",
       "<table border=\"1\" class=\"dataframe\">\n",
       "  <thead>\n",
       "    <tr style=\"text-align: right;\">\n",
       "      <th></th>\n",
       "      <th>Accuracy</th>\n",
       "    </tr>\n",
       "  </thead>\n",
       "  <tbody>\n",
       "    <tr>\n",
       "      <td>svm_chi</td>\n",
       "      <td>74.064563</td>\n",
       "    </tr>\n",
       "  </tbody>\n",
       "</table>\n",
       "</div>"
      ],
      "text/plain": [
       "          Accuracy\n",
       "svm_chi  74.064563"
      ]
     },
     "execution_count": 220,
     "metadata": {},
     "output_type": "execute_result"
    }
   ],
   "source": [
    "chi_svm_acc = pd.DataFrame({metrics.accuracy_score(y_test,svm_chi)*100,},\n",
    "       index=['svm_chi'],columns=[\"Accuracy\"])\n",
    "chi_svm_acc "
   ]
  },
  {
   "cell_type": "code",
   "execution_count": 221,
   "metadata": {},
   "outputs": [
    {
     "data": {
      "text/html": [
       "<div>\n",
       "<style scoped>\n",
       "    .dataframe tbody tr th:only-of-type {\n",
       "        vertical-align: middle;\n",
       "    }\n",
       "\n",
       "    .dataframe tbody tr th {\n",
       "        vertical-align: top;\n",
       "    }\n",
       "\n",
       "    .dataframe thead th {\n",
       "        text-align: right;\n",
       "    }\n",
       "</style>\n",
       "<table border=\"1\" class=\"dataframe\">\n",
       "  <thead>\n",
       "    <tr style=\"text-align: right;\">\n",
       "      <th></th>\n",
       "      <th>CV</th>\n",
       "    </tr>\n",
       "  </thead>\n",
       "  <tbody>\n",
       "    <tr>\n",
       "      <td>svm_chi</td>\n",
       "      <td>73.018349</td>\n",
       "    </tr>\n",
       "  </tbody>\n",
       "</table>\n",
       "</div>"
      ],
      "text/plain": [
       "                CV\n",
       "svm_chi  73.018349"
      ]
     },
     "execution_count": 221,
     "metadata": {},
     "output_type": "execute_result"
    }
   ],
   "source": [
    "chi_svm_cv = pd.DataFrame({kf_svm_chi},\n",
    "       index=['svm_chi'],columns=[\"CV\"])\n",
    "chi_svm_cv"
   ]
  },
  {
   "cell_type": "code",
   "execution_count": 222,
   "metadata": {},
   "outputs": [
    {
     "data": {
      "text/html": [
       "<div>\n",
       "<style scoped>\n",
       "    .dataframe tbody tr th:only-of-type {\n",
       "        vertical-align: middle;\n",
       "    }\n",
       "\n",
       "    .dataframe tbody tr th {\n",
       "        vertical-align: top;\n",
       "    }\n",
       "\n",
       "    .dataframe thead th {\n",
       "        text-align: right;\n",
       "    }\n",
       "</style>\n",
       "<table border=\"1\" class=\"dataframe\">\n",
       "  <thead>\n",
       "    <tr style=\"text-align: right;\">\n",
       "      <th></th>\n",
       "      <th>Recall</th>\n",
       "    </tr>\n",
       "  </thead>\n",
       "  <tbody>\n",
       "    <tr>\n",
       "      <td>svm_chi</td>\n",
       "      <td>77.882152</td>\n",
       "    </tr>\n",
       "  </tbody>\n",
       "</table>\n",
       "</div>"
      ],
      "text/plain": [
       "            Recall\n",
       "svm_chi  77.882152"
      ]
     },
     "execution_count": 222,
     "metadata": {},
     "output_type": "execute_result"
    }
   ],
   "source": [
    "chi_svm_r = pd.DataFrame({metrics.recall_score(y_test,svm_chi)*100,},\n",
    "       index=['svm_chi'],columns=[\"Recall\"])\n",
    "chi_svm_r "
   ]
  },
  {
   "cell_type": "code",
   "execution_count": 223,
   "metadata": {},
   "outputs": [
    {
     "data": {
      "text/html": [
       "<div>\n",
       "<style scoped>\n",
       "    .dataframe tbody tr th:only-of-type {\n",
       "        vertical-align: middle;\n",
       "    }\n",
       "\n",
       "    .dataframe tbody tr th {\n",
       "        vertical-align: top;\n",
       "    }\n",
       "\n",
       "    .dataframe thead th {\n",
       "        text-align: right;\n",
       "    }\n",
       "</style>\n",
       "<table border=\"1\" class=\"dataframe\">\n",
       "  <thead>\n",
       "    <tr style=\"text-align: right;\">\n",
       "      <th></th>\n",
       "      <th>ROC</th>\n",
       "    </tr>\n",
       "  </thead>\n",
       "  <tbody>\n",
       "    <tr>\n",
       "      <td>svm_chi</td>\n",
       "      <td>74.535931</td>\n",
       "    </tr>\n",
       "  </tbody>\n",
       "</table>\n",
       "</div>"
      ],
      "text/plain": [
       "               ROC\n",
       "svm_chi  74.535931"
      ]
     },
     "execution_count": 223,
     "metadata": {},
     "output_type": "execute_result"
    }
   ],
   "source": [
    "chi_svm_roc = pd.DataFrame({metrics.roc_auc_score(y_test,svm_chi)*100,},\n",
    "       index=['svm_chi'],columns=[\"ROC\"])\n",
    "chi_svm_roc"
   ]
  },
  {
   "cell_type": "code",
   "execution_count": 224,
   "metadata": {},
   "outputs": [
    {
     "data": {
      "text/html": [
       "<div>\n",
       "<style scoped>\n",
       "    .dataframe tbody tr th:only-of-type {\n",
       "        vertical-align: middle;\n",
       "    }\n",
       "\n",
       "    .dataframe tbody tr th {\n",
       "        vertical-align: top;\n",
       "    }\n",
       "\n",
       "    .dataframe thead th {\n",
       "        text-align: right;\n",
       "    }\n",
       "</style>\n",
       "<table border=\"1\" class=\"dataframe\">\n",
       "  <thead>\n",
       "    <tr style=\"text-align: right;\">\n",
       "      <th></th>\n",
       "      <th>Precision</th>\n",
       "    </tr>\n",
       "  </thead>\n",
       "  <tbody>\n",
       "    <tr>\n",
       "      <td>svm_chi</td>\n",
       "      <td>67.058824</td>\n",
       "    </tr>\n",
       "  </tbody>\n",
       "</table>\n",
       "</div>"
      ],
      "text/plain": [
       "         Precision\n",
       "svm_chi  67.058824"
      ]
     },
     "execution_count": 224,
     "metadata": {},
     "output_type": "execute_result"
    }
   ],
   "source": [
    "chi_svm_pr = pd.DataFrame({metrics.precision_score(y_test,svm_chi)*100,},\n",
    "       index=['svm_chi'],columns=[\"Precision\"])\n",
    "chi_svm_pr"
   ]
  },
  {
   "cell_type": "code",
   "execution_count": 225,
   "metadata": {},
   "outputs": [
    {
     "data": {
      "text/html": [
       "<div>\n",
       "<style scoped>\n",
       "    .dataframe tbody tr th:only-of-type {\n",
       "        vertical-align: middle;\n",
       "    }\n",
       "\n",
       "    .dataframe tbody tr th {\n",
       "        vertical-align: top;\n",
       "    }\n",
       "\n",
       "    .dataframe thead th {\n",
       "        text-align: right;\n",
       "    }\n",
       "</style>\n",
       "<table border=\"1\" class=\"dataframe\">\n",
       "  <thead>\n",
       "    <tr style=\"text-align: right;\">\n",
       "      <th></th>\n",
       "      <th>Accuracy</th>\n",
       "      <th>CV</th>\n",
       "      <th>ROC</th>\n",
       "      <th>Precision</th>\n",
       "      <th>Recall</th>\n",
       "    </tr>\n",
       "  </thead>\n",
       "  <tbody>\n",
       "    <tr>\n",
       "      <td>svm_chi</td>\n",
       "      <td>74.064563</td>\n",
       "      <td>73.018349</td>\n",
       "      <td>74.535931</td>\n",
       "      <td>67.058824</td>\n",
       "      <td>77.882152</td>\n",
       "    </tr>\n",
       "  </tbody>\n",
       "</table>\n",
       "</div>"
      ],
      "text/plain": [
       "          Accuracy         CV        ROC  Precision     Recall\n",
       "svm_chi  74.064563  73.018349  74.535931  67.058824  77.882152"
      ]
     },
     "execution_count": 225,
     "metadata": {},
     "output_type": "execute_result"
    }
   ],
   "source": [
    "svm_chi=pd.concat([chi_svm_acc,chi_svm_cv,chi_svm_roc,chi_svm_pr,chi_svm_r],axis=1)\n",
    "svm_chi"
   ]
  },
  {
   "cell_type": "code",
   "execution_count": 226,
   "metadata": {},
   "outputs": [
    {
     "data": {
      "text/html": [
       "<div>\n",
       "<style scoped>\n",
       "    .dataframe tbody tr th:only-of-type {\n",
       "        vertical-align: middle;\n",
       "    }\n",
       "\n",
       "    .dataframe tbody tr th {\n",
       "        vertical-align: top;\n",
       "    }\n",
       "\n",
       "    .dataframe thead th {\n",
       "        text-align: right;\n",
       "    }\n",
       "</style>\n",
       "<table border=\"1\" class=\"dataframe\">\n",
       "  <thead>\n",
       "    <tr style=\"text-align: right;\">\n",
       "      <th></th>\n",
       "      <th>Accuracy</th>\n",
       "      <th>CV</th>\n",
       "      <th>ROC</th>\n",
       "      <th>Precision</th>\n",
       "      <th>Recall</th>\n",
       "    </tr>\n",
       "  </thead>\n",
       "  <tbody>\n",
       "    <tr>\n",
       "      <td>rf_chi</td>\n",
       "      <td>77.549523</td>\n",
       "      <td>76.761468</td>\n",
       "      <td>78.940252</td>\n",
       "      <td>68.376068</td>\n",
       "      <td>88.812980</td>\n",
       "    </tr>\n",
       "    <tr>\n",
       "      <td>dt_chi</td>\n",
       "      <td>75.825385</td>\n",
       "      <td>75.431193</td>\n",
       "      <td>77.123216</td>\n",
       "      <td>66.953642</td>\n",
       "      <td>86.336465</td>\n",
       "    </tr>\n",
       "    <tr>\n",
       "      <td>svm_chi</td>\n",
       "      <td>74.064563</td>\n",
       "      <td>73.018349</td>\n",
       "      <td>74.535931</td>\n",
       "      <td>67.058824</td>\n",
       "      <td>77.882152</td>\n",
       "    </tr>\n",
       "  </tbody>\n",
       "</table>\n",
       "</div>"
      ],
      "text/plain": [
       "          Accuracy         CV        ROC  Precision     Recall\n",
       "rf_chi   77.549523  76.761468  78.940252  68.376068  88.812980\n",
       "dt_chi   75.825385  75.431193  77.123216  66.953642  86.336465\n",
       "svm_chi  74.064563  73.018349  74.535931  67.058824  77.882152"
      ]
     },
     "execution_count": 226,
     "metadata": {},
     "output_type": "execute_result"
    }
   ],
   "source": [
    "chi=pd.concat([dt_chi,svm_chi,chi_rf],axis=0)\n",
    "chi=chi.sort_values(ascending=False,by=[\"Accuracy\"])\n",
    "chi"
   ]
  },
  {
   "cell_type": "code",
   "execution_count": 227,
   "metadata": {},
   "outputs": [],
   "source": [
    "from sklearn.externals.six import StringIO  \n",
    "from IPython.display import Image  \n",
    "from sklearn.tree import export_graphviz\n",
    "import pydotplus\n",
    "feature_names=x_train_chi.columns\n",
    "\n",
    "dot_data = StringIO()\n",
    "rf_mi_fc=RandomForestClassifier(n_estimators=100,criterion=\"entropy\",max_depth=5,max_leaf_nodes=100,n_jobs=-1)\n",
    "rf_mi_fc.fit(x_train_mi_fc,y_train.values.ravel())\n",
    "\n",
    "\n",
    "def printTree(rf_mi_fc, index):\n",
    "    dot_data = tree.export_graphviz(rf_mi_fc, out_file=None,\n",
    "                                    feature_names=feature_names,\n",
    "                                    class_names=['0','1'])\n",
    "    # Build the graph\n",
    "    graph = pydotplus.graph_from_dot_data(dot_data)\n",
    "    graph\n",
    "    #graph.write_png('xx.png')\n",
    "\n",
    "    # Write the image\n",
    "    Image(graph.create_png())\n",
    "    graph.write_png(\"RF_mi_15_5_\" + str(index) + \".png\")"
   ]
  },
  {
   "cell_type": "code",
   "execution_count": 228,
   "metadata": {},
   "outputs": [],
   "source": [
    "from sklearn import tree\n",
    "for index in range(len(rf_mi_fc.estimators_)):\n",
    "    printTree(rf_mi_fc.estimators_[index], index)"
   ]
  },
  {
   "cell_type": "code",
   "execution_count": 229,
   "metadata": {},
   "outputs": [
    {
     "data": {
      "text/plain": [
       "True"
      ]
     },
     "execution_count": 229,
     "metadata": {},
     "output_type": "execute_result"
    }
   ],
   "source": [
    "from sklearn.externals.six import StringIO\n",
    "from sklearn.tree import export_graphviz\n",
    "import pandas as pd\n",
    "import pydotplus\n",
    "\n",
    "from IPython.display import Image\n",
    "#xx=['hh_education', 'main_occupation', 'age','Q301','Q306', 'Q308m', 'Qsou_inform','Q501', 'Q5231','Q5232']\n",
    "#x_train_xx=x_train_chi[xx]\n",
    "dtree = DecisionTreeClassifier(criterion='entropy',max_depth=5,max_features=10,max_leaf_nodes=50)\n",
    "dtree.fit(x_train_mi_fc,y_train)\n",
    "\n",
    "dot_data = StringIO()\n",
    "export_graphviz(\n",
    "    dtree, \n",
    "    out_file = dot_data,\n",
    "    filled = True, \n",
    "    rounded = True,\n",
    "    feature_names=x_train_mi_fc.columns,\n",
    "    class_names=['0','1'],\n",
    "    special_characters = True\n",
    ")\n",
    "graph_1 = pydotplus.graph_from_dot_data(dot_data.getvalue())\n",
    "Image(graph_1.create_png())\n",
    "graph_1.write_png('DT_mi_15_5.png')"
   ]
  },
  {
   "cell_type": "code",
   "execution_count": 230,
   "metadata": {},
   "outputs": [
    {
     "data": {
      "text/plain": [
       "Index(['sex', 'hh_education', 'main_occupation', 'marital_status', 'residence',\n",
       "       'Q401', 'Q406', 'Q302', 'Q306', 'Q307', 'Q308m', 'Qsou_inform', 'Q501',\n",
       "       'Q503', 'Q5231', 'Q5232', 'Q5233', 'Q5234'],\n",
       "      dtype='object')"
      ]
     },
     "execution_count": 230,
     "metadata": {},
     "output_type": "execute_result"
    }
   ],
   "source": [
    "# call best features in mutual_info_classifiers\n",
    "mi_best"
   ]
  },
  {
   "cell_type": "code",
   "execution_count": 231,
   "metadata": {},
   "outputs": [
    {
     "data": {
      "text/plain": [
       "Index(['hh_members', 'hh_education', 'main_occupation', 'marital_status',\n",
       "       'residence', 'age', 'Q401', 'Q301', 'Q306', 'Q307', 'Q308m',\n",
       "       'Qsou_inform', 'Q3099n', 'Q30911n', 'Q501', 'Q503', 'Q5231', 'Q5232'],\n",
       "      dtype='object')"
      ]
     },
     "execution_count": 231,
     "metadata": {},
     "output_type": "execute_result"
    }
   ],
   "source": [
    "## call best features in chi-square\n",
    "chi_best"
   ]
  },
  {
   "cell_type": "code",
   "execution_count": 232,
   "metadata": {},
   "outputs": [
    {
     "data": {
      "text/html": [
       "<div>\n",
       "<style scoped>\n",
       "    .dataframe tbody tr th:only-of-type {\n",
       "        vertical-align: middle;\n",
       "    }\n",
       "\n",
       "    .dataframe tbody tr th {\n",
       "        vertical-align: top;\n",
       "    }\n",
       "\n",
       "    .dataframe thead th {\n",
       "        text-align: right;\n",
       "    }\n",
       "</style>\n",
       "<table border=\"1\" class=\"dataframe\">\n",
       "  <thead>\n",
       "    <tr style=\"text-align: right;\">\n",
       "      <th></th>\n",
       "      <th>Accuracy</th>\n",
       "      <th>CV</th>\n",
       "      <th>ROC</th>\n",
       "      <th>Precision</th>\n",
       "      <th>Recall</th>\n",
       "    </tr>\n",
       "  </thead>\n",
       "  <tbody>\n",
       "    <tr>\n",
       "      <td>rf_chi</td>\n",
       "      <td>77.549523</td>\n",
       "      <td>76.761468</td>\n",
       "      <td>78.940252</td>\n",
       "      <td>68.376068</td>\n",
       "      <td>88.812980</td>\n",
       "    </tr>\n",
       "    <tr>\n",
       "      <td>dt_chi</td>\n",
       "      <td>75.825385</td>\n",
       "      <td>75.431193</td>\n",
       "      <td>77.123216</td>\n",
       "      <td>66.953642</td>\n",
       "      <td>86.336465</td>\n",
       "    </tr>\n",
       "    <tr>\n",
       "      <td>svm_chi</td>\n",
       "      <td>74.064563</td>\n",
       "      <td>73.018349</td>\n",
       "      <td>74.535931</td>\n",
       "      <td>67.058824</td>\n",
       "      <td>77.882152</td>\n",
       "    </tr>\n",
       "  </tbody>\n",
       "</table>\n",
       "</div>"
      ],
      "text/plain": [
       "          Accuracy         CV        ROC  Precision     Recall\n",
       "rf_chi   77.549523  76.761468  78.940252  68.376068  88.812980\n",
       "dt_chi   75.825385  75.431193  77.123216  66.953642  86.336465\n",
       "svm_chi  74.064563  73.018349  74.535931  67.058824  77.882152"
      ]
     },
     "execution_count": 232,
     "metadata": {},
     "output_type": "execute_result"
    }
   ],
   "source": [
    "##call accuracy using chi2\n",
    "chi"
   ]
  },
  {
   "cell_type": "code",
   "execution_count": 233,
   "metadata": {},
   "outputs": [
    {
     "data": {
      "text/html": [
       "<div>\n",
       "<style scoped>\n",
       "    .dataframe tbody tr th:only-of-type {\n",
       "        vertical-align: middle;\n",
       "    }\n",
       "\n",
       "    .dataframe tbody tr th {\n",
       "        vertical-align: top;\n",
       "    }\n",
       "\n",
       "    .dataframe thead th {\n",
       "        text-align: right;\n",
       "    }\n",
       "</style>\n",
       "<table border=\"1\" class=\"dataframe\">\n",
       "  <thead>\n",
       "    <tr style=\"text-align: right;\">\n",
       "      <th></th>\n",
       "      <th>Accuracy</th>\n",
       "      <th>CV</th>\n",
       "      <th>Precision</th>\n",
       "      <th>ROC</th>\n",
       "      <th>Recall</th>\n",
       "    </tr>\n",
       "  </thead>\n",
       "  <tbody>\n",
       "    <tr>\n",
       "      <td>svm_mi</td>\n",
       "      <td>79.68</td>\n",
       "      <td>78.79</td>\n",
       "      <td>68.46</td>\n",
       "      <td>81.90</td>\n",
       "      <td>97.69</td>\n",
       "    </tr>\n",
       "    <tr>\n",
       "      <td>rf_mi</td>\n",
       "      <td>79.24</td>\n",
       "      <td>78.44</td>\n",
       "      <td>68.21</td>\n",
       "      <td>81.40</td>\n",
       "      <td>96.75</td>\n",
       "    </tr>\n",
       "    <tr>\n",
       "      <td>dt_mi</td>\n",
       "      <td>78.83</td>\n",
       "      <td>78.25</td>\n",
       "      <td>67.81</td>\n",
       "      <td>81.03</td>\n",
       "      <td>96.58</td>\n",
       "    </tr>\n",
       "    <tr>\n",
       "      <td>rf_chi</td>\n",
       "      <td>77.55</td>\n",
       "      <td>76.76</td>\n",
       "      <td>68.38</td>\n",
       "      <td>78.94</td>\n",
       "      <td>88.81</td>\n",
       "    </tr>\n",
       "    <tr>\n",
       "      <td>dt_chi</td>\n",
       "      <td>75.83</td>\n",
       "      <td>75.43</td>\n",
       "      <td>66.95</td>\n",
       "      <td>77.12</td>\n",
       "      <td>86.34</td>\n",
       "    </tr>\n",
       "    <tr>\n",
       "      <td>svm_chi</td>\n",
       "      <td>74.06</td>\n",
       "      <td>73.02</td>\n",
       "      <td>67.06</td>\n",
       "      <td>74.54</td>\n",
       "      <td>77.88</td>\n",
       "    </tr>\n",
       "  </tbody>\n",
       "</table>\n",
       "</div>"
      ],
      "text/plain": [
       "         Accuracy     CV  Precision    ROC  Recall\n",
       "svm_mi      79.68  78.79      68.46  81.90   97.69\n",
       "rf_mi       79.24  78.44      68.21  81.40   96.75\n",
       "dt_mi       78.83  78.25      67.81  81.03   96.58\n",
       "rf_chi      77.55  76.76      68.38  78.94   88.81\n",
       "dt_chi      75.83  75.43      66.95  77.12   86.34\n",
       "svm_chi     74.06  73.02      67.06  74.54   77.88"
      ]
     },
     "execution_count": 233,
     "metadata": {},
     "output_type": "execute_result"
    }
   ],
   "source": [
    "##call all accuracy using mutuai_info_classifiers together\n",
    "mi_chi=pd.concat([mi_dt_rf_svm,chi],sort=True)\n",
    "mi_chi=mi_chi.sort_values(ascending=False,by=[\"Accuracy\"]).round(2)\n",
    "mi_chi"
   ]
  },
  {
   "cell_type": "code",
   "execution_count": 234,
   "metadata": {},
   "outputs": [
    {
     "data": {
      "text/plain": [
       "<matplotlib.axes._subplots.AxesSubplot at 0x1941bfb8d08>"
      ]
     },
     "execution_count": 234,
     "metadata": {},
     "output_type": "execute_result"
    },
    {
     "data": {
      "image/png": "[encoded data removed]",
      "text/plain": [
       "<Figure size 432x288 with 1 Axes>"
      ]
     },
     "metadata": {},
     "output_type": "display_data"
    }
   ],
   "source": [
    "#visualize accuracy and kfoldcv for mi,chi2,fc in [RF,DT]\n",
    "mi_chi.plot()"
   ]
  },
  {
   "cell_type": "code",
   "execution_count": 235,
   "metadata": {},
   "outputs": [
    {
     "data": {
      "text/html": [
       "<div>\n",
       "<style scoped>\n",
       "    .dataframe tbody tr th:only-of-type {\n",
       "        vertical-align: middle;\n",
       "    }\n",
       "\n",
       "    .dataframe tbody tr th {\n",
       "        vertical-align: top;\n",
       "    }\n",
       "\n",
       "    .dataframe thead th {\n",
       "        text-align: right;\n",
       "    }\n",
       "</style>\n",
       "<table border=\"1\" class=\"dataframe\">\n",
       "  <thead>\n",
       "    <tr style=\"text-align: right;\">\n",
       "      <th></th>\n",
       "      <th>Accuracy</th>\n",
       "      <th>CV</th>\n",
       "      <th>Precision</th>\n",
       "      <th>ROC</th>\n",
       "      <th>Recall</th>\n",
       "    </tr>\n",
       "  </thead>\n",
       "  <tbody>\n",
       "    <tr>\n",
       "      <td>svm_mi</td>\n",
       "      <td>79.68</td>\n",
       "      <td>78.79</td>\n",
       "      <td>68.46</td>\n",
       "      <td>81.90</td>\n",
       "      <td>97.69</td>\n",
       "    </tr>\n",
       "    <tr>\n",
       "      <td>rf_mi</td>\n",
       "      <td>79.24</td>\n",
       "      <td>78.44</td>\n",
       "      <td>68.21</td>\n",
       "      <td>81.40</td>\n",
       "      <td>96.75</td>\n",
       "    </tr>\n",
       "    <tr>\n",
       "      <td>dt_mi</td>\n",
       "      <td>78.83</td>\n",
       "      <td>78.25</td>\n",
       "      <td>67.81</td>\n",
       "      <td>81.03</td>\n",
       "      <td>96.58</td>\n",
       "    </tr>\n",
       "    <tr>\n",
       "      <td>rf_chi</td>\n",
       "      <td>77.55</td>\n",
       "      <td>76.76</td>\n",
       "      <td>68.38</td>\n",
       "      <td>78.94</td>\n",
       "      <td>88.81</td>\n",
       "    </tr>\n",
       "    <tr>\n",
       "      <td>dt_chi</td>\n",
       "      <td>75.83</td>\n",
       "      <td>75.43</td>\n",
       "      <td>66.95</td>\n",
       "      <td>77.12</td>\n",
       "      <td>86.34</td>\n",
       "    </tr>\n",
       "    <tr>\n",
       "      <td>svm_chi</td>\n",
       "      <td>74.06</td>\n",
       "      <td>73.02</td>\n",
       "      <td>67.06</td>\n",
       "      <td>74.54</td>\n",
       "      <td>77.88</td>\n",
       "    </tr>\n",
       "  </tbody>\n",
       "</table>\n",
       "</div>"
      ],
      "text/plain": [
       "         Accuracy     CV  Precision    ROC  Recall\n",
       "svm_mi      79.68  78.79      68.46  81.90   97.69\n",
       "rf_mi       79.24  78.44      68.21  81.40   96.75\n",
       "dt_mi       78.83  78.25      67.81  81.03   96.58\n",
       "rf_chi      77.55  76.76      68.38  78.94   88.81\n",
       "dt_chi      75.83  75.43      66.95  77.12   86.34\n",
       "svm_chi     74.06  73.02      67.06  74.54   77.88"
      ]
     },
     "execution_count": 235,
     "metadata": {},
     "output_type": "execute_result"
    }
   ],
   "source": [
    "##call all accuracy using mutuai_info_classifiers together\n",
    "mi_chi=pd.concat([mi_dt_rf_svm,chi],sort=True).round(2)\n",
    "mi_chi=mi_chi.sort_values(ascending=False,by=[\"Accuracy\"])\n",
    "mi_chi"
   ]
  },
  {
   "cell_type": "code",
   "execution_count": 236,
   "metadata": {},
   "outputs": [
    {
     "data": {
      "text/plain": [
       "<matplotlib.axes._subplots.AxesSubplot at 0x1941bd197c8>"
      ]
     },
     "execution_count": 236,
     "metadata": {},
     "output_type": "execute_result"
    },
    {
     "data": {
      "image/png": "[encoded data removed]",
      "text/plain": [
       "<Figure size 432x288 with 1 Axes>"
      ]
     },
     "metadata": {},
     "output_type": "display_data"
    }
   ],
   "source": [
    "mi_chi.plot()"
   ]
  },
  {
   "cell_type": "code",
   "execution_count": 237,
   "metadata": {},
   "outputs": [],
   "source": [
    "from sklearn.ensemble import RandomForestClassifier\n",
    "\n",
    "# create the random forest with your hyperparameters.\n",
    "model = RandomForestClassifier(n_estimators=100)\n",
    "\n",
    "# fit the model to start training.\n",
    "model.fit(x_train, y_train.values.ravel())\n",
    "\n",
    "# get the importance of the resulting features.\n",
    "importances = model.feature_importances_\n",
    "\n",
    "# create a data frame for visualization.\n",
    "final_df = pd.DataFrame({\"Features\": x_train.columns, \"Importances\":importances})\n",
    "final_df.set_index('Importances')\n",
    "\n",
    "# sort in ascending order to better visualization.\n",
    "final_df = final_df.sort_values('Importances')\n"
   ]
  },
  {
   "cell_type": "code",
   "execution_count": 239,
   "metadata": {},
   "outputs": [
    {
     "data": {
      "text/html": [
       "<div>\n",
       "<style scoped>\n",
       "    .dataframe tbody tr th:only-of-type {\n",
       "        vertical-align: middle;\n",
       "    }\n",
       "\n",
       "    .dataframe tbody tr th {\n",
       "        vertical-align: top;\n",
       "    }\n",
       "\n",
       "    .dataframe thead th {\n",
       "        text-align: right;\n",
       "    }\n",
       "</style>\n",
       "<table border=\"1\" class=\"dataframe\">\n",
       "  <thead>\n",
       "    <tr style=\"text-align: right;\">\n",
       "      <th></th>\n",
       "      <th>Features</th>\n",
       "      <th>Importances</th>\n",
       "    </tr>\n",
       "  </thead>\n",
       "  <tbody>\n",
       "    <tr>\n",
       "      <td>24</td>\n",
       "      <td>Q5231</td>\n",
       "      <td>0.175495</td>\n",
       "    </tr>\n",
       "    <tr>\n",
       "      <td>25</td>\n",
       "      <td>Q5232</td>\n",
       "      <td>0.118336</td>\n",
       "    </tr>\n",
       "    <tr>\n",
       "      <td>2</td>\n",
       "      <td>hh_education</td>\n",
       "      <td>0.051980</td>\n",
       "    </tr>\n",
       "    <tr>\n",
       "      <td>21</td>\n",
       "      <td>Q501</td>\n",
       "      <td>0.048168</td>\n",
       "    </tr>\n",
       "    <tr>\n",
       "      <td>16</td>\n",
       "      <td>Qsou_inform</td>\n",
       "      <td>0.043579</td>\n",
       "    </tr>\n",
       "    <tr>\n",
       "      <td>23</td>\n",
       "      <td>Q504</td>\n",
       "      <td>0.041249</td>\n",
       "    </tr>\n",
       "    <tr>\n",
       "      <td>6</td>\n",
       "      <td>age</td>\n",
       "      <td>0.040472</td>\n",
       "    </tr>\n",
       "    <tr>\n",
       "      <td>18</td>\n",
       "      <td>Q3099n</td>\n",
       "      <td>0.032105</td>\n",
       "    </tr>\n",
       "    <tr>\n",
       "      <td>0</td>\n",
       "      <td>hh_members</td>\n",
       "      <td>0.029043</td>\n",
       "    </tr>\n",
       "    <tr>\n",
       "      <td>4</td>\n",
       "      <td>marital_status</td>\n",
       "      <td>0.027364</td>\n",
       "    </tr>\n",
       "    <tr>\n",
       "      <td>13</td>\n",
       "      <td>Q306</td>\n",
       "      <td>0.026943</td>\n",
       "    </tr>\n",
       "    <tr>\n",
       "      <td>14</td>\n",
       "      <td>Q307</td>\n",
       "      <td>0.026863</td>\n",
       "    </tr>\n",
       "    <tr>\n",
       "      <td>22</td>\n",
       "      <td>Q503</td>\n",
       "      <td>0.026816</td>\n",
       "    </tr>\n",
       "    <tr>\n",
       "      <td>29</td>\n",
       "      <td>Q5261</td>\n",
       "      <td>0.025251</td>\n",
       "    </tr>\n",
       "    <tr>\n",
       "      <td>27</td>\n",
       "      <td>Q5234</td>\n",
       "      <td>0.024055</td>\n",
       "    </tr>\n",
       "    <tr>\n",
       "      <td>7</td>\n",
       "      <td>altitude</td>\n",
       "      <td>0.023751</td>\n",
       "    </tr>\n",
       "    <tr>\n",
       "      <td>28</td>\n",
       "      <td>Q524</td>\n",
       "      <td>0.022825</td>\n",
       "    </tr>\n",
       "    <tr>\n",
       "      <td>3</td>\n",
       "      <td>main_occupation</td>\n",
       "      <td>0.022703</td>\n",
       "    </tr>\n",
       "  </tbody>\n",
       "</table>\n",
       "</div>"
      ],
      "text/plain": [
       "           Features  Importances\n",
       "24            Q5231     0.175495\n",
       "25            Q5232     0.118336\n",
       "2      hh_education     0.051980\n",
       "21             Q501     0.048168\n",
       "16      Qsou_inform     0.043579\n",
       "23             Q504     0.041249\n",
       "6               age     0.040472\n",
       "18           Q3099n     0.032105\n",
       "0        hh_members     0.029043\n",
       "4    marital_status     0.027364\n",
       "13             Q306     0.026943\n",
       "14             Q307     0.026863\n",
       "22             Q503     0.026816\n",
       "29            Q5261     0.025251\n",
       "27            Q5234     0.024055\n",
       "7          altitude     0.023751\n",
       "28             Q524     0.022825\n",
       "3   main_occupation     0.022703"
      ]
     },
     "execution_count": 239,
     "metadata": {},
     "output_type": "execute_result"
    }
   ],
   "source": [
    "importance=final_df.nlargest(18,'Importances')\n",
    "importance"
   ]
  },
  {
   "cell_type": "code",
   "execution_count": 240,
   "metadata": {},
   "outputs": [
    {
     "data": {
      "text/plain": [
       "Index(['hh_members', 'sex', 'hh_education', 'main_occupation',\n",
       "       'marital_status', 'residence', 'age', 'altitude', 'Q401', 'Q406',\n",
       "       'Q301', 'Q302', 'Q304', 'Q306', 'Q307', 'Q308m', 'Qsou_inform',\n",
       "       'Q3098n', 'Q3099n', 'Q30910n', 'Q30911n', 'Q501', 'Q503', 'Q504',\n",
       "       'Q5231', 'Q5232', 'Q5233', 'Q5234', 'Q524', 'Q5261', 'Q5263',\n",
       "       'food_secured'],\n",
       "      dtype='object')"
      ]
     },
     "execution_count": 240,
     "metadata": {},
     "output_type": "execute_result"
    }
   ],
   "source": [
    "all_merged.columns"
   ]
  },
  {
   "cell_type": "code",
   "execution_count": 241,
   "metadata": {},
   "outputs": [
    {
     "data": {
      "text/html": [
       "<div>\n",
       "<style scoped>\n",
       "    .dataframe tbody tr th:only-of-type {\n",
       "        vertical-align: middle;\n",
       "    }\n",
       "\n",
       "    .dataframe tbody tr th {\n",
       "        vertical-align: top;\n",
       "    }\n",
       "\n",
       "    .dataframe thead th {\n",
       "        text-align: right;\n",
       "    }\n",
       "</style>\n",
       "<table border=\"1\" class=\"dataframe\">\n",
       "  <thead>\n",
       "    <tr style=\"text-align: right;\">\n",
       "      <th></th>\n",
       "      <th>mi_best</th>\n",
       "      <th>chi_best</th>\n",
       "    </tr>\n",
       "  </thead>\n",
       "  <tbody>\n",
       "    <tr>\n",
       "      <td>0</td>\n",
       "      <td>sex</td>\n",
       "      <td>hh_members</td>\n",
       "    </tr>\n",
       "    <tr>\n",
       "      <td>1</td>\n",
       "      <td>hh_education</td>\n",
       "      <td>hh_education</td>\n",
       "    </tr>\n",
       "    <tr>\n",
       "      <td>2</td>\n",
       "      <td>main_occupation</td>\n",
       "      <td>main_occupation</td>\n",
       "    </tr>\n",
       "    <tr>\n",
       "      <td>3</td>\n",
       "      <td>marital_status</td>\n",
       "      <td>marital_status</td>\n",
       "    </tr>\n",
       "    <tr>\n",
       "      <td>4</td>\n",
       "      <td>residence</td>\n",
       "      <td>residence</td>\n",
       "    </tr>\n",
       "    <tr>\n",
       "      <td>5</td>\n",
       "      <td>Q401</td>\n",
       "      <td>age</td>\n",
       "    </tr>\n",
       "    <tr>\n",
       "      <td>6</td>\n",
       "      <td>Q406</td>\n",
       "      <td>Q401</td>\n",
       "    </tr>\n",
       "    <tr>\n",
       "      <td>7</td>\n",
       "      <td>Q302</td>\n",
       "      <td>Q301</td>\n",
       "    </tr>\n",
       "    <tr>\n",
       "      <td>8</td>\n",
       "      <td>Q306</td>\n",
       "      <td>Q306</td>\n",
       "    </tr>\n",
       "    <tr>\n",
       "      <td>9</td>\n",
       "      <td>Q307</td>\n",
       "      <td>Q307</td>\n",
       "    </tr>\n",
       "    <tr>\n",
       "      <td>10</td>\n",
       "      <td>Q308m</td>\n",
       "      <td>Q308m</td>\n",
       "    </tr>\n",
       "    <tr>\n",
       "      <td>11</td>\n",
       "      <td>Qsou_inform</td>\n",
       "      <td>Qsou_inform</td>\n",
       "    </tr>\n",
       "    <tr>\n",
       "      <td>12</td>\n",
       "      <td>Q501</td>\n",
       "      <td>Q3099n</td>\n",
       "    </tr>\n",
       "    <tr>\n",
       "      <td>13</td>\n",
       "      <td>Q503</td>\n",
       "      <td>Q30911n</td>\n",
       "    </tr>\n",
       "    <tr>\n",
       "      <td>14</td>\n",
       "      <td>Q5231</td>\n",
       "      <td>Q501</td>\n",
       "    </tr>\n",
       "    <tr>\n",
       "      <td>15</td>\n",
       "      <td>Q5232</td>\n",
       "      <td>Q503</td>\n",
       "    </tr>\n",
       "    <tr>\n",
       "      <td>16</td>\n",
       "      <td>Q5233</td>\n",
       "      <td>Q5231</td>\n",
       "    </tr>\n",
       "    <tr>\n",
       "      <td>17</td>\n",
       "      <td>Q5234</td>\n",
       "      <td>Q5232</td>\n",
       "    </tr>\n",
       "  </tbody>\n",
       "</table>\n",
       "</div>"
      ],
      "text/plain": [
       "            mi_best         chi_best\n",
       "0               sex       hh_members\n",
       "1      hh_education     hh_education\n",
       "2   main_occupation  main_occupation\n",
       "3    marital_status   marital_status\n",
       "4         residence        residence\n",
       "5              Q401              age\n",
       "6              Q406             Q401\n",
       "7              Q302             Q301\n",
       "8              Q306             Q306\n",
       "9              Q307             Q307\n",
       "10            Q308m            Q308m\n",
       "11      Qsou_inform      Qsou_inform\n",
       "12             Q501           Q3099n\n",
       "13             Q503          Q30911n\n",
       "14            Q5231             Q501\n",
       "15            Q5232             Q503\n",
       "16            Q5233            Q5231\n",
       "17            Q5234            Q5232"
      ]
     },
     "execution_count": 241,
     "metadata": {},
     "output_type": "execute_result"
    }
   ],
   "source": [
    "#mi_best=mutual info classifaction\n",
    "#chi_best= best feature using chi square \n",
    "df = pd.DataFrame({'mi_best': mi_best,\n",
    "           'chi_best':chi_best,\n",
    "            },\n",
    "       columns=['mi_best', 'chi_best'])\n",
    "df"
   ]
  },
  {
   "cell_type": "code",
   "execution_count": 242,
   "metadata": {},
   "outputs": [],
   "source": [
    "score=pd.concat([mi_columns,mi_scores,ch_columns,ch_scores],axis=1)      "
   ]
  },
  {
   "cell_type": "code",
   "execution_count": 243,
   "metadata": {},
   "outputs": [
    {
     "data": {
      "text/html": [
       "<div>\n",
       "<style scoped>\n",
       "    .dataframe tbody tr th:only-of-type {\n",
       "        vertical-align: middle;\n",
       "    }\n",
       "\n",
       "    .dataframe tbody tr th {\n",
       "        vertical-align: top;\n",
       "    }\n",
       "\n",
       "    .dataframe thead th {\n",
       "        text-align: right;\n",
       "    }\n",
       "</style>\n",
       "<table border=\"1\" class=\"dataframe\">\n",
       "  <thead>\n",
       "    <tr style=\"text-align: right;\">\n",
       "      <th></th>\n",
       "      <th>mut_info_att</th>\n",
       "      <th>mut_info_attr_score</th>\n",
       "      <th>chi_attr</th>\n",
       "      <th>chi_attr_score</th>\n",
       "    </tr>\n",
       "  </thead>\n",
       "  <tbody>\n",
       "    <tr>\n",
       "      <td>0</td>\n",
       "      <td>hh_members</td>\n",
       "      <td>0.002159</td>\n",
       "      <td>hh_members</td>\n",
       "      <td>29.107370</td>\n",
       "    </tr>\n",
       "    <tr>\n",
       "      <td>1</td>\n",
       "      <td>sex</td>\n",
       "      <td>0.011637</td>\n",
       "      <td>sex</td>\n",
       "      <td>14.254629</td>\n",
       "    </tr>\n",
       "    <tr>\n",
       "      <td>2</td>\n",
       "      <td>hh_education</td>\n",
       "      <td>0.027239</td>\n",
       "      <td>hh_education</td>\n",
       "      <td>941.908847</td>\n",
       "    </tr>\n",
       "    <tr>\n",
       "      <td>3</td>\n",
       "      <td>main_occupation</td>\n",
       "      <td>0.016688</td>\n",
       "      <td>main_occupation</td>\n",
       "      <td>54.167060</td>\n",
       "    </tr>\n",
       "    <tr>\n",
       "      <td>4</td>\n",
       "      <td>marital_status</td>\n",
       "      <td>0.005202</td>\n",
       "      <td>marital_status</td>\n",
       "      <td>60.609762</td>\n",
       "    </tr>\n",
       "    <tr>\n",
       "      <td>5</td>\n",
       "      <td>residence</td>\n",
       "      <td>0.012541</td>\n",
       "      <td>residence</td>\n",
       "      <td>54.345892</td>\n",
       "    </tr>\n",
       "    <tr>\n",
       "      <td>6</td>\n",
       "      <td>age</td>\n",
       "      <td>0.000075</td>\n",
       "      <td>age</td>\n",
       "      <td>65.099738</td>\n",
       "    </tr>\n",
       "    <tr>\n",
       "      <td>7</td>\n",
       "      <td>altitude</td>\n",
       "      <td>0.004483</td>\n",
       "      <td>altitude</td>\n",
       "      <td>0.024416</td>\n",
       "    </tr>\n",
       "    <tr>\n",
       "      <td>8</td>\n",
       "      <td>Q401</td>\n",
       "      <td>0.009061</td>\n",
       "      <td>Q401</td>\n",
       "      <td>35.042271</td>\n",
       "    </tr>\n",
       "    <tr>\n",
       "      <td>9</td>\n",
       "      <td>Q406</td>\n",
       "      <td>0.012013</td>\n",
       "      <td>Q406</td>\n",
       "      <td>3.996005</td>\n",
       "    </tr>\n",
       "    <tr>\n",
       "      <td>10</td>\n",
       "      <td>Q301</td>\n",
       "      <td>0.003481</td>\n",
       "      <td>Q301</td>\n",
       "      <td>16.214526</td>\n",
       "    </tr>\n",
       "    <tr>\n",
       "      <td>11</td>\n",
       "      <td>Q302</td>\n",
       "      <td>0.005654</td>\n",
       "      <td>Q302</td>\n",
       "      <td>1.753523</td>\n",
       "    </tr>\n",
       "    <tr>\n",
       "      <td>12</td>\n",
       "      <td>Q304</td>\n",
       "      <td>0.004746</td>\n",
       "      <td>Q304</td>\n",
       "      <td>3.523645</td>\n",
       "    </tr>\n",
       "    <tr>\n",
       "      <td>13</td>\n",
       "      <td>Q306</td>\n",
       "      <td>0.017000</td>\n",
       "      <td>Q306</td>\n",
       "      <td>157.824839</td>\n",
       "    </tr>\n",
       "    <tr>\n",
       "      <td>14</td>\n",
       "      <td>Q307</td>\n",
       "      <td>0.024964</td>\n",
       "      <td>Q307</td>\n",
       "      <td>45.178757</td>\n",
       "    </tr>\n",
       "    <tr>\n",
       "      <td>15</td>\n",
       "      <td>Q308m</td>\n",
       "      <td>0.008689</td>\n",
       "      <td>Q308m</td>\n",
       "      <td>175.881567</td>\n",
       "    </tr>\n",
       "    <tr>\n",
       "      <td>16</td>\n",
       "      <td>Qsou_inform</td>\n",
       "      <td>0.035698</td>\n",
       "      <td>Qsou_inform</td>\n",
       "      <td>954.585416</td>\n",
       "    </tr>\n",
       "    <tr>\n",
       "      <td>17</td>\n",
       "      <td>Q3098n</td>\n",
       "      <td>0.002368</td>\n",
       "      <td>Q3098n</td>\n",
       "      <td>3.886566</td>\n",
       "    </tr>\n",
       "    <tr>\n",
       "      <td>18</td>\n",
       "      <td>Q3099n</td>\n",
       "      <td>0.001224</td>\n",
       "      <td>Q3099n</td>\n",
       "      <td>14.808106</td>\n",
       "    </tr>\n",
       "    <tr>\n",
       "      <td>19</td>\n",
       "      <td>Q30910n</td>\n",
       "      <td>0.000000</td>\n",
       "      <td>Q30910n</td>\n",
       "      <td>13.137455</td>\n",
       "    </tr>\n",
       "    <tr>\n",
       "      <td>20</td>\n",
       "      <td>Q30911n</td>\n",
       "      <td>0.002430</td>\n",
       "      <td>Q30911n</td>\n",
       "      <td>28.133933</td>\n",
       "    </tr>\n",
       "    <tr>\n",
       "      <td>21</td>\n",
       "      <td>Q501</td>\n",
       "      <td>0.028168</td>\n",
       "      <td>Q501</td>\n",
       "      <td>29.137572</td>\n",
       "    </tr>\n",
       "    <tr>\n",
       "      <td>22</td>\n",
       "      <td>Q503</td>\n",
       "      <td>0.005256</td>\n",
       "      <td>Q503</td>\n",
       "      <td>39.562601</td>\n",
       "    </tr>\n",
       "    <tr>\n",
       "      <td>23</td>\n",
       "      <td>Q504</td>\n",
       "      <td>0.004448</td>\n",
       "      <td>Q504</td>\n",
       "      <td>1.616272</td>\n",
       "    </tr>\n",
       "    <tr>\n",
       "      <td>24</td>\n",
       "      <td>Q5231</td>\n",
       "      <td>0.136947</td>\n",
       "      <td>Q5231</td>\n",
       "      <td>215.368357</td>\n",
       "    </tr>\n",
       "    <tr>\n",
       "      <td>25</td>\n",
       "      <td>Q5232</td>\n",
       "      <td>0.104270</td>\n",
       "      <td>Q5232</td>\n",
       "      <td>128.921671</td>\n",
       "    </tr>\n",
       "    <tr>\n",
       "      <td>26</td>\n",
       "      <td>Q5233</td>\n",
       "      <td>0.017513</td>\n",
       "      <td>Q5233</td>\n",
       "      <td>9.456338</td>\n",
       "    </tr>\n",
       "    <tr>\n",
       "      <td>27</td>\n",
       "      <td>Q5234</td>\n",
       "      <td>0.011473</td>\n",
       "      <td>Q5234</td>\n",
       "      <td>7.755357</td>\n",
       "    </tr>\n",
       "    <tr>\n",
       "      <td>28</td>\n",
       "      <td>Q524</td>\n",
       "      <td>0.004986</td>\n",
       "      <td>Q524</td>\n",
       "      <td>0.020318</td>\n",
       "    </tr>\n",
       "    <tr>\n",
       "      <td>29</td>\n",
       "      <td>Q5261</td>\n",
       "      <td>0.000007</td>\n",
       "      <td>Q5261</td>\n",
       "      <td>7.081063</td>\n",
       "    </tr>\n",
       "    <tr>\n",
       "      <td>30</td>\n",
       "      <td>Q5263</td>\n",
       "      <td>0.004132</td>\n",
       "      <td>Q5263</td>\n",
       "      <td>11.793190</td>\n",
       "    </tr>\n",
       "  </tbody>\n",
       "</table>\n",
       "</div>"
      ],
      "text/plain": [
       "       mut_info_att  mut_info_attr_score         chi_attr  chi_attr_score\n",
       "0        hh_members             0.002159       hh_members       29.107370\n",
       "1               sex             0.011637              sex       14.254629\n",
       "2      hh_education             0.027239     hh_education      941.908847\n",
       "3   main_occupation             0.016688  main_occupation       54.167060\n",
       "4    marital_status             0.005202   marital_status       60.609762\n",
       "5         residence             0.012541        residence       54.345892\n",
       "6               age             0.000075              age       65.099738\n",
       "7          altitude             0.004483         altitude        0.024416\n",
       "8              Q401             0.009061             Q401       35.042271\n",
       "9              Q406             0.012013             Q406        3.996005\n",
       "10             Q301             0.003481             Q301       16.214526\n",
       "11             Q302             0.005654             Q302        1.753523\n",
       "12             Q304             0.004746             Q304        3.523645\n",
       "13             Q306             0.017000             Q306      157.824839\n",
       "14             Q307             0.024964             Q307       45.178757\n",
       "15            Q308m             0.008689            Q308m      175.881567\n",
       "16      Qsou_inform             0.035698      Qsou_inform      954.585416\n",
       "17           Q3098n             0.002368           Q3098n        3.886566\n",
       "18           Q3099n             0.001224           Q3099n       14.808106\n",
       "19          Q30910n             0.000000          Q30910n       13.137455\n",
       "20          Q30911n             0.002430          Q30911n       28.133933\n",
       "21             Q501             0.028168             Q501       29.137572\n",
       "22             Q503             0.005256             Q503       39.562601\n",
       "23             Q504             0.004448             Q504        1.616272\n",
       "24            Q5231             0.136947            Q5231      215.368357\n",
       "25            Q5232             0.104270            Q5232      128.921671\n",
       "26            Q5233             0.017513            Q5233        9.456338\n",
       "27            Q5234             0.011473            Q5234        7.755357\n",
       "28             Q524             0.004986             Q524        0.020318\n",
       "29            Q5261             0.000007            Q5261        7.081063\n",
       "30            Q5263             0.004132            Q5263       11.793190"
      ]
     },
     "execution_count": 243,
     "metadata": {},
     "output_type": "execute_result"
    }
   ],
   "source": [
    "score.columns=['mut_info_att','mut_info_attr_score','chi_attr','chi_attr_score']\n",
    "score"
   ]
  },
  {
   "cell_type": "code",
   "execution_count": 244,
   "metadata": {},
   "outputs": [
    {
     "name": "stdout",
     "output_type": "stream",
     "text": [
      "       mut_info_att  mut_info_attr_score         chi_attr  chi_attr_score\n",
      "24            Q5231             0.136947            Q5231      215.368357\n",
      "25            Q5232             0.104270            Q5232      128.921671\n",
      "16      Qsou_inform             0.035698      Qsou_inform      954.585416\n",
      "21             Q501             0.028168             Q501       29.137572\n",
      "2      hh_education             0.027239     hh_education      941.908847\n",
      "14             Q307             0.024964             Q307       45.178757\n",
      "26            Q5233             0.017513            Q5233        9.456338\n",
      "13             Q306             0.017000             Q306      157.824839\n",
      "3   main_occupation             0.016688  main_occupation       54.167060\n",
      "5         residence             0.012541        residence       54.345892\n",
      "9              Q406             0.012013             Q406        3.996005\n",
      "1               sex             0.011637              sex       14.254629\n",
      "27            Q5234             0.011473            Q5234        7.755357\n",
      "8              Q401             0.009061             Q401       35.042271\n",
      "15            Q308m             0.008689            Q308m      175.881567\n",
      "11             Q302             0.005654             Q302        1.753523\n"
     ]
    }
   ],
   "source": [
    "print(score.nlargest(16,['mut_info_attr_score']))"
   ]
  },
  {
   "cell_type": "code",
   "execution_count": 245,
   "metadata": {},
   "outputs": [
    {
     "data": {
      "text/html": [
       "<div>\n",
       "<style scoped>\n",
       "    .dataframe tbody tr th:only-of-type {\n",
       "        vertical-align: middle;\n",
       "    }\n",
       "\n",
       "    .dataframe tbody tr th {\n",
       "        vertical-align: top;\n",
       "    }\n",
       "\n",
       "    .dataframe thead th {\n",
       "        text-align: right;\n",
       "    }\n",
       "</style>\n",
       "<table border=\"1\" class=\"dataframe\">\n",
       "  <thead>\n",
       "    <tr style=\"text-align: right;\">\n",
       "      <th></th>\n",
       "      <th>mutual_info</th>\n",
       "      <th>scores</th>\n",
       "      <th>ch_attributes</th>\n",
       "      <th>scores</th>\n",
       "    </tr>\n",
       "  </thead>\n",
       "  <tbody>\n",
       "    <tr>\n",
       "      <td>0</td>\n",
       "      <td></td>\n",
       "      <td></td>\n",
       "      <td>hh_members</td>\n",
       "      <td>29.1074</td>\n",
       "    </tr>\n",
       "    <tr>\n",
       "      <td>1</td>\n",
       "      <td>sex</td>\n",
       "      <td>0.0116372</td>\n",
       "      <td></td>\n",
       "      <td></td>\n",
       "    </tr>\n",
       "    <tr>\n",
       "      <td>2</td>\n",
       "      <td>hh_education</td>\n",
       "      <td>0.0272393</td>\n",
       "      <td>hh_education</td>\n",
       "      <td>941.909</td>\n",
       "    </tr>\n",
       "    <tr>\n",
       "      <td>3</td>\n",
       "      <td>main_occupation</td>\n",
       "      <td>0.0166875</td>\n",
       "      <td>main_occupation</td>\n",
       "      <td>54.1671</td>\n",
       "    </tr>\n",
       "    <tr>\n",
       "      <td>4</td>\n",
       "      <td>marital_status</td>\n",
       "      <td>0.00520172</td>\n",
       "      <td>marital_status</td>\n",
       "      <td>60.6098</td>\n",
       "    </tr>\n",
       "    <tr>\n",
       "      <td>5</td>\n",
       "      <td>residence</td>\n",
       "      <td>0.0125414</td>\n",
       "      <td>residence</td>\n",
       "      <td>54.3459</td>\n",
       "    </tr>\n",
       "    <tr>\n",
       "      <td>6</td>\n",
       "      <td></td>\n",
       "      <td></td>\n",
       "      <td>age</td>\n",
       "      <td>65.0997</td>\n",
       "    </tr>\n",
       "    <tr>\n",
       "      <td>8</td>\n",
       "      <td>Q401</td>\n",
       "      <td>0.00906065</td>\n",
       "      <td>Q401</td>\n",
       "      <td>35.0423</td>\n",
       "    </tr>\n",
       "    <tr>\n",
       "      <td>9</td>\n",
       "      <td>Q406</td>\n",
       "      <td>0.0120132</td>\n",
       "      <td></td>\n",
       "      <td></td>\n",
       "    </tr>\n",
       "    <tr>\n",
       "      <td>10</td>\n",
       "      <td></td>\n",
       "      <td></td>\n",
       "      <td>Q301</td>\n",
       "      <td>16.2145</td>\n",
       "    </tr>\n",
       "    <tr>\n",
       "      <td>11</td>\n",
       "      <td>Q302</td>\n",
       "      <td>0.00565398</td>\n",
       "      <td></td>\n",
       "      <td></td>\n",
       "    </tr>\n",
       "    <tr>\n",
       "      <td>13</td>\n",
       "      <td>Q306</td>\n",
       "      <td>0.0170001</td>\n",
       "      <td>Q306</td>\n",
       "      <td>157.825</td>\n",
       "    </tr>\n",
       "    <tr>\n",
       "      <td>14</td>\n",
       "      <td>Q307</td>\n",
       "      <td>0.0249638</td>\n",
       "      <td>Q307</td>\n",
       "      <td>45.1788</td>\n",
       "    </tr>\n",
       "    <tr>\n",
       "      <td>15</td>\n",
       "      <td>Q308m</td>\n",
       "      <td>0.00868936</td>\n",
       "      <td>Q308m</td>\n",
       "      <td>175.882</td>\n",
       "    </tr>\n",
       "    <tr>\n",
       "      <td>16</td>\n",
       "      <td>Qsou_inform</td>\n",
       "      <td>0.0356978</td>\n",
       "      <td>Qsou_inform</td>\n",
       "      <td>954.585</td>\n",
       "    </tr>\n",
       "    <tr>\n",
       "      <td>18</td>\n",
       "      <td></td>\n",
       "      <td></td>\n",
       "      <td>Q3099n</td>\n",
       "      <td>14.8081</td>\n",
       "    </tr>\n",
       "    <tr>\n",
       "      <td>20</td>\n",
       "      <td></td>\n",
       "      <td></td>\n",
       "      <td>Q30911n</td>\n",
       "      <td>28.1339</td>\n",
       "    </tr>\n",
       "    <tr>\n",
       "      <td>21</td>\n",
       "      <td>Q501</td>\n",
       "      <td>0.0281683</td>\n",
       "      <td>Q501</td>\n",
       "      <td>29.1376</td>\n",
       "    </tr>\n",
       "    <tr>\n",
       "      <td>22</td>\n",
       "      <td>Q503</td>\n",
       "      <td>0.0052561</td>\n",
       "      <td>Q503</td>\n",
       "      <td>39.5626</td>\n",
       "    </tr>\n",
       "    <tr>\n",
       "      <td>24</td>\n",
       "      <td>Q5231</td>\n",
       "      <td>0.136947</td>\n",
       "      <td>Q5231</td>\n",
       "      <td>215.368</td>\n",
       "    </tr>\n",
       "    <tr>\n",
       "      <td>25</td>\n",
       "      <td>Q5232</td>\n",
       "      <td>0.10427</td>\n",
       "      <td>Q5232</td>\n",
       "      <td>128.922</td>\n",
       "    </tr>\n",
       "    <tr>\n",
       "      <td>26</td>\n",
       "      <td>Q5233</td>\n",
       "      <td>0.0175127</td>\n",
       "      <td></td>\n",
       "      <td></td>\n",
       "    </tr>\n",
       "    <tr>\n",
       "      <td>27</td>\n",
       "      <td>Q5234</td>\n",
       "      <td>0.0114731</td>\n",
       "      <td></td>\n",
       "      <td></td>\n",
       "    </tr>\n",
       "  </tbody>\n",
       "</table>\n",
       "</div>"
      ],
      "text/plain": [
       "        mutual_info      scores    ch_attributes   scores\n",
       "0                                     hh_members  29.1074\n",
       "1               sex   0.0116372                          \n",
       "2      hh_education   0.0272393     hh_education  941.909\n",
       "3   main_occupation   0.0166875  main_occupation  54.1671\n",
       "4    marital_status  0.00520172   marital_status  60.6098\n",
       "5         residence   0.0125414        residence  54.3459\n",
       "6                                            age  65.0997\n",
       "8              Q401  0.00906065             Q401  35.0423\n",
       "9              Q406   0.0120132                          \n",
       "10                                          Q301  16.2145\n",
       "11             Q302  0.00565398                          \n",
       "13             Q306   0.0170001             Q306  157.825\n",
       "14             Q307   0.0249638             Q307  45.1788\n",
       "15            Q308m  0.00868936            Q308m  175.882\n",
       "16      Qsou_inform   0.0356978      Qsou_inform  954.585\n",
       "18                                        Q3099n  14.8081\n",
       "20                                       Q30911n  28.1339\n",
       "21             Q501   0.0281683             Q501  29.1376\n",
       "22             Q503   0.0052561             Q503  39.5626\n",
       "24            Q5231    0.136947            Q5231  215.368\n",
       "25            Q5232     0.10427            Q5232  128.922\n",
       "26            Q5233   0.0175127                          \n",
       "27            Q5234   0.0114731                          "
      ]
     },
     "execution_count": 245,
     "metadata": {},
     "output_type": "execute_result"
    }
   ],
   "source": [
    "best_attributes=pd.concat([f_mi_score,ch_sco],axis=1) \n",
    "best_attributes.fillna(\"\")"
   ]
  },
  {
   "cell_type": "code",
   "execution_count": 246,
   "metadata": {},
   "outputs": [
    {
     "name": "stdout",
     "output_type": "stream",
     "text": [
      "Q5231              0.694439\n",
      "Qsou_inform        0.648577\n",
      "Q5232              0.644484\n",
      "hh_education       0.630719\n",
      "Q306               0.616604\n",
      "Q307               0.614859\n",
      "Q501               0.599147\n",
      "Q503               0.584828\n",
      "main_occupation    0.580956\n",
      "Q401               0.580076\n",
      "Q308m              0.575348\n",
      "residence          0.561560\n",
      "age                0.557353\n",
      "marital_status     0.553238\n",
      "Q301               0.549872\n",
      "Q5263              0.549295\n",
      "Q30911n            0.546450\n",
      "altitude           0.544863\n",
      "Q5234              0.539776\n",
      "Q5233              0.539339\n",
      "Q406               0.531887\n",
      "hh_members         0.530462\n",
      "Q3098n             0.528384\n",
      "Q304               0.523684\n",
      "Q504               0.520686\n",
      "Q5261              0.520325\n",
      "sex                0.516056\n",
      "Q3099n             0.512768\n",
      "Q302               0.510659\n",
      "Q30910n            0.501873\n",
      "Q524               0.494929\n",
      "dtype: float64\n"
     ]
    }
   ],
   "source": [
    "from sklearn.tree import DecisionTreeClassifier\n",
    "from sklearn.metrics import roc_auc_score,accuracy_score\n",
    "\n",
    "# list of the resulting scores.\n",
    "roc_values = []\n",
    "\n",
    "# loop over all features and calculate the score.\n",
    "for feature in x_train.columns:\n",
    "    clf = DecisionTreeClassifier()\n",
    "    clf.fit(x_train[feature].to_frame(), y_train)\n",
    "    y_scored = clf.predict_proba(x_test[feature].to_frame())\n",
    "    roc_values.append(roc_auc_score(y_test, y_scored[:, 1]))\n",
    "\n",
    "# create a Pandas Series for visualisation.\n",
    "roc_values = pd.Series(roc_values)\n",
    "roc_values.index = x_train.columns\n",
    "\n",
    "# show the results.\n",
    "print(roc_values.sort_values(ascending=False))"
   ]
  },
  {
   "cell_type": "code",
   "execution_count": 247,
   "metadata": {},
   "outputs": [
    {
     "data": {
      "text/plain": [
       "(13626, 32)"
      ]
     },
     "execution_count": 247,
     "metadata": {},
     "output_type": "execute_result"
    }
   ],
   "source": [
    "all_merged.shape"
   ]
  },
  {
   "cell_type": "code",
   "execution_count": 248,
   "metadata": {},
   "outputs": [
    {
     "data": {
      "text/html": [
       "<div>\n",
       "<style scoped>\n",
       "    .dataframe tbody tr th:only-of-type {\n",
       "        vertical-align: middle;\n",
       "    }\n",
       "\n",
       "    .dataframe tbody tr th {\n",
       "        vertical-align: top;\n",
       "    }\n",
       "\n",
       "    .dataframe thead th {\n",
       "        text-align: right;\n",
       "    }\n",
       "</style>\n",
       "<table border=\"1\" class=\"dataframe\">\n",
       "  <thead>\n",
       "    <tr style=\"text-align: right;\">\n",
       "      <th></th>\n",
       "      <th>hh_members</th>\n",
       "      <th>sex</th>\n",
       "      <th>hh_education</th>\n",
       "      <th>main_occupation</th>\n",
       "      <th>marital_status</th>\n",
       "      <th>residence</th>\n",
       "      <th>age</th>\n",
       "      <th>altitude</th>\n",
       "      <th>Q401</th>\n",
       "      <th>Q406</th>\n",
       "      <th>...</th>\n",
       "      <th>Q503</th>\n",
       "      <th>Q504</th>\n",
       "      <th>Q5231</th>\n",
       "      <th>Q5232</th>\n",
       "      <th>Q5233</th>\n",
       "      <th>Q5234</th>\n",
       "      <th>Q524</th>\n",
       "      <th>Q5261</th>\n",
       "      <th>Q5263</th>\n",
       "      <th>food_secured</th>\n",
       "    </tr>\n",
       "    <tr>\n",
       "      <th>hhid</th>\n",
       "      <th></th>\n",
       "      <th></th>\n",
       "      <th></th>\n",
       "      <th></th>\n",
       "      <th></th>\n",
       "      <th></th>\n",
       "      <th></th>\n",
       "      <th></th>\n",
       "      <th></th>\n",
       "      <th></th>\n",
       "      <th></th>\n",
       "      <th></th>\n",
       "      <th></th>\n",
       "      <th></th>\n",
       "      <th></th>\n",
       "      <th></th>\n",
       "      <th></th>\n",
       "      <th></th>\n",
       "      <th></th>\n",
       "      <th></th>\n",
       "      <th></th>\n",
       "    </tr>\n",
       "  </thead>\n",
       "  <tbody>\n",
       "    <tr>\n",
       "      <td>DT0100002</td>\n",
       "      <td>1</td>\n",
       "      <td>1</td>\n",
       "      <td>0</td>\n",
       "      <td>2</td>\n",
       "      <td>1</td>\n",
       "      <td>0</td>\n",
       "      <td>1</td>\n",
       "      <td>2</td>\n",
       "      <td>1</td>\n",
       "      <td>2</td>\n",
       "      <td>...</td>\n",
       "      <td>2</td>\n",
       "      <td>4</td>\n",
       "      <td>1</td>\n",
       "      <td>2</td>\n",
       "      <td>2</td>\n",
       "      <td>2</td>\n",
       "      <td>1</td>\n",
       "      <td>1</td>\n",
       "      <td>2</td>\n",
       "      <td>0</td>\n",
       "    </tr>\n",
       "    <tr>\n",
       "      <td>DT0100005</td>\n",
       "      <td>1</td>\n",
       "      <td>1</td>\n",
       "      <td>1</td>\n",
       "      <td>3</td>\n",
       "      <td>1</td>\n",
       "      <td>0</td>\n",
       "      <td>1</td>\n",
       "      <td>2</td>\n",
       "      <td>1</td>\n",
       "      <td>2</td>\n",
       "      <td>...</td>\n",
       "      <td>2</td>\n",
       "      <td>2</td>\n",
       "      <td>1</td>\n",
       "      <td>2</td>\n",
       "      <td>2</td>\n",
       "      <td>2</td>\n",
       "      <td>1</td>\n",
       "      <td>2</td>\n",
       "      <td>2</td>\n",
       "      <td>0</td>\n",
       "    </tr>\n",
       "    <tr>\n",
       "      <td>DT0100006</td>\n",
       "      <td>0</td>\n",
       "      <td>1</td>\n",
       "      <td>3</td>\n",
       "      <td>4</td>\n",
       "      <td>1</td>\n",
       "      <td>0</td>\n",
       "      <td>1</td>\n",
       "      <td>2</td>\n",
       "      <td>1</td>\n",
       "      <td>2</td>\n",
       "      <td>...</td>\n",
       "      <td>0</td>\n",
       "      <td>2</td>\n",
       "      <td>2</td>\n",
       "      <td>2</td>\n",
       "      <td>2</td>\n",
       "      <td>2</td>\n",
       "      <td>1</td>\n",
       "      <td>2</td>\n",
       "      <td>2</td>\n",
       "      <td>1</td>\n",
       "    </tr>\n",
       "    <tr>\n",
       "      <td>DT0100007</td>\n",
       "      <td>0</td>\n",
       "      <td>1</td>\n",
       "      <td>3</td>\n",
       "      <td>4</td>\n",
       "      <td>1</td>\n",
       "      <td>0</td>\n",
       "      <td>1</td>\n",
       "      <td>2</td>\n",
       "      <td>1</td>\n",
       "      <td>2</td>\n",
       "      <td>...</td>\n",
       "      <td>0</td>\n",
       "      <td>2</td>\n",
       "      <td>2</td>\n",
       "      <td>2</td>\n",
       "      <td>2</td>\n",
       "      <td>2</td>\n",
       "      <td>1</td>\n",
       "      <td>1</td>\n",
       "      <td>2</td>\n",
       "      <td>0</td>\n",
       "    </tr>\n",
       "    <tr>\n",
       "      <td>DT0100011</td>\n",
       "      <td>0</td>\n",
       "      <td>1</td>\n",
       "      <td>3</td>\n",
       "      <td>2</td>\n",
       "      <td>2</td>\n",
       "      <td>0</td>\n",
       "      <td>0</td>\n",
       "      <td>2</td>\n",
       "      <td>1</td>\n",
       "      <td>2</td>\n",
       "      <td>...</td>\n",
       "      <td>2</td>\n",
       "      <td>2</td>\n",
       "      <td>1</td>\n",
       "      <td>2</td>\n",
       "      <td>2</td>\n",
       "      <td>2</td>\n",
       "      <td>1</td>\n",
       "      <td>1</td>\n",
       "      <td>2</td>\n",
       "      <td>0</td>\n",
       "    </tr>\n",
       "    <tr>\n",
       "      <td>...</td>\n",
       "      <td>...</td>\n",
       "      <td>...</td>\n",
       "      <td>...</td>\n",
       "      <td>...</td>\n",
       "      <td>...</td>\n",
       "      <td>...</td>\n",
       "      <td>...</td>\n",
       "      <td>...</td>\n",
       "      <td>...</td>\n",
       "      <td>...</td>\n",
       "      <td>...</td>\n",
       "      <td>...</td>\n",
       "      <td>...</td>\n",
       "      <td>...</td>\n",
       "      <td>...</td>\n",
       "      <td>...</td>\n",
       "      <td>...</td>\n",
       "      <td>...</td>\n",
       "      <td>...</td>\n",
       "      <td>...</td>\n",
       "      <td>...</td>\n",
       "    </tr>\n",
       "    <tr>\n",
       "      <td>DT1301282</td>\n",
       "      <td>1</td>\n",
       "      <td>0</td>\n",
       "      <td>0</td>\n",
       "      <td>2</td>\n",
       "      <td>4</td>\n",
       "      <td>1</td>\n",
       "      <td>1</td>\n",
       "      <td>2</td>\n",
       "      <td>2</td>\n",
       "      <td>2</td>\n",
       "      <td>...</td>\n",
       "      <td>2</td>\n",
       "      <td>1</td>\n",
       "      <td>2</td>\n",
       "      <td>2</td>\n",
       "      <td>2</td>\n",
       "      <td>2</td>\n",
       "      <td>1</td>\n",
       "      <td>1</td>\n",
       "      <td>2</td>\n",
       "      <td>1</td>\n",
       "    </tr>\n",
       "    <tr>\n",
       "      <td>DT1301283</td>\n",
       "      <td>1</td>\n",
       "      <td>1</td>\n",
       "      <td>1</td>\n",
       "      <td>2</td>\n",
       "      <td>1</td>\n",
       "      <td>1</td>\n",
       "      <td>1</td>\n",
       "      <td>2</td>\n",
       "      <td>2</td>\n",
       "      <td>2</td>\n",
       "      <td>...</td>\n",
       "      <td>1</td>\n",
       "      <td>2</td>\n",
       "      <td>2</td>\n",
       "      <td>2</td>\n",
       "      <td>2</td>\n",
       "      <td>2</td>\n",
       "      <td>1</td>\n",
       "      <td>1</td>\n",
       "      <td>2</td>\n",
       "      <td>0</td>\n",
       "    </tr>\n",
       "    <tr>\n",
       "      <td>DT1301284</td>\n",
       "      <td>1</td>\n",
       "      <td>1</td>\n",
       "      <td>3</td>\n",
       "      <td>2</td>\n",
       "      <td>1</td>\n",
       "      <td>1</td>\n",
       "      <td>1</td>\n",
       "      <td>2</td>\n",
       "      <td>2</td>\n",
       "      <td>2</td>\n",
       "      <td>...</td>\n",
       "      <td>1</td>\n",
       "      <td>1</td>\n",
       "      <td>1</td>\n",
       "      <td>2</td>\n",
       "      <td>2</td>\n",
       "      <td>2</td>\n",
       "      <td>1</td>\n",
       "      <td>1</td>\n",
       "      <td>2</td>\n",
       "      <td>0</td>\n",
       "    </tr>\n",
       "    <tr>\n",
       "      <td>DT1301285</td>\n",
       "      <td>1</td>\n",
       "      <td>1</td>\n",
       "      <td>1</td>\n",
       "      <td>2</td>\n",
       "      <td>1</td>\n",
       "      <td>1</td>\n",
       "      <td>1</td>\n",
       "      <td>2</td>\n",
       "      <td>2</td>\n",
       "      <td>2</td>\n",
       "      <td>...</td>\n",
       "      <td>1</td>\n",
       "      <td>1</td>\n",
       "      <td>2</td>\n",
       "      <td>2</td>\n",
       "      <td>2</td>\n",
       "      <td>2</td>\n",
       "      <td>2</td>\n",
       "      <td>1</td>\n",
       "      <td>2</td>\n",
       "      <td>1</td>\n",
       "    </tr>\n",
       "    <tr>\n",
       "      <td>DT1301286</td>\n",
       "      <td>1</td>\n",
       "      <td>1</td>\n",
       "      <td>0</td>\n",
       "      <td>2</td>\n",
       "      <td>1</td>\n",
       "      <td>1</td>\n",
       "      <td>1</td>\n",
       "      <td>2</td>\n",
       "      <td>2</td>\n",
       "      <td>2</td>\n",
       "      <td>...</td>\n",
       "      <td>1</td>\n",
       "      <td>2</td>\n",
       "      <td>2</td>\n",
       "      <td>1</td>\n",
       "      <td>2</td>\n",
       "      <td>2</td>\n",
       "      <td>1</td>\n",
       "      <td>1</td>\n",
       "      <td>2</td>\n",
       "      <td>0</td>\n",
       "    </tr>\n",
       "  </tbody>\n",
       "</table>\n",
       "<p>13626 rows × 32 columns</p>\n",
       "</div>"
      ],
      "text/plain": [
       "           hh_members  sex  hh_education  main_occupation  marital_status  \\\n",
       "hhid                                                                        \n",
       "DT0100002           1    1             0                2               1   \n",
       "DT0100005           1    1             1                3               1   \n",
       "DT0100006           0    1             3                4               1   \n",
       "DT0100007           0    1             3                4               1   \n",
       "DT0100011           0    1             3                2               2   \n",
       "...               ...  ...           ...              ...             ...   \n",
       "DT1301282           1    0             0                2               4   \n",
       "DT1301283           1    1             1                2               1   \n",
       "DT1301284           1    1             3                2               1   \n",
       "DT1301285           1    1             1                2               1   \n",
       "DT1301286           1    1             0                2               1   \n",
       "\n",
       "           residence  age  altitude  Q401  Q406  ...  Q503  Q504  Q5231  \\\n",
       "hhid                                             ...                      \n",
       "DT0100002          0    1         2     1     2  ...     2     4      1   \n",
       "DT0100005          0    1         2     1     2  ...     2     2      1   \n",
       "DT0100006          0    1         2     1     2  ...     0     2      2   \n",
       "DT0100007          0    1         2     1     2  ...     0     2      2   \n",
       "DT0100011          0    0         2     1     2  ...     2     2      1   \n",
       "...              ...  ...       ...   ...   ...  ...   ...   ...    ...   \n",
       "DT1301282          1    1         2     2     2  ...     2     1      2   \n",
       "DT1301283          1    1         2     2     2  ...     1     2      2   \n",
       "DT1301284          1    1         2     2     2  ...     1     1      1   \n",
       "DT1301285          1    1         2     2     2  ...     1     1      2   \n",
       "DT1301286          1    1         2     2     2  ...     1     2      2   \n",
       "\n",
       "           Q5232  Q5233  Q5234  Q524  Q5261  Q5263  food_secured  \n",
       "hhid                                                              \n",
       "DT0100002      2      2      2     1      1      2             0  \n",
       "DT0100005      2      2      2     1      2      2             0  \n",
       "DT0100006      2      2      2     1      2      2             1  \n",
       "DT0100007      2      2      2     1      1      2             0  \n",
       "DT0100011      2      2      2     1      1      2             0  \n",
       "...          ...    ...    ...   ...    ...    ...           ...  \n",
       "DT1301282      2      2      2     1      1      2             1  \n",
       "DT1301283      2      2      2     1      1      2             0  \n",
       "DT1301284      2      2      2     1      1      2             0  \n",
       "DT1301285      2      2      2     2      1      2             1  \n",
       "DT1301286      1      2      2     1      1      2             0  \n",
       "\n",
       "[13626 rows x 32 columns]"
      ]
     },
     "execution_count": 248,
     "metadata": {},
     "output_type": "execute_result"
    }
   ],
   "source": [
    "all_merged.astype(int)"
   ]
  },
  {
   "cell_type": "code",
   "execution_count": 250,
   "metadata": {},
   "outputs": [
    {
     "data": {
      "text/html": [
       "<div>\n",
       "<style scoped>\n",
       "    .dataframe tbody tr th:only-of-type {\n",
       "        vertical-align: middle;\n",
       "    }\n",
       "\n",
       "    .dataframe tbody tr th {\n",
       "        vertical-align: top;\n",
       "    }\n",
       "\n",
       "    .dataframe thead th {\n",
       "        text-align: right;\n",
       "    }\n",
       "</style>\n",
       "<table border=\"1\" class=\"dataframe\">\n",
       "  <thead>\n",
       "    <tr style=\"text-align: right;\">\n",
       "      <th></th>\n",
       "      <th>Features</th>\n",
       "      <th>Importances</th>\n",
       "    </tr>\n",
       "  </thead>\n",
       "  <tbody>\n",
       "    <tr>\n",
       "      <td>24</td>\n",
       "      <td>Q5231</td>\n",
       "      <td>0.175495</td>\n",
       "    </tr>\n",
       "    <tr>\n",
       "      <td>25</td>\n",
       "      <td>Q5232</td>\n",
       "      <td>0.118336</td>\n",
       "    </tr>\n",
       "    <tr>\n",
       "      <td>2</td>\n",
       "      <td>hh_education</td>\n",
       "      <td>0.051980</td>\n",
       "    </tr>\n",
       "    <tr>\n",
       "      <td>21</td>\n",
       "      <td>Q501</td>\n",
       "      <td>0.048168</td>\n",
       "    </tr>\n",
       "    <tr>\n",
       "      <td>16</td>\n",
       "      <td>Qsou_inform</td>\n",
       "      <td>0.043579</td>\n",
       "    </tr>\n",
       "    <tr>\n",
       "      <td>23</td>\n",
       "      <td>Q504</td>\n",
       "      <td>0.041249</td>\n",
       "    </tr>\n",
       "    <tr>\n",
       "      <td>6</td>\n",
       "      <td>age</td>\n",
       "      <td>0.040472</td>\n",
       "    </tr>\n",
       "    <tr>\n",
       "      <td>18</td>\n",
       "      <td>Q3099n</td>\n",
       "      <td>0.032105</td>\n",
       "    </tr>\n",
       "    <tr>\n",
       "      <td>0</td>\n",
       "      <td>hh_members</td>\n",
       "      <td>0.029043</td>\n",
       "    </tr>\n",
       "    <tr>\n",
       "      <td>4</td>\n",
       "      <td>marital_status</td>\n",
       "      <td>0.027364</td>\n",
       "    </tr>\n",
       "    <tr>\n",
       "      <td>13</td>\n",
       "      <td>Q306</td>\n",
       "      <td>0.026943</td>\n",
       "    </tr>\n",
       "    <tr>\n",
       "      <td>14</td>\n",
       "      <td>Q307</td>\n",
       "      <td>0.026863</td>\n",
       "    </tr>\n",
       "    <tr>\n",
       "      <td>22</td>\n",
       "      <td>Q503</td>\n",
       "      <td>0.026816</td>\n",
       "    </tr>\n",
       "    <tr>\n",
       "      <td>29</td>\n",
       "      <td>Q5261</td>\n",
       "      <td>0.025251</td>\n",
       "    </tr>\n",
       "    <tr>\n",
       "      <td>27</td>\n",
       "      <td>Q5234</td>\n",
       "      <td>0.024055</td>\n",
       "    </tr>\n",
       "    <tr>\n",
       "      <td>7</td>\n",
       "      <td>altitude</td>\n",
       "      <td>0.023751</td>\n",
       "    </tr>\n",
       "    <tr>\n",
       "      <td>28</td>\n",
       "      <td>Q524</td>\n",
       "      <td>0.022825</td>\n",
       "    </tr>\n",
       "    <tr>\n",
       "      <td>3</td>\n",
       "      <td>main_occupation</td>\n",
       "      <td>0.022703</td>\n",
       "    </tr>\n",
       "  </tbody>\n",
       "</table>\n",
       "</div>"
      ],
      "text/plain": [
       "           Features  Importances\n",
       "24            Q5231     0.175495\n",
       "25            Q5232     0.118336\n",
       "2      hh_education     0.051980\n",
       "21             Q501     0.048168\n",
       "16      Qsou_inform     0.043579\n",
       "23             Q504     0.041249\n",
       "6               age     0.040472\n",
       "18           Q3099n     0.032105\n",
       "0        hh_members     0.029043\n",
       "4    marital_status     0.027364\n",
       "13             Q306     0.026943\n",
       "14             Q307     0.026863\n",
       "22             Q503     0.026816\n",
       "29            Q5261     0.025251\n",
       "27            Q5234     0.024055\n",
       "7          altitude     0.023751\n",
       "28             Q524     0.022825\n",
       "3   main_occupation     0.022703"
      ]
     },
     "execution_count": 250,
     "metadata": {},
     "output_type": "execute_result"
    }
   ],
   "source": [
    "importance=final_df.nlargest(18,'Importances')\n",
    "importance"
   ]
  },
  {
   "cell_type": "code",
   "execution_count": 251,
   "metadata": {},
   "outputs": [
    {
     "data": {
      "text/plain": [
       "((10900, 31), (2726, 31))"
      ]
     },
     "execution_count": 251,
     "metadata": {},
     "output_type": "execute_result"
    }
   ],
   "source": [
    "x_train.shape,x_test.shape"
   ]
  },
  {
   "cell_type": "code",
   "execution_count": 252,
   "metadata": {},
   "outputs": [
    {
     "data": {
      "text/plain": [
       "<matplotlib.axes._subplots.AxesSubplot at 0x1941bb37648>"
      ]
     },
     "execution_count": 252,
     "metadata": {},
     "output_type": "execute_result"
    },
    {
     "data": {
      "image/png": "[encoded data removed]",
      "text/plain": [
       "<Figure size 432x288 with 1 Axes>"
      ]
     },
     "metadata": {},
     "output_type": "display_data"
    }
   ],
   "source": [
    "importance.plot.barh()"
   ]
  },
  {
   "cell_type": "code",
   "execution_count": 253,
   "metadata": {},
   "outputs": [
    {
     "data": {
      "text/plain": [
       "<matplotlib.axes._subplots.AxesSubplot at 0x1941bf31248>"
      ]
     },
     "execution_count": 253,
     "metadata": {},
     "output_type": "execute_result"
    },
    {
     "data": {
      "image/png": "[encoded data removed]",
      "text/plain": [
       "<Figure size 432x288 with 1 Axes>"
      ]
     },
     "metadata": {},
     "output_type": "display_data"
    }
   ],
   "source": [
    "ch_sco.plot.barh()"
   ]
  },
  {
   "cell_type": "code",
   "execution_count": 254,
   "metadata": {},
   "outputs": [
    {
     "data": {
      "text/plain": [
       "<matplotlib.axes._subplots.AxesSubplot at 0x1941c1c2dc8>"
      ]
     },
     "execution_count": 254,
     "metadata": {},
     "output_type": "execute_result"
    },
    {
     "data": {
      "image/png": "[encoded data removed]",
      "text/plain": [
       "<Figure size 432x288 with 1 Axes>"
      ]
     },
     "metadata": {},
     "output_type": "display_data"
    }
   ],
   "source": [
    "f_mi_score.plot.barh()"
   ]
  },
  {
   "cell_type": "code",
   "execution_count": 255,
   "metadata": {},
   "outputs": [
    {
     "name": "stdout",
     "output_type": "stream",
     "text": [
      "number of features: 7\n",
      "\n",
      "selected features : Index(['hh_education', 'age', 'Qsou_inform', 'Q501', 'Q504', 'Q5231', 'Q5232'], dtype='object')\n"
     ]
    }
   ],
   "source": [
    "from sklearn.feature_selection import SelectFromModel\n",
    "clf =SelectFromModel(RandomForestClassifier(n_estimators=200,n_jobs=-1,random_state=None))\n",
    "# Train the classifier\n",
    "clf.fit(x_train, y_train.values.ravel())\n",
    "clf.get_support()\n",
    "selected_feat=x_train.columns[(clf.get_support())]\n",
    "print(\"number of features:\",len(selected_feat))\n",
    "print()\n",
    "print(\"selected features :\",selected_feat)\n",
    "\n",
    "# Print the name and gini importance of each feature\n",
    "##for feature in zip(x_train.columns, clf.feature_importances_):\n",
    "  #  print(feature)"
   ]
  },
  {
   "cell_type": "code",
   "execution_count": 256,
   "metadata": {},
   "outputs": [
    {
     "data": {
      "text/plain": [
       "Index(['hh_education', 'age', 'Qsou_inform', 'Q501', 'Q504', 'Q5231', 'Q5232'], dtype='object')"
      ]
     },
     "execution_count": 256,
     "metadata": {},
     "output_type": "execute_result"
    }
   ],
   "source": [
    "selected_feat"
   ]
  },
  {
   "cell_type": "code",
   "execution_count": 257,
   "metadata": {},
   "outputs": [],
   "source": [
    "x_train_rf=x_train[selected_feat]\n",
    "x_test_rf=x_test[selected_feat]"
   ]
  },
  {
   "cell_type": "code",
   "execution_count": 258,
   "metadata": {},
   "outputs": [
    {
     "data": {
      "text/plain": [
       "((10900, 7), (2726, 7))"
      ]
     },
     "execution_count": 258,
     "metadata": {},
     "output_type": "execute_result"
    }
   ],
   "source": [
    "x_train_rf.shape,x_test_rf.shape"
   ]
  },
  {
   "cell_type": "code",
   "execution_count": 259,
   "metadata": {},
   "outputs": [
    {
     "name": "stdout",
     "output_type": "stream",
     "text": [
      "0.7677916360968452\n"
     ]
    }
   ],
   "source": [
    "#def run_randomForest(x_train_fc,x_test_fc,y_train,y_test):\n",
    "from sklearn.ensemble import RandomForestClassifier\n",
    "rf_=RandomForestClassifier(n_estimators=100,criterion=\"entropy\",max_depth=10,max_leaf_nodes=100)\n",
    "rf_.fit(x_train_rf,y_train.values.ravel())\n",
    "rf_=rf_.predict(x_test_rf)\n",
    "print(metrics.accuracy_score(y_test,rf_))"
   ]
  },
  {
   "cell_type": "code",
   "execution_count": 260,
   "metadata": {},
   "outputs": [],
   "source": [
    "#Using support vetor machine\n",
    "import warnings\n",
    "warnings.filterwarnings(\"ignore\", category=FutureWarning)\n",
    "from sklearn import svm\n",
    "Svm=svm.SVC()\n",
    "Svm.fit(x_train_rf,y_train.values.ravel())\n",
    "pred_Svm=Svm.predict(x_test_rf)"
   ]
  },
  {
   "cell_type": "code",
   "execution_count": 261,
   "metadata": {},
   "outputs": [
    {
     "name": "stdout",
     "output_type": "stream",
     "text": [
      " Therefore accuracy for SVM: 76.74247982391783\n"
     ]
    }
   ],
   "source": [
    "print(\" Therefore accuracy for SVM:\",(accuracy_score(y_test,pred_Svm))*100)"
   ]
  },
  {
   "cell_type": "code",
   "execution_count": 262,
   "metadata": {},
   "outputs": [
    {
     "name": "stdout",
     "output_type": "stream",
     "text": [
      "0.7542186353631695\n"
     ]
    }
   ],
   "source": [
    "from sklearn.neighbors import KNeighborsClassifier\n",
    "knn=KNeighborsClassifier(n_neighbors=11)\n",
    "knn.fit(x_train_mi_fc,y_train.values.ravel())\n",
    "y_pred=knn.predict(x_test_mi_fc)\n",
    "print (accuracy_score(y_test,y_pred))"
   ]
  },
  {
   "cell_type": "code",
   "execution_count": 263,
   "metadata": {},
   "outputs": [
    {
     "data": {
      "text/html": [
       "<div>\n",
       "<style scoped>\n",
       "    .dataframe tbody tr th:only-of-type {\n",
       "        vertical-align: middle;\n",
       "    }\n",
       "\n",
       "    .dataframe tbody tr th {\n",
       "        vertical-align: top;\n",
       "    }\n",
       "\n",
       "    .dataframe thead th {\n",
       "        text-align: right;\n",
       "    }\n",
       "</style>\n",
       "<table border=\"1\" class=\"dataframe\">\n",
       "  <thead>\n",
       "    <tr style=\"text-align: right;\">\n",
       "      <th></th>\n",
       "      <th>Accuracy</th>\n",
       "      <th>CV</th>\n",
       "      <th>Precision</th>\n",
       "      <th>ROC</th>\n",
       "      <th>Recall</th>\n",
       "    </tr>\n",
       "  </thead>\n",
       "  <tbody>\n",
       "    <tr>\n",
       "      <td>svm_mi</td>\n",
       "      <td>79.68</td>\n",
       "      <td>78.79</td>\n",
       "      <td>68.46</td>\n",
       "      <td>81.90</td>\n",
       "      <td>97.69</td>\n",
       "    </tr>\n",
       "    <tr>\n",
       "      <td>rf_mi</td>\n",
       "      <td>79.24</td>\n",
       "      <td>78.44</td>\n",
       "      <td>68.21</td>\n",
       "      <td>81.40</td>\n",
       "      <td>96.75</td>\n",
       "    </tr>\n",
       "    <tr>\n",
       "      <td>dt_mi</td>\n",
       "      <td>78.83</td>\n",
       "      <td>78.25</td>\n",
       "      <td>67.81</td>\n",
       "      <td>81.03</td>\n",
       "      <td>96.58</td>\n",
       "    </tr>\n",
       "    <tr>\n",
       "      <td>rf_chi</td>\n",
       "      <td>77.55</td>\n",
       "      <td>76.76</td>\n",
       "      <td>68.38</td>\n",
       "      <td>78.94</td>\n",
       "      <td>88.81</td>\n",
       "    </tr>\n",
       "    <tr>\n",
       "      <td>dt_chi</td>\n",
       "      <td>75.83</td>\n",
       "      <td>75.43</td>\n",
       "      <td>66.95</td>\n",
       "      <td>77.12</td>\n",
       "      <td>86.34</td>\n",
       "    </tr>\n",
       "    <tr>\n",
       "      <td>svm_chi</td>\n",
       "      <td>74.06</td>\n",
       "      <td>73.02</td>\n",
       "      <td>67.06</td>\n",
       "      <td>74.54</td>\n",
       "      <td>77.88</td>\n",
       "    </tr>\n",
       "  </tbody>\n",
       "</table>\n",
       "</div>"
      ],
      "text/plain": [
       "         Accuracy     CV  Precision    ROC  Recall\n",
       "svm_mi      79.68  78.79      68.46  81.90   97.69\n",
       "rf_mi       79.24  78.44      68.21  81.40   96.75\n",
       "dt_mi       78.83  78.25      67.81  81.03   96.58\n",
       "rf_chi      77.55  76.76      68.38  78.94   88.81\n",
       "dt_chi      75.83  75.43      66.95  77.12   86.34\n",
       "svm_chi     74.06  73.02      67.06  74.54   77.88"
      ]
     },
     "execution_count": 263,
     "metadata": {},
     "output_type": "execute_result"
    }
   ],
   "source": [
    "mi_chi"
   ]
  },
  {
   "cell_type": "code",
   "execution_count": 264,
   "metadata": {},
   "outputs": [
    {
     "data": {
      "text/html": [
       "<div>\n",
       "<style scoped>\n",
       "    .dataframe tbody tr th:only-of-type {\n",
       "        vertical-align: middle;\n",
       "    }\n",
       "\n",
       "    .dataframe tbody tr th {\n",
       "        vertical-align: top;\n",
       "    }\n",
       "\n",
       "    .dataframe thead th {\n",
       "        text-align: right;\n",
       "    }\n",
       "</style>\n",
       "<table border=\"1\" class=\"dataframe\">\n",
       "  <thead>\n",
       "    <tr style=\"text-align: right;\">\n",
       "      <th></th>\n",
       "      <th>mi_best</th>\n",
       "      <th>chi_best</th>\n",
       "    </tr>\n",
       "  </thead>\n",
       "  <tbody>\n",
       "    <tr>\n",
       "      <td>0</td>\n",
       "      <td>sex</td>\n",
       "      <td>hh_members</td>\n",
       "    </tr>\n",
       "    <tr>\n",
       "      <td>1</td>\n",
       "      <td>hh_education</td>\n",
       "      <td>hh_education</td>\n",
       "    </tr>\n",
       "    <tr>\n",
       "      <td>2</td>\n",
       "      <td>main_occupation</td>\n",
       "      <td>main_occupation</td>\n",
       "    </tr>\n",
       "    <tr>\n",
       "      <td>3</td>\n",
       "      <td>marital_status</td>\n",
       "      <td>marital_status</td>\n",
       "    </tr>\n",
       "    <tr>\n",
       "      <td>4</td>\n",
       "      <td>residence</td>\n",
       "      <td>residence</td>\n",
       "    </tr>\n",
       "    <tr>\n",
       "      <td>5</td>\n",
       "      <td>Q401</td>\n",
       "      <td>age</td>\n",
       "    </tr>\n",
       "    <tr>\n",
       "      <td>6</td>\n",
       "      <td>Q406</td>\n",
       "      <td>Q401</td>\n",
       "    </tr>\n",
       "    <tr>\n",
       "      <td>7</td>\n",
       "      <td>Q302</td>\n",
       "      <td>Q301</td>\n",
       "    </tr>\n",
       "    <tr>\n",
       "      <td>8</td>\n",
       "      <td>Q306</td>\n",
       "      <td>Q306</td>\n",
       "    </tr>\n",
       "    <tr>\n",
       "      <td>9</td>\n",
       "      <td>Q307</td>\n",
       "      <td>Q307</td>\n",
       "    </tr>\n",
       "    <tr>\n",
       "      <td>10</td>\n",
       "      <td>Q308m</td>\n",
       "      <td>Q308m</td>\n",
       "    </tr>\n",
       "    <tr>\n",
       "      <td>11</td>\n",
       "      <td>Qsou_inform</td>\n",
       "      <td>Qsou_inform</td>\n",
       "    </tr>\n",
       "    <tr>\n",
       "      <td>12</td>\n",
       "      <td>Q501</td>\n",
       "      <td>Q3099n</td>\n",
       "    </tr>\n",
       "    <tr>\n",
       "      <td>13</td>\n",
       "      <td>Q503</td>\n",
       "      <td>Q30911n</td>\n",
       "    </tr>\n",
       "    <tr>\n",
       "      <td>14</td>\n",
       "      <td>Q5231</td>\n",
       "      <td>Q501</td>\n",
       "    </tr>\n",
       "    <tr>\n",
       "      <td>15</td>\n",
       "      <td>Q5232</td>\n",
       "      <td>Q503</td>\n",
       "    </tr>\n",
       "    <tr>\n",
       "      <td>16</td>\n",
       "      <td>Q5233</td>\n",
       "      <td>Q5231</td>\n",
       "    </tr>\n",
       "    <tr>\n",
       "      <td>17</td>\n",
       "      <td>Q5234</td>\n",
       "      <td>Q5232</td>\n",
       "    </tr>\n",
       "  </tbody>\n",
       "</table>\n",
       "</div>"
      ],
      "text/plain": [
       "            mi_best         chi_best\n",
       "0               sex       hh_members\n",
       "1      hh_education     hh_education\n",
       "2   main_occupation  main_occupation\n",
       "3    marital_status   marital_status\n",
       "4         residence        residence\n",
       "5              Q401              age\n",
       "6              Q406             Q401\n",
       "7              Q302             Q301\n",
       "8              Q306             Q306\n",
       "9              Q307             Q307\n",
       "10            Q308m            Q308m\n",
       "11      Qsou_inform      Qsou_inform\n",
       "12             Q501           Q3099n\n",
       "13             Q503          Q30911n\n",
       "14            Q5231             Q501\n",
       "15            Q5232             Q503\n",
       "16            Q5233            Q5231\n",
       "17            Q5234            Q5232"
      ]
     },
     "execution_count": 264,
     "metadata": {},
     "output_type": "execute_result"
    }
   ],
   "source": [
    "df"
   ]
  },
  {
   "cell_type": "markdown",
   "metadata": {},
   "source": [
    "#### Wrapper Feature selction methods"
   ]
  },
  {
   "cell_type": "markdown",
   "metadata": {},
   "source": [
    "Library to install"
   ]
  },
  {
   "cell_type": "code",
   "execution_count": 265,
   "metadata": {},
   "outputs": [],
   "source": [
    "# command for pip  such as  pip \"install mlxtend\""
   ]
  },
  {
   "cell_type": "markdown",
   "metadata": {},
   "source": [
    "Forward Feature Selection\n",
    "Also known as step forward feature selection (or sequential forward feature selection — SFS), this is an iterative method in which we start by evaluating all features individually, and then select the one that results in the best performance."
   ]
  },
  {
   "cell_type": "code",
   "execution_count": 266,
   "metadata": {},
   "outputs": [],
   "source": [
    "#pip install mlxtend"
   ]
  },
  {
   "cell_type": "code",
   "execution_count": 267,
   "metadata": {},
   "outputs": [],
   "source": [
    "from sklearn.ensemble import RandomForestClassifier\n",
    "from mlxtend.feature_selection import SequentialFeatureSelector as SFS"
   ]
  },
  {
   "cell_type": "markdown",
   "metadata": {},
   "source": [
    "k_features: The maximum feature to be reached when starting from 0.\n",
    "forward: Use step forward or step backward feature selection.\n",
    "floating: step floating forward selection.\n",
    "scoring: evaluate model performance\n",
    "cv: The number of folds of K-fold cross-validation"
   ]
  },
  {
   "cell_type": "code",
   "execution_count": 268,
   "metadata": {},
   "outputs": [],
   "source": [
    "# create the SequentialFeatureSelector object, and configure the parameters.\n",
    "import warnings\n",
    "warnings.filterwarnings(\"ignore\", category=FutureWarning)\n",
    "\n",
    "sfs = SFS(RandomForestClassifier(max_depth=10,max_leaf_nodes=50,criterion='entropy',n_estimators=100), \n",
    "           k_features=18, \n",
    "           forward=True, \n",
    "           floating=False,\n",
    "           scoring='accuracy',\n",
    "           cv=10)"
   ]
  },
  {
   "cell_type": "code",
   "execution_count": 269,
   "metadata": {},
   "outputs": [],
   "source": [
    "# fit the object to the training data.\n",
    "sfs = sfs.fit(x_train,y_train.values.ravel())"
   ]
  },
  {
   "cell_type": "code",
   "execution_count": 270,
   "metadata": {},
   "outputs": [
    {
     "name": "stdout",
     "output_type": "stream",
     "text": [
      "Index(['hh_members', 'sex', 'main_occupation', 'altitude', 'Q401', 'Q406',\n",
      "       'Q301', 'Q304', 'Q307', 'Q308m', 'Qsou_inform', 'Q503', 'Q504', 'Q5231',\n",
      "       'Q5232', 'Q5233', 'Q5234', 'Q524'],\n",
      "      dtype='object')\n"
     ]
    }
   ],
   "source": [
    "# print the selected features.\n",
    "sfs_featueres = x_train.columns[list(sfs.k_feature_idx_)]\n",
    "print(sfs_featueres)"
   ]
  },
  {
   "cell_type": "code",
   "execution_count": 271,
   "metadata": {},
   "outputs": [
    {
     "name": "stdout",
     "output_type": "stream",
     "text": [
      "0.793211009174312\n"
     ]
    }
   ],
   "source": [
    "# print the final prediction score.\n",
    "print(sfs.k_score_)\n",
    "# transform to the newly selected features.\n",
    "x_train_sfs = sfs.transform(x_train)\n",
    "x_test_sfs = sfs.transform(x_test)"
   ]
  },
  {
   "cell_type": "code",
   "execution_count": 272,
   "metadata": {},
   "outputs": [
    {
     "data": {
      "text/plain": [
       "((10900, 18), (2726, 18))"
      ]
     },
     "execution_count": 272,
     "metadata": {},
     "output_type": "execute_result"
    }
   ],
   "source": [
    "x_train_sfs.shape,x_test_sfs.shape"
   ]
  },
  {
   "cell_type": "code",
   "execution_count": 273,
   "metadata": {},
   "outputs": [
    {
     "data": {
      "text/plain": [
       "array([[1, 1, 2, ..., 2, 2, 1],\n",
       "       [1, 0, 2, ..., 2, 2, 2],\n",
       "       [1, 1, 2, ..., 2, 2, 1],\n",
       "       ...,\n",
       "       [1, 1, 2, ..., 2, 2, 1],\n",
       "       [0, 1, 2, ..., 1, 2, 1],\n",
       "       [1, 1, 2, ..., 2, 2, 1]], dtype=int64)"
      ]
     },
     "execution_count": 273,
     "metadata": {},
     "output_type": "execute_result"
    }
   ],
   "source": [
    "x_train_sfs"
   ]
  },
  {
   "cell_type": "code",
   "execution_count": 274,
   "metadata": {},
   "outputs": [
    {
     "data": {
      "text/html": [
       "<div>\n",
       "<style scoped>\n",
       "    .dataframe tbody tr th:only-of-type {\n",
       "        vertical-align: middle;\n",
       "    }\n",
       "\n",
       "    .dataframe tbody tr th {\n",
       "        vertical-align: top;\n",
       "    }\n",
       "\n",
       "    .dataframe thead th {\n",
       "        text-align: right;\n",
       "    }\n",
       "</style>\n",
       "<table border=\"1\" class=\"dataframe\">\n",
       "  <thead>\n",
       "    <tr style=\"text-align: right;\">\n",
       "      <th></th>\n",
       "      <th>feature_idx</th>\n",
       "      <th>cv_scores</th>\n",
       "      <th>avg_score</th>\n",
       "      <th>feature_names</th>\n",
       "      <th>ci_bound</th>\n",
       "      <th>std_dev</th>\n",
       "      <th>std_err</th>\n",
       "    </tr>\n",
       "  </thead>\n",
       "  <tbody>\n",
       "    <tr>\n",
       "      <td>1</td>\n",
       "      <td>(24,)</td>\n",
       "      <td>[0.6559633027522935, 0.6513761467889908, 0.653...</td>\n",
       "      <td>0.646422</td>\n",
       "      <td>(Q5231,)</td>\n",
       "      <td>0.00519109</td>\n",
       "      <td>0.00698936</td>\n",
       "      <td>0.00232979</td>\n",
       "    </tr>\n",
       "    <tr>\n",
       "      <td>2</td>\n",
       "      <td>(24, 25)</td>\n",
       "      <td>[0.7495412844036697, 0.7623853211009174, 0.751...</td>\n",
       "      <td>0.748899</td>\n",
       "      <td>(Q5231, Q5232)</td>\n",
       "      <td>0.00648608</td>\n",
       "      <td>0.00873296</td>\n",
       "      <td>0.00291099</td>\n",
       "    </tr>\n",
       "    <tr>\n",
       "      <td>3</td>\n",
       "      <td>(24, 25, 27)</td>\n",
       "      <td>[0.7706422018348624, 0.7798165137614679, 0.769...</td>\n",
       "      <td>0.768807</td>\n",
       "      <td>(Q5231, Q5232, Q5234)</td>\n",
       "      <td>0.00666229</td>\n",
       "      <td>0.00897021</td>\n",
       "      <td>0.00299007</td>\n",
       "    </tr>\n",
       "    <tr>\n",
       "      <td>4</td>\n",
       "      <td>(24, 25, 26, 27)</td>\n",
       "      <td>[0.781651376146789, 0.8009174311926606, 0.7844...</td>\n",
       "      <td>0.785505</td>\n",
       "      <td>(Q5231, Q5232, Q5233, Q5234)</td>\n",
       "      <td>0.0063541</td>\n",
       "      <td>0.00855526</td>\n",
       "      <td>0.00285175</td>\n",
       "    </tr>\n",
       "    <tr>\n",
       "      <td>5</td>\n",
       "      <td>(1, 24, 25, 26, 27)</td>\n",
       "      <td>[0.781651376146789, 0.8009174311926606, 0.7844...</td>\n",
       "      <td>0.785505</td>\n",
       "      <td>(sex, Q5231, Q5232, Q5233, Q5234)</td>\n",
       "      <td>0.0063541</td>\n",
       "      <td>0.00855526</td>\n",
       "      <td>0.00285175</td>\n",
       "    </tr>\n",
       "    <tr>\n",
       "      <td>6</td>\n",
       "      <td>(1, 3, 24, 25, 26, 27)</td>\n",
       "      <td>[0.781651376146789, 0.8009174311926606, 0.7844...</td>\n",
       "      <td>0.785505</td>\n",
       "      <td>(sex, main_occupation, Q5231, Q5232, Q5233, Q5...</td>\n",
       "      <td>0.0063541</td>\n",
       "      <td>0.00855526</td>\n",
       "      <td>0.00285175</td>\n",
       "    </tr>\n",
       "    <tr>\n",
       "      <td>7</td>\n",
       "      <td>(1, 3, 16, 24, 25, 26, 27)</td>\n",
       "      <td>[0.781651376146789, 0.8, 0.7862385321100918, 0...</td>\n",
       "      <td>0.786239</td>\n",
       "      <td>(sex, main_occupation, Qsou_inform, Q5231, Q52...</td>\n",
       "      <td>0.00496993</td>\n",
       "      <td>0.00669159</td>\n",
       "      <td>0.00223053</td>\n",
       "    </tr>\n",
       "    <tr>\n",
       "      <td>8</td>\n",
       "      <td>(1, 3, 15, 16, 24, 25, 26, 27)</td>\n",
       "      <td>[0.7862385321100918, 0.8045871559633028, 0.788...</td>\n",
       "      <td>0.78789</td>\n",
       "      <td>(sex, main_occupation, Q308m, Qsou_inform, Q52...</td>\n",
       "      <td>0.00643398</td>\n",
       "      <td>0.0086628</td>\n",
       "      <td>0.0028876</td>\n",
       "    </tr>\n",
       "    <tr>\n",
       "      <td>9</td>\n",
       "      <td>(0, 1, 3, 15, 16, 24, 25, 26, 27)</td>\n",
       "      <td>[0.7880733944954128, 0.8, 0.7908256880733945, ...</td>\n",
       "      <td>0.788899</td>\n",
       "      <td>(hh_members, sex, main_occupation, Q308m, Qsou...</td>\n",
       "      <td>0.0051394</td>\n",
       "      <td>0.00691977</td>\n",
       "      <td>0.00230659</td>\n",
       "    </tr>\n",
       "    <tr>\n",
       "      <td>10</td>\n",
       "      <td>(0, 1, 3, 12, 15, 16, 24, 25, 26, 27)</td>\n",
       "      <td>[0.7880733944954128, 0.8, 0.789908256880734, 0...</td>\n",
       "      <td>0.789358</td>\n",
       "      <td>(hh_members, sex, main_occupation, Q304, Q308m...</td>\n",
       "      <td>0.00529733</td>\n",
       "      <td>0.0071324</td>\n",
       "      <td>0.00237747</td>\n",
       "    </tr>\n",
       "    <tr>\n",
       "      <td>11</td>\n",
       "      <td>(0, 1, 3, 12, 14, 15, 16, 24, 25, 26, 27)</td>\n",
       "      <td>[0.7926605504587156, 0.7990825688073394, 0.788...</td>\n",
       "      <td>0.790367</td>\n",
       "      <td>(hh_members, sex, main_occupation, Q304, Q307,...</td>\n",
       "      <td>0.00449148</td>\n",
       "      <td>0.0060474</td>\n",
       "      <td>0.0020158</td>\n",
       "    </tr>\n",
       "    <tr>\n",
       "      <td>12</td>\n",
       "      <td>(0, 1, 3, 12, 14, 15, 16, 23, 24, 25, 26, 27)</td>\n",
       "      <td>[0.7880733944954128, 0.8018348623853211, 0.788...</td>\n",
       "      <td>0.791101</td>\n",
       "      <td>(hh_members, sex, main_occupation, Q304, Q307,...</td>\n",
       "      <td>0.00456123</td>\n",
       "      <td>0.00614131</td>\n",
       "      <td>0.0020471</td>\n",
       "    </tr>\n",
       "    <tr>\n",
       "      <td>13</td>\n",
       "      <td>(0, 1, 3, 9, 12, 14, 15, 16, 23, 24, 25, 26, 27)</td>\n",
       "      <td>[0.7889908256880734, 0.7990825688073394, 0.788...</td>\n",
       "      <td>0.790642</td>\n",
       "      <td>(hh_members, sex, main_occupation, Q406, Q304,...</td>\n",
       "      <td>0.00461939</td>\n",
       "      <td>0.00621962</td>\n",
       "      <td>0.00207321</td>\n",
       "    </tr>\n",
       "    <tr>\n",
       "      <td>14</td>\n",
       "      <td>(0, 1, 3, 9, 12, 14, 15, 16, 23, 24, 25, 26, 2...</td>\n",
       "      <td>[0.7935779816513762, 0.8009174311926606, 0.792...</td>\n",
       "      <td>0.792202</td>\n",
       "      <td>(hh_members, sex, main_occupation, Q406, Q304,...</td>\n",
       "      <td>0.00571107</td>\n",
       "      <td>0.00768947</td>\n",
       "      <td>0.00256316</td>\n",
       "    </tr>\n",
       "    <tr>\n",
       "      <td>15</td>\n",
       "      <td>(0, 1, 3, 9, 10, 12, 14, 15, 16, 23, 24, 25, 2...</td>\n",
       "      <td>[0.789908256880734, 0.8018348623853211, 0.7954...</td>\n",
       "      <td>0.794037</td>\n",
       "      <td>(hh_members, sex, main_occupation, Q406, Q301,...</td>\n",
       "      <td>0.00446036</td>\n",
       "      <td>0.0060055</td>\n",
       "      <td>0.00200183</td>\n",
       "    </tr>\n",
       "    <tr>\n",
       "      <td>16</td>\n",
       "      <td>(0, 1, 3, 7, 9, 10, 12, 14, 15, 16, 23, 24, 25...</td>\n",
       "      <td>[0.789908256880734, 0.8045871559633028, 0.7889...</td>\n",
       "      <td>0.79211</td>\n",
       "      <td>(hh_members, sex, main_occupation, altitude, Q...</td>\n",
       "      <td>0.00602711</td>\n",
       "      <td>0.00811499</td>\n",
       "      <td>0.002705</td>\n",
       "    </tr>\n",
       "    <tr>\n",
       "      <td>17</td>\n",
       "      <td>(0, 1, 3, 7, 8, 9, 10, 12, 14, 15, 16, 23, 24,...</td>\n",
       "      <td>[0.7954128440366972, 0.8045871559633028, 0.791...</td>\n",
       "      <td>0.793394</td>\n",
       "      <td>(hh_members, sex, main_occupation, altitude, Q...</td>\n",
       "      <td>0.00481621</td>\n",
       "      <td>0.00648462</td>\n",
       "      <td>0.00216154</td>\n",
       "    </tr>\n",
       "    <tr>\n",
       "      <td>18</td>\n",
       "      <td>(0, 1, 3, 7, 8, 9, 10, 12, 14, 15, 16, 22, 23,...</td>\n",
       "      <td>[0.7944954128440367, 0.8045871559633028, 0.791...</td>\n",
       "      <td>0.793211</td>\n",
       "      <td>(hh_members, sex, main_occupation, altitude, Q...</td>\n",
       "      <td>0.00584725</td>\n",
       "      <td>0.00787282</td>\n",
       "      <td>0.00262427</td>\n",
       "    </tr>\n",
       "  </tbody>\n",
       "</table>\n",
       "</div>"
      ],
      "text/plain": [
       "                                          feature_idx  \\\n",
       "1                                               (24,)   \n",
       "2                                            (24, 25)   \n",
       "3                                        (24, 25, 27)   \n",
       "4                                    (24, 25, 26, 27)   \n",
       "5                                 (1, 24, 25, 26, 27)   \n",
       "6                              (1, 3, 24, 25, 26, 27)   \n",
       "7                          (1, 3, 16, 24, 25, 26, 27)   \n",
       "8                      (1, 3, 15, 16, 24, 25, 26, 27)   \n",
       "9                   (0, 1, 3, 15, 16, 24, 25, 26, 27)   \n",
       "10              (0, 1, 3, 12, 15, 16, 24, 25, 26, 27)   \n",
       "11          (0, 1, 3, 12, 14, 15, 16, 24, 25, 26, 27)   \n",
       "12      (0, 1, 3, 12, 14, 15, 16, 23, 24, 25, 26, 27)   \n",
       "13   (0, 1, 3, 9, 12, 14, 15, 16, 23, 24, 25, 26, 27)   \n",
       "14  (0, 1, 3, 9, 12, 14, 15, 16, 23, 24, 25, 26, 2...   \n",
       "15  (0, 1, 3, 9, 10, 12, 14, 15, 16, 23, 24, 25, 2...   \n",
       "16  (0, 1, 3, 7, 9, 10, 12, 14, 15, 16, 23, 24, 25...   \n",
       "17  (0, 1, 3, 7, 8, 9, 10, 12, 14, 15, 16, 23, 24,...   \n",
       "18  (0, 1, 3, 7, 8, 9, 10, 12, 14, 15, 16, 22, 23,...   \n",
       "\n",
       "                                            cv_scores avg_score  \\\n",
       "1   [0.6559633027522935, 0.6513761467889908, 0.653...  0.646422   \n",
       "2   [0.7495412844036697, 0.7623853211009174, 0.751...  0.748899   \n",
       "3   [0.7706422018348624, 0.7798165137614679, 0.769...  0.768807   \n",
       "4   [0.781651376146789, 0.8009174311926606, 0.7844...  0.785505   \n",
       "5   [0.781651376146789, 0.8009174311926606, 0.7844...  0.785505   \n",
       "6   [0.781651376146789, 0.8009174311926606, 0.7844...  0.785505   \n",
       "7   [0.781651376146789, 0.8, 0.7862385321100918, 0...  0.786239   \n",
       "8   [0.7862385321100918, 0.8045871559633028, 0.788...   0.78789   \n",
       "9   [0.7880733944954128, 0.8, 0.7908256880733945, ...  0.788899   \n",
       "10  [0.7880733944954128, 0.8, 0.789908256880734, 0...  0.789358   \n",
       "11  [0.7926605504587156, 0.7990825688073394, 0.788...  0.790367   \n",
       "12  [0.7880733944954128, 0.8018348623853211, 0.788...  0.791101   \n",
       "13  [0.7889908256880734, 0.7990825688073394, 0.788...  0.790642   \n",
       "14  [0.7935779816513762, 0.8009174311926606, 0.792...  0.792202   \n",
       "15  [0.789908256880734, 0.8018348623853211, 0.7954...  0.794037   \n",
       "16  [0.789908256880734, 0.8045871559633028, 0.7889...   0.79211   \n",
       "17  [0.7954128440366972, 0.8045871559633028, 0.791...  0.793394   \n",
       "18  [0.7944954128440367, 0.8045871559633028, 0.791...  0.793211   \n",
       "\n",
       "                                        feature_names    ci_bound     std_dev  \\\n",
       "1                                            (Q5231,)  0.00519109  0.00698936   \n",
       "2                                      (Q5231, Q5232)  0.00648608  0.00873296   \n",
       "3                               (Q5231, Q5232, Q5234)  0.00666229  0.00897021   \n",
       "4                        (Q5231, Q5232, Q5233, Q5234)   0.0063541  0.00855526   \n",
       "5                   (sex, Q5231, Q5232, Q5233, Q5234)   0.0063541  0.00855526   \n",
       "6   (sex, main_occupation, Q5231, Q5232, Q5233, Q5...   0.0063541  0.00855526   \n",
       "7   (sex, main_occupation, Qsou_inform, Q5231, Q52...  0.00496993  0.00669159   \n",
       "8   (sex, main_occupation, Q308m, Qsou_inform, Q52...  0.00643398   0.0086628   \n",
       "9   (hh_members, sex, main_occupation, Q308m, Qsou...   0.0051394  0.00691977   \n",
       "10  (hh_members, sex, main_occupation, Q304, Q308m...  0.00529733   0.0071324   \n",
       "11  (hh_members, sex, main_occupation, Q304, Q307,...  0.00449148   0.0060474   \n",
       "12  (hh_members, sex, main_occupation, Q304, Q307,...  0.00456123  0.00614131   \n",
       "13  (hh_members, sex, main_occupation, Q406, Q304,...  0.00461939  0.00621962   \n",
       "14  (hh_members, sex, main_occupation, Q406, Q304,...  0.00571107  0.00768947   \n",
       "15  (hh_members, sex, main_occupation, Q406, Q301,...  0.00446036   0.0060055   \n",
       "16  (hh_members, sex, main_occupation, altitude, Q...  0.00602711  0.00811499   \n",
       "17  (hh_members, sex, main_occupation, altitude, Q...  0.00481621  0.00648462   \n",
       "18  (hh_members, sex, main_occupation, altitude, Q...  0.00584725  0.00787282   \n",
       "\n",
       "       std_err  \n",
       "1   0.00232979  \n",
       "2   0.00291099  \n",
       "3   0.00299007  \n",
       "4   0.00285175  \n",
       "5   0.00285175  \n",
       "6   0.00285175  \n",
       "7   0.00223053  \n",
       "8    0.0028876  \n",
       "9   0.00230659  \n",
       "10  0.00237747  \n",
       "11   0.0020158  \n",
       "12   0.0020471  \n",
       "13  0.00207321  \n",
       "14  0.00256316  \n",
       "15  0.00200183  \n",
       "16    0.002705  \n",
       "17  0.00216154  \n",
       "18  0.00262427  "
      ]
     },
     "execution_count": 274,
     "metadata": {},
     "output_type": "execute_result"
    }
   ],
   "source": [
    "pd.DataFrame.from_dict(sfs.get_metric_dict()).T"
   ]
  },
  {
   "cell_type": "code",
   "execution_count": 275,
   "metadata": {},
   "outputs": [
    {
     "data": {
      "text/plain": [
       "Index(['hh_members', 'sex', 'main_occupation', 'altitude', 'Q401', 'Q406',\n",
       "       'Q301', 'Q304', 'Q307', 'Q308m', 'Qsou_inform', 'Q503', 'Q504', 'Q5231',\n",
       "       'Q5232', 'Q5233', 'Q5234', 'Q524'],\n",
       "      dtype='object')"
      ]
     },
     "execution_count": 275,
     "metadata": {},
     "output_type": "execute_result"
    }
   ],
   "source": [
    "sfs_featueres"
   ]
  },
  {
   "cell_type": "code",
   "execution_count": 276,
   "metadata": {},
   "outputs": [],
   "source": [
    "x_train_sfss=x_train[sfs_featueres]\n",
    "x_test_sfss=x_test[sfs_featueres]"
   ]
  },
  {
   "cell_type": "code",
   "execution_count": 277,
   "metadata": {},
   "outputs": [
    {
     "name": "stdout",
     "output_type": "stream",
     "text": [
      "0.7901687454145268\n"
     ]
    }
   ],
   "source": [
    "dt_sfs=DecisionTreeClassifier(criterion=\"entropy\",max_depth=10,max_leaf_nodes=50)\n",
    "dt_sfs.fit(x_train_sfss,y_train.values.ravel())\n",
    "dt_sfs=dt_sfs.predict(x_test_sfss)\n",
    "print(metrics.accuracy_score(y_test,dt_sfs))"
   ]
  },
  {
   "cell_type": "code",
   "execution_count": 278,
   "metadata": {},
   "outputs": [
    {
     "name": "stdout",
     "output_type": "stream",
     "text": [
      "0.7945707997065297\n"
     ]
    }
   ],
   "source": [
    "import warnings\n",
    "warnings.filterwarnings(\"ignore\", category=FutureWarning)\n",
    "from sklearn import svm\n",
    "svm_sfs=svm.SVC()\n",
    "svm_sfs.fit(x_train_sfss,y_train.values.ravel())\n",
    "svm_sfs=svm_sfs.predict(x_test_sfss)\n",
    "print(metrics.accuracy_score(y_test,svm_sfs))"
   ]
  },
  {
   "cell_type": "code",
   "execution_count": 279,
   "metadata": {},
   "outputs": [],
   "source": [
    "# just set forward=False for backward feature selection.\n",
    "# create theSequentialFeatureSelector object, and configure the parameters.\n",
    "from mlxtend.feature_selection import SequentialFeatureSelector\n",
    "\n",
    "# import the algorithm you want to evaluate on your features.\n",
    "from sklearn.ensemble import RandomForestClassifier\n",
    "\n",
    "sbs = SequentialFeatureSelector(RandomForestClassifier(max_depth=10,max_leaf_nodes=100,criterion='entropy',n_estimators=100,random_state=10), \n",
    "           k_features=18, \n",
    "           forward=False, \n",
    "           floating=False,\n",
    "           scoring='accuracy',\n",
    "           cv=10)"
   ]
  },
  {
   "cell_type": "code",
   "execution_count": 280,
   "metadata": {},
   "outputs": [],
   "source": [
    "# fit the object to our training data.\n",
    "sbs = sbs.fit(x_train, y_train.values.ravel())"
   ]
  },
  {
   "cell_type": "code",
   "execution_count": 281,
   "metadata": {},
   "outputs": [
    {
     "data": {
      "text/plain": [
       "Index(['hh_members', 'sex', 'hh_education', 'residence', 'age', 'altitude',\n",
       "       'Q401', 'Q304', 'Q306', 'Q307', 'Q308m', 'Qsou_inform', 'Q504', 'Q5231',\n",
       "       'Q5232', 'Q5233', 'Q5234', 'Q524'],\n",
       "      dtype='object')"
      ]
     },
     "execution_count": 281,
     "metadata": {},
     "output_type": "execute_result"
    }
   ],
   "source": [
    "# print the selected features. \n",
    "sbs_features = x_train.columns[list(sbs.k_feature_idx_)]\n",
    "sbs_features"
   ]
  },
  {
   "cell_type": "code",
   "execution_count": 282,
   "metadata": {},
   "outputs": [
    {
     "name": "stdout",
     "output_type": "stream",
     "text": [
      "0.7945871559633028\n"
     ]
    }
   ],
   "source": [
    "# print the final prediction score.\n",
    "print(sbs.k_score_)"
   ]
  },
  {
   "cell_type": "code",
   "execution_count": 283,
   "metadata": {},
   "outputs": [],
   "source": [
    "# transform to the newly selected features.\n",
    "x_train_sbs = sbs.transform(x_train)\n",
    "x_test_sbs = sbs.transform(x_test)"
   ]
  },
  {
   "cell_type": "code",
   "execution_count": 284,
   "metadata": {},
   "outputs": [
    {
     "data": {
      "text/html": [
       "<div>\n",
       "<style scoped>\n",
       "    .dataframe tbody tr th:only-of-type {\n",
       "        vertical-align: middle;\n",
       "    }\n",
       "\n",
       "    .dataframe tbody tr th {\n",
       "        vertical-align: top;\n",
       "    }\n",
       "\n",
       "    .dataframe thead th {\n",
       "        text-align: right;\n",
       "    }\n",
       "</style>\n",
       "<table border=\"1\" class=\"dataframe\">\n",
       "  <thead>\n",
       "    <tr style=\"text-align: right;\">\n",
       "      <th></th>\n",
       "      <th>feature_idx</th>\n",
       "      <th>cv_scores</th>\n",
       "      <th>avg_score</th>\n",
       "      <th>feature_names</th>\n",
       "      <th>ci_bound</th>\n",
       "      <th>std_dev</th>\n",
       "      <th>std_err</th>\n",
       "    </tr>\n",
       "  </thead>\n",
       "  <tbody>\n",
       "    <tr>\n",
       "      <td>31</td>\n",
       "      <td>(0, 1, 2, 3, 4, 5, 6, 7, 8, 9, 10, 11, 12, 13,...</td>\n",
       "      <td>[0.7788990825688074, 0.8027522935779816, 0.798...</td>\n",
       "      <td>0.793394</td>\n",
       "      <td>(hh_members, sex, hh_education, main_occupatio...</td>\n",
       "      <td>0.00741305</td>\n",
       "      <td>0.00998104</td>\n",
       "      <td>0.00332701</td>\n",
       "    </tr>\n",
       "    <tr>\n",
       "      <td>30</td>\n",
       "      <td>(0, 1, 2, 4, 5, 6, 7, 8, 9, 10, 11, 12, 13, 14...</td>\n",
       "      <td>[0.7853211009174312, 0.8045871559633028, 0.800...</td>\n",
       "      <td>0.795321</td>\n",
       "      <td>(hh_members, sex, hh_education, marital_status...</td>\n",
       "      <td>0.00687122</td>\n",
       "      <td>0.00925151</td>\n",
       "      <td>0.00308384</td>\n",
       "    </tr>\n",
       "    <tr>\n",
       "      <td>29</td>\n",
       "      <td>(0, 1, 2, 4, 5, 6, 7, 8, 9, 10, 12, 13, 14, 15...</td>\n",
       "      <td>[0.7844036697247706, 0.808256880733945, 0.7954...</td>\n",
       "      <td>0.794954</td>\n",
       "      <td>(hh_members, sex, hh_education, marital_status...</td>\n",
       "      <td>0.00704339</td>\n",
       "      <td>0.00948333</td>\n",
       "      <td>0.00316111</td>\n",
       "    </tr>\n",
       "    <tr>\n",
       "      <td>28</td>\n",
       "      <td>(0, 1, 2, 4, 5, 6, 7, 8, 9, 10, 12, 13, 14, 15...</td>\n",
       "      <td>[0.7871559633027523, 0.8036697247706422, 0.795...</td>\n",
       "      <td>0.795046</td>\n",
       "      <td>(hh_members, sex, hh_education, marital_status...</td>\n",
       "      <td>0.00607315</td>\n",
       "      <td>0.00817698</td>\n",
       "      <td>0.00272566</td>\n",
       "    </tr>\n",
       "    <tr>\n",
       "      <td>27</td>\n",
       "      <td>(0, 1, 2, 4, 5, 6, 7, 8, 9, 10, 12, 13, 14, 15...</td>\n",
       "      <td>[0.7871559633027523, 0.8, 0.7972477064220184, ...</td>\n",
       "      <td>0.794862</td>\n",
       "      <td>(hh_members, sex, hh_education, marital_status...</td>\n",
       "      <td>0.00644407</td>\n",
       "      <td>0.0086764</td>\n",
       "      <td>0.00289213</td>\n",
       "    </tr>\n",
       "    <tr>\n",
       "      <td>26</td>\n",
       "      <td>(0, 1, 2, 4, 5, 6, 7, 8, 9, 10, 12, 13, 14, 15...</td>\n",
       "      <td>[0.7871559633027523, 0.8119266055045872, 0.799...</td>\n",
       "      <td>0.795688</td>\n",
       "      <td>(hh_members, sex, hh_education, marital_status...</td>\n",
       "      <td>0.00726278</td>\n",
       "      <td>0.00977871</td>\n",
       "      <td>0.00325957</td>\n",
       "    </tr>\n",
       "    <tr>\n",
       "      <td>25</td>\n",
       "      <td>(0, 1, 2, 4, 5, 6, 7, 8, 9, 10, 12, 13, 14, 15...</td>\n",
       "      <td>[0.7880733944954128, 0.8110091743119267, 0.795...</td>\n",
       "      <td>0.794404</td>\n",
       "      <td>(hh_members, sex, hh_education, marital_status...</td>\n",
       "      <td>0.00660946</td>\n",
       "      <td>0.00889908</td>\n",
       "      <td>0.00296636</td>\n",
       "    </tr>\n",
       "    <tr>\n",
       "      <td>24</td>\n",
       "      <td>(0, 1, 2, 5, 6, 7, 8, 9, 10, 12, 13, 14, 15, 1...</td>\n",
       "      <td>[0.7908256880733945, 0.808256880733945, 0.7963...</td>\n",
       "      <td>0.796422</td>\n",
       "      <td>(hh_members, sex, hh_education, residence, age...</td>\n",
       "      <td>0.00602903</td>\n",
       "      <td>0.00811758</td>\n",
       "      <td>0.00270586</td>\n",
       "    </tr>\n",
       "    <tr>\n",
       "      <td>23</td>\n",
       "      <td>(0, 1, 2, 5, 6, 7, 8, 9, 10, 12, 13, 14, 15, 1...</td>\n",
       "      <td>[0.7889908256880734, 0.8091743119266055, 0.796...</td>\n",
       "      <td>0.795596</td>\n",
       "      <td>(hh_members, sex, hh_education, residence, age...</td>\n",
       "      <td>0.00639053</td>\n",
       "      <td>0.00860431</td>\n",
       "      <td>0.0028681</td>\n",
       "    </tr>\n",
       "    <tr>\n",
       "      <td>22</td>\n",
       "      <td>(0, 1, 2, 5, 6, 7, 8, 10, 12, 13, 14, 15, 16, ...</td>\n",
       "      <td>[0.7935779816513762, 0.808256880733945, 0.7954...</td>\n",
       "      <td>0.795688</td>\n",
       "      <td>(hh_members, sex, hh_education, residence, age...</td>\n",
       "      <td>0.00560273</td>\n",
       "      <td>0.00754361</td>\n",
       "      <td>0.00251454</td>\n",
       "    </tr>\n",
       "    <tr>\n",
       "      <td>21</td>\n",
       "      <td>(0, 1, 2, 5, 6, 7, 8, 10, 12, 13, 14, 15, 16, ...</td>\n",
       "      <td>[0.7889908256880734, 0.8036697247706422, 0.797...</td>\n",
       "      <td>0.794587</td>\n",
       "      <td>(hh_members, sex, hh_education, residence, age...</td>\n",
       "      <td>0.00743588</td>\n",
       "      <td>0.0100118</td>\n",
       "      <td>0.00333726</td>\n",
       "    </tr>\n",
       "    <tr>\n",
       "      <td>20</td>\n",
       "      <td>(0, 1, 2, 5, 6, 7, 8, 12, 13, 14, 15, 16, 18, ...</td>\n",
       "      <td>[0.7908256880733945, 0.8055045871559633, 0.796...</td>\n",
       "      <td>0.794954</td>\n",
       "      <td>(hh_members, sex, hh_education, residence, age...</td>\n",
       "      <td>0.0055961</td>\n",
       "      <td>0.00753467</td>\n",
       "      <td>0.00251156</td>\n",
       "    </tr>\n",
       "    <tr>\n",
       "      <td>19</td>\n",
       "      <td>(0, 1, 2, 5, 6, 7, 8, 12, 13, 14, 15, 16, 23, ...</td>\n",
       "      <td>[0.7944954128440367, 0.8055045871559633, 0.791...</td>\n",
       "      <td>0.794771</td>\n",
       "      <td>(hh_members, sex, hh_education, residence, age...</td>\n",
       "      <td>0.00586983</td>\n",
       "      <td>0.00790323</td>\n",
       "      <td>0.00263441</td>\n",
       "    </tr>\n",
       "    <tr>\n",
       "      <td>18</td>\n",
       "      <td>(0, 1, 2, 5, 6, 7, 8, 12, 13, 14, 15, 16, 23, ...</td>\n",
       "      <td>[0.7935779816513762, 0.808256880733945, 0.7926...</td>\n",
       "      <td>0.794587</td>\n",
       "      <td>(hh_members, sex, hh_education, residence, age...</td>\n",
       "      <td>0.00576126</td>\n",
       "      <td>0.00775704</td>\n",
       "      <td>0.00258568</td>\n",
       "    </tr>\n",
       "  </tbody>\n",
       "</table>\n",
       "</div>"
      ],
      "text/plain": [
       "                                          feature_idx  \\\n",
       "31  (0, 1, 2, 3, 4, 5, 6, 7, 8, 9, 10, 11, 12, 13,...   \n",
       "30  (0, 1, 2, 4, 5, 6, 7, 8, 9, 10, 11, 12, 13, 14...   \n",
       "29  (0, 1, 2, 4, 5, 6, 7, 8, 9, 10, 12, 13, 14, 15...   \n",
       "28  (0, 1, 2, 4, 5, 6, 7, 8, 9, 10, 12, 13, 14, 15...   \n",
       "27  (0, 1, 2, 4, 5, 6, 7, 8, 9, 10, 12, 13, 14, 15...   \n",
       "26  (0, 1, 2, 4, 5, 6, 7, 8, 9, 10, 12, 13, 14, 15...   \n",
       "25  (0, 1, 2, 4, 5, 6, 7, 8, 9, 10, 12, 13, 14, 15...   \n",
       "24  (0, 1, 2, 5, 6, 7, 8, 9, 10, 12, 13, 14, 15, 1...   \n",
       "23  (0, 1, 2, 5, 6, 7, 8, 9, 10, 12, 13, 14, 15, 1...   \n",
       "22  (0, 1, 2, 5, 6, 7, 8, 10, 12, 13, 14, 15, 16, ...   \n",
       "21  (0, 1, 2, 5, 6, 7, 8, 10, 12, 13, 14, 15, 16, ...   \n",
       "20  (0, 1, 2, 5, 6, 7, 8, 12, 13, 14, 15, 16, 18, ...   \n",
       "19  (0, 1, 2, 5, 6, 7, 8, 12, 13, 14, 15, 16, 23, ...   \n",
       "18  (0, 1, 2, 5, 6, 7, 8, 12, 13, 14, 15, 16, 23, ...   \n",
       "\n",
       "                                            cv_scores avg_score  \\\n",
       "31  [0.7788990825688074, 0.8027522935779816, 0.798...  0.793394   \n",
       "30  [0.7853211009174312, 0.8045871559633028, 0.800...  0.795321   \n",
       "29  [0.7844036697247706, 0.808256880733945, 0.7954...  0.794954   \n",
       "28  [0.7871559633027523, 0.8036697247706422, 0.795...  0.795046   \n",
       "27  [0.7871559633027523, 0.8, 0.7972477064220184, ...  0.794862   \n",
       "26  [0.7871559633027523, 0.8119266055045872, 0.799...  0.795688   \n",
       "25  [0.7880733944954128, 0.8110091743119267, 0.795...  0.794404   \n",
       "24  [0.7908256880733945, 0.808256880733945, 0.7963...  0.796422   \n",
       "23  [0.7889908256880734, 0.8091743119266055, 0.796...  0.795596   \n",
       "22  [0.7935779816513762, 0.808256880733945, 0.7954...  0.795688   \n",
       "21  [0.7889908256880734, 0.8036697247706422, 0.797...  0.794587   \n",
       "20  [0.7908256880733945, 0.8055045871559633, 0.796...  0.794954   \n",
       "19  [0.7944954128440367, 0.8055045871559633, 0.791...  0.794771   \n",
       "18  [0.7935779816513762, 0.808256880733945, 0.7926...  0.794587   \n",
       "\n",
       "                                        feature_names    ci_bound     std_dev  \\\n",
       "31  (hh_members, sex, hh_education, main_occupatio...  0.00741305  0.00998104   \n",
       "30  (hh_members, sex, hh_education, marital_status...  0.00687122  0.00925151   \n",
       "29  (hh_members, sex, hh_education, marital_status...  0.00704339  0.00948333   \n",
       "28  (hh_members, sex, hh_education, marital_status...  0.00607315  0.00817698   \n",
       "27  (hh_members, sex, hh_education, marital_status...  0.00644407   0.0086764   \n",
       "26  (hh_members, sex, hh_education, marital_status...  0.00726278  0.00977871   \n",
       "25  (hh_members, sex, hh_education, marital_status...  0.00660946  0.00889908   \n",
       "24  (hh_members, sex, hh_education, residence, age...  0.00602903  0.00811758   \n",
       "23  (hh_members, sex, hh_education, residence, age...  0.00639053  0.00860431   \n",
       "22  (hh_members, sex, hh_education, residence, age...  0.00560273  0.00754361   \n",
       "21  (hh_members, sex, hh_education, residence, age...  0.00743588   0.0100118   \n",
       "20  (hh_members, sex, hh_education, residence, age...   0.0055961  0.00753467   \n",
       "19  (hh_members, sex, hh_education, residence, age...  0.00586983  0.00790323   \n",
       "18  (hh_members, sex, hh_education, residence, age...  0.00576126  0.00775704   \n",
       "\n",
       "       std_err  \n",
       "31  0.00332701  \n",
       "30  0.00308384  \n",
       "29  0.00316111  \n",
       "28  0.00272566  \n",
       "27  0.00289213  \n",
       "26  0.00325957  \n",
       "25  0.00296636  \n",
       "24  0.00270586  \n",
       "23   0.0028681  \n",
       "22  0.00251454  \n",
       "21  0.00333726  \n",
       "20  0.00251156  \n",
       "19  0.00263441  \n",
       "18  0.00258568  "
      ]
     },
     "execution_count": 284,
     "metadata": {},
     "output_type": "execute_result"
    }
   ],
   "source": [
    "pd.DataFrame.from_dict(sbs.get_metric_dict()).T"
   ]
  },
  {
   "cell_type": "code",
   "execution_count": 285,
   "metadata": {},
   "outputs": [
    {
     "data": {
      "text/plain": [
       "array([[1, 1, 1, ..., 2, 2, 1],\n",
       "       [1, 0, 0, ..., 2, 2, 2],\n",
       "       [1, 1, 0, ..., 2, 2, 1],\n",
       "       ...,\n",
       "       [1, 1, 0, ..., 2, 2, 1],\n",
       "       [0, 1, 0, ..., 1, 2, 1],\n",
       "       [1, 1, 1, ..., 2, 2, 1]], dtype=int64)"
      ]
     },
     "execution_count": 285,
     "metadata": {},
     "output_type": "execute_result"
    }
   ],
   "source": [
    "x_train_sbs"
   ]
  },
  {
   "cell_type": "code",
   "execution_count": 286,
   "metadata": {},
   "outputs": [
    {
     "data": {
      "text/html": [
       "<div>\n",
       "<style scoped>\n",
       "    .dataframe tbody tr th:only-of-type {\n",
       "        vertical-align: middle;\n",
       "    }\n",
       "\n",
       "    .dataframe tbody tr th {\n",
       "        vertical-align: top;\n",
       "    }\n",
       "\n",
       "    .dataframe thead th {\n",
       "        text-align: right;\n",
       "    }\n",
       "</style>\n",
       "<table border=\"1\" class=\"dataframe\">\n",
       "  <thead>\n",
       "    <tr style=\"text-align: right;\">\n",
       "      <th></th>\n",
       "      <th>SFFS</th>\n",
       "      <th>SBFS</th>\n",
       "    </tr>\n",
       "  </thead>\n",
       "  <tbody>\n",
       "    <tr>\n",
       "      <td>0</td>\n",
       "      <td>hh_members</td>\n",
       "      <td>hh_members</td>\n",
       "    </tr>\n",
       "    <tr>\n",
       "      <td>1</td>\n",
       "      <td>sex</td>\n",
       "      <td>sex</td>\n",
       "    </tr>\n",
       "    <tr>\n",
       "      <td>2</td>\n",
       "      <td>main_occupation</td>\n",
       "      <td>hh_education</td>\n",
       "    </tr>\n",
       "    <tr>\n",
       "      <td>3</td>\n",
       "      <td>altitude</td>\n",
       "      <td>residence</td>\n",
       "    </tr>\n",
       "    <tr>\n",
       "      <td>4</td>\n",
       "      <td>Q401</td>\n",
       "      <td>age</td>\n",
       "    </tr>\n",
       "    <tr>\n",
       "      <td>5</td>\n",
       "      <td>Q406</td>\n",
       "      <td>altitude</td>\n",
       "    </tr>\n",
       "    <tr>\n",
       "      <td>6</td>\n",
       "      <td>Q301</td>\n",
       "      <td>Q401</td>\n",
       "    </tr>\n",
       "    <tr>\n",
       "      <td>7</td>\n",
       "      <td>Q304</td>\n",
       "      <td>Q304</td>\n",
       "    </tr>\n",
       "    <tr>\n",
       "      <td>8</td>\n",
       "      <td>Q307</td>\n",
       "      <td>Q306</td>\n",
       "    </tr>\n",
       "    <tr>\n",
       "      <td>9</td>\n",
       "      <td>Q308m</td>\n",
       "      <td>Q307</td>\n",
       "    </tr>\n",
       "    <tr>\n",
       "      <td>10</td>\n",
       "      <td>Qsou_inform</td>\n",
       "      <td>Q308m</td>\n",
       "    </tr>\n",
       "    <tr>\n",
       "      <td>11</td>\n",
       "      <td>Q503</td>\n",
       "      <td>Qsou_inform</td>\n",
       "    </tr>\n",
       "    <tr>\n",
       "      <td>12</td>\n",
       "      <td>Q504</td>\n",
       "      <td>Q504</td>\n",
       "    </tr>\n",
       "    <tr>\n",
       "      <td>13</td>\n",
       "      <td>Q5231</td>\n",
       "      <td>Q5231</td>\n",
       "    </tr>\n",
       "    <tr>\n",
       "      <td>14</td>\n",
       "      <td>Q5232</td>\n",
       "      <td>Q5232</td>\n",
       "    </tr>\n",
       "    <tr>\n",
       "      <td>15</td>\n",
       "      <td>Q5233</td>\n",
       "      <td>Q5233</td>\n",
       "    </tr>\n",
       "    <tr>\n",
       "      <td>16</td>\n",
       "      <td>Q5234</td>\n",
       "      <td>Q5234</td>\n",
       "    </tr>\n",
       "    <tr>\n",
       "      <td>17</td>\n",
       "      <td>Q524</td>\n",
       "      <td>Q524</td>\n",
       "    </tr>\n",
       "  </tbody>\n",
       "</table>\n",
       "</div>"
      ],
      "text/plain": [
       "               SFFS          SBFS\n",
       "0        hh_members    hh_members\n",
       "1               sex           sex\n",
       "2   main_occupation  hh_education\n",
       "3          altitude     residence\n",
       "4              Q401           age\n",
       "5              Q406      altitude\n",
       "6              Q301          Q401\n",
       "7              Q304          Q304\n",
       "8              Q307          Q306\n",
       "9             Q308m          Q307\n",
       "10      Qsou_inform         Q308m\n",
       "11             Q503   Qsou_inform\n",
       "12             Q504          Q504\n",
       "13            Q5231         Q5231\n",
       "14            Q5232         Q5232\n",
       "15            Q5233         Q5233\n",
       "16            Q5234         Q5234\n",
       "17             Q524          Q524"
      ]
     },
     "execution_count": 286,
     "metadata": {},
     "output_type": "execute_result"
    }
   ],
   "source": [
    "SFS = pd.DataFrame({'SFFS': sfs_featueres,\n",
    "                  \n",
    "                 'SBFS':sbs_features,\n",
    "                  },\n",
    "       columns=['SFFS','SBFS'])\n",
    "SFS "
   ]
  },
  {
   "cell_type": "code",
   "execution_count": 287,
   "metadata": {},
   "outputs": [
    {
     "data": {
      "text/html": [
       "<div>\n",
       "<style scoped>\n",
       "    .dataframe tbody tr th:only-of-type {\n",
       "        vertical-align: middle;\n",
       "    }\n",
       "\n",
       "    .dataframe tbody tr th {\n",
       "        vertical-align: top;\n",
       "    }\n",
       "\n",
       "    .dataframe thead th {\n",
       "        text-align: right;\n",
       "    }\n",
       "</style>\n",
       "<table border=\"1\" class=\"dataframe\">\n",
       "  <thead>\n",
       "    <tr style=\"text-align: right;\">\n",
       "      <th></th>\n",
       "      <th>SFFS</th>\n",
       "      <th>SBFS</th>\n",
       "    </tr>\n",
       "  </thead>\n",
       "  <tbody>\n",
       "    <tr>\n",
       "      <td>Acc:SFS</td>\n",
       "      <td>0.793211</td>\n",
       "      <td>0.794587</td>\n",
       "    </tr>\n",
       "  </tbody>\n",
       "</table>\n",
       "</div>"
      ],
      "text/plain": [
       "             SFFS      SBFS\n",
       "Acc:SFS  0.793211  0.794587"
      ]
     },
     "execution_count": 287,
     "metadata": {},
     "output_type": "execute_result"
    }
   ],
   "source": [
    "SFS_scores = pd.DataFrame({'SFFS':sfs.k_score_,\n",
    "                   'SBFS':sbs.k_score_},\n",
    "       columns=['SFFS','SBFS'],index=[\"Acc:SFS\"])\n",
    "SFS_scores"
   ]
  },
  {
   "cell_type": "code",
   "execution_count": 288,
   "metadata": {},
   "outputs": [
    {
     "data": {
      "text/html": [
       "<div>\n",
       "<style scoped>\n",
       "    .dataframe tbody tr th:only-of-type {\n",
       "        vertical-align: middle;\n",
       "    }\n",
       "\n",
       "    .dataframe tbody tr th {\n",
       "        vertical-align: top;\n",
       "    }\n",
       "\n",
       "    .dataframe thead th {\n",
       "        text-align: right;\n",
       "    }\n",
       "</style>\n",
       "<table border=\"1\" class=\"dataframe\">\n",
       "  <thead>\n",
       "    <tr style=\"text-align: right;\">\n",
       "      <th></th>\n",
       "      <th>SFFS</th>\n",
       "      <th>SBFS</th>\n",
       "    </tr>\n",
       "  </thead>\n",
       "  <tbody>\n",
       "    <tr>\n",
       "      <td>0</td>\n",
       "      <td>hh_members</td>\n",
       "      <td>hh_members</td>\n",
       "    </tr>\n",
       "    <tr>\n",
       "      <td>1</td>\n",
       "      <td>sex</td>\n",
       "      <td>sex</td>\n",
       "    </tr>\n",
       "    <tr>\n",
       "      <td>2</td>\n",
       "      <td>main_occupation</td>\n",
       "      <td>hh_education</td>\n",
       "    </tr>\n",
       "    <tr>\n",
       "      <td>3</td>\n",
       "      <td>altitude</td>\n",
       "      <td>residence</td>\n",
       "    </tr>\n",
       "    <tr>\n",
       "      <td>4</td>\n",
       "      <td>Q401</td>\n",
       "      <td>age</td>\n",
       "    </tr>\n",
       "    <tr>\n",
       "      <td>5</td>\n",
       "      <td>Q406</td>\n",
       "      <td>altitude</td>\n",
       "    </tr>\n",
       "    <tr>\n",
       "      <td>6</td>\n",
       "      <td>Q301</td>\n",
       "      <td>Q401</td>\n",
       "    </tr>\n",
       "    <tr>\n",
       "      <td>7</td>\n",
       "      <td>Q304</td>\n",
       "      <td>Q304</td>\n",
       "    </tr>\n",
       "    <tr>\n",
       "      <td>8</td>\n",
       "      <td>Q307</td>\n",
       "      <td>Q306</td>\n",
       "    </tr>\n",
       "    <tr>\n",
       "      <td>9</td>\n",
       "      <td>Q308m</td>\n",
       "      <td>Q307</td>\n",
       "    </tr>\n",
       "    <tr>\n",
       "      <td>10</td>\n",
       "      <td>Qsou_inform</td>\n",
       "      <td>Q308m</td>\n",
       "    </tr>\n",
       "    <tr>\n",
       "      <td>11</td>\n",
       "      <td>Q503</td>\n",
       "      <td>Qsou_inform</td>\n",
       "    </tr>\n",
       "    <tr>\n",
       "      <td>12</td>\n",
       "      <td>Q504</td>\n",
       "      <td>Q504</td>\n",
       "    </tr>\n",
       "    <tr>\n",
       "      <td>13</td>\n",
       "      <td>Q5231</td>\n",
       "      <td>Q5231</td>\n",
       "    </tr>\n",
       "    <tr>\n",
       "      <td>14</td>\n",
       "      <td>Q5232</td>\n",
       "      <td>Q5232</td>\n",
       "    </tr>\n",
       "    <tr>\n",
       "      <td>15</td>\n",
       "      <td>Q5233</td>\n",
       "      <td>Q5233</td>\n",
       "    </tr>\n",
       "    <tr>\n",
       "      <td>16</td>\n",
       "      <td>Q5234</td>\n",
       "      <td>Q5234</td>\n",
       "    </tr>\n",
       "    <tr>\n",
       "      <td>17</td>\n",
       "      <td>Q524</td>\n",
       "      <td>Q524</td>\n",
       "    </tr>\n",
       "    <tr>\n",
       "      <td>Acc:SFS</td>\n",
       "      <td>0.793211</td>\n",
       "      <td>0.794587</td>\n",
       "    </tr>\n",
       "  </tbody>\n",
       "</table>\n",
       "</div>"
      ],
      "text/plain": [
       "                    SFFS          SBFS\n",
       "0             hh_members    hh_members\n",
       "1                    sex           sex\n",
       "2        main_occupation  hh_education\n",
       "3               altitude     residence\n",
       "4                   Q401           age\n",
       "5                   Q406      altitude\n",
       "6                   Q301          Q401\n",
       "7                   Q304          Q304\n",
       "8                   Q307          Q306\n",
       "9                  Q308m          Q307\n",
       "10           Qsou_inform         Q308m\n",
       "11                  Q503   Qsou_inform\n",
       "12                  Q504          Q504\n",
       "13                 Q5231         Q5231\n",
       "14                 Q5232         Q5232\n",
       "15                 Q5233         Q5233\n",
       "16                 Q5234         Q5234\n",
       "17                  Q524          Q524\n",
       "Acc:SFS         0.793211      0.794587"
      ]
     },
     "execution_count": 288,
     "metadata": {},
     "output_type": "execute_result"
    }
   ],
   "source": [
    "wrapper_SFS=pd.concat([SFS,SFS_scores])\n",
    "wrapper_SFS"
   ]
  },
  {
   "cell_type": "code",
   "execution_count": 289,
   "metadata": {},
   "outputs": [],
   "source": [
    "SFS = pd.DataFrame({'SFFS': sfs_featueres,\n",
    "                  \n",
    "                 'SBFS':sbs_features,\n",
    "                  },\n",
    "       columns=['SFFS','SBFS'])\n",
    " "
   ]
  },
  {
   "cell_type": "code",
   "execution_count": 290,
   "metadata": {},
   "outputs": [
    {
     "data": {
      "text/html": [
       "<div>\n",
       "<style scoped>\n",
       "    .dataframe tbody tr th:only-of-type {\n",
       "        vertical-align: middle;\n",
       "    }\n",
       "\n",
       "    .dataframe tbody tr th {\n",
       "        vertical-align: top;\n",
       "    }\n",
       "\n",
       "    .dataframe thead th {\n",
       "        text-align: right;\n",
       "    }\n",
       "</style>\n",
       "<table border=\"1\" class=\"dataframe\">\n",
       "  <thead>\n",
       "    <tr style=\"text-align: right;\">\n",
       "      <th></th>\n",
       "      <th>SFFS</th>\n",
       "      <th>SBFS</th>\n",
       "    </tr>\n",
       "  </thead>\n",
       "  <tbody>\n",
       "    <tr>\n",
       "      <td>Acc:SFS</td>\n",
       "      <td>0.793211</td>\n",
       "      <td>0.794587</td>\n",
       "    </tr>\n",
       "  </tbody>\n",
       "</table>\n",
       "</div>"
      ],
      "text/plain": [
       "             SFFS      SBFS\n",
       "Acc:SFS  0.793211  0.794587"
      ]
     },
     "execution_count": 290,
     "metadata": {},
     "output_type": "execute_result"
    }
   ],
   "source": [
    "SFS_scores = pd.DataFrame({'SFFS':sfs.k_score_,\n",
    "                   'SBFS':sbs.k_score_},\n",
    "       columns=['SFFS','SBFS'],index=[\"Acc:SFS\"])\n",
    "SFS_scores"
   ]
  },
  {
   "cell_type": "code",
   "execution_count": 291,
   "metadata": {},
   "outputs": [
    {
     "data": {
      "text/html": [
       "<div>\n",
       "<style scoped>\n",
       "    .dataframe tbody tr th:only-of-type {\n",
       "        vertical-align: middle;\n",
       "    }\n",
       "\n",
       "    .dataframe tbody tr th {\n",
       "        vertical-align: top;\n",
       "    }\n",
       "\n",
       "    .dataframe thead th {\n",
       "        text-align: right;\n",
       "    }\n",
       "</style>\n",
       "<table border=\"1\" class=\"dataframe\">\n",
       "  <thead>\n",
       "    <tr style=\"text-align: right;\">\n",
       "      <th></th>\n",
       "      <th>SFFS</th>\n",
       "      <th>SBFS</th>\n",
       "    </tr>\n",
       "  </thead>\n",
       "  <tbody>\n",
       "    <tr>\n",
       "      <td>0</td>\n",
       "      <td>hh_members</td>\n",
       "      <td>hh_members</td>\n",
       "    </tr>\n",
       "    <tr>\n",
       "      <td>1</td>\n",
       "      <td>sex</td>\n",
       "      <td>sex</td>\n",
       "    </tr>\n",
       "    <tr>\n",
       "      <td>2</td>\n",
       "      <td>main_occupation</td>\n",
       "      <td>hh_education</td>\n",
       "    </tr>\n",
       "    <tr>\n",
       "      <td>3</td>\n",
       "      <td>altitude</td>\n",
       "      <td>residence</td>\n",
       "    </tr>\n",
       "    <tr>\n",
       "      <td>4</td>\n",
       "      <td>Q401</td>\n",
       "      <td>age</td>\n",
       "    </tr>\n",
       "    <tr>\n",
       "      <td>5</td>\n",
       "      <td>Q406</td>\n",
       "      <td>altitude</td>\n",
       "    </tr>\n",
       "    <tr>\n",
       "      <td>6</td>\n",
       "      <td>Q301</td>\n",
       "      <td>Q401</td>\n",
       "    </tr>\n",
       "    <tr>\n",
       "      <td>7</td>\n",
       "      <td>Q304</td>\n",
       "      <td>Q304</td>\n",
       "    </tr>\n",
       "    <tr>\n",
       "      <td>8</td>\n",
       "      <td>Q307</td>\n",
       "      <td>Q306</td>\n",
       "    </tr>\n",
       "    <tr>\n",
       "      <td>9</td>\n",
       "      <td>Q308m</td>\n",
       "      <td>Q307</td>\n",
       "    </tr>\n",
       "    <tr>\n",
       "      <td>10</td>\n",
       "      <td>Qsou_inform</td>\n",
       "      <td>Q308m</td>\n",
       "    </tr>\n",
       "    <tr>\n",
       "      <td>11</td>\n",
       "      <td>Q503</td>\n",
       "      <td>Qsou_inform</td>\n",
       "    </tr>\n",
       "    <tr>\n",
       "      <td>12</td>\n",
       "      <td>Q504</td>\n",
       "      <td>Q504</td>\n",
       "    </tr>\n",
       "    <tr>\n",
       "      <td>13</td>\n",
       "      <td>Q5231</td>\n",
       "      <td>Q5231</td>\n",
       "    </tr>\n",
       "    <tr>\n",
       "      <td>14</td>\n",
       "      <td>Q5232</td>\n",
       "      <td>Q5232</td>\n",
       "    </tr>\n",
       "    <tr>\n",
       "      <td>15</td>\n",
       "      <td>Q5233</td>\n",
       "      <td>Q5233</td>\n",
       "    </tr>\n",
       "    <tr>\n",
       "      <td>16</td>\n",
       "      <td>Q5234</td>\n",
       "      <td>Q5234</td>\n",
       "    </tr>\n",
       "    <tr>\n",
       "      <td>17</td>\n",
       "      <td>Q524</td>\n",
       "      <td>Q524</td>\n",
       "    </tr>\n",
       "    <tr>\n",
       "      <td>Acc:SFS</td>\n",
       "      <td>0.793211</td>\n",
       "      <td>0.794587</td>\n",
       "    </tr>\n",
       "  </tbody>\n",
       "</table>\n",
       "</div>"
      ],
      "text/plain": [
       "                    SFFS          SBFS\n",
       "0             hh_members    hh_members\n",
       "1                    sex           sex\n",
       "2        main_occupation  hh_education\n",
       "3               altitude     residence\n",
       "4                   Q401           age\n",
       "5                   Q406      altitude\n",
       "6                   Q301          Q401\n",
       "7                   Q304          Q304\n",
       "8                   Q307          Q306\n",
       "9                  Q308m          Q307\n",
       "10           Qsou_inform         Q308m\n",
       "11                  Q503   Qsou_inform\n",
       "12                  Q504          Q504\n",
       "13                 Q5231         Q5231\n",
       "14                 Q5232         Q5232\n",
       "15                 Q5233         Q5233\n",
       "16                 Q5234         Q5234\n",
       "17                  Q524          Q524\n",
       "Acc:SFS         0.793211      0.794587"
      ]
     },
     "execution_count": 291,
     "metadata": {},
     "output_type": "execute_result"
    }
   ],
   "source": [
    "wrapper_SFS=pd.concat([SFS,SFS_scores])\n",
    "wrapper_SFS"
   ]
  },
  {
   "cell_type": "code",
   "execution_count": 292,
   "metadata": {},
   "outputs": [
    {
     "data": {
      "text/plain": [
       "Index(['hh_members', 'sex', 'hh_education', 'residence', 'age', 'altitude',\n",
       "       'Q401', 'Q304', 'Q306', 'Q307', 'Q308m', 'Qsou_inform', 'Q504', 'Q5231',\n",
       "       'Q5232', 'Q5233', 'Q5234', 'Q524'],\n",
       "      dtype='object')"
      ]
     },
     "execution_count": 292,
     "metadata": {},
     "output_type": "execute_result"
    }
   ],
   "source": [
    "sbs_features"
   ]
  },
  {
   "cell_type": "code",
   "execution_count": 293,
   "metadata": {},
   "outputs": [],
   "source": [
    "x_train_sbs=x_train[sbs_features]\n",
    "x_test_sbs=x_test[sbs_features]"
   ]
  },
  {
   "cell_type": "code",
   "execution_count": 294,
   "metadata": {},
   "outputs": [
    {
     "name": "stdout",
     "output_type": "stream",
     "text": [
      "0.8033749082905356\n"
     ]
    }
   ],
   "source": [
    "rf_sbs=RandomForestClassifier(n_estimators=100,criterion=\"entropy\",max_depth=10,max_leaf_nodes=50)\n",
    "rf_sbs.fit(x_train_sbs,y_train.values.ravel())\n",
    "rf_sbs=rf_sbs.predict(x_test_sbs)\n",
    "print(metrics.accuracy_score(y_test,rf_sbs))"
   ]
  },
  {
   "cell_type": "code",
   "execution_count": 295,
   "metadata": {},
   "outputs": [
    {
     "name": "stdout",
     "output_type": "stream",
     "text": [
      "0.7920029347028613\n"
     ]
    }
   ],
   "source": [
    "dt_sbs=DecisionTreeClassifier(criterion=\"entropy\",max_depth=10,max_leaf_nodes=50)\n",
    "dt_sbs.fit(x_train_sbs,y_train.values.ravel())\n",
    "dt_sbs=dt_sbs.predict(x_test_sbs)\n",
    "print(metrics.accuracy_score(y_test,dt_sbs))"
   ]
  },
  {
   "cell_type": "code",
   "execution_count": 296,
   "metadata": {},
   "outputs": [
    {
     "name": "stdout",
     "output_type": "stream",
     "text": [
      "0.7964049889948642\n"
     ]
    }
   ],
   "source": [
    "import warnings\n",
    "warnings.filterwarnings(\"ignore\", category=FutureWarning)\n",
    "from sklearn import svm\n",
    "svm_sbs=svm.SVC()\n",
    "svm_sbs.fit(x_train_sbs,y_train.values.ravel())\n",
    "svm_sbs=svm_sbs.predict(x_test_sbs)\n",
    "print(metrics.accuracy_score(y_test,svm_sbs))"
   ]
  },
  {
   "cell_type": "code",
   "execution_count": 297,
   "metadata": {},
   "outputs": [
    {
     "data": {
      "text/html": [
       "<div>\n",
       "<style scoped>\n",
       "    .dataframe tbody tr th:only-of-type {\n",
       "        vertical-align: middle;\n",
       "    }\n",
       "\n",
       "    .dataframe tbody tr th {\n",
       "        vertical-align: top;\n",
       "    }\n",
       "\n",
       "    .dataframe thead th {\n",
       "        text-align: right;\n",
       "    }\n",
       "</style>\n",
       "<table border=\"1\" class=\"dataframe\">\n",
       "  <thead>\n",
       "    <tr style=\"text-align: right;\">\n",
       "      <th></th>\n",
       "      <th>mi_best</th>\n",
       "      <th>chi_best</th>\n",
       "    </tr>\n",
       "  </thead>\n",
       "  <tbody>\n",
       "    <tr>\n",
       "      <td>0</td>\n",
       "      <td>sex</td>\n",
       "      <td>hh_members</td>\n",
       "    </tr>\n",
       "    <tr>\n",
       "      <td>1</td>\n",
       "      <td>hh_education</td>\n",
       "      <td>hh_education</td>\n",
       "    </tr>\n",
       "    <tr>\n",
       "      <td>2</td>\n",
       "      <td>main_occupation</td>\n",
       "      <td>main_occupation</td>\n",
       "    </tr>\n",
       "    <tr>\n",
       "      <td>3</td>\n",
       "      <td>marital_status</td>\n",
       "      <td>marital_status</td>\n",
       "    </tr>\n",
       "    <tr>\n",
       "      <td>4</td>\n",
       "      <td>residence</td>\n",
       "      <td>residence</td>\n",
       "    </tr>\n",
       "    <tr>\n",
       "      <td>5</td>\n",
       "      <td>Q401</td>\n",
       "      <td>age</td>\n",
       "    </tr>\n",
       "    <tr>\n",
       "      <td>6</td>\n",
       "      <td>Q406</td>\n",
       "      <td>Q401</td>\n",
       "    </tr>\n",
       "    <tr>\n",
       "      <td>7</td>\n",
       "      <td>Q302</td>\n",
       "      <td>Q301</td>\n",
       "    </tr>\n",
       "    <tr>\n",
       "      <td>8</td>\n",
       "      <td>Q306</td>\n",
       "      <td>Q306</td>\n",
       "    </tr>\n",
       "    <tr>\n",
       "      <td>9</td>\n",
       "      <td>Q307</td>\n",
       "      <td>Q307</td>\n",
       "    </tr>\n",
       "    <tr>\n",
       "      <td>10</td>\n",
       "      <td>Q308m</td>\n",
       "      <td>Q308m</td>\n",
       "    </tr>\n",
       "    <tr>\n",
       "      <td>11</td>\n",
       "      <td>Qsou_inform</td>\n",
       "      <td>Qsou_inform</td>\n",
       "    </tr>\n",
       "    <tr>\n",
       "      <td>12</td>\n",
       "      <td>Q501</td>\n",
       "      <td>Q3099n</td>\n",
       "    </tr>\n",
       "    <tr>\n",
       "      <td>13</td>\n",
       "      <td>Q503</td>\n",
       "      <td>Q30911n</td>\n",
       "    </tr>\n",
       "    <tr>\n",
       "      <td>14</td>\n",
       "      <td>Q5231</td>\n",
       "      <td>Q501</td>\n",
       "    </tr>\n",
       "    <tr>\n",
       "      <td>15</td>\n",
       "      <td>Q5232</td>\n",
       "      <td>Q503</td>\n",
       "    </tr>\n",
       "    <tr>\n",
       "      <td>16</td>\n",
       "      <td>Q5233</td>\n",
       "      <td>Q5231</td>\n",
       "    </tr>\n",
       "    <tr>\n",
       "      <td>17</td>\n",
       "      <td>Q5234</td>\n",
       "      <td>Q5232</td>\n",
       "    </tr>\n",
       "  </tbody>\n",
       "</table>\n",
       "</div>"
      ],
      "text/plain": [
       "            mi_best         chi_best\n",
       "0               sex       hh_members\n",
       "1      hh_education     hh_education\n",
       "2   main_occupation  main_occupation\n",
       "3    marital_status   marital_status\n",
       "4         residence        residence\n",
       "5              Q401              age\n",
       "6              Q406             Q401\n",
       "7              Q302             Q301\n",
       "8              Q306             Q306\n",
       "9              Q307             Q307\n",
       "10            Q308m            Q308m\n",
       "11      Qsou_inform      Qsou_inform\n",
       "12             Q501           Q3099n\n",
       "13             Q503          Q30911n\n",
       "14            Q5231             Q501\n",
       "15            Q5232             Q503\n",
       "16            Q5233            Q5231\n",
       "17            Q5234            Q5232"
      ]
     },
     "execution_count": 297,
     "metadata": {},
     "output_type": "execute_result"
    }
   ],
   "source": [
    "df"
   ]
  },
  {
   "cell_type": "code",
   "execution_count": 298,
   "metadata": {},
   "outputs": [],
   "source": [
    "selected=pd.concat([df,wrapper_SFS],axis=1)"
   ]
  },
  {
   "cell_type": "code",
   "execution_count": 299,
   "metadata": {},
   "outputs": [
    {
     "data": {
      "text/html": [
       "<div>\n",
       "<style scoped>\n",
       "    .dataframe tbody tr th:only-of-type {\n",
       "        vertical-align: middle;\n",
       "    }\n",
       "\n",
       "    .dataframe tbody tr th {\n",
       "        vertical-align: top;\n",
       "    }\n",
       "\n",
       "    .dataframe thead th {\n",
       "        text-align: right;\n",
       "    }\n",
       "</style>\n",
       "<table border=\"1\" class=\"dataframe\">\n",
       "  <thead>\n",
       "    <tr style=\"text-align: right;\">\n",
       "      <th></th>\n",
       "      <th>mi_best</th>\n",
       "      <th>chi_best</th>\n",
       "      <th>SFFS</th>\n",
       "      <th>SBFS</th>\n",
       "    </tr>\n",
       "  </thead>\n",
       "  <tbody>\n",
       "    <tr>\n",
       "      <td>0</td>\n",
       "      <td>sex</td>\n",
       "      <td>hh_members</td>\n",
       "      <td>hh_members</td>\n",
       "      <td>hh_members</td>\n",
       "    </tr>\n",
       "    <tr>\n",
       "      <td>1</td>\n",
       "      <td>hh_education</td>\n",
       "      <td>hh_education</td>\n",
       "      <td>sex</td>\n",
       "      <td>sex</td>\n",
       "    </tr>\n",
       "    <tr>\n",
       "      <td>2</td>\n",
       "      <td>main_occupation</td>\n",
       "      <td>main_occupation</td>\n",
       "      <td>main_occupation</td>\n",
       "      <td>hh_education</td>\n",
       "    </tr>\n",
       "    <tr>\n",
       "      <td>3</td>\n",
       "      <td>marital_status</td>\n",
       "      <td>marital_status</td>\n",
       "      <td>altitude</td>\n",
       "      <td>residence</td>\n",
       "    </tr>\n",
       "    <tr>\n",
       "      <td>4</td>\n",
       "      <td>residence</td>\n",
       "      <td>residence</td>\n",
       "      <td>Q401</td>\n",
       "      <td>age</td>\n",
       "    </tr>\n",
       "    <tr>\n",
       "      <td>5</td>\n",
       "      <td>Q401</td>\n",
       "      <td>age</td>\n",
       "      <td>Q406</td>\n",
       "      <td>altitude</td>\n",
       "    </tr>\n",
       "    <tr>\n",
       "      <td>6</td>\n",
       "      <td>Q406</td>\n",
       "      <td>Q401</td>\n",
       "      <td>Q301</td>\n",
       "      <td>Q401</td>\n",
       "    </tr>\n",
       "    <tr>\n",
       "      <td>7</td>\n",
       "      <td>Q302</td>\n",
       "      <td>Q301</td>\n",
       "      <td>Q304</td>\n",
       "      <td>Q304</td>\n",
       "    </tr>\n",
       "    <tr>\n",
       "      <td>8</td>\n",
       "      <td>Q306</td>\n",
       "      <td>Q306</td>\n",
       "      <td>Q307</td>\n",
       "      <td>Q306</td>\n",
       "    </tr>\n",
       "    <tr>\n",
       "      <td>9</td>\n",
       "      <td>Q307</td>\n",
       "      <td>Q307</td>\n",
       "      <td>Q308m</td>\n",
       "      <td>Q307</td>\n",
       "    </tr>\n",
       "    <tr>\n",
       "      <td>10</td>\n",
       "      <td>Q308m</td>\n",
       "      <td>Q308m</td>\n",
       "      <td>Qsou_inform</td>\n",
       "      <td>Q308m</td>\n",
       "    </tr>\n",
       "    <tr>\n",
       "      <td>11</td>\n",
       "      <td>Qsou_inform</td>\n",
       "      <td>Qsou_inform</td>\n",
       "      <td>Q503</td>\n",
       "      <td>Qsou_inform</td>\n",
       "    </tr>\n",
       "    <tr>\n",
       "      <td>12</td>\n",
       "      <td>Q501</td>\n",
       "      <td>Q3099n</td>\n",
       "      <td>Q504</td>\n",
       "      <td>Q504</td>\n",
       "    </tr>\n",
       "    <tr>\n",
       "      <td>13</td>\n",
       "      <td>Q503</td>\n",
       "      <td>Q30911n</td>\n",
       "      <td>Q5231</td>\n",
       "      <td>Q5231</td>\n",
       "    </tr>\n",
       "    <tr>\n",
       "      <td>14</td>\n",
       "      <td>Q5231</td>\n",
       "      <td>Q501</td>\n",
       "      <td>Q5232</td>\n",
       "      <td>Q5232</td>\n",
       "    </tr>\n",
       "    <tr>\n",
       "      <td>15</td>\n",
       "      <td>Q5232</td>\n",
       "      <td>Q503</td>\n",
       "      <td>Q5233</td>\n",
       "      <td>Q5233</td>\n",
       "    </tr>\n",
       "    <tr>\n",
       "      <td>16</td>\n",
       "      <td>Q5233</td>\n",
       "      <td>Q5231</td>\n",
       "      <td>Q5234</td>\n",
       "      <td>Q5234</td>\n",
       "    </tr>\n",
       "    <tr>\n",
       "      <td>17</td>\n",
       "      <td>Q5234</td>\n",
       "      <td>Q5232</td>\n",
       "      <td>Q524</td>\n",
       "      <td>Q524</td>\n",
       "    </tr>\n",
       "    <tr>\n",
       "      <td>Acc:SFS</td>\n",
       "      <td>NaN</td>\n",
       "      <td>NaN</td>\n",
       "      <td>0.793211</td>\n",
       "      <td>0.794587</td>\n",
       "    </tr>\n",
       "  </tbody>\n",
       "</table>\n",
       "</div>"
      ],
      "text/plain": [
       "                 mi_best         chi_best             SFFS          SBFS\n",
       "0                    sex       hh_members       hh_members    hh_members\n",
       "1           hh_education     hh_education              sex           sex\n",
       "2        main_occupation  main_occupation  main_occupation  hh_education\n",
       "3         marital_status   marital_status         altitude     residence\n",
       "4              residence        residence             Q401           age\n",
       "5                   Q401              age             Q406      altitude\n",
       "6                   Q406             Q401             Q301          Q401\n",
       "7                   Q302             Q301             Q304          Q304\n",
       "8                   Q306             Q306             Q307          Q306\n",
       "9                   Q307             Q307            Q308m          Q307\n",
       "10                 Q308m            Q308m      Qsou_inform         Q308m\n",
       "11           Qsou_inform      Qsou_inform             Q503   Qsou_inform\n",
       "12                  Q501           Q3099n             Q504          Q504\n",
       "13                  Q503          Q30911n            Q5231         Q5231\n",
       "14                 Q5231             Q501            Q5232         Q5232\n",
       "15                 Q5232             Q503            Q5233         Q5233\n",
       "16                 Q5233            Q5231            Q5234         Q5234\n",
       "17                 Q5234            Q5232             Q524          Q524\n",
       "Acc:SFS              NaN              NaN         0.793211      0.794587"
      ]
     },
     "execution_count": 299,
     "metadata": {},
     "output_type": "execute_result"
    }
   ],
   "source": [
    "selected"
   ]
  },
  {
   "cell_type": "code",
   "execution_count": 300,
   "metadata": {},
   "outputs": [
    {
     "data": {
      "text/plain": [
       "Index(['hh_members', 'sex', 'hh_education', 'main_occupation',\n",
       "       'marital_status', 'residence', 'age', 'altitude', 'Q401', 'Q406',\n",
       "       'Q301', 'Q302', 'Q304', 'Q306', 'Q307', 'Q308m', 'Qsou_inform',\n",
       "       'Q3098n', 'Q3099n', 'Q30910n', 'Q30911n', 'Q501', 'Q503', 'Q504',\n",
       "       'Q5231', 'Q5232', 'Q5233', 'Q5234', 'Q524', 'Q5261', 'Q5263',\n",
       "       'food_secured'],\n",
       "      dtype='object')"
      ]
     },
     "execution_count": 300,
     "metadata": {},
     "output_type": "execute_result"
    }
   ],
   "source": [
    "all_merged.columns"
   ]
  },
  {
   "cell_type": "code",
   "execution_count": 316,
   "metadata": {},
   "outputs": [
    {
     "data": {
      "text/plain": [
       "Index(['hh_members', 'sex', 'hh_education', 'residence', 'age', 'altitude',\n",
       "       'Q401', 'Q304', 'Q306', 'Q307', 'Q308m', 'Qsou_inform', 'Q504', 'Q5231',\n",
       "       'Q5232', 'Q5233', 'Q5234', 'Q524'],\n",
       "      dtype='object')"
      ]
     },
     "execution_count": 316,
     "metadata": {},
     "output_type": "execute_result"
    }
   ],
   "source": [
    "sbs_features"
   ]
  },
  {
   "cell_type": "code",
   "execution_count": 317,
   "metadata": {},
   "outputs": [],
   "source": [
    "x_train_sb=x_train[sbs_features]\n",
    "x_test_sb=x_test[sbs_features]"
   ]
  },
  {
   "cell_type": "code",
   "execution_count": 318,
   "metadata": {},
   "outputs": [
    {
     "name": "stdout",
     "output_type": "stream",
     "text": [
      "0.7920029347028613\n"
     ]
    }
   ],
   "source": [
    "#def run_randomForest(x_train_chi,x_test_chi,y_train,y_test):\n",
    "from sklearn.tree import DecisionTreeClassifier\n",
    "dt_sb=DecisionTreeClassifier(criterion=\"entropy\",max_depth=10,max_leaf_nodes=50,random_state=42)\n",
    "dt_sb.fit(x_train_sb,y_train)\n",
    "dt_sb=dt_sb.predict(x_test_sb)\n",
    "print(metrics.accuracy_score(y_test,dt_sb))"
   ]
  },
  {
   "cell_type": "code",
   "execution_count": 319,
   "metadata": {},
   "outputs": [
    {
     "name": "stdout",
     "output_type": "stream",
     "text": [
      "0.8008070432868672\n"
     ]
    }
   ],
   "source": [
    "#def run_randomForest(x_train_chi,x_test_chi,y_train,y_test):\n",
    "from sklearn.ensemble import RandomForestClassifier\n",
    "rf_sb=RandomForestClassifier(n_estimators=100,criterion=\"entropy\",max_depth=10,max_leaf_nodes=50,random_state=42)\n",
    "rf_sb.fit(x_train_sb,y_train)\n",
    "rf_sb=rf_sb.predict(x_test_sb)\n",
    "print(metrics.accuracy_score(y_test,rf_sb))"
   ]
  },
  {
   "cell_type": "markdown",
   "metadata": {},
   "source": [
    "We’re also using RFECV to do recursive feature elimination with cross-validation.\n",
    "\n",
    "min_feature_to_select:sets the minimum number of features to select.\n",
    "step: How many features we remove at each step.\n",
    "cv: An iterable that describes the cross-validation splitting strategy.\n",
    "scoring: The evaluation metric we use."
   ]
  },
  {
   "cell_type": "code",
   "execution_count": 320,
   "metadata": {},
   "outputs": [],
   "source": [
    "from sklearn.feature_selection import RFECV\n",
    "# use any other model you want here.\n",
    "from sklearn.ensemble import RandomForestClassifier\n",
    "from sklearn.metrics import roc_auc_score\n",
    "\n",
    "model = RandomForestClassifier(n_estimators=100,max_depth=10,n_jobs=-1,max_leaf_nodes=28,criterion=\"entropy\")\n",
    "# build the RFE with CV option.\n",
    "skf=StratifiedKFold(n_splits=10,shuffle=True)\n",
    "rfe = RFECV(model, step = 1 , cv=skf, scoring='accuracy')"
   ]
  },
  {
   "cell_type": "code",
   "execution_count": 321,
   "metadata": {},
   "outputs": [
    {
     "name": "stdout",
     "output_type": "stream",
     "text": [
      "Index(['hh_members', 'sex', 'hh_education', 'main_occupation',\n",
      "       'marital_status', 'age', 'altitude', 'Q401', 'Q406', 'Q302', 'Q306',\n",
      "       'Q307', 'Q308m', 'Qsou_inform', 'Q3098n', 'Q3099n', 'Q30910n', 'Q501',\n",
      "       'Q503', 'Q504', 'Q5231', 'Q5232', 'Q5233', 'Q5234', 'Q524', 'Q5261',\n",
      "       'Q5263'],\n",
      "      dtype='object')\n"
     ]
    }
   ],
   "source": [
    "# fit the RFE to our data.\n",
    "selection  = rfe.fit(x_train, y_train.values.ravel())\n",
    "# print the selected features.\n",
    "print(x_train.columns[selection.support_]) "
   ]
  },
  {
   "cell_type": "code",
   "execution_count": 322,
   "metadata": {},
   "outputs": [
    {
     "data": {
      "text/plain": [
       "Index(['hh_members', 'sex', 'hh_education', 'main_occupation',\n",
       "       'marital_status', 'age', 'altitude', 'Q401', 'Q406', 'Q302', 'Q306',\n",
       "       'Q307', 'Q308m', 'Qsou_inform', 'Q3098n', 'Q3099n', 'Q30910n', 'Q501',\n",
       "       'Q503', 'Q504', 'Q5231', 'Q5232', 'Q5233', 'Q5234', 'Q524', 'Q5261',\n",
       "       'Q5263'],\n",
       "      dtype='object')"
      ]
     },
     "execution_count": 322,
     "metadata": {},
     "output_type": "execute_result"
    }
   ],
   "source": [
    "rf_featues=x_train.columns[selection.get_support()]\n",
    "rf_featues"
   ]
  },
  {
   "cell_type": "code",
   "execution_count": 323,
   "metadata": {},
   "outputs": [
    {
     "data": {
      "text/plain": [
       "(27,)"
      ]
     },
     "execution_count": 323,
     "metadata": {},
     "output_type": "execute_result"
    }
   ],
   "source": [
    "rf_featues.shape"
   ]
  },
  {
   "cell_type": "code",
   "execution_count": 324,
   "metadata": {},
   "outputs": [
    {
     "data": {
      "text/plain": [
       "0.7964049889948642"
      ]
     },
     "execution_count": 324,
     "metadata": {},
     "output_type": "execute_result"
    }
   ],
   "source": [
    "y_pred_rfecv=selection.predict(x_test)\n",
    "rfecv=accuracy_score(y_test,y_pred_rfecv)\n",
    "rfecv"
   ]
  },
  {
   "cell_type": "code",
   "execution_count": 325,
   "metadata": {},
   "outputs": [
    {
     "data": {
      "text/plain": [
       "0.8157440942827879"
      ]
     },
     "execution_count": 325,
     "metadata": {},
     "output_type": "execute_result"
    }
   ],
   "source": [
    "roc=roc_auc_score(y_test,y_pred_rfecv)\n",
    "roc"
   ]
  },
  {
   "cell_type": "code",
   "execution_count": 326,
   "metadata": {},
   "outputs": [
    {
     "data": {
      "text/html": [
       "<div>\n",
       "<style scoped>\n",
       "    .dataframe tbody tr th:only-of-type {\n",
       "        vertical-align: middle;\n",
       "    }\n",
       "\n",
       "    .dataframe tbody tr th {\n",
       "        vertical-align: top;\n",
       "    }\n",
       "\n",
       "    .dataframe thead th {\n",
       "        text-align: right;\n",
       "    }\n",
       "</style>\n",
       "<table border=\"1\" class=\"dataframe\">\n",
       "  <thead>\n",
       "    <tr style=\"text-align: right;\">\n",
       "      <th></th>\n",
       "      <th>score</th>\n",
       "    </tr>\n",
       "  </thead>\n",
       "  <tbody>\n",
       "    <tr>\n",
       "      <td>SFs</td>\n",
       "      <td>0.793211</td>\n",
       "    </tr>\n",
       "    <tr>\n",
       "      <td>SBs</td>\n",
       "      <td>0.794587</td>\n",
       "    </tr>\n",
       "  </tbody>\n",
       "</table>\n",
       "</div>"
      ],
      "text/plain": [
       "        score\n",
       "SFs  0.793211\n",
       "SBs  0.794587"
      ]
     },
     "execution_count": 326,
     "metadata": {},
     "output_type": "execute_result"
    }
   ],
   "source": [
    "SFS_sc = pd.DataFrame({(sfs.k_score_),\n",
    "                   (sbs.k_score_),},\n",
    "                  index=['SFs','SBs'],columns=[\"score\"])\n",
    "SFS_sc"
   ]
  },
  {
   "cell_type": "code",
   "execution_count": 327,
   "metadata": {},
   "outputs": [
    {
     "data": {
      "text/html": [
       "<div>\n",
       "<style scoped>\n",
       "    .dataframe tbody tr th:only-of-type {\n",
       "        vertical-align: middle;\n",
       "    }\n",
       "\n",
       "    .dataframe tbody tr th {\n",
       "        vertical-align: top;\n",
       "    }\n",
       "\n",
       "    .dataframe thead th {\n",
       "        text-align: right;\n",
       "    }\n",
       "</style>\n",
       "<table border=\"1\" class=\"dataframe\">\n",
       "  <thead>\n",
       "    <tr style=\"text-align: right;\">\n",
       "      <th></th>\n",
       "      <th>score</th>\n",
       "    </tr>\n",
       "  </thead>\n",
       "  <tbody>\n",
       "    <tr>\n",
       "      <td>rfecv</td>\n",
       "      <td>0.796405</td>\n",
       "    </tr>\n",
       "    <tr>\n",
       "      <td>roc</td>\n",
       "      <td>0.815744</td>\n",
       "    </tr>\n",
       "  </tbody>\n",
       "</table>\n",
       "</div>"
      ],
      "text/plain": [
       "          score\n",
       "rfecv  0.796405\n",
       "roc    0.815744"
      ]
     },
     "execution_count": 327,
     "metadata": {},
     "output_type": "execute_result"
    }
   ],
   "source": [
    "Rfecv = pd.DataFrame({rfecv,\n",
    "                 roc,},\n",
    "       index=['rfecv','roc'],columns=[\"score\"])\n",
    "Rfecv  "
   ]
  },
  {
   "cell_type": "code",
   "execution_count": 328,
   "metadata": {},
   "outputs": [
    {
     "data": {
      "text/html": [
       "<div>\n",
       "<style scoped>\n",
       "    .dataframe tbody tr th:only-of-type {\n",
       "        vertical-align: middle;\n",
       "    }\n",
       "\n",
       "    .dataframe tbody tr th {\n",
       "        vertical-align: top;\n",
       "    }\n",
       "\n",
       "    .dataframe thead th {\n",
       "        text-align: right;\n",
       "    }\n",
       "</style>\n",
       "<table border=\"1\" class=\"dataframe\">\n",
       "  <thead>\n",
       "    <tr style=\"text-align: right;\">\n",
       "      <th></th>\n",
       "      <th>score</th>\n",
       "    </tr>\n",
       "  </thead>\n",
       "  <tbody>\n",
       "    <tr>\n",
       "      <td>SFs</td>\n",
       "      <td>0.793211</td>\n",
       "    </tr>\n",
       "    <tr>\n",
       "      <td>SBs</td>\n",
       "      <td>0.794587</td>\n",
       "    </tr>\n",
       "    <tr>\n",
       "      <td>rfecv</td>\n",
       "      <td>0.796405</td>\n",
       "    </tr>\n",
       "    <tr>\n",
       "      <td>roc</td>\n",
       "      <td>0.815744</td>\n",
       "    </tr>\n",
       "  </tbody>\n",
       "</table>\n",
       "</div>"
      ],
      "text/plain": [
       "          score\n",
       "SFs    0.793211\n",
       "SBs    0.794587\n",
       "rfecv  0.796405\n",
       "roc    0.815744"
      ]
     },
     "execution_count": 328,
     "metadata": {},
     "output_type": "execute_result"
    }
   ],
   "source": [
    "ax=pd.concat([SFS_sc,Rfecv])\n",
    "ax"
   ]
  },
  {
   "cell_type": "code",
   "execution_count": 329,
   "metadata": {},
   "outputs": [
    {
     "data": {
      "text/plain": [
       "(13626, 32)"
      ]
     },
     "execution_count": 329,
     "metadata": {},
     "output_type": "execute_result"
    }
   ],
   "source": [
    "all_merged.shape"
   ]
  },
  {
   "cell_type": "code",
   "execution_count": 330,
   "metadata": {
    "scrolled": true
   },
   "outputs": [
    {
     "data": {
      "text/html": [
       "<div>\n",
       "<style scoped>\n",
       "    .dataframe tbody tr th:only-of-type {\n",
       "        vertical-align: middle;\n",
       "    }\n",
       "\n",
       "    .dataframe tbody tr th {\n",
       "        vertical-align: top;\n",
       "    }\n",
       "\n",
       "    .dataframe thead th {\n",
       "        text-align: right;\n",
       "    }\n",
       "</style>\n",
       "<table border=\"1\" class=\"dataframe\">\n",
       "  <thead>\n",
       "    <tr style=\"text-align: right;\">\n",
       "      <th></th>\n",
       "      <th>mi_best</th>\n",
       "      <th>chi_best</th>\n",
       "    </tr>\n",
       "  </thead>\n",
       "  <tbody>\n",
       "    <tr>\n",
       "      <td>0</td>\n",
       "      <td>sex</td>\n",
       "      <td>hh_members</td>\n",
       "    </tr>\n",
       "    <tr>\n",
       "      <td>1</td>\n",
       "      <td>hh_education</td>\n",
       "      <td>hh_education</td>\n",
       "    </tr>\n",
       "    <tr>\n",
       "      <td>2</td>\n",
       "      <td>main_occupation</td>\n",
       "      <td>main_occupation</td>\n",
       "    </tr>\n",
       "    <tr>\n",
       "      <td>3</td>\n",
       "      <td>marital_status</td>\n",
       "      <td>marital_status</td>\n",
       "    </tr>\n",
       "    <tr>\n",
       "      <td>4</td>\n",
       "      <td>residence</td>\n",
       "      <td>residence</td>\n",
       "    </tr>\n",
       "    <tr>\n",
       "      <td>5</td>\n",
       "      <td>Q401</td>\n",
       "      <td>age</td>\n",
       "    </tr>\n",
       "    <tr>\n",
       "      <td>6</td>\n",
       "      <td>Q406</td>\n",
       "      <td>Q401</td>\n",
       "    </tr>\n",
       "    <tr>\n",
       "      <td>7</td>\n",
       "      <td>Q302</td>\n",
       "      <td>Q301</td>\n",
       "    </tr>\n",
       "    <tr>\n",
       "      <td>8</td>\n",
       "      <td>Q306</td>\n",
       "      <td>Q306</td>\n",
       "    </tr>\n",
       "    <tr>\n",
       "      <td>9</td>\n",
       "      <td>Q307</td>\n",
       "      <td>Q307</td>\n",
       "    </tr>\n",
       "    <tr>\n",
       "      <td>10</td>\n",
       "      <td>Q308m</td>\n",
       "      <td>Q308m</td>\n",
       "    </tr>\n",
       "    <tr>\n",
       "      <td>11</td>\n",
       "      <td>Qsou_inform</td>\n",
       "      <td>Qsou_inform</td>\n",
       "    </tr>\n",
       "    <tr>\n",
       "      <td>12</td>\n",
       "      <td>Q501</td>\n",
       "      <td>Q3099n</td>\n",
       "    </tr>\n",
       "    <tr>\n",
       "      <td>13</td>\n",
       "      <td>Q503</td>\n",
       "      <td>Q30911n</td>\n",
       "    </tr>\n",
       "    <tr>\n",
       "      <td>14</td>\n",
       "      <td>Q5231</td>\n",
       "      <td>Q501</td>\n",
       "    </tr>\n",
       "    <tr>\n",
       "      <td>15</td>\n",
       "      <td>Q5232</td>\n",
       "      <td>Q503</td>\n",
       "    </tr>\n",
       "    <tr>\n",
       "      <td>16</td>\n",
       "      <td>Q5233</td>\n",
       "      <td>Q5231</td>\n",
       "    </tr>\n",
       "    <tr>\n",
       "      <td>17</td>\n",
       "      <td>Q5234</td>\n",
       "      <td>Q5232</td>\n",
       "    </tr>\n",
       "  </tbody>\n",
       "</table>\n",
       "</div>"
      ],
      "text/plain": [
       "            mi_best         chi_best\n",
       "0               sex       hh_members\n",
       "1      hh_education     hh_education\n",
       "2   main_occupation  main_occupation\n",
       "3    marital_status   marital_status\n",
       "4         residence        residence\n",
       "5              Q401              age\n",
       "6              Q406             Q401\n",
       "7              Q302             Q301\n",
       "8              Q306             Q306\n",
       "9              Q307             Q307\n",
       "10            Q308m            Q308m\n",
       "11      Qsou_inform      Qsou_inform\n",
       "12             Q501           Q3099n\n",
       "13             Q503          Q30911n\n",
       "14            Q5231             Q501\n",
       "15            Q5232             Q503\n",
       "16            Q5233            Q5231\n",
       "17            Q5234            Q5232"
      ]
     },
     "execution_count": 330,
     "metadata": {},
     "output_type": "execute_result"
    }
   ],
   "source": [
    "df"
   ]
  },
  {
   "cell_type": "code",
   "execution_count": 331,
   "metadata": {},
   "outputs": [
    {
     "data": {
      "text/plain": [
       "(13626, 32)"
      ]
     },
     "execution_count": 331,
     "metadata": {},
     "output_type": "execute_result"
    }
   ],
   "source": [
    "all_merged.shape"
   ]
  },
  {
   "cell_type": "code",
   "execution_count": 336,
   "metadata": {},
   "outputs": [
    {
     "data": {
      "text/plain": [
       "Index(['hh_members', 'sex', 'hh_education', 'residence', 'age', 'altitude',\n",
       "       'Q401', 'Q304', 'Q306', 'Q307', 'Q308m', 'Qsou_inform', 'Q504', 'Q5231',\n",
       "       'Q5232', 'Q5233', 'Q5234', 'Q524'],\n",
       "      dtype='object')"
      ]
     },
     "execution_count": 336,
     "metadata": {},
     "output_type": "execute_result"
    }
   ],
   "source": [
    "sbs_features"
   ]
  },
  {
   "cell_type": "code",
   "execution_count": 337,
   "metadata": {},
   "outputs": [
    {
     "data": {
      "text/plain": [
       "Index(['hh_members', 'sex', 'hh_education', 'main_occupation',\n",
       "       'marital_status', 'residence', 'age', 'altitude', 'Q401', 'Q406',\n",
       "       'Q301', 'Q302', 'Q304', 'Q306', 'Q307', 'Q308m', 'Qsou_inform',\n",
       "       'Q3098n', 'Q3099n', 'Q30910n', 'Q30911n', 'Q501', 'Q503', 'Q504',\n",
       "       'Q5231', 'Q5232', 'Q5233', 'Q5234', 'Q524', 'Q5261', 'Q5263',\n",
       "       'food_secured'],\n",
       "      dtype='object')"
      ]
     },
     "execution_count": 337,
     "metadata": {},
     "output_type": "execute_result"
    }
   ],
   "source": [
    "all_merged.columns"
   ]
  },
  {
   "cell_type": "code",
   "execution_count": 338,
   "metadata": {},
   "outputs": [
    {
     "data": {
      "text/plain": [
       "(13626, 32)"
      ]
     },
     "execution_count": 338,
     "metadata": {},
     "output_type": "execute_result"
    }
   ],
   "source": [
    "all_merged.shape"
   ]
  },
  {
   "cell_type": "code",
   "execution_count": 344,
   "metadata": {},
   "outputs": [],
   "source": [
    "df=['hh_members', 'sex', 'hh_education', 'residence', 'age', 'altitude',\n",
    "       'Q401', 'Q304', 'Q306', 'Q307', 'Q308m', 'Qsou_inform', 'Q504', 'Q5231',\n",
    "       'Q5232', 'Q5233', 'Q5234', 'Q524','main_occupation','marital_status','Q3098n',\n",
    "    'Q3099n', 'Q30910n', 'Q30911n','food_secured']"
   ]
  },
  {
   "cell_type": "code",
   "execution_count": 345,
   "metadata": {},
   "outputs": [
    {
     "data": {
      "text/html": [
       "<div>\n",
       "<style scoped>\n",
       "    .dataframe tbody tr th:only-of-type {\n",
       "        vertical-align: middle;\n",
       "    }\n",
       "\n",
       "    .dataframe tbody tr th {\n",
       "        vertical-align: top;\n",
       "    }\n",
       "\n",
       "    .dataframe thead th {\n",
       "        text-align: right;\n",
       "    }\n",
       "</style>\n",
       "<table border=\"1\" class=\"dataframe\">\n",
       "  <thead>\n",
       "    <tr style=\"text-align: right;\">\n",
       "      <th></th>\n",
       "      <th>hh_members</th>\n",
       "      <th>sex</th>\n",
       "      <th>hh_education</th>\n",
       "      <th>residence</th>\n",
       "      <th>age</th>\n",
       "      <th>altitude</th>\n",
       "      <th>Q401</th>\n",
       "      <th>Q304</th>\n",
       "      <th>Q306</th>\n",
       "      <th>Q307</th>\n",
       "      <th>...</th>\n",
       "      <th>Q5233</th>\n",
       "      <th>Q5234</th>\n",
       "      <th>Q524</th>\n",
       "      <th>main_occupation</th>\n",
       "      <th>marital_status</th>\n",
       "      <th>Q3098n</th>\n",
       "      <th>Q3099n</th>\n",
       "      <th>Q30910n</th>\n",
       "      <th>Q30911n</th>\n",
       "      <th>food_secured</th>\n",
       "    </tr>\n",
       "    <tr>\n",
       "      <th>hhid</th>\n",
       "      <th></th>\n",
       "      <th></th>\n",
       "      <th></th>\n",
       "      <th></th>\n",
       "      <th></th>\n",
       "      <th></th>\n",
       "      <th></th>\n",
       "      <th></th>\n",
       "      <th></th>\n",
       "      <th></th>\n",
       "      <th></th>\n",
       "      <th></th>\n",
       "      <th></th>\n",
       "      <th></th>\n",
       "      <th></th>\n",
       "      <th></th>\n",
       "      <th></th>\n",
       "      <th></th>\n",
       "      <th></th>\n",
       "      <th></th>\n",
       "      <th></th>\n",
       "    </tr>\n",
       "  </thead>\n",
       "  <tbody>\n",
       "    <tr>\n",
       "      <td>DT0100002</td>\n",
       "      <td>1</td>\n",
       "      <td>1</td>\n",
       "      <td>0</td>\n",
       "      <td>0</td>\n",
       "      <td>1</td>\n",
       "      <td>2</td>\n",
       "      <td>1</td>\n",
       "      <td>1</td>\n",
       "      <td>3</td>\n",
       "      <td>2</td>\n",
       "      <td>...</td>\n",
       "      <td>2</td>\n",
       "      <td>2</td>\n",
       "      <td>1</td>\n",
       "      <td>2</td>\n",
       "      <td>1</td>\n",
       "      <td>1</td>\n",
       "      <td>1</td>\n",
       "      <td>1</td>\n",
       "      <td>1</td>\n",
       "      <td>0</td>\n",
       "    </tr>\n",
       "    <tr>\n",
       "      <td>DT0100005</td>\n",
       "      <td>1</td>\n",
       "      <td>1</td>\n",
       "      <td>1</td>\n",
       "      <td>0</td>\n",
       "      <td>1</td>\n",
       "      <td>2</td>\n",
       "      <td>1</td>\n",
       "      <td>1</td>\n",
       "      <td>1</td>\n",
       "      <td>3</td>\n",
       "      <td>...</td>\n",
       "      <td>2</td>\n",
       "      <td>2</td>\n",
       "      <td>1</td>\n",
       "      <td>3</td>\n",
       "      <td>1</td>\n",
       "      <td>0</td>\n",
       "      <td>0</td>\n",
       "      <td>0</td>\n",
       "      <td>0</td>\n",
       "      <td>0</td>\n",
       "    </tr>\n",
       "    <tr>\n",
       "      <td>DT0100006</td>\n",
       "      <td>0</td>\n",
       "      <td>1</td>\n",
       "      <td>3</td>\n",
       "      <td>0</td>\n",
       "      <td>1</td>\n",
       "      <td>2</td>\n",
       "      <td>1</td>\n",
       "      <td>1</td>\n",
       "      <td>1</td>\n",
       "      <td>3</td>\n",
       "      <td>...</td>\n",
       "      <td>2</td>\n",
       "      <td>2</td>\n",
       "      <td>1</td>\n",
       "      <td>4</td>\n",
       "      <td>1</td>\n",
       "      <td>0</td>\n",
       "      <td>0</td>\n",
       "      <td>0</td>\n",
       "      <td>0</td>\n",
       "      <td>1</td>\n",
       "    </tr>\n",
       "    <tr>\n",
       "      <td>DT0100007</td>\n",
       "      <td>0</td>\n",
       "      <td>1</td>\n",
       "      <td>3</td>\n",
       "      <td>0</td>\n",
       "      <td>1</td>\n",
       "      <td>2</td>\n",
       "      <td>1</td>\n",
       "      <td>1</td>\n",
       "      <td>1</td>\n",
       "      <td>3</td>\n",
       "      <td>...</td>\n",
       "      <td>2</td>\n",
       "      <td>2</td>\n",
       "      <td>1</td>\n",
       "      <td>4</td>\n",
       "      <td>1</td>\n",
       "      <td>0</td>\n",
       "      <td>0</td>\n",
       "      <td>1</td>\n",
       "      <td>0</td>\n",
       "      <td>0</td>\n",
       "    </tr>\n",
       "    <tr>\n",
       "      <td>DT0100011</td>\n",
       "      <td>0</td>\n",
       "      <td>1</td>\n",
       "      <td>3</td>\n",
       "      <td>0</td>\n",
       "      <td>0</td>\n",
       "      <td>2</td>\n",
       "      <td>1</td>\n",
       "      <td>1</td>\n",
       "      <td>1</td>\n",
       "      <td>3</td>\n",
       "      <td>...</td>\n",
       "      <td>2</td>\n",
       "      <td>2</td>\n",
       "      <td>1</td>\n",
       "      <td>2</td>\n",
       "      <td>2</td>\n",
       "      <td>0</td>\n",
       "      <td>0</td>\n",
       "      <td>0</td>\n",
       "      <td>0</td>\n",
       "      <td>0</td>\n",
       "    </tr>\n",
       "    <tr>\n",
       "      <td>...</td>\n",
       "      <td>...</td>\n",
       "      <td>...</td>\n",
       "      <td>...</td>\n",
       "      <td>...</td>\n",
       "      <td>...</td>\n",
       "      <td>...</td>\n",
       "      <td>...</td>\n",
       "      <td>...</td>\n",
       "      <td>...</td>\n",
       "      <td>...</td>\n",
       "      <td>...</td>\n",
       "      <td>...</td>\n",
       "      <td>...</td>\n",
       "      <td>...</td>\n",
       "      <td>...</td>\n",
       "      <td>...</td>\n",
       "      <td>...</td>\n",
       "      <td>...</td>\n",
       "      <td>...</td>\n",
       "      <td>...</td>\n",
       "      <td>...</td>\n",
       "    </tr>\n",
       "    <tr>\n",
       "      <td>DT1301282</td>\n",
       "      <td>1</td>\n",
       "      <td>0</td>\n",
       "      <td>0</td>\n",
       "      <td>1</td>\n",
       "      <td>1</td>\n",
       "      <td>2</td>\n",
       "      <td>2</td>\n",
       "      <td>1</td>\n",
       "      <td>3</td>\n",
       "      <td>2</td>\n",
       "      <td>...</td>\n",
       "      <td>2</td>\n",
       "      <td>2</td>\n",
       "      <td>1</td>\n",
       "      <td>2</td>\n",
       "      <td>4</td>\n",
       "      <td>1</td>\n",
       "      <td>0</td>\n",
       "      <td>1</td>\n",
       "      <td>1</td>\n",
       "      <td>1</td>\n",
       "    </tr>\n",
       "    <tr>\n",
       "      <td>DT1301283</td>\n",
       "      <td>1</td>\n",
       "      <td>1</td>\n",
       "      <td>1</td>\n",
       "      <td>1</td>\n",
       "      <td>1</td>\n",
       "      <td>2</td>\n",
       "      <td>2</td>\n",
       "      <td>1</td>\n",
       "      <td>4</td>\n",
       "      <td>2</td>\n",
       "      <td>...</td>\n",
       "      <td>2</td>\n",
       "      <td>2</td>\n",
       "      <td>1</td>\n",
       "      <td>2</td>\n",
       "      <td>1</td>\n",
       "      <td>1</td>\n",
       "      <td>0</td>\n",
       "      <td>1</td>\n",
       "      <td>1</td>\n",
       "      <td>0</td>\n",
       "    </tr>\n",
       "    <tr>\n",
       "      <td>DT1301284</td>\n",
       "      <td>1</td>\n",
       "      <td>1</td>\n",
       "      <td>3</td>\n",
       "      <td>1</td>\n",
       "      <td>1</td>\n",
       "      <td>2</td>\n",
       "      <td>2</td>\n",
       "      <td>1</td>\n",
       "      <td>3</td>\n",
       "      <td>2</td>\n",
       "      <td>...</td>\n",
       "      <td>2</td>\n",
       "      <td>2</td>\n",
       "      <td>1</td>\n",
       "      <td>2</td>\n",
       "      <td>1</td>\n",
       "      <td>1</td>\n",
       "      <td>1</td>\n",
       "      <td>1</td>\n",
       "      <td>1</td>\n",
       "      <td>0</td>\n",
       "    </tr>\n",
       "    <tr>\n",
       "      <td>DT1301285</td>\n",
       "      <td>1</td>\n",
       "      <td>1</td>\n",
       "      <td>1</td>\n",
       "      <td>1</td>\n",
       "      <td>1</td>\n",
       "      <td>2</td>\n",
       "      <td>2</td>\n",
       "      <td>1</td>\n",
       "      <td>3</td>\n",
       "      <td>2</td>\n",
       "      <td>...</td>\n",
       "      <td>2</td>\n",
       "      <td>2</td>\n",
       "      <td>2</td>\n",
       "      <td>2</td>\n",
       "      <td>1</td>\n",
       "      <td>1</td>\n",
       "      <td>2</td>\n",
       "      <td>1</td>\n",
       "      <td>1</td>\n",
       "      <td>1</td>\n",
       "    </tr>\n",
       "    <tr>\n",
       "      <td>DT1301286</td>\n",
       "      <td>1</td>\n",
       "      <td>1</td>\n",
       "      <td>0</td>\n",
       "      <td>1</td>\n",
       "      <td>1</td>\n",
       "      <td>2</td>\n",
       "      <td>2</td>\n",
       "      <td>1</td>\n",
       "      <td>3</td>\n",
       "      <td>2</td>\n",
       "      <td>...</td>\n",
       "      <td>2</td>\n",
       "      <td>2</td>\n",
       "      <td>1</td>\n",
       "      <td>2</td>\n",
       "      <td>1</td>\n",
       "      <td>1</td>\n",
       "      <td>0</td>\n",
       "      <td>1</td>\n",
       "      <td>0</td>\n",
       "      <td>0</td>\n",
       "    </tr>\n",
       "  </tbody>\n",
       "</table>\n",
       "<p>13626 rows × 25 columns</p>\n",
       "</div>"
      ],
      "text/plain": [
       "           hh_members  sex  hh_education  residence  age  altitude  Q401  \\\n",
       "hhid                                                                       \n",
       "DT0100002           1    1             0          0    1         2     1   \n",
       "DT0100005           1    1             1          0    1         2     1   \n",
       "DT0100006           0    1             3          0    1         2     1   \n",
       "DT0100007           0    1             3          0    1         2     1   \n",
       "DT0100011           0    1             3          0    0         2     1   \n",
       "...               ...  ...           ...        ...  ...       ...   ...   \n",
       "DT1301282           1    0             0          1    1         2     2   \n",
       "DT1301283           1    1             1          1    1         2     2   \n",
       "DT1301284           1    1             3          1    1         2     2   \n",
       "DT1301285           1    1             1          1    1         2     2   \n",
       "DT1301286           1    1             0          1    1         2     2   \n",
       "\n",
       "           Q304  Q306  Q307  ...  Q5233  Q5234  Q524  main_occupation  \\\n",
       "hhid                         ...                                        \n",
       "DT0100002     1     3     2  ...      2      2     1                2   \n",
       "DT0100005     1     1     3  ...      2      2     1                3   \n",
       "DT0100006     1     1     3  ...      2      2     1                4   \n",
       "DT0100007     1     1     3  ...      2      2     1                4   \n",
       "DT0100011     1     1     3  ...      2      2     1                2   \n",
       "...         ...   ...   ...  ...    ...    ...   ...              ...   \n",
       "DT1301282     1     3     2  ...      2      2     1                2   \n",
       "DT1301283     1     4     2  ...      2      2     1                2   \n",
       "DT1301284     1     3     2  ...      2      2     1                2   \n",
       "DT1301285     1     3     2  ...      2      2     2                2   \n",
       "DT1301286     1     3     2  ...      2      2     1                2   \n",
       "\n",
       "           marital_status  Q3098n  Q3099n  Q30910n  Q30911n  food_secured  \n",
       "hhid                                                                       \n",
       "DT0100002               1       1       1        1        1             0  \n",
       "DT0100005               1       0       0        0        0             0  \n",
       "DT0100006               1       0       0        0        0             1  \n",
       "DT0100007               1       0       0        1        0             0  \n",
       "DT0100011               2       0       0        0        0             0  \n",
       "...                   ...     ...     ...      ...      ...           ...  \n",
       "DT1301282               4       1       0        1        1             1  \n",
       "DT1301283               1       1       0        1        1             0  \n",
       "DT1301284               1       1       1        1        1             0  \n",
       "DT1301285               1       1       2        1        1             1  \n",
       "DT1301286               1       1       0        1        0             0  \n",
       "\n",
       "[13626 rows x 25 columns]"
      ]
     },
     "execution_count": 345,
     "metadata": {},
     "output_type": "execute_result"
    }
   ],
   "source": [
    "final=all_merged[df]\n",
    "final"
   ]
  },
  {
   "cell_type": "code",
   "execution_count": 346,
   "metadata": {},
   "outputs": [
    {
     "data": {
      "text/html": [
       "<div>\n",
       "<style scoped>\n",
       "    .dataframe tbody tr th:only-of-type {\n",
       "        vertical-align: middle;\n",
       "    }\n",
       "\n",
       "    .dataframe tbody tr th {\n",
       "        vertical-align: top;\n",
       "    }\n",
       "\n",
       "    .dataframe thead th {\n",
       "        text-align: right;\n",
       "    }\n",
       "</style>\n",
       "<table border=\"1\" class=\"dataframe\">\n",
       "  <thead>\n",
       "    <tr style=\"text-align: right;\">\n",
       "      <th></th>\n",
       "      <th>hh_members</th>\n",
       "      <th>sex</th>\n",
       "      <th>hh_education</th>\n",
       "      <th>main_occupation</th>\n",
       "      <th>marital_status</th>\n",
       "      <th>residence</th>\n",
       "      <th>age</th>\n",
       "      <th>altitude</th>\n",
       "      <th>Q401</th>\n",
       "      <th>Q406</th>\n",
       "      <th>...</th>\n",
       "      <th>Q503</th>\n",
       "      <th>Q504</th>\n",
       "      <th>Q5231</th>\n",
       "      <th>Q5232</th>\n",
       "      <th>Q5233</th>\n",
       "      <th>Q5234</th>\n",
       "      <th>Q524</th>\n",
       "      <th>Q5261</th>\n",
       "      <th>Q5263</th>\n",
       "      <th>food_secured</th>\n",
       "    </tr>\n",
       "    <tr>\n",
       "      <th>hhid</th>\n",
       "      <th></th>\n",
       "      <th></th>\n",
       "      <th></th>\n",
       "      <th></th>\n",
       "      <th></th>\n",
       "      <th></th>\n",
       "      <th></th>\n",
       "      <th></th>\n",
       "      <th></th>\n",
       "      <th></th>\n",
       "      <th></th>\n",
       "      <th></th>\n",
       "      <th></th>\n",
       "      <th></th>\n",
       "      <th></th>\n",
       "      <th></th>\n",
       "      <th></th>\n",
       "      <th></th>\n",
       "      <th></th>\n",
       "      <th></th>\n",
       "      <th></th>\n",
       "    </tr>\n",
       "  </thead>\n",
       "  <tbody>\n",
       "    <tr>\n",
       "      <td>DT0100002</td>\n",
       "      <td>1</td>\n",
       "      <td>1</td>\n",
       "      <td>0</td>\n",
       "      <td>2</td>\n",
       "      <td>1</td>\n",
       "      <td>0</td>\n",
       "      <td>1</td>\n",
       "      <td>2</td>\n",
       "      <td>1</td>\n",
       "      <td>2</td>\n",
       "      <td>...</td>\n",
       "      <td>2</td>\n",
       "      <td>4</td>\n",
       "      <td>1</td>\n",
       "      <td>2</td>\n",
       "      <td>2</td>\n",
       "      <td>2</td>\n",
       "      <td>1</td>\n",
       "      <td>1</td>\n",
       "      <td>2</td>\n",
       "      <td>0</td>\n",
       "    </tr>\n",
       "    <tr>\n",
       "      <td>DT0100005</td>\n",
       "      <td>1</td>\n",
       "      <td>1</td>\n",
       "      <td>1</td>\n",
       "      <td>3</td>\n",
       "      <td>1</td>\n",
       "      <td>0</td>\n",
       "      <td>1</td>\n",
       "      <td>2</td>\n",
       "      <td>1</td>\n",
       "      <td>2</td>\n",
       "      <td>...</td>\n",
       "      <td>2</td>\n",
       "      <td>2</td>\n",
       "      <td>1</td>\n",
       "      <td>2</td>\n",
       "      <td>2</td>\n",
       "      <td>2</td>\n",
       "      <td>1</td>\n",
       "      <td>2</td>\n",
       "      <td>2</td>\n",
       "      <td>0</td>\n",
       "    </tr>\n",
       "    <tr>\n",
       "      <td>DT0100006</td>\n",
       "      <td>0</td>\n",
       "      <td>1</td>\n",
       "      <td>3</td>\n",
       "      <td>4</td>\n",
       "      <td>1</td>\n",
       "      <td>0</td>\n",
       "      <td>1</td>\n",
       "      <td>2</td>\n",
       "      <td>1</td>\n",
       "      <td>2</td>\n",
       "      <td>...</td>\n",
       "      <td>0</td>\n",
       "      <td>2</td>\n",
       "      <td>2</td>\n",
       "      <td>2</td>\n",
       "      <td>2</td>\n",
       "      <td>2</td>\n",
       "      <td>1</td>\n",
       "      <td>2</td>\n",
       "      <td>2</td>\n",
       "      <td>1</td>\n",
       "    </tr>\n",
       "    <tr>\n",
       "      <td>DT0100007</td>\n",
       "      <td>0</td>\n",
       "      <td>1</td>\n",
       "      <td>3</td>\n",
       "      <td>4</td>\n",
       "      <td>1</td>\n",
       "      <td>0</td>\n",
       "      <td>1</td>\n",
       "      <td>2</td>\n",
       "      <td>1</td>\n",
       "      <td>2</td>\n",
       "      <td>...</td>\n",
       "      <td>0</td>\n",
       "      <td>2</td>\n",
       "      <td>2</td>\n",
       "      <td>2</td>\n",
       "      <td>2</td>\n",
       "      <td>2</td>\n",
       "      <td>1</td>\n",
       "      <td>1</td>\n",
       "      <td>2</td>\n",
       "      <td>0</td>\n",
       "    </tr>\n",
       "    <tr>\n",
       "      <td>DT0100011</td>\n",
       "      <td>0</td>\n",
       "      <td>1</td>\n",
       "      <td>3</td>\n",
       "      <td>2</td>\n",
       "      <td>2</td>\n",
       "      <td>0</td>\n",
       "      <td>0</td>\n",
       "      <td>2</td>\n",
       "      <td>1</td>\n",
       "      <td>2</td>\n",
       "      <td>...</td>\n",
       "      <td>2</td>\n",
       "      <td>2</td>\n",
       "      <td>1</td>\n",
       "      <td>2</td>\n",
       "      <td>2</td>\n",
       "      <td>2</td>\n",
       "      <td>1</td>\n",
       "      <td>1</td>\n",
       "      <td>2</td>\n",
       "      <td>0</td>\n",
       "    </tr>\n",
       "    <tr>\n",
       "      <td>...</td>\n",
       "      <td>...</td>\n",
       "      <td>...</td>\n",
       "      <td>...</td>\n",
       "      <td>...</td>\n",
       "      <td>...</td>\n",
       "      <td>...</td>\n",
       "      <td>...</td>\n",
       "      <td>...</td>\n",
       "      <td>...</td>\n",
       "      <td>...</td>\n",
       "      <td>...</td>\n",
       "      <td>...</td>\n",
       "      <td>...</td>\n",
       "      <td>...</td>\n",
       "      <td>...</td>\n",
       "      <td>...</td>\n",
       "      <td>...</td>\n",
       "      <td>...</td>\n",
       "      <td>...</td>\n",
       "      <td>...</td>\n",
       "      <td>...</td>\n",
       "    </tr>\n",
       "    <tr>\n",
       "      <td>DT1301282</td>\n",
       "      <td>1</td>\n",
       "      <td>0</td>\n",
       "      <td>0</td>\n",
       "      <td>2</td>\n",
       "      <td>4</td>\n",
       "      <td>1</td>\n",
       "      <td>1</td>\n",
       "      <td>2</td>\n",
       "      <td>2</td>\n",
       "      <td>2</td>\n",
       "      <td>...</td>\n",
       "      <td>2</td>\n",
       "      <td>1</td>\n",
       "      <td>2</td>\n",
       "      <td>2</td>\n",
       "      <td>2</td>\n",
       "      <td>2</td>\n",
       "      <td>1</td>\n",
       "      <td>1</td>\n",
       "      <td>2</td>\n",
       "      <td>1</td>\n",
       "    </tr>\n",
       "    <tr>\n",
       "      <td>DT1301283</td>\n",
       "      <td>1</td>\n",
       "      <td>1</td>\n",
       "      <td>1</td>\n",
       "      <td>2</td>\n",
       "      <td>1</td>\n",
       "      <td>1</td>\n",
       "      <td>1</td>\n",
       "      <td>2</td>\n",
       "      <td>2</td>\n",
       "      <td>2</td>\n",
       "      <td>...</td>\n",
       "      <td>1</td>\n",
       "      <td>2</td>\n",
       "      <td>2</td>\n",
       "      <td>2</td>\n",
       "      <td>2</td>\n",
       "      <td>2</td>\n",
       "      <td>1</td>\n",
       "      <td>1</td>\n",
       "      <td>2</td>\n",
       "      <td>0</td>\n",
       "    </tr>\n",
       "    <tr>\n",
       "      <td>DT1301284</td>\n",
       "      <td>1</td>\n",
       "      <td>1</td>\n",
       "      <td>3</td>\n",
       "      <td>2</td>\n",
       "      <td>1</td>\n",
       "      <td>1</td>\n",
       "      <td>1</td>\n",
       "      <td>2</td>\n",
       "      <td>2</td>\n",
       "      <td>2</td>\n",
       "      <td>...</td>\n",
       "      <td>1</td>\n",
       "      <td>1</td>\n",
       "      <td>1</td>\n",
       "      <td>2</td>\n",
       "      <td>2</td>\n",
       "      <td>2</td>\n",
       "      <td>1</td>\n",
       "      <td>1</td>\n",
       "      <td>2</td>\n",
       "      <td>0</td>\n",
       "    </tr>\n",
       "    <tr>\n",
       "      <td>DT1301285</td>\n",
       "      <td>1</td>\n",
       "      <td>1</td>\n",
       "      <td>1</td>\n",
       "      <td>2</td>\n",
       "      <td>1</td>\n",
       "      <td>1</td>\n",
       "      <td>1</td>\n",
       "      <td>2</td>\n",
       "      <td>2</td>\n",
       "      <td>2</td>\n",
       "      <td>...</td>\n",
       "      <td>1</td>\n",
       "      <td>1</td>\n",
       "      <td>2</td>\n",
       "      <td>2</td>\n",
       "      <td>2</td>\n",
       "      <td>2</td>\n",
       "      <td>2</td>\n",
       "      <td>1</td>\n",
       "      <td>2</td>\n",
       "      <td>1</td>\n",
       "    </tr>\n",
       "    <tr>\n",
       "      <td>DT1301286</td>\n",
       "      <td>1</td>\n",
       "      <td>1</td>\n",
       "      <td>0</td>\n",
       "      <td>2</td>\n",
       "      <td>1</td>\n",
       "      <td>1</td>\n",
       "      <td>1</td>\n",
       "      <td>2</td>\n",
       "      <td>2</td>\n",
       "      <td>2</td>\n",
       "      <td>...</td>\n",
       "      <td>1</td>\n",
       "      <td>2</td>\n",
       "      <td>2</td>\n",
       "      <td>1</td>\n",
       "      <td>2</td>\n",
       "      <td>2</td>\n",
       "      <td>1</td>\n",
       "      <td>1</td>\n",
       "      <td>2</td>\n",
       "      <td>0</td>\n",
       "    </tr>\n",
       "  </tbody>\n",
       "</table>\n",
       "<p>13626 rows × 32 columns</p>\n",
       "</div>"
      ],
      "text/plain": [
       "           hh_members  sex  hh_education  main_occupation  marital_status  \\\n",
       "hhid                                                                        \n",
       "DT0100002           1    1             0                2               1   \n",
       "DT0100005           1    1             1                3               1   \n",
       "DT0100006           0    1             3                4               1   \n",
       "DT0100007           0    1             3                4               1   \n",
       "DT0100011           0    1             3                2               2   \n",
       "...               ...  ...           ...              ...             ...   \n",
       "DT1301282           1    0             0                2               4   \n",
       "DT1301283           1    1             1                2               1   \n",
       "DT1301284           1    1             3                2               1   \n",
       "DT1301285           1    1             1                2               1   \n",
       "DT1301286           1    1             0                2               1   \n",
       "\n",
       "           residence  age  altitude  Q401  Q406  ...  Q503  Q504  Q5231  \\\n",
       "hhid                                             ...                      \n",
       "DT0100002          0    1         2     1     2  ...     2     4      1   \n",
       "DT0100005          0    1         2     1     2  ...     2     2      1   \n",
       "DT0100006          0    1         2     1     2  ...     0     2      2   \n",
       "DT0100007          0    1         2     1     2  ...     0     2      2   \n",
       "DT0100011          0    0         2     1     2  ...     2     2      1   \n",
       "...              ...  ...       ...   ...   ...  ...   ...   ...    ...   \n",
       "DT1301282          1    1         2     2     2  ...     2     1      2   \n",
       "DT1301283          1    1         2     2     2  ...     1     2      2   \n",
       "DT1301284          1    1         2     2     2  ...     1     1      1   \n",
       "DT1301285          1    1         2     2     2  ...     1     1      2   \n",
       "DT1301286          1    1         2     2     2  ...     1     2      2   \n",
       "\n",
       "           Q5232  Q5233  Q5234  Q524  Q5261  Q5263  food_secured  \n",
       "hhid                                                              \n",
       "DT0100002      2      2      2     1      1      2             0  \n",
       "DT0100005      2      2      2     1      2      2             0  \n",
       "DT0100006      2      2      2     1      2      2             1  \n",
       "DT0100007      2      2      2     1      1      2             0  \n",
       "DT0100011      2      2      2     1      1      2             0  \n",
       "...          ...    ...    ...   ...    ...    ...           ...  \n",
       "DT1301282      2      2      2     1      1      2             1  \n",
       "DT1301283      2      2      2     1      1      2             0  \n",
       "DT1301284      2      2      2     1      1      2             0  \n",
       "DT1301285      2      2      2     2      1      2             1  \n",
       "DT1301286      1      2      2     1      1      2             0  \n",
       "\n",
       "[13626 rows x 32 columns]"
      ]
     },
     "execution_count": 346,
     "metadata": {},
     "output_type": "execute_result"
    }
   ],
   "source": [
    "all_merged"
   ]
  },
  {
   "cell_type": "code",
   "execution_count": 347,
   "metadata": {},
   "outputs": [],
   "source": [
    "final.to_csv(\"C:/Users/Melaku/Desktop/Thesis_02/csv/final02.csv\")"
   ]
  },
  {
   "cell_type": "code",
   "execution_count": null,
   "metadata": {},
   "outputs": [],
   "source": []
  }
 ],
 "metadata": {
  "kernelspec": {
   "display_name": "Python 3",
   "language": "python",
   "name": "python3"
  },
  "language_info": {
   "codemirror_mode": {
    "name": "ipython",
    "version": 3
   },
   "file_extension": ".py",
   "mimetype": "text/x-python",
   "name": "python",
   "nbconvert_exporter": "python",
   "pygments_lexer": "ipython3",
   "version": "3.7.4"
  }
 },
 "nbformat": 4,
 "nbformat_minor": 2
}
